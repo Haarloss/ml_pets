{
 "cells": [
  {
   "cell_type": "markdown",
   "metadata": {
    "id": "-VFbjcb3Awb7"
   },
   "source": [
    "# Исследование объявлений о продаже квартир\n",
    "\n",
    "В вашем распоряжении данные сервиса недвижимости — архив объявлений о продаже квартир в Санкт-Петербурге и соседних населённых пунктах за несколько лет. Вам нужно научиться определять рыночную стоимость объектов недвижимости. Для этого проведите исследовательский анализ данных и установите параметры, влияющие на цену объектов. Это позволит построить автоматизированную систему: она отследит аномалии и мошенническую деятельность.\n",
    "\n",
    "По каждой квартире на продажу доступны два вида данных. Первые вписаны пользователем, вторые — получены автоматически на основе картографических данных. Например, расстояние до центра, аэропорта и других объектов — эти данные автоматически получены из геосервисов. Количество парков и водоёмов также заполняется без участия пользователя."
   ]
  },
  {
   "cell_type": "markdown",
   "metadata": {},
   "source": [
    "**Описание данных**\n",
    "- airports_nearest — расстояние до ближайшего аэропорта в метрах (м)\n",
    "- balcony — число балконов\n",
    "- ceiling_height — высота потолков (м)\n",
    "- cityCenters_nearest — расстояние до центра города (м)\n",
    "- days_exposition — сколько дней было размещено объявление (от публикации до снятия)\n",
    "- first_day_exposition — дата публикации\n",
    "- floor — этаж\n",
    "- floors_total — всего этажей в доме\n",
    "- is_apartment — апартаменты (булев тип)\n",
    "- kitchen_area — площадь кухни в квадратных метрах (м²)\n",
    "- last_price — цена на момент снятия с публикации\n",
    "- living_area — жилая площадь в квадратных метрах (м²)\n",
    "- locality_name — название населённого пункта\n",
    "- open_plan — свободная планировка (булев тип)\n",
    "- parks_around3000 — число парков в радиусе 3 км\n",
    "- parks_nearest — расстояние до ближайшего парка (м)\n",
    "- ponds_around3000 — число водоёмов в радиусе 3 км\n",
    "- ponds_nearest — расстояние до ближайшего водоёма (м)\n",
    "- rooms — число комнат\n",
    "- studio — квартира-студия (булев тип)\n",
    "- total_area — общая площадь квартиры в квадратных метрах (м²)\n",
    "- total_images — число фотографий квартиры в объявлении"
   ]
  },
  {
   "cell_type": "markdown",
   "metadata": {
    "id": "aeFLH07FAwb9"
   },
   "source": [
    "### Откройте файл с данными и изучите общую информацию"
   ]
  },
  {
   "cell_type": "code",
   "execution_count": 1,
   "metadata": {
    "id": "7MZxY65pAwb9"
   },
   "outputs": [],
   "source": [
    "import pandas as pd\n",
    "import math\n",
    "import seaborn\n",
    "import matplotlib.pyplot as plt\n",
    "import numpy as ny"
   ]
  },
  {
   "cell_type": "code",
   "execution_count": 2,
   "metadata": {},
   "outputs": [
    {
     "name": "stdout",
     "output_type": "stream",
     "text": [
      "<class 'pandas.core.frame.DataFrame'>\n",
      "RangeIndex: 23699 entries, 0 to 23698\n",
      "Data columns (total 22 columns):\n",
      " #   Column                Non-Null Count  Dtype  \n",
      "---  ------                --------------  -----  \n",
      " 0   total_images          23699 non-null  int64  \n",
      " 1   last_price            23699 non-null  float64\n",
      " 2   total_area            23699 non-null  float64\n",
      " 3   first_day_exposition  23699 non-null  object \n",
      " 4   rooms                 23699 non-null  int64  \n",
      " 5   ceiling_height        14504 non-null  float64\n",
      " 6   floors_total          23613 non-null  float64\n",
      " 7   living_area           21796 non-null  float64\n",
      " 8   floor                 23699 non-null  int64  \n",
      " 9   is_apartment          2775 non-null   object \n",
      " 10  studio                23699 non-null  bool   \n",
      " 11  open_plan             23699 non-null  bool   \n",
      " 12  kitchen_area          21421 non-null  float64\n",
      " 13  balcony               12180 non-null  float64\n",
      " 14  locality_name         23650 non-null  object \n",
      " 15  airports_nearest      18157 non-null  float64\n",
      " 16  cityCenters_nearest   18180 non-null  float64\n",
      " 17  parks_around3000      18181 non-null  float64\n",
      " 18  parks_nearest         8079 non-null   float64\n",
      " 19  ponds_around3000      18181 non-null  float64\n",
      " 20  ponds_nearest         9110 non-null   float64\n",
      " 21  days_exposition       20518 non-null  float64\n",
      "dtypes: bool(2), float64(14), int64(3), object(3)\n",
      "memory usage: 3.7+ MB\n"
     ]
    }
   ],
   "source": [
    "data = pd.read_csv('/datasets/real_estate_data.csv', sep='\\t')\n",
    "pd.set_option('display.max_columns', None)\n",
    "data.info()"
   ]
  },
  {
   "cell_type": "code",
   "execution_count": 4,
   "metadata": {},
   "outputs": [
    {
     "data": {
      "text/html": [
       "<div>\n",
       "<style scoped>\n",
       "    .dataframe tbody tr th:only-of-type {\n",
       "        vertical-align: middle;\n",
       "    }\n",
       "\n",
       "    .dataframe tbody tr th {\n",
       "        vertical-align: top;\n",
       "    }\n",
       "\n",
       "    .dataframe thead th {\n",
       "        text-align: right;\n",
       "    }\n",
       "</style>\n",
       "<table border=\"1\" class=\"dataframe\">\n",
       "  <thead>\n",
       "    <tr style=\"text-align: right;\">\n",
       "      <th></th>\n",
       "      <th>total_images</th>\n",
       "      <th>last_price</th>\n",
       "      <th>total_area</th>\n",
       "      <th>first_day_exposition</th>\n",
       "      <th>rooms</th>\n",
       "      <th>ceiling_height</th>\n",
       "      <th>floors_total</th>\n",
       "      <th>living_area</th>\n",
       "      <th>floor</th>\n",
       "      <th>is_apartment</th>\n",
       "      <th>studio</th>\n",
       "      <th>open_plan</th>\n",
       "      <th>kitchen_area</th>\n",
       "      <th>balcony</th>\n",
       "      <th>locality_name</th>\n",
       "      <th>airports_nearest</th>\n",
       "      <th>cityCenters_nearest</th>\n",
       "      <th>parks_around3000</th>\n",
       "      <th>parks_nearest</th>\n",
       "      <th>ponds_around3000</th>\n",
       "      <th>ponds_nearest</th>\n",
       "      <th>days_exposition</th>\n",
       "    </tr>\n",
       "  </thead>\n",
       "  <tbody>\n",
       "    <tr>\n",
       "      <th>23440</th>\n",
       "      <td>5</td>\n",
       "      <td>3450000.0</td>\n",
       "      <td>61.7</td>\n",
       "      <td>2018-11-21T00:00:00</td>\n",
       "      <td>4</td>\n",
       "      <td>2.60</td>\n",
       "      <td>5.0</td>\n",
       "      <td>44.9</td>\n",
       "      <td>4</td>\n",
       "      <td>NaN</td>\n",
       "      <td>False</td>\n",
       "      <td>False</td>\n",
       "      <td>5.3</td>\n",
       "      <td>1.0</td>\n",
       "      <td>посёлок городского типа Вырица</td>\n",
       "      <td>NaN</td>\n",
       "      <td>NaN</td>\n",
       "      <td>NaN</td>\n",
       "      <td>NaN</td>\n",
       "      <td>NaN</td>\n",
       "      <td>NaN</td>\n",
       "      <td>NaN</td>\n",
       "    </tr>\n",
       "    <tr>\n",
       "      <th>7980</th>\n",
       "      <td>15</td>\n",
       "      <td>3790000.0</td>\n",
       "      <td>38.7</td>\n",
       "      <td>2017-12-20T00:00:00</td>\n",
       "      <td>1</td>\n",
       "      <td>2.65</td>\n",
       "      <td>18.0</td>\n",
       "      <td>18.0</td>\n",
       "      <td>17</td>\n",
       "      <td>NaN</td>\n",
       "      <td>False</td>\n",
       "      <td>False</td>\n",
       "      <td>12.0</td>\n",
       "      <td>2.0</td>\n",
       "      <td>Санкт-Петербург</td>\n",
       "      <td>33058.0</td>\n",
       "      <td>14156.0</td>\n",
       "      <td>0.0</td>\n",
       "      <td>NaN</td>\n",
       "      <td>1.0</td>\n",
       "      <td>935.0</td>\n",
       "      <td>45.0</td>\n",
       "    </tr>\n",
       "    <tr>\n",
       "      <th>14074</th>\n",
       "      <td>15</td>\n",
       "      <td>6000000.0</td>\n",
       "      <td>74.9</td>\n",
       "      <td>2017-12-18T00:00:00</td>\n",
       "      <td>2</td>\n",
       "      <td>NaN</td>\n",
       "      <td>4.0</td>\n",
       "      <td>36.5</td>\n",
       "      <td>3</td>\n",
       "      <td>NaN</td>\n",
       "      <td>False</td>\n",
       "      <td>False</td>\n",
       "      <td>17.7</td>\n",
       "      <td>NaN</td>\n",
       "      <td>Сестрорецк</td>\n",
       "      <td>53988.0</td>\n",
       "      <td>35087.0</td>\n",
       "      <td>0.0</td>\n",
       "      <td>NaN</td>\n",
       "      <td>0.0</td>\n",
       "      <td>NaN</td>\n",
       "      <td>441.0</td>\n",
       "    </tr>\n",
       "    <tr>\n",
       "      <th>12953</th>\n",
       "      <td>12</td>\n",
       "      <td>10000000.0</td>\n",
       "      <td>80.0</td>\n",
       "      <td>2018-02-01T00:00:00</td>\n",
       "      <td>3</td>\n",
       "      <td>3.00</td>\n",
       "      <td>6.0</td>\n",
       "      <td>54.0</td>\n",
       "      <td>3</td>\n",
       "      <td>NaN</td>\n",
       "      <td>False</td>\n",
       "      <td>False</td>\n",
       "      <td>7.0</td>\n",
       "      <td>1.0</td>\n",
       "      <td>Санкт-Петербург</td>\n",
       "      <td>26812.0</td>\n",
       "      <td>5510.0</td>\n",
       "      <td>3.0</td>\n",
       "      <td>502.0</td>\n",
       "      <td>0.0</td>\n",
       "      <td>NaN</td>\n",
       "      <td>NaN</td>\n",
       "    </tr>\n",
       "    <tr>\n",
       "      <th>22491</th>\n",
       "      <td>10</td>\n",
       "      <td>5900000.0</td>\n",
       "      <td>50.4</td>\n",
       "      <td>2017-07-18T00:00:00</td>\n",
       "      <td>2</td>\n",
       "      <td>3.00</td>\n",
       "      <td>10.0</td>\n",
       "      <td>33.0</td>\n",
       "      <td>3</td>\n",
       "      <td>NaN</td>\n",
       "      <td>False</td>\n",
       "      <td>False</td>\n",
       "      <td>7.3</td>\n",
       "      <td>0.0</td>\n",
       "      <td>Санкт-Петербург</td>\n",
       "      <td>11097.0</td>\n",
       "      <td>8823.0</td>\n",
       "      <td>0.0</td>\n",
       "      <td>NaN</td>\n",
       "      <td>0.0</td>\n",
       "      <td>NaN</td>\n",
       "      <td>21.0</td>\n",
       "    </tr>\n",
       "    <tr>\n",
       "      <th>10950</th>\n",
       "      <td>13</td>\n",
       "      <td>2250000.0</td>\n",
       "      <td>58.0</td>\n",
       "      <td>2017-08-09T00:00:00</td>\n",
       "      <td>2</td>\n",
       "      <td>NaN</td>\n",
       "      <td>5.0</td>\n",
       "      <td>32.0</td>\n",
       "      <td>2</td>\n",
       "      <td>NaN</td>\n",
       "      <td>False</td>\n",
       "      <td>False</td>\n",
       "      <td>9.0</td>\n",
       "      <td>1.0</td>\n",
       "      <td>Лодейное Поле</td>\n",
       "      <td>NaN</td>\n",
       "      <td>NaN</td>\n",
       "      <td>NaN</td>\n",
       "      <td>NaN</td>\n",
       "      <td>NaN</td>\n",
       "      <td>NaN</td>\n",
       "      <td>45.0</td>\n",
       "    </tr>\n",
       "    <tr>\n",
       "      <th>8261</th>\n",
       "      <td>20</td>\n",
       "      <td>36000000.0</td>\n",
       "      <td>123.2</td>\n",
       "      <td>2018-01-14T00:00:00</td>\n",
       "      <td>1</td>\n",
       "      <td>3.00</td>\n",
       "      <td>14.0</td>\n",
       "      <td>31.2</td>\n",
       "      <td>7</td>\n",
       "      <td>NaN</td>\n",
       "      <td>False</td>\n",
       "      <td>False</td>\n",
       "      <td>58.4</td>\n",
       "      <td>1.0</td>\n",
       "      <td>Санкт-Петербург</td>\n",
       "      <td>28098.0</td>\n",
       "      <td>6800.0</td>\n",
       "      <td>2.0</td>\n",
       "      <td>84.0</td>\n",
       "      <td>3.0</td>\n",
       "      <td>234.0</td>\n",
       "      <td>61.0</td>\n",
       "    </tr>\n",
       "    <tr>\n",
       "      <th>8503</th>\n",
       "      <td>15</td>\n",
       "      <td>2890000.0</td>\n",
       "      <td>30.4</td>\n",
       "      <td>2017-01-25T00:00:00</td>\n",
       "      <td>1</td>\n",
       "      <td>NaN</td>\n",
       "      <td>9.0</td>\n",
       "      <td>15.1</td>\n",
       "      <td>7</td>\n",
       "      <td>NaN</td>\n",
       "      <td>False</td>\n",
       "      <td>False</td>\n",
       "      <td>8.0</td>\n",
       "      <td>0.0</td>\n",
       "      <td>Санкт-Петербург</td>\n",
       "      <td>47001.0</td>\n",
       "      <td>15146.0</td>\n",
       "      <td>0.0</td>\n",
       "      <td>NaN</td>\n",
       "      <td>0.0</td>\n",
       "      <td>NaN</td>\n",
       "      <td>91.0</td>\n",
       "    </tr>\n",
       "    <tr>\n",
       "      <th>11113</th>\n",
       "      <td>18</td>\n",
       "      <td>4500000.0</td>\n",
       "      <td>34.5</td>\n",
       "      <td>2018-08-02T00:00:00</td>\n",
       "      <td>1</td>\n",
       "      <td>NaN</td>\n",
       "      <td>25.0</td>\n",
       "      <td>NaN</td>\n",
       "      <td>7</td>\n",
       "      <td>NaN</td>\n",
       "      <td>False</td>\n",
       "      <td>False</td>\n",
       "      <td>NaN</td>\n",
       "      <td>NaN</td>\n",
       "      <td>Санкт-Петербург</td>\n",
       "      <td>43074.0</td>\n",
       "      <td>10820.0</td>\n",
       "      <td>0.0</td>\n",
       "      <td>NaN</td>\n",
       "      <td>0.0</td>\n",
       "      <td>NaN</td>\n",
       "      <td>60.0</td>\n",
       "    </tr>\n",
       "    <tr>\n",
       "      <th>18376</th>\n",
       "      <td>6</td>\n",
       "      <td>4120000.0</td>\n",
       "      <td>58.0</td>\n",
       "      <td>2018-07-01T00:00:00</td>\n",
       "      <td>2</td>\n",
       "      <td>NaN</td>\n",
       "      <td>19.0</td>\n",
       "      <td>NaN</td>\n",
       "      <td>14</td>\n",
       "      <td>NaN</td>\n",
       "      <td>False</td>\n",
       "      <td>False</td>\n",
       "      <td>NaN</td>\n",
       "      <td>NaN</td>\n",
       "      <td>Санкт-Петербург</td>\n",
       "      <td>36763.0</td>\n",
       "      <td>14915.0</td>\n",
       "      <td>0.0</td>\n",
       "      <td>NaN</td>\n",
       "      <td>0.0</td>\n",
       "      <td>NaN</td>\n",
       "      <td>9.0</td>\n",
       "    </tr>\n",
       "  </tbody>\n",
       "</table>\n",
       "</div>"
      ],
      "text/plain": [
       "       total_images  last_price  total_area first_day_exposition  rooms  \\\n",
       "23440             5   3450000.0        61.7  2018-11-21T00:00:00      4   \n",
       "7980             15   3790000.0        38.7  2017-12-20T00:00:00      1   \n",
       "14074            15   6000000.0        74.9  2017-12-18T00:00:00      2   \n",
       "12953            12  10000000.0        80.0  2018-02-01T00:00:00      3   \n",
       "22491            10   5900000.0        50.4  2017-07-18T00:00:00      2   \n",
       "10950            13   2250000.0        58.0  2017-08-09T00:00:00      2   \n",
       "8261             20  36000000.0       123.2  2018-01-14T00:00:00      1   \n",
       "8503             15   2890000.0        30.4  2017-01-25T00:00:00      1   \n",
       "11113            18   4500000.0        34.5  2018-08-02T00:00:00      1   \n",
       "18376             6   4120000.0        58.0  2018-07-01T00:00:00      2   \n",
       "\n",
       "       ceiling_height  floors_total  living_area  floor is_apartment  studio  \\\n",
       "23440            2.60           5.0         44.9      4          NaN   False   \n",
       "7980             2.65          18.0         18.0     17          NaN   False   \n",
       "14074             NaN           4.0         36.5      3          NaN   False   \n",
       "12953            3.00           6.0         54.0      3          NaN   False   \n",
       "22491            3.00          10.0         33.0      3          NaN   False   \n",
       "10950             NaN           5.0         32.0      2          NaN   False   \n",
       "8261             3.00          14.0         31.2      7          NaN   False   \n",
       "8503              NaN           9.0         15.1      7          NaN   False   \n",
       "11113             NaN          25.0          NaN      7          NaN   False   \n",
       "18376             NaN          19.0          NaN     14          NaN   False   \n",
       "\n",
       "       open_plan  kitchen_area  balcony                   locality_name  \\\n",
       "23440      False           5.3      1.0  посёлок городского типа Вырица   \n",
       "7980       False          12.0      2.0                 Санкт-Петербург   \n",
       "14074      False          17.7      NaN                      Сестрорецк   \n",
       "12953      False           7.0      1.0                 Санкт-Петербург   \n",
       "22491      False           7.3      0.0                 Санкт-Петербург   \n",
       "10950      False           9.0      1.0                   Лодейное Поле   \n",
       "8261       False          58.4      1.0                 Санкт-Петербург   \n",
       "8503       False           8.0      0.0                 Санкт-Петербург   \n",
       "11113      False           NaN      NaN                 Санкт-Петербург   \n",
       "18376      False           NaN      NaN                 Санкт-Петербург   \n",
       "\n",
       "       airports_nearest  cityCenters_nearest  parks_around3000  parks_nearest  \\\n",
       "23440               NaN                  NaN               NaN            NaN   \n",
       "7980            33058.0              14156.0               0.0            NaN   \n",
       "14074           53988.0              35087.0               0.0            NaN   \n",
       "12953           26812.0               5510.0               3.0          502.0   \n",
       "22491           11097.0               8823.0               0.0            NaN   \n",
       "10950               NaN                  NaN               NaN            NaN   \n",
       "8261            28098.0               6800.0               2.0           84.0   \n",
       "8503            47001.0              15146.0               0.0            NaN   \n",
       "11113           43074.0              10820.0               0.0            NaN   \n",
       "18376           36763.0              14915.0               0.0            NaN   \n",
       "\n",
       "       ponds_around3000  ponds_nearest  days_exposition  \n",
       "23440               NaN            NaN              NaN  \n",
       "7980                1.0          935.0             45.0  \n",
       "14074               0.0            NaN            441.0  \n",
       "12953               0.0            NaN              NaN  \n",
       "22491               0.0            NaN             21.0  \n",
       "10950               NaN            NaN             45.0  \n",
       "8261                3.0          234.0             61.0  \n",
       "8503                0.0            NaN             91.0  \n",
       "11113               0.0            NaN             60.0  \n",
       "18376               0.0            NaN              9.0  "
      ]
     },
     "execution_count": 4,
     "metadata": {},
     "output_type": "execute_result"
    }
   ],
   "source": [
    "data.sample(10)"
   ]
  },
  {
   "cell_type": "code",
   "execution_count": 5,
   "metadata": {
    "scrolled": true
   },
   "outputs": [
    {
     "data": {
      "image/png": "[encoded data removed]",
      "text/plain": [
       "<Figure size 1080x1440 with 20 Axes>"
      ]
     },
     "metadata": {
      "needs_background": "light"
     },
     "output_type": "display_data"
    }
   ],
   "source": [
    "data.hist(figsize=(15, 20))\n",
    "plt.show()"
   ]
  },
  {
   "cell_type": "markdown",
   "metadata": {},
   "source": [
    "**Выводы:**\n",
    "На первый взгляд данные довольно грязные. Много пропусков и присутствуют выбросы/аномальные значения типа 100-метровых потолков и 19-тикомнатных квартир. Исходя из стартовых гистограмм, нужно прилично почистить данные, чтобы с ними можно было работать в анализе.\n",
    "**Проблемы, которые нужно постараться решить:**\n",
    "- Отсутствует большое количество значений в столбцах (может быть вызвано ошибкой выгрузки данных, либо пользователи оставляли пропуски в довольно важных показателях - нужно проверить и сообщить специалистам);\n",
    "- Некорректные типы данных (может быть обусловлено ошибкой выгрузки);\n",
    "\n",
    "**В таблице довольно много пропусков, а также неверный тип данных по столбцам:**\n",
    "- first_day_exposition (object) - должен быть - дата: Год-Месяц-Число;\n",
    "- living_area - нулевые значения;\n",
    "- is_apartment (object) - должен быть Bool, куча пропущенных;\n",
    "- kitchen_area - много пропусков;\n",
    "- balcony (object) - пропуски, должен быть int64 и только целочисленный;\n",
    "- locality_name (object) - пропуски;\n",
    "- airports_nearest - много пропусков;\n",
    "- cityCenters_nearest - много пропусков;\n",
    "- floors_total - пропуски и не может быть отрицательных значений;\n",
    "- parks_around3000 (float) - должен быть int64 (целочисленный и неотрицательный);\n",
    "- parks_nearest - пропуски;\n",
    "- ponds_around3000 (float) - тип должен быть int64, есть нулевые значения;\n",
    "- ponds_nearest - пропуски;\n",
    "- days_exposition (float) - должен быть int64."
   ]
  },
  {
   "cell_type": "markdown",
   "metadata": {
    "id": "-O5NtivEAwb9"
   },
   "source": [
    "### Выполните предобработку данных"
   ]
  },
  {
   "cell_type": "markdown",
   "metadata": {
    "id": "7v3vAeTuAwb-"
   },
   "source": [
    "Начнем предобработку с вычисления явных дубликатов:"
   ]
  },
  {
   "cell_type": "code",
   "execution_count": 6,
   "metadata": {},
   "outputs": [
    {
     "data": {
      "text/plain": [
       "0"
      ]
     },
     "execution_count": 6,
     "metadata": {},
     "output_type": "execute_result"
    }
   ],
   "source": [
    "data.duplicated().sum()"
   ]
  },
  {
   "cell_type": "markdown",
   "metadata": {},
   "source": [
    "Явных дублей нет, неявные будем отсеивать дальше."
   ]
  },
  {
   "cell_type": "code",
   "execution_count": 7,
   "metadata": {},
   "outputs": [
    {
     "data": {
      "text/plain": [
       "total_images                0\n",
       "last_price                  0\n",
       "total_area                  0\n",
       "first_day_exposition        0\n",
       "rooms                       0\n",
       "ceiling_height           9195\n",
       "floors_total               86\n",
       "living_area              1903\n",
       "floor                       0\n",
       "is_apartment            20924\n",
       "studio                      0\n",
       "open_plan                   0\n",
       "kitchen_area             2278\n",
       "balcony                 11519\n",
       "locality_name              49\n",
       "airports_nearest         5542\n",
       "cityCenters_nearest      5519\n",
       "parks_around3000         5518\n",
       "parks_nearest           15620\n",
       "ponds_around3000         5518\n",
       "ponds_nearest           14589\n",
       "days_exposition          3181\n",
       "dtype: int64"
      ]
     },
     "execution_count": 7,
     "metadata": {},
     "output_type": "execute_result"
    }
   ],
   "source": [
    "data.isnull().sum()"
   ]
  },
  {
   "cell_type": "markdown",
   "metadata": {},
   "source": [
    "Пропусков много и они неоднородные. Приступим к анализу и исправлению того, что возможно, по отдельности:"
   ]
  },
  {
   "cell_type": "code",
   "execution_count": 8,
   "metadata": {},
   "outputs": [
    {
     "data": {
      "text/plain": [
       "0.0    9071\n",
       "1.0    5717\n",
       "2.0    1892\n",
       "3.0    1501\n",
       "Name: ponds_around3000, dtype: int64"
      ]
     },
     "execution_count": 8,
     "metadata": {},
     "output_type": "execute_result"
    }
   ],
   "source": [
    "data['total_images'].value_counts() #все чисто\n",
    "data['ceiling_height'].value_counts() #все чисто\n",
    "data['floor'].value_counts() #все чисто\n",
    "data['total_area'].value_counts() #все чисто\n",
    "data['rooms'].value_counts() #все чисто\n",
    "data['airports_nearest'].value_counts() #все чисто\n",
    "data['cityCenters_nearest'].value_counts() #все чисто, есть выбросы\n",
    "data['parks_around3000'].value_counts() #все чисто\n",
    "data['parks_nearest'].value_counts() #все чисто\n",
    "data['ponds_around3000'].value_counts() #все чисто"
   ]
  },
  {
   "cell_type": "markdown",
   "metadata": {},
   "source": [
    "На первый взгляд в этих столбцах все выглядит нормально, оставим их пока что без изменений."
   ]
  },
  {
   "cell_type": "code",
   "execution_count": 9,
   "metadata": {},
   "outputs": [
    {
     "data": {
      "text/plain": [
       "365"
      ]
     },
     "execution_count": 9,
     "metadata": {},
     "output_type": "execute_result"
    }
   ],
   "source": [
    "data['locality_name'].unique()\n",
    "len(data['locality_name'].unique())"
   ]
  },
  {
   "cell_type": "markdown",
   "metadata": {},
   "source": [
    "Уберём неявные дубликаты, связанные с буквой \"Ё\" в названии"
   ]
  },
  {
   "cell_type": "code",
   "execution_count": 10,
   "metadata": {},
   "outputs": [
    {
     "data": {
      "text/plain": [
       "санкт-петербург              15721\n",
       "поселок мурино                 556\n",
       "поселок шушары                 440\n",
       "всеволожск                     398\n",
       "пушкин                         369\n",
       "                             ...  \n",
       "коттеджный поселок лесное        1\n",
       "деревня лупполово                1\n",
       "поселок плоское                  1\n",
       "деревня щеглово                  1\n",
       "поселок мыза-ивановка            1\n",
       "Name: locality_name, Length: 331, dtype: int64"
      ]
     },
     "execution_count": 10,
     "metadata": {},
     "output_type": "execute_result"
    }
   ],
   "source": [
    "data['locality_name'] = data['locality_name'].str.replace('ё', 'е', regex=True).str.lower()\n",
    "data['locality_name'].fillna('unknown', inplace = True)\n",
    "data['locality_name'].value_counts()"
   ]
  },
  {
   "cell_type": "markdown",
   "metadata": {},
   "source": [
    "Столбец **locality_name** от дублей очистили, но есть пропуски, природа которых пока не ясна. Заменил пропуски названием Unknown."
   ]
  },
  {
   "cell_type": "code",
   "execution_count": 11,
   "metadata": {},
   "outputs": [
    {
     "data": {
      "text/plain": [
       "0"
      ]
     },
     "execution_count": 11,
     "metadata": {},
     "output_type": "execute_result"
    }
   ],
   "source": [
    "data['is_apartment'].astype(bool).value_counts()\n",
    "data['is_apartment'].fillna(False).isna().sum()\n"
   ]
  },
  {
   "cell_type": "markdown",
   "metadata": {},
   "source": [
    "В разделе **is_apartment** слишком много пропусков, возможно данный показатель появился не с начала ведения учета данных. Заменил пропуски на False."
   ]
  },
  {
   "cell_type": "code",
   "execution_count": 12,
   "metadata": {},
   "outputs": [],
   "source": [
    "data['days_exposition'] = data['days_exposition'].fillna(0).astype('int32')"
   ]
  },
  {
   "cell_type": "markdown",
   "metadata": {},
   "source": [
    "По столбцу **days_exposition** пропуски спокойно можно заменить на 0."
   ]
  },
  {
   "cell_type": "code",
   "execution_count": 13,
   "metadata": {},
   "outputs": [],
   "source": [
    "data['first_day_exposition'] = pd.to_datetime(data['first_day_exposition'], format = '%Y-%m-%d')"
   ]
  },
  {
   "cell_type": "markdown",
   "metadata": {},
   "source": [
    "У **first_day_exposition** исправим формат на дату (год-месяц-день), поскольку время не указано, его уберем."
   ]
  },
  {
   "cell_type": "code",
   "execution_count": 14,
   "metadata": {},
   "outputs": [
    {
     "data": {
      "text/plain": [
       "0    15277\n",
       "1     4195\n",
       "2     3659\n",
       "5      304\n",
       "4      183\n",
       "3       81\n",
       "Name: balcony, dtype: int64"
      ]
     },
     "execution_count": 14,
     "metadata": {},
     "output_type": "execute_result"
    }
   ],
   "source": [
    "data['balcony'].fillna(0).astype(int).value_counts()"
   ]
  },
  {
   "cell_type": "markdown",
   "metadata": {},
   "source": [
    "В столбце **balcony** заменим пропуски на 0, исходя из предположения: балкон не указан = отсутствует. Представим в формате int64."
   ]
  },
  {
   "cell_type": "code",
   "execution_count": 15,
   "metadata": {},
   "outputs": [
    {
     "data": {
      "text/plain": [
       "2.65"
      ]
     },
     "execution_count": 15,
     "metadata": {},
     "output_type": "execute_result"
    }
   ],
   "source": [
    "data['ceiling_height'].value_counts()\n",
    "data['ceiling_height'].median()"
   ]
  },
  {
   "cell_type": "markdown",
   "metadata": {},
   "source": [
    "В **ceiling_height** есть ошибочные завышенные значения, отфильтруем их позже во время анализа. Медиана не сильно ушла от среднего, предположительно выбросы не сильно повлияли на выборку."
   ]
  },
  {
   "cell_type": "code",
   "execution_count": 16,
   "metadata": {},
   "outputs": [],
   "source": [
    "data['last_price'] = data['last_price'].astype(int)"
   ]
  },
  {
   "cell_type": "markdown",
   "metadata": {},
   "source": [
    "Приведем формат **last_price** к int64 для удобства использования и нормальной визуализации."
   ]
  },
  {
   "cell_type": "code",
   "execution_count": 17,
   "metadata": {},
   "outputs": [
    {
     "data": {
      "text/plain": [
       "0"
      ]
     },
     "execution_count": 17,
     "metadata": {},
     "output_type": "execute_result"
    }
   ],
   "source": [
    "data['floors_total'].fillna(0, inplace= True)\n",
    "data['floors_total'].isna().sum()"
   ]
  },
  {
   "cell_type": "markdown",
   "metadata": {},
   "source": [
    "Поскольку пропусков в **floors_total** совсем немного - предположил, что не указывали количество этажей для загородных домой, заменил на 0."
   ]
  },
  {
   "cell_type": "code",
   "execution_count": 18,
   "metadata": {
    "scrolled": true
   },
   "outputs": [
    {
     "data": {
      "text/plain": [
       "5519"
      ]
     },
     "execution_count": 18,
     "metadata": {},
     "output_type": "execute_result"
    }
   ],
   "source": [
    "data['cityCenters_nearest'].isna().sum()"
   ]
  },
  {
   "cell_type": "markdown",
   "metadata": {},
   "source": [
    "Многовато пропусков в **cityCenters_nearest**, возможно ошибка сервиса геолокации, думаю лучше заполнить медианой."
   ]
  },
  {
   "cell_type": "code",
   "execution_count": 19,
   "metadata": {},
   "outputs": [
    {
     "data": {
      "text/plain": [
       "0"
      ]
     },
     "execution_count": 19,
     "metadata": {},
     "output_type": "execute_result"
    }
   ],
   "source": [
    "xin = data['cityCenters_nearest'].dropna().median()\n",
    "data['cityCenters_nearest'] = data['cityCenters_nearest'].fillna(xin)\n",
    "data['cityCenters_nearest'].isna().sum()"
   ]
  },
  {
   "cell_type": "code",
   "execution_count": 20,
   "metadata": {},
   "outputs": [
    {
     "name": "stdout",
     "output_type": "stream",
     "text": [
      "Пропуски в жилой площади: 0\n",
      "Пропуски в кухонной площади: 0\n"
     ]
    }
   ],
   "source": [
    "data_new = data\n",
    "avg_total_med = data_new['total_area'].median()\n",
    "data_new['avg_living_area'] = data_new['living_area']/data_new['total_area']\n",
    "avg_living_med = data_new['avg_living_area'].dropna().median() * avg_total_med #нашел медианную жилую площадь в процентном отношении от общей\n",
    "data_new['avg_kitchen_area'] = data_new['kitchen_area']/data_new['total_area'] \n",
    "avg_kitchen_med = data_new['avg_kitchen_area'].dropna().median() * avg_total_med #нашел медианную кухонную площадь в процентном отношении от общей\n",
    "data['kitchen_area'] = data['kitchen_area'].fillna(avg_kitchen_med)\n",
    "data['living_area'] = data['living_area'].fillna(avg_living_med)\n",
    "print('Пропуски в жилой площади:',data['living_area'].isna().sum())\n",
    "print('Пропуски в кухонной площади:',data['kitchen_area'].isna().sum())"
   ]
  },
  {
   "cell_type": "markdown",
   "metadata": {},
   "source": [
    "Заполнил пропуски в **kitchen_area** и **living_area** по принципу нахождения медианной процентной доли целевой площади от медианной общей.\n",
    "P.S. Пытался несколькими более короткими и простыми способами, в т.ч. pivot_table. Но Юпитер почему-то на первый раз код пускал, а потом падал в ошибки (пример: 'float' object has no attribute 'sum') :("
   ]
  },
  {
   "cell_type": "markdown",
   "metadata": {},
   "source": [
    "**Подводя итоги раздела Предобработки, стоит сказать, что мы успешно избавились от дубликатов и пропусков там, где это возможно. Определили показатели, которые исправлению не поддаются - о них  мы сообщим специалистам. Типы данных привели к правильным, где можно - пропуски заполнили медианными значениями. Теперь данные пригодны для дальнейшего анализа ദ്ദി**"
   ]
  },
  {
   "cell_type": "markdown",
   "metadata": {
    "id": "QCcvyY6YAwb-"
   },
   "source": [
    "### Добавьте в таблицу новые столбцы"
   ]
  },
  {
   "cell_type": "markdown",
   "metadata": {
    "id": "Z8eJek3IAwb-"
   },
   "source": [
    "**Задание**.\n",
    "**Добавьте в таблицу новые столбцы со следующими параметрами:**\n",
    "- цена одного квадратного метра (нужно поделить стоимость объекта на его общую площадь, а затем округлить до двух знаков после запятой);\n",
    "- день недели публикации объявления (0 — понедельник, 1 — вторник и так далее);\n",
    "- месяц публикации объявления;\n",
    "- год публикации объявления;\n",
    "- тип этажа квартиры (значения — «‎первый», «последний», «другой»);\n",
    "- расстояние до центра города в километрах (переведите из м в км и округлите до ближайших целых значений)."
   ]
  },
  {
   "cell_type": "code",
   "execution_count": 21,
   "metadata": {},
   "outputs": [
    {
     "data": {
      "text/html": [
       "<div>\n",
       "<style scoped>\n",
       "    .dataframe tbody tr th:only-of-type {\n",
       "        vertical-align: middle;\n",
       "    }\n",
       "\n",
       "    .dataframe tbody tr th {\n",
       "        vertical-align: top;\n",
       "    }\n",
       "\n",
       "    .dataframe thead th {\n",
       "        text-align: right;\n",
       "    }\n",
       "</style>\n",
       "<table border=\"1\" class=\"dataframe\">\n",
       "  <thead>\n",
       "    <tr style=\"text-align: right;\">\n",
       "      <th></th>\n",
       "      <th>total_images</th>\n",
       "      <th>last_price</th>\n",
       "      <th>total_area</th>\n",
       "      <th>first_day_exposition</th>\n",
       "      <th>rooms</th>\n",
       "      <th>ceiling_height</th>\n",
       "      <th>floors_total</th>\n",
       "      <th>living_area</th>\n",
       "      <th>floor</th>\n",
       "      <th>is_apartment</th>\n",
       "      <th>studio</th>\n",
       "      <th>open_plan</th>\n",
       "      <th>kitchen_area</th>\n",
       "      <th>balcony</th>\n",
       "      <th>locality_name</th>\n",
       "      <th>airports_nearest</th>\n",
       "      <th>cityCenters_nearest</th>\n",
       "      <th>parks_around3000</th>\n",
       "      <th>parks_nearest</th>\n",
       "      <th>ponds_around3000</th>\n",
       "      <th>ponds_nearest</th>\n",
       "      <th>days_exposition</th>\n",
       "      <th>avg_living_area</th>\n",
       "      <th>avg_kitchen_area</th>\n",
       "    </tr>\n",
       "  </thead>\n",
       "  <tbody>\n",
       "    <tr>\n",
       "      <th>0</th>\n",
       "      <td>20</td>\n",
       "      <td>13000000</td>\n",
       "      <td>108.00</td>\n",
       "      <td>2019-03-07</td>\n",
       "      <td>3</td>\n",
       "      <td>2.70</td>\n",
       "      <td>16.0</td>\n",
       "      <td>51.000000</td>\n",
       "      <td>8</td>\n",
       "      <td>NaN</td>\n",
       "      <td>False</td>\n",
       "      <td>False</td>\n",
       "      <td>25.000000</td>\n",
       "      <td>NaN</td>\n",
       "      <td>санкт-петербург</td>\n",
       "      <td>18863.0</td>\n",
       "      <td>16028.0</td>\n",
       "      <td>1.0</td>\n",
       "      <td>482.0</td>\n",
       "      <td>2.0</td>\n",
       "      <td>755.0</td>\n",
       "      <td>0</td>\n",
       "      <td>0.472222</td>\n",
       "      <td>0.231481</td>\n",
       "    </tr>\n",
       "    <tr>\n",
       "      <th>1</th>\n",
       "      <td>7</td>\n",
       "      <td>3350000</td>\n",
       "      <td>40.40</td>\n",
       "      <td>2018-12-04</td>\n",
       "      <td>1</td>\n",
       "      <td>NaN</td>\n",
       "      <td>11.0</td>\n",
       "      <td>18.600000</td>\n",
       "      <td>1</td>\n",
       "      <td>NaN</td>\n",
       "      <td>False</td>\n",
       "      <td>False</td>\n",
       "      <td>11.000000</td>\n",
       "      <td>2.0</td>\n",
       "      <td>поселок шушары</td>\n",
       "      <td>12817.0</td>\n",
       "      <td>18603.0</td>\n",
       "      <td>0.0</td>\n",
       "      <td>NaN</td>\n",
       "      <td>0.0</td>\n",
       "      <td>NaN</td>\n",
       "      <td>81</td>\n",
       "      <td>0.460396</td>\n",
       "      <td>0.272277</td>\n",
       "    </tr>\n",
       "    <tr>\n",
       "      <th>2</th>\n",
       "      <td>10</td>\n",
       "      <td>5196000</td>\n",
       "      <td>56.00</td>\n",
       "      <td>2015-08-20</td>\n",
       "      <td>2</td>\n",
       "      <td>NaN</td>\n",
       "      <td>5.0</td>\n",
       "      <td>34.300000</td>\n",
       "      <td>4</td>\n",
       "      <td>NaN</td>\n",
       "      <td>False</td>\n",
       "      <td>False</td>\n",
       "      <td>8.300000</td>\n",
       "      <td>0.0</td>\n",
       "      <td>санкт-петербург</td>\n",
       "      <td>21741.0</td>\n",
       "      <td>13933.0</td>\n",
       "      <td>1.0</td>\n",
       "      <td>90.0</td>\n",
       "      <td>2.0</td>\n",
       "      <td>574.0</td>\n",
       "      <td>558</td>\n",
       "      <td>0.612500</td>\n",
       "      <td>0.148214</td>\n",
       "    </tr>\n",
       "    <tr>\n",
       "      <th>3</th>\n",
       "      <td>0</td>\n",
       "      <td>64900000</td>\n",
       "      <td>159.00</td>\n",
       "      <td>2015-07-24</td>\n",
       "      <td>3</td>\n",
       "      <td>NaN</td>\n",
       "      <td>14.0</td>\n",
       "      <td>29.528715</td>\n",
       "      <td>9</td>\n",
       "      <td>NaN</td>\n",
       "      <td>False</td>\n",
       "      <td>False</td>\n",
       "      <td>8.965517</td>\n",
       "      <td>0.0</td>\n",
       "      <td>санкт-петербург</td>\n",
       "      <td>28098.0</td>\n",
       "      <td>6800.0</td>\n",
       "      <td>2.0</td>\n",
       "      <td>84.0</td>\n",
       "      <td>3.0</td>\n",
       "      <td>234.0</td>\n",
       "      <td>424</td>\n",
       "      <td>NaN</td>\n",
       "      <td>NaN</td>\n",
       "    </tr>\n",
       "    <tr>\n",
       "      <th>4</th>\n",
       "      <td>2</td>\n",
       "      <td>10000000</td>\n",
       "      <td>100.00</td>\n",
       "      <td>2018-06-19</td>\n",
       "      <td>2</td>\n",
       "      <td>3.03</td>\n",
       "      <td>14.0</td>\n",
       "      <td>32.000000</td>\n",
       "      <td>13</td>\n",
       "      <td>NaN</td>\n",
       "      <td>False</td>\n",
       "      <td>False</td>\n",
       "      <td>41.000000</td>\n",
       "      <td>NaN</td>\n",
       "      <td>санкт-петербург</td>\n",
       "      <td>31856.0</td>\n",
       "      <td>8098.0</td>\n",
       "      <td>2.0</td>\n",
       "      <td>112.0</td>\n",
       "      <td>1.0</td>\n",
       "      <td>48.0</td>\n",
       "      <td>121</td>\n",
       "      <td>0.320000</td>\n",
       "      <td>0.410000</td>\n",
       "    </tr>\n",
       "    <tr>\n",
       "      <th>5</th>\n",
       "      <td>10</td>\n",
       "      <td>2890000</td>\n",
       "      <td>30.40</td>\n",
       "      <td>2018-09-10</td>\n",
       "      <td>1</td>\n",
       "      <td>NaN</td>\n",
       "      <td>12.0</td>\n",
       "      <td>14.400000</td>\n",
       "      <td>5</td>\n",
       "      <td>NaN</td>\n",
       "      <td>False</td>\n",
       "      <td>False</td>\n",
       "      <td>9.100000</td>\n",
       "      <td>NaN</td>\n",
       "      <td>городской поселок янино-1</td>\n",
       "      <td>NaN</td>\n",
       "      <td>13098.5</td>\n",
       "      <td>NaN</td>\n",
       "      <td>NaN</td>\n",
       "      <td>NaN</td>\n",
       "      <td>NaN</td>\n",
       "      <td>55</td>\n",
       "      <td>0.473684</td>\n",
       "      <td>0.299342</td>\n",
       "    </tr>\n",
       "    <tr>\n",
       "      <th>6</th>\n",
       "      <td>6</td>\n",
       "      <td>3700000</td>\n",
       "      <td>37.30</td>\n",
       "      <td>2017-11-02</td>\n",
       "      <td>1</td>\n",
       "      <td>NaN</td>\n",
       "      <td>26.0</td>\n",
       "      <td>10.600000</td>\n",
       "      <td>6</td>\n",
       "      <td>NaN</td>\n",
       "      <td>False</td>\n",
       "      <td>False</td>\n",
       "      <td>14.400000</td>\n",
       "      <td>1.0</td>\n",
       "      <td>поселок парголово</td>\n",
       "      <td>52996.0</td>\n",
       "      <td>19143.0</td>\n",
       "      <td>0.0</td>\n",
       "      <td>NaN</td>\n",
       "      <td>0.0</td>\n",
       "      <td>NaN</td>\n",
       "      <td>155</td>\n",
       "      <td>0.284182</td>\n",
       "      <td>0.386059</td>\n",
       "    </tr>\n",
       "    <tr>\n",
       "      <th>7</th>\n",
       "      <td>5</td>\n",
       "      <td>7915000</td>\n",
       "      <td>71.60</td>\n",
       "      <td>2019-04-18</td>\n",
       "      <td>2</td>\n",
       "      <td>NaN</td>\n",
       "      <td>24.0</td>\n",
       "      <td>29.528715</td>\n",
       "      <td>22</td>\n",
       "      <td>NaN</td>\n",
       "      <td>False</td>\n",
       "      <td>False</td>\n",
       "      <td>18.900000</td>\n",
       "      <td>2.0</td>\n",
       "      <td>санкт-петербург</td>\n",
       "      <td>23982.0</td>\n",
       "      <td>11634.0</td>\n",
       "      <td>0.0</td>\n",
       "      <td>NaN</td>\n",
       "      <td>0.0</td>\n",
       "      <td>NaN</td>\n",
       "      <td>0</td>\n",
       "      <td>NaN</td>\n",
       "      <td>0.263966</td>\n",
       "    </tr>\n",
       "    <tr>\n",
       "      <th>8</th>\n",
       "      <td>20</td>\n",
       "      <td>2900000</td>\n",
       "      <td>33.16</td>\n",
       "      <td>2018-05-23</td>\n",
       "      <td>1</td>\n",
       "      <td>NaN</td>\n",
       "      <td>27.0</td>\n",
       "      <td>15.430000</td>\n",
       "      <td>26</td>\n",
       "      <td>NaN</td>\n",
       "      <td>False</td>\n",
       "      <td>False</td>\n",
       "      <td>8.810000</td>\n",
       "      <td>NaN</td>\n",
       "      <td>поселок мурино</td>\n",
       "      <td>NaN</td>\n",
       "      <td>13098.5</td>\n",
       "      <td>NaN</td>\n",
       "      <td>NaN</td>\n",
       "      <td>NaN</td>\n",
       "      <td>NaN</td>\n",
       "      <td>189</td>\n",
       "      <td>0.465320</td>\n",
       "      <td>0.265682</td>\n",
       "    </tr>\n",
       "    <tr>\n",
       "      <th>9</th>\n",
       "      <td>18</td>\n",
       "      <td>5400000</td>\n",
       "      <td>61.00</td>\n",
       "      <td>2017-02-26</td>\n",
       "      <td>3</td>\n",
       "      <td>2.50</td>\n",
       "      <td>9.0</td>\n",
       "      <td>43.600000</td>\n",
       "      <td>7</td>\n",
       "      <td>NaN</td>\n",
       "      <td>False</td>\n",
       "      <td>False</td>\n",
       "      <td>6.500000</td>\n",
       "      <td>2.0</td>\n",
       "      <td>санкт-петербург</td>\n",
       "      <td>50898.0</td>\n",
       "      <td>15008.0</td>\n",
       "      <td>0.0</td>\n",
       "      <td>NaN</td>\n",
       "      <td>0.0</td>\n",
       "      <td>NaN</td>\n",
       "      <td>289</td>\n",
       "      <td>0.714754</td>\n",
       "      <td>0.106557</td>\n",
       "    </tr>\n",
       "  </tbody>\n",
       "</table>\n",
       "</div>"
      ],
      "text/plain": [
       "   total_images  last_price  total_area first_day_exposition  rooms  \\\n",
       "0            20    13000000      108.00           2019-03-07      3   \n",
       "1             7     3350000       40.40           2018-12-04      1   \n",
       "2            10     5196000       56.00           2015-08-20      2   \n",
       "3             0    64900000      159.00           2015-07-24      3   \n",
       "4             2    10000000      100.00           2018-06-19      2   \n",
       "5            10     2890000       30.40           2018-09-10      1   \n",
       "6             6     3700000       37.30           2017-11-02      1   \n",
       "7             5     7915000       71.60           2019-04-18      2   \n",
       "8            20     2900000       33.16           2018-05-23      1   \n",
       "9            18     5400000       61.00           2017-02-26      3   \n",
       "\n",
       "   ceiling_height  floors_total  living_area  floor is_apartment  studio  \\\n",
       "0            2.70          16.0    51.000000      8          NaN   False   \n",
       "1             NaN          11.0    18.600000      1          NaN   False   \n",
       "2             NaN           5.0    34.300000      4          NaN   False   \n",
       "3             NaN          14.0    29.528715      9          NaN   False   \n",
       "4            3.03          14.0    32.000000     13          NaN   False   \n",
       "5             NaN          12.0    14.400000      5          NaN   False   \n",
       "6             NaN          26.0    10.600000      6          NaN   False   \n",
       "7             NaN          24.0    29.528715     22          NaN   False   \n",
       "8             NaN          27.0    15.430000     26          NaN   False   \n",
       "9            2.50           9.0    43.600000      7          NaN   False   \n",
       "\n",
       "   open_plan  kitchen_area  balcony              locality_name  \\\n",
       "0      False     25.000000      NaN            санкт-петербург   \n",
       "1      False     11.000000      2.0             поселок шушары   \n",
       "2      False      8.300000      0.0            санкт-петербург   \n",
       "3      False      8.965517      0.0            санкт-петербург   \n",
       "4      False     41.000000      NaN            санкт-петербург   \n",
       "5      False      9.100000      NaN  городской поселок янино-1   \n",
       "6      False     14.400000      1.0          поселок парголово   \n",
       "7      False     18.900000      2.0            санкт-петербург   \n",
       "8      False      8.810000      NaN             поселок мурино   \n",
       "9      False      6.500000      2.0            санкт-петербург   \n",
       "\n",
       "   airports_nearest  cityCenters_nearest  parks_around3000  parks_nearest  \\\n",
       "0           18863.0              16028.0               1.0          482.0   \n",
       "1           12817.0              18603.0               0.0            NaN   \n",
       "2           21741.0              13933.0               1.0           90.0   \n",
       "3           28098.0               6800.0               2.0           84.0   \n",
       "4           31856.0               8098.0               2.0          112.0   \n",
       "5               NaN              13098.5               NaN            NaN   \n",
       "6           52996.0              19143.0               0.0            NaN   \n",
       "7           23982.0              11634.0               0.0            NaN   \n",
       "8               NaN              13098.5               NaN            NaN   \n",
       "9           50898.0              15008.0               0.0            NaN   \n",
       "\n",
       "   ponds_around3000  ponds_nearest  days_exposition  avg_living_area  \\\n",
       "0               2.0          755.0                0         0.472222   \n",
       "1               0.0            NaN               81         0.460396   \n",
       "2               2.0          574.0              558         0.612500   \n",
       "3               3.0          234.0              424              NaN   \n",
       "4               1.0           48.0              121         0.320000   \n",
       "5               NaN            NaN               55         0.473684   \n",
       "6               0.0            NaN              155         0.284182   \n",
       "7               0.0            NaN                0              NaN   \n",
       "8               NaN            NaN              189         0.465320   \n",
       "9               0.0            NaN              289         0.714754   \n",
       "\n",
       "   avg_kitchen_area  \n",
       "0          0.231481  \n",
       "1          0.272277  \n",
       "2          0.148214  \n",
       "3               NaN  \n",
       "4          0.410000  \n",
       "5          0.299342  \n",
       "6          0.386059  \n",
       "7          0.263966  \n",
       "8          0.265682  \n",
       "9          0.106557  "
      ]
     },
     "execution_count": 21,
     "metadata": {},
     "output_type": "execute_result"
    }
   ],
   "source": [
    "data.head(10)"
   ]
  },
  {
   "cell_type": "code",
   "execution_count": 22,
   "metadata": {},
   "outputs": [
    {
     "data": {
      "text/html": [
       "<div>\n",
       "<style scoped>\n",
       "    .dataframe tbody tr th:only-of-type {\n",
       "        vertical-align: middle;\n",
       "    }\n",
       "\n",
       "    .dataframe tbody tr th {\n",
       "        vertical-align: top;\n",
       "    }\n",
       "\n",
       "    .dataframe thead th {\n",
       "        text-align: right;\n",
       "    }\n",
       "</style>\n",
       "<table border=\"1\" class=\"dataframe\">\n",
       "  <thead>\n",
       "    <tr style=\"text-align: right;\">\n",
       "      <th></th>\n",
       "      <th>total_images</th>\n",
       "      <th>last_price</th>\n",
       "      <th>total_area</th>\n",
       "      <th>first_day_exposition</th>\n",
       "      <th>rooms</th>\n",
       "      <th>ceiling_height</th>\n",
       "      <th>floors_total</th>\n",
       "      <th>living_area</th>\n",
       "      <th>floor</th>\n",
       "      <th>is_apartment</th>\n",
       "      <th>studio</th>\n",
       "      <th>open_plan</th>\n",
       "      <th>kitchen_area</th>\n",
       "      <th>balcony</th>\n",
       "      <th>locality_name</th>\n",
       "      <th>airports_nearest</th>\n",
       "      <th>cityCenters_nearest</th>\n",
       "      <th>parks_around3000</th>\n",
       "      <th>parks_nearest</th>\n",
       "      <th>ponds_around3000</th>\n",
       "      <th>ponds_nearest</th>\n",
       "      <th>days_exposition</th>\n",
       "      <th>avg_living_area</th>\n",
       "      <th>avg_kitchen_area</th>\n",
       "      <th>cost_metr</th>\n",
       "      <th>weekday_expos</th>\n",
       "      <th>month_expos</th>\n",
       "      <th>year_expos</th>\n",
       "    </tr>\n",
       "  </thead>\n",
       "  <tbody>\n",
       "    <tr>\n",
       "      <th>0</th>\n",
       "      <td>20</td>\n",
       "      <td>13000000</td>\n",
       "      <td>108.00</td>\n",
       "      <td>2019-03-07</td>\n",
       "      <td>3</td>\n",
       "      <td>2.70</td>\n",
       "      <td>16.0</td>\n",
       "      <td>51.000000</td>\n",
       "      <td>8</td>\n",
       "      <td>NaN</td>\n",
       "      <td>False</td>\n",
       "      <td>False</td>\n",
       "      <td>25.000000</td>\n",
       "      <td>NaN</td>\n",
       "      <td>санкт-петербург</td>\n",
       "      <td>18863.0</td>\n",
       "      <td>16028.0</td>\n",
       "      <td>1.0</td>\n",
       "      <td>482.0</td>\n",
       "      <td>2.0</td>\n",
       "      <td>755.0</td>\n",
       "      <td>0</td>\n",
       "      <td>0.472222</td>\n",
       "      <td>0.231481</td>\n",
       "      <td>120370.37</td>\n",
       "      <td>3</td>\n",
       "      <td>3</td>\n",
       "      <td>2019</td>\n",
       "    </tr>\n",
       "    <tr>\n",
       "      <th>1</th>\n",
       "      <td>7</td>\n",
       "      <td>3350000</td>\n",
       "      <td>40.40</td>\n",
       "      <td>2018-12-04</td>\n",
       "      <td>1</td>\n",
       "      <td>NaN</td>\n",
       "      <td>11.0</td>\n",
       "      <td>18.600000</td>\n",
       "      <td>1</td>\n",
       "      <td>NaN</td>\n",
       "      <td>False</td>\n",
       "      <td>False</td>\n",
       "      <td>11.000000</td>\n",
       "      <td>2.0</td>\n",
       "      <td>поселок шушары</td>\n",
       "      <td>12817.0</td>\n",
       "      <td>18603.0</td>\n",
       "      <td>0.0</td>\n",
       "      <td>NaN</td>\n",
       "      <td>0.0</td>\n",
       "      <td>NaN</td>\n",
       "      <td>81</td>\n",
       "      <td>0.460396</td>\n",
       "      <td>0.272277</td>\n",
       "      <td>82920.79</td>\n",
       "      <td>1</td>\n",
       "      <td>12</td>\n",
       "      <td>2018</td>\n",
       "    </tr>\n",
       "    <tr>\n",
       "      <th>2</th>\n",
       "      <td>10</td>\n",
       "      <td>5196000</td>\n",
       "      <td>56.00</td>\n",
       "      <td>2015-08-20</td>\n",
       "      <td>2</td>\n",
       "      <td>NaN</td>\n",
       "      <td>5.0</td>\n",
       "      <td>34.300000</td>\n",
       "      <td>4</td>\n",
       "      <td>NaN</td>\n",
       "      <td>False</td>\n",
       "      <td>False</td>\n",
       "      <td>8.300000</td>\n",
       "      <td>0.0</td>\n",
       "      <td>санкт-петербург</td>\n",
       "      <td>21741.0</td>\n",
       "      <td>13933.0</td>\n",
       "      <td>1.0</td>\n",
       "      <td>90.0</td>\n",
       "      <td>2.0</td>\n",
       "      <td>574.0</td>\n",
       "      <td>558</td>\n",
       "      <td>0.612500</td>\n",
       "      <td>0.148214</td>\n",
       "      <td>92785.71</td>\n",
       "      <td>3</td>\n",
       "      <td>8</td>\n",
       "      <td>2015</td>\n",
       "    </tr>\n",
       "    <tr>\n",
       "      <th>3</th>\n",
       "      <td>0</td>\n",
       "      <td>64900000</td>\n",
       "      <td>159.00</td>\n",
       "      <td>2015-07-24</td>\n",
       "      <td>3</td>\n",
       "      <td>NaN</td>\n",
       "      <td>14.0</td>\n",
       "      <td>29.528715</td>\n",
       "      <td>9</td>\n",
       "      <td>NaN</td>\n",
       "      <td>False</td>\n",
       "      <td>False</td>\n",
       "      <td>8.965517</td>\n",
       "      <td>0.0</td>\n",
       "      <td>санкт-петербург</td>\n",
       "      <td>28098.0</td>\n",
       "      <td>6800.0</td>\n",
       "      <td>2.0</td>\n",
       "      <td>84.0</td>\n",
       "      <td>3.0</td>\n",
       "      <td>234.0</td>\n",
       "      <td>424</td>\n",
       "      <td>NaN</td>\n",
       "      <td>NaN</td>\n",
       "      <td>408176.10</td>\n",
       "      <td>4</td>\n",
       "      <td>7</td>\n",
       "      <td>2015</td>\n",
       "    </tr>\n",
       "    <tr>\n",
       "      <th>4</th>\n",
       "      <td>2</td>\n",
       "      <td>10000000</td>\n",
       "      <td>100.00</td>\n",
       "      <td>2018-06-19</td>\n",
       "      <td>2</td>\n",
       "      <td>3.03</td>\n",
       "      <td>14.0</td>\n",
       "      <td>32.000000</td>\n",
       "      <td>13</td>\n",
       "      <td>NaN</td>\n",
       "      <td>False</td>\n",
       "      <td>False</td>\n",
       "      <td>41.000000</td>\n",
       "      <td>NaN</td>\n",
       "      <td>санкт-петербург</td>\n",
       "      <td>31856.0</td>\n",
       "      <td>8098.0</td>\n",
       "      <td>2.0</td>\n",
       "      <td>112.0</td>\n",
       "      <td>1.0</td>\n",
       "      <td>48.0</td>\n",
       "      <td>121</td>\n",
       "      <td>0.320000</td>\n",
       "      <td>0.410000</td>\n",
       "      <td>100000.00</td>\n",
       "      <td>1</td>\n",
       "      <td>6</td>\n",
       "      <td>2018</td>\n",
       "    </tr>\n",
       "    <tr>\n",
       "      <th>5</th>\n",
       "      <td>10</td>\n",
       "      <td>2890000</td>\n",
       "      <td>30.40</td>\n",
       "      <td>2018-09-10</td>\n",
       "      <td>1</td>\n",
       "      <td>NaN</td>\n",
       "      <td>12.0</td>\n",
       "      <td>14.400000</td>\n",
       "      <td>5</td>\n",
       "      <td>NaN</td>\n",
       "      <td>False</td>\n",
       "      <td>False</td>\n",
       "      <td>9.100000</td>\n",
       "      <td>NaN</td>\n",
       "      <td>городской поселок янино-1</td>\n",
       "      <td>NaN</td>\n",
       "      <td>13098.5</td>\n",
       "      <td>NaN</td>\n",
       "      <td>NaN</td>\n",
       "      <td>NaN</td>\n",
       "      <td>NaN</td>\n",
       "      <td>55</td>\n",
       "      <td>0.473684</td>\n",
       "      <td>0.299342</td>\n",
       "      <td>95065.79</td>\n",
       "      <td>0</td>\n",
       "      <td>9</td>\n",
       "      <td>2018</td>\n",
       "    </tr>\n",
       "    <tr>\n",
       "      <th>6</th>\n",
       "      <td>6</td>\n",
       "      <td>3700000</td>\n",
       "      <td>37.30</td>\n",
       "      <td>2017-11-02</td>\n",
       "      <td>1</td>\n",
       "      <td>NaN</td>\n",
       "      <td>26.0</td>\n",
       "      <td>10.600000</td>\n",
       "      <td>6</td>\n",
       "      <td>NaN</td>\n",
       "      <td>False</td>\n",
       "      <td>False</td>\n",
       "      <td>14.400000</td>\n",
       "      <td>1.0</td>\n",
       "      <td>поселок парголово</td>\n",
       "      <td>52996.0</td>\n",
       "      <td>19143.0</td>\n",
       "      <td>0.0</td>\n",
       "      <td>NaN</td>\n",
       "      <td>0.0</td>\n",
       "      <td>NaN</td>\n",
       "      <td>155</td>\n",
       "      <td>0.284182</td>\n",
       "      <td>0.386059</td>\n",
       "      <td>99195.71</td>\n",
       "      <td>3</td>\n",
       "      <td>11</td>\n",
       "      <td>2017</td>\n",
       "    </tr>\n",
       "    <tr>\n",
       "      <th>7</th>\n",
       "      <td>5</td>\n",
       "      <td>7915000</td>\n",
       "      <td>71.60</td>\n",
       "      <td>2019-04-18</td>\n",
       "      <td>2</td>\n",
       "      <td>NaN</td>\n",
       "      <td>24.0</td>\n",
       "      <td>29.528715</td>\n",
       "      <td>22</td>\n",
       "      <td>NaN</td>\n",
       "      <td>False</td>\n",
       "      <td>False</td>\n",
       "      <td>18.900000</td>\n",
       "      <td>2.0</td>\n",
       "      <td>санкт-петербург</td>\n",
       "      <td>23982.0</td>\n",
       "      <td>11634.0</td>\n",
       "      <td>0.0</td>\n",
       "      <td>NaN</td>\n",
       "      <td>0.0</td>\n",
       "      <td>NaN</td>\n",
       "      <td>0</td>\n",
       "      <td>NaN</td>\n",
       "      <td>0.263966</td>\n",
       "      <td>110544.69</td>\n",
       "      <td>3</td>\n",
       "      <td>4</td>\n",
       "      <td>2019</td>\n",
       "    </tr>\n",
       "    <tr>\n",
       "      <th>8</th>\n",
       "      <td>20</td>\n",
       "      <td>2900000</td>\n",
       "      <td>33.16</td>\n",
       "      <td>2018-05-23</td>\n",
       "      <td>1</td>\n",
       "      <td>NaN</td>\n",
       "      <td>27.0</td>\n",
       "      <td>15.430000</td>\n",
       "      <td>26</td>\n",
       "      <td>NaN</td>\n",
       "      <td>False</td>\n",
       "      <td>False</td>\n",
       "      <td>8.810000</td>\n",
       "      <td>NaN</td>\n",
       "      <td>поселок мурино</td>\n",
       "      <td>NaN</td>\n",
       "      <td>13098.5</td>\n",
       "      <td>NaN</td>\n",
       "      <td>NaN</td>\n",
       "      <td>NaN</td>\n",
       "      <td>NaN</td>\n",
       "      <td>189</td>\n",
       "      <td>0.465320</td>\n",
       "      <td>0.265682</td>\n",
       "      <td>87454.76</td>\n",
       "      <td>2</td>\n",
       "      <td>5</td>\n",
       "      <td>2018</td>\n",
       "    </tr>\n",
       "    <tr>\n",
       "      <th>9</th>\n",
       "      <td>18</td>\n",
       "      <td>5400000</td>\n",
       "      <td>61.00</td>\n",
       "      <td>2017-02-26</td>\n",
       "      <td>3</td>\n",
       "      <td>2.50</td>\n",
       "      <td>9.0</td>\n",
       "      <td>43.600000</td>\n",
       "      <td>7</td>\n",
       "      <td>NaN</td>\n",
       "      <td>False</td>\n",
       "      <td>False</td>\n",
       "      <td>6.500000</td>\n",
       "      <td>2.0</td>\n",
       "      <td>санкт-петербург</td>\n",
       "      <td>50898.0</td>\n",
       "      <td>15008.0</td>\n",
       "      <td>0.0</td>\n",
       "      <td>NaN</td>\n",
       "      <td>0.0</td>\n",
       "      <td>NaN</td>\n",
       "      <td>289</td>\n",
       "      <td>0.714754</td>\n",
       "      <td>0.106557</td>\n",
       "      <td>88524.59</td>\n",
       "      <td>6</td>\n",
       "      <td>2</td>\n",
       "      <td>2017</td>\n",
       "    </tr>\n",
       "  </tbody>\n",
       "</table>\n",
       "</div>"
      ],
      "text/plain": [
       "   total_images  last_price  total_area first_day_exposition  rooms  \\\n",
       "0            20    13000000      108.00           2019-03-07      3   \n",
       "1             7     3350000       40.40           2018-12-04      1   \n",
       "2            10     5196000       56.00           2015-08-20      2   \n",
       "3             0    64900000      159.00           2015-07-24      3   \n",
       "4             2    10000000      100.00           2018-06-19      2   \n",
       "5            10     2890000       30.40           2018-09-10      1   \n",
       "6             6     3700000       37.30           2017-11-02      1   \n",
       "7             5     7915000       71.60           2019-04-18      2   \n",
       "8            20     2900000       33.16           2018-05-23      1   \n",
       "9            18     5400000       61.00           2017-02-26      3   \n",
       "\n",
       "   ceiling_height  floors_total  living_area  floor is_apartment  studio  \\\n",
       "0            2.70          16.0    51.000000      8          NaN   False   \n",
       "1             NaN          11.0    18.600000      1          NaN   False   \n",
       "2             NaN           5.0    34.300000      4          NaN   False   \n",
       "3             NaN          14.0    29.528715      9          NaN   False   \n",
       "4            3.03          14.0    32.000000     13          NaN   False   \n",
       "5             NaN          12.0    14.400000      5          NaN   False   \n",
       "6             NaN          26.0    10.600000      6          NaN   False   \n",
       "7             NaN          24.0    29.528715     22          NaN   False   \n",
       "8             NaN          27.0    15.430000     26          NaN   False   \n",
       "9            2.50           9.0    43.600000      7          NaN   False   \n",
       "\n",
       "   open_plan  kitchen_area  balcony              locality_name  \\\n",
       "0      False     25.000000      NaN            санкт-петербург   \n",
       "1      False     11.000000      2.0             поселок шушары   \n",
       "2      False      8.300000      0.0            санкт-петербург   \n",
       "3      False      8.965517      0.0            санкт-петербург   \n",
       "4      False     41.000000      NaN            санкт-петербург   \n",
       "5      False      9.100000      NaN  городской поселок янино-1   \n",
       "6      False     14.400000      1.0          поселок парголово   \n",
       "7      False     18.900000      2.0            санкт-петербург   \n",
       "8      False      8.810000      NaN             поселок мурино   \n",
       "9      False      6.500000      2.0            санкт-петербург   \n",
       "\n",
       "   airports_nearest  cityCenters_nearest  parks_around3000  parks_nearest  \\\n",
       "0           18863.0              16028.0               1.0          482.0   \n",
       "1           12817.0              18603.0               0.0            NaN   \n",
       "2           21741.0              13933.0               1.0           90.0   \n",
       "3           28098.0               6800.0               2.0           84.0   \n",
       "4           31856.0               8098.0               2.0          112.0   \n",
       "5               NaN              13098.5               NaN            NaN   \n",
       "6           52996.0              19143.0               0.0            NaN   \n",
       "7           23982.0              11634.0               0.0            NaN   \n",
       "8               NaN              13098.5               NaN            NaN   \n",
       "9           50898.0              15008.0               0.0            NaN   \n",
       "\n",
       "   ponds_around3000  ponds_nearest  days_exposition  avg_living_area  \\\n",
       "0               2.0          755.0                0         0.472222   \n",
       "1               0.0            NaN               81         0.460396   \n",
       "2               2.0          574.0              558         0.612500   \n",
       "3               3.0          234.0              424              NaN   \n",
       "4               1.0           48.0              121         0.320000   \n",
       "5               NaN            NaN               55         0.473684   \n",
       "6               0.0            NaN              155         0.284182   \n",
       "7               0.0            NaN                0              NaN   \n",
       "8               NaN            NaN              189         0.465320   \n",
       "9               0.0            NaN              289         0.714754   \n",
       "\n",
       "   avg_kitchen_area  cost_metr  weekday_expos  month_expos  year_expos  \n",
       "0          0.231481  120370.37              3            3        2019  \n",
       "1          0.272277   82920.79              1           12        2018  \n",
       "2          0.148214   92785.71              3            8        2015  \n",
       "3               NaN  408176.10              4            7        2015  \n",
       "4          0.410000  100000.00              1            6        2018  \n",
       "5          0.299342   95065.79              0            9        2018  \n",
       "6          0.386059   99195.71              3           11        2017  \n",
       "7          0.263966  110544.69              3            4        2019  \n",
       "8          0.265682   87454.76              2            5        2018  \n",
       "9          0.106557   88524.59              6            2        2017  "
      ]
     },
     "execution_count": 22,
     "metadata": {},
     "output_type": "execute_result"
    }
   ],
   "source": [
    "data['cost_metr'] = data['last_price']/data['total_area']\n",
    "data['cost_metr'] = data['cost_metr'].round(2)\n",
    "data['weekday_expos'] = data['first_day_exposition'].dt.weekday\n",
    "data['month_expos'] = data['first_day_exposition'].dt.month\n",
    "data['year_expos'] = data['first_day_exposition'].dt.year \n",
    "data.head(10)"
   ]
  },
  {
   "cell_type": "markdown",
   "metadata": {},
   "source": [
    "В результате добавили столбцы стоимости квадратного метра; дня,месяца,года публикации объявления в соответствии с заданием."
   ]
  },
  {
   "cell_type": "code",
   "execution_count": 23,
   "metadata": {},
   "outputs": [],
   "source": [
    "def f_c(row):\n",
    "    floors_total = row['floors_total']\n",
    "    floor = row['floor']\n",
    "    if floor == 1:\n",
    "        return 'первый'\n",
    "    elif floor == floors_total:\n",
    "        return 'последний'\n",
    "    elif 1 < floor < floors_total:\n",
    "        return 'другой'\n",
    "data['floor_category'] = data.apply(f_c, axis=1)"
   ]
  },
  {
   "cell_type": "code",
   "execution_count": 24,
   "metadata": {},
   "outputs": [
    {
     "name": "stdout",
     "output_type": "stream",
     "text": [
      "['другой' 'первый' 'последний' None]\n"
     ]
    },
    {
     "data": {
      "text/plain": [
       "23575    первый\n",
       "6761     первый\n",
       "9867     другой\n",
       "6618     другой\n",
       "3110     другой\n",
       "9580     другой\n",
       "23375    другой\n",
       "22649    другой\n",
       "18856    другой\n",
       "14821    другой\n",
       "Name: floor_category, dtype: object"
      ]
     },
     "execution_count": 24,
     "metadata": {},
     "output_type": "execute_result"
    }
   ],
   "source": [
    "print(data['floor_category'].unique())\n",
    "data['floor_category'].sample(10)"
   ]
  },
  {
   "cell_type": "markdown",
   "metadata": {},
   "source": [
    "Добавил категоризацию по этажу дома в соотвествии с заданием."
   ]
  },
  {
   "cell_type": "code",
   "execution_count": 25,
   "metadata": {},
   "outputs": [
    {
     "name": "stdout",
     "output_type": "stream",
     "text": [
      "0    17\n",
      "1    19\n",
      "2    14\n",
      "3     7\n",
      "4     9\n",
      "5    14\n",
      "6    20\n",
      "7    12\n",
      "8    14\n",
      "9    16\n",
      "Name: center_km, dtype: int64\n"
     ]
    },
    {
     "data": {
      "text/plain": [
       "count    23699.000000\n",
       "mean        14.532807\n",
       "std          7.547753\n",
       "min          1.000000\n",
       "25%         11.000000\n",
       "50%         14.000000\n",
       "75%         16.000000\n",
       "max         66.000000\n",
       "Name: center_km, dtype: float64"
      ]
     },
     "execution_count": 25,
     "metadata": {},
     "output_type": "execute_result"
    }
   ],
   "source": [
    "data['center_km'] = data['cityCenters_nearest']/1000\n",
    "data['center_km'] = data['center_km'].apply(lambda x: math.ceil(x))\n",
    "print (data['center_km'].head(10))\n",
    "data['center_km'].describe()"
   ]
  },
  {
   "cell_type": "markdown",
   "metadata": {},
   "source": [
    "Расстояние до центра города в километрах (переведите из м в км и округлите до ближайших целых значений) - Готово, сохранил тип данных float."
   ]
  },
  {
   "cell_type": "markdown",
   "metadata": {
    "id": "pPyxrKWTAwb-"
   },
   "source": [
    "### Проведите исследовательский анализ данных"
   ]
  },
  {
   "cell_type": "markdown",
   "metadata": {
    "id": "V2f0D3kLAwb-"
   },
   "source": [
    "#### Изучим перечисленные ниже параметры объектов:"
   ]
  },
  {
   "cell_type": "code",
   "execution_count": 26,
   "metadata": {},
   "outputs": [
    {
     "data": {
      "text/html": [
       "<div>\n",
       "<style scoped>\n",
       "    .dataframe tbody tr th:only-of-type {\n",
       "        vertical-align: middle;\n",
       "    }\n",
       "\n",
       "    .dataframe tbody tr th {\n",
       "        vertical-align: top;\n",
       "    }\n",
       "\n",
       "    .dataframe thead th {\n",
       "        text-align: right;\n",
       "    }\n",
       "</style>\n",
       "<table border=\"1\" class=\"dataframe\">\n",
       "  <thead>\n",
       "    <tr style=\"text-align: right;\">\n",
       "      <th></th>\n",
       "      <th>total_notes</th>\n",
       "      <th>median_total_area</th>\n",
       "    </tr>\n",
       "    <tr>\n",
       "      <th>locality_name</th>\n",
       "      <th></th>\n",
       "      <th></th>\n",
       "    </tr>\n",
       "  </thead>\n",
       "  <tbody>\n",
       "    <tr>\n",
       "      <th>санкт-петербург</th>\n",
       "      <td>15721</td>\n",
       "      <td>55.00</td>\n",
       "    </tr>\n",
       "    <tr>\n",
       "      <th>поселок мурино</th>\n",
       "      <td>556</td>\n",
       "      <td>37.40</td>\n",
       "    </tr>\n",
       "    <tr>\n",
       "      <th>поселок шушары</th>\n",
       "      <td>440</td>\n",
       "      <td>50.10</td>\n",
       "    </tr>\n",
       "    <tr>\n",
       "      <th>всеволожск</th>\n",
       "      <td>398</td>\n",
       "      <td>53.55</td>\n",
       "    </tr>\n",
       "    <tr>\n",
       "      <th>пушкин</th>\n",
       "      <td>369</td>\n",
       "      <td>53.20</td>\n",
       "    </tr>\n",
       "    <tr>\n",
       "      <th>колпино</th>\n",
       "      <td>338</td>\n",
       "      <td>50.00</td>\n",
       "    </tr>\n",
       "    <tr>\n",
       "      <th>поселок парголово</th>\n",
       "      <td>327</td>\n",
       "      <td>43.00</td>\n",
       "    </tr>\n",
       "    <tr>\n",
       "      <th>гатчина</th>\n",
       "      <td>307</td>\n",
       "      <td>45.00</td>\n",
       "    </tr>\n",
       "    <tr>\n",
       "      <th>деревня кудрово</th>\n",
       "      <td>299</td>\n",
       "      <td>39.90</td>\n",
       "    </tr>\n",
       "    <tr>\n",
       "      <th>выборг</th>\n",
       "      <td>237</td>\n",
       "      <td>50.20</td>\n",
       "    </tr>\n",
       "  </tbody>\n",
       "</table>\n",
       "</div>"
      ],
      "text/plain": [
       "                   total_notes  median_total_area\n",
       "locality_name                                    \n",
       "санкт-петербург          15721              55.00\n",
       "поселок мурино             556              37.40\n",
       "поселок шушары             440              50.10\n",
       "всеволожск                 398              53.55\n",
       "пушкин                     369              53.20\n",
       "колпино                    338              50.00\n",
       "поселок парголово          327              43.00\n",
       "гатчина                    307              45.00\n",
       "деревня кудрово            299              39.90\n",
       "выборг                     237              50.20"
      ]
     },
     "execution_count": 26,
     "metadata": {},
     "output_type": "execute_result"
    }
   ],
   "source": [
    "t_a_pivot = data.pivot_table(\n",
    "    index = 'locality_name', values='total_area', aggfunc=('median','count')\n",
    ").sort_values(by='count',ascending=False\n",
    ")\n",
    "t_a_pivot.columns = ['total_notes', 'median_total_area']\n",
    "t_a_pivot.head(10)"
   ]
  },
  {
   "cell_type": "markdown",
   "metadata": {},
   "source": [
    "Наибольшее число объявлений квартир собралось в Санкт-Петербурге, здесь медианная площадь выше всего."
   ]
  },
  {
   "cell_type": "code",
   "execution_count": 63,
   "metadata": {},
   "outputs": [
    {
     "data": {
      "text/plain": [
       "<AxesSubplot:title={'center':'Общая площадь'}, ylabel='Frequency'>"
      ]
     },
     "execution_count": 63,
     "metadata": {},
     "output_type": "execute_result"
    },
    {
     "data": {
      "image/png": "[encoded data removed]",
      "text/plain": [
       "<Figure size 576x360 with 1 Axes>"
      ]
     },
     "metadata": {
      "needs_background": "light"
     },
     "output_type": "display_data"
    }
   ],
   "source": [
    "data.plot(title='Общая площадь',y='total_area', kind='hist', bins=100,grid=True, figsize=(8,5), range=(0,450), color='green', ec='black')"
   ]
  },
  {
   "cell_type": "markdown",
   "metadata": {},
   "source": [
    "Распределение данных нормальное, выбросы совсем некритичные."
   ]
  },
  {
   "cell_type": "code",
   "execution_count": 28,
   "metadata": {},
   "outputs": [
    {
     "data": {
      "text/html": [
       "<div>\n",
       "<style scoped>\n",
       "    .dataframe tbody tr th:only-of-type {\n",
       "        vertical-align: middle;\n",
       "    }\n",
       "\n",
       "    .dataframe tbody tr th {\n",
       "        vertical-align: top;\n",
       "    }\n",
       "\n",
       "    .dataframe thead th {\n",
       "        text-align: right;\n",
       "    }\n",
       "</style>\n",
       "<table border=\"1\" class=\"dataframe\">\n",
       "  <thead>\n",
       "    <tr style=\"text-align: right;\">\n",
       "      <th></th>\n",
       "      <th>total_notes</th>\n",
       "      <th>median_living_area</th>\n",
       "    </tr>\n",
       "    <tr>\n",
       "      <th>locality_name</th>\n",
       "      <th></th>\n",
       "      <th></th>\n",
       "    </tr>\n",
       "  </thead>\n",
       "  <tbody>\n",
       "    <tr>\n",
       "      <th>санкт-петербург</th>\n",
       "      <td>15721</td>\n",
       "      <td>30.100000</td>\n",
       "    </tr>\n",
       "    <tr>\n",
       "      <th>поселок мурино</th>\n",
       "      <td>556</td>\n",
       "      <td>18.000000</td>\n",
       "    </tr>\n",
       "    <tr>\n",
       "      <th>поселок шушары</th>\n",
       "      <td>440</td>\n",
       "      <td>29.528715</td>\n",
       "    </tr>\n",
       "    <tr>\n",
       "      <th>всеволожск</th>\n",
       "      <td>398</td>\n",
       "      <td>29.528715</td>\n",
       "    </tr>\n",
       "    <tr>\n",
       "      <th>пушкин</th>\n",
       "      <td>369</td>\n",
       "      <td>29.528715</td>\n",
       "    </tr>\n",
       "    <tr>\n",
       "      <th>колпино</th>\n",
       "      <td>338</td>\n",
       "      <td>29.528715</td>\n",
       "    </tr>\n",
       "    <tr>\n",
       "      <th>поселок парголово</th>\n",
       "      <td>327</td>\n",
       "      <td>19.000000</td>\n",
       "    </tr>\n",
       "    <tr>\n",
       "      <th>гатчина</th>\n",
       "      <td>307</td>\n",
       "      <td>29.528715</td>\n",
       "    </tr>\n",
       "    <tr>\n",
       "      <th>деревня кудрово</th>\n",
       "      <td>299</td>\n",
       "      <td>18.500000</td>\n",
       "    </tr>\n",
       "    <tr>\n",
       "      <th>выборг</th>\n",
       "      <td>237</td>\n",
       "      <td>29.528715</td>\n",
       "    </tr>\n",
       "  </tbody>\n",
       "</table>\n",
       "</div>"
      ],
      "text/plain": [
       "                   total_notes  median_living_area\n",
       "locality_name                                     \n",
       "санкт-петербург          15721           30.100000\n",
       "поселок мурино             556           18.000000\n",
       "поселок шушары             440           29.528715\n",
       "всеволожск                 398           29.528715\n",
       "пушкин                     369           29.528715\n",
       "колпино                    338           29.528715\n",
       "поселок парголово          327           19.000000\n",
       "гатчина                    307           29.528715\n",
       "деревня кудрово            299           18.500000\n",
       "выборг                     237           29.528715"
      ]
     },
     "execution_count": 28,
     "metadata": {},
     "output_type": "execute_result"
    }
   ],
   "source": [
    "l_a_pivot = data.pivot_table(\n",
    "    index = 'locality_name', values='living_area', aggfunc=('median','count')\n",
    ").sort_values(by='count',ascending=False\n",
    ")\n",
    "l_a_pivot.columns = ['total_notes', 'median_living_area']\n",
    "l_a_pivot.head(10)"
   ]
  },
  {
   "cell_type": "markdown",
   "metadata": {},
   "source": [
    "Рассматривая жилую площадь, в лидерах снова Санкт-Петебург. Пригороды Шушары, Всеволожск и т.д. практически не отстают по медианной площади."
   ]
  },
  {
   "cell_type": "code",
   "execution_count": 64,
   "metadata": {},
   "outputs": [
    {
     "data": {
      "text/plain": [
       "count    23699.000000\n",
       "mean        34.062049\n",
       "std         21.169814\n",
       "min          2.000000\n",
       "25%         19.000000\n",
       "50%         29.528715\n",
       "75%         41.100000\n",
       "max        409.700000\n",
       "Name: living_area, dtype: float64"
      ]
     },
     "execution_count": 64,
     "metadata": {},
     "output_type": "execute_result"
    },
    {
     "data": {
      "image/png": "[encoded data removed]",
      "text/plain": [
       "<Figure size 576x360 with 1 Axes>"
      ]
     },
     "metadata": {
      "needs_background": "light"
     },
     "output_type": "display_data"
    }
   ],
   "source": [
    "data.plot(title='Жилая площадь', y='living_area', kind='hist', bins=100,grid=True, figsize=(8,5), range=(0,300), color='green', ec='black')\n",
    "data['living_area'].describe()"
   ]
  },
  {
   "cell_type": "markdown",
   "metadata": {},
   "source": [
    "Распределение жилой площади уже содержит критичные выбросы, влияющие на распределение, которое стремится к нормальному."
   ]
  },
  {
   "cell_type": "code",
   "execution_count": 30,
   "metadata": {},
   "outputs": [
    {
     "data": {
      "text/html": [
       "<div>\n",
       "<style scoped>\n",
       "    .dataframe tbody tr th:only-of-type {\n",
       "        vertical-align: middle;\n",
       "    }\n",
       "\n",
       "    .dataframe tbody tr th {\n",
       "        vertical-align: top;\n",
       "    }\n",
       "\n",
       "    .dataframe thead th {\n",
       "        text-align: right;\n",
       "    }\n",
       "</style>\n",
       "<table border=\"1\" class=\"dataframe\">\n",
       "  <thead>\n",
       "    <tr style=\"text-align: right;\">\n",
       "      <th></th>\n",
       "      <th>total_notes</th>\n",
       "      <th>median_kitchen_area</th>\n",
       "    </tr>\n",
       "    <tr>\n",
       "      <th>locality_name</th>\n",
       "      <th></th>\n",
       "      <th></th>\n",
       "    </tr>\n",
       "  </thead>\n",
       "  <tbody>\n",
       "    <tr>\n",
       "      <th>деревня пикколово</th>\n",
       "      <td>1</td>\n",
       "      <td>23.600000</td>\n",
       "    </tr>\n",
       "    <tr>\n",
       "      <th>деревня каськово</th>\n",
       "      <td>1</td>\n",
       "      <td>22.000000</td>\n",
       "    </tr>\n",
       "    <tr>\n",
       "      <th>коттеджный поселок кивеннапа север</th>\n",
       "      <td>1</td>\n",
       "      <td>18.000000</td>\n",
       "    </tr>\n",
       "    <tr>\n",
       "      <th>деревня глинка</th>\n",
       "      <td>2</td>\n",
       "      <td>17.250000</td>\n",
       "    </tr>\n",
       "    <tr>\n",
       "      <th>деревня юкки</th>\n",
       "      <td>5</td>\n",
       "      <td>15.000000</td>\n",
       "    </tr>\n",
       "    <tr>\n",
       "      <th>деревня бор</th>\n",
       "      <td>2</td>\n",
       "      <td>13.382759</td>\n",
       "    </tr>\n",
       "    <tr>\n",
       "      <th>садовое товарищество новая ропша</th>\n",
       "      <td>1</td>\n",
       "      <td>13.000000</td>\n",
       "    </tr>\n",
       "    <tr>\n",
       "      <th>деревня кальтино</th>\n",
       "      <td>7</td>\n",
       "      <td>12.760000</td>\n",
       "    </tr>\n",
       "    <tr>\n",
       "      <th>деревня куттузи</th>\n",
       "      <td>7</td>\n",
       "      <td>12.500000</td>\n",
       "    </tr>\n",
       "    <tr>\n",
       "      <th>деревня аро</th>\n",
       "      <td>3</td>\n",
       "      <td>12.500000</td>\n",
       "    </tr>\n",
       "  </tbody>\n",
       "</table>\n",
       "</div>"
      ],
      "text/plain": [
       "                                    total_notes  median_kitchen_area\n",
       "locality_name                                                       \n",
       "деревня пикколово                             1            23.600000\n",
       "деревня каськово                              1            22.000000\n",
       "коттеджный поселок кивеннапа север            1            18.000000\n",
       "деревня глинка                                2            17.250000\n",
       "деревня юкки                                  5            15.000000\n",
       "деревня бор                                   2            13.382759\n",
       "садовое товарищество новая ропша              1            13.000000\n",
       "деревня кальтино                              7            12.760000\n",
       "деревня куттузи                               7            12.500000\n",
       "деревня аро                                   3            12.500000"
      ]
     },
     "execution_count": 30,
     "metadata": {},
     "output_type": "execute_result"
    }
   ],
   "source": [
    "k_a_pivot = data.pivot_table(\n",
    "    index = 'locality_name', values='kitchen_area', aggfunc=('median','count')\n",
    ").sort_values(by='median',ascending=False\n",
    ")\n",
    "k_a_pivot.columns = ['total_notes', 'median_kitchen_area']\n",
    "k_a_pivot.head(10)"
   ]
  },
  {
   "cell_type": "markdown",
   "metadata": {},
   "source": [
    "В Санкт-Петербурге кухни не такие уж и большие :)"
   ]
  },
  {
   "cell_type": "code",
   "execution_count": 65,
   "metadata": {},
   "outputs": [
    {
     "data": {
      "text/plain": [
       "count    23699.000000\n",
       "mean        10.415599\n",
       "std          5.634314\n",
       "min          1.300000\n",
       "25%          7.400000\n",
       "50%          9.000000\n",
       "75%         11.440000\n",
       "max        112.000000\n",
       "Name: kitchen_area, dtype: float64"
      ]
     },
     "execution_count": 65,
     "metadata": {},
     "output_type": "execute_result"
    },
    {
     "data": {
      "image/png": "[encoded data removed]",
      "text/plain": [
       "<Figure size 576x360 with 1 Axes>"
      ]
     },
     "metadata": {
      "needs_background": "light"
     },
     "output_type": "display_data"
    }
   ],
   "source": [
    "data.plot(title='Кухонная площадь', y='kitchen_area', kind='hist', bins=100,grid=True, figsize=(8,5), range=(0,60), color='green', ec='black')\n",
    "data['kitchen_area'].describe()"
   ]
  },
  {
   "cell_type": "markdown",
   "metadata": {},
   "source": [
    "В данных присутствую аномалии типа 1м.кв. согласно графику площадь стоит анализировать ориентировочно с 5ти кв.м., что возможно в реальности. Но в целом, распределение стремится к нормальному. "
   ]
  },
  {
   "cell_type": "code",
   "execution_count": 32,
   "metadata": {},
   "outputs": [
    {
     "data": {
      "text/html": [
       "<div>\n",
       "<style scoped>\n",
       "    .dataframe tbody tr th:only-of-type {\n",
       "        vertical-align: middle;\n",
       "    }\n",
       "\n",
       "    .dataframe tbody tr th {\n",
       "        vertical-align: top;\n",
       "    }\n",
       "\n",
       "    .dataframe thead th {\n",
       "        text-align: right;\n",
       "    }\n",
       "</style>\n",
       "<table border=\"1\" class=\"dataframe\">\n",
       "  <thead>\n",
       "    <tr style=\"text-align: right;\">\n",
       "      <th></th>\n",
       "      <th>total_notes</th>\n",
       "      <th>median_last_price</th>\n",
       "    </tr>\n",
       "    <tr>\n",
       "      <th>locality_name</th>\n",
       "      <th></th>\n",
       "      <th></th>\n",
       "    </tr>\n",
       "  </thead>\n",
       "  <tbody>\n",
       "    <tr>\n",
       "      <th>санкт-петербург</th>\n",
       "      <td>15721.0</td>\n",
       "      <td>5500000.0</td>\n",
       "    </tr>\n",
       "    <tr>\n",
       "      <th>поселок мурино</th>\n",
       "      <td>556.0</td>\n",
       "      <td>3400000.0</td>\n",
       "    </tr>\n",
       "    <tr>\n",
       "      <th>поселок шушары</th>\n",
       "      <td>440.0</td>\n",
       "      <td>3950000.0</td>\n",
       "    </tr>\n",
       "    <tr>\n",
       "      <th>всеволожск</th>\n",
       "      <td>398.0</td>\n",
       "      <td>3450000.0</td>\n",
       "    </tr>\n",
       "    <tr>\n",
       "      <th>пушкин</th>\n",
       "      <td>369.0</td>\n",
       "      <td>5180000.0</td>\n",
       "    </tr>\n",
       "    <tr>\n",
       "      <th>колпино</th>\n",
       "      <td>338.0</td>\n",
       "      <td>3600000.0</td>\n",
       "    </tr>\n",
       "    <tr>\n",
       "      <th>поселок парголово</th>\n",
       "      <td>327.0</td>\n",
       "      <td>4100000.0</td>\n",
       "    </tr>\n",
       "    <tr>\n",
       "      <th>гатчина</th>\n",
       "      <td>307.0</td>\n",
       "      <td>3100000.0</td>\n",
       "    </tr>\n",
       "    <tr>\n",
       "      <th>деревня кудрово</th>\n",
       "      <td>299.0</td>\n",
       "      <td>3790000.0</td>\n",
       "    </tr>\n",
       "    <tr>\n",
       "      <th>выборг</th>\n",
       "      <td>237.0</td>\n",
       "      <td>2897000.0</td>\n",
       "    </tr>\n",
       "  </tbody>\n",
       "</table>\n",
       "</div>"
      ],
      "text/plain": [
       "                   total_notes  median_last_price\n",
       "locality_name                                    \n",
       "санкт-петербург        15721.0          5500000.0\n",
       "поселок мурино           556.0          3400000.0\n",
       "поселок шушары           440.0          3950000.0\n",
       "всеволожск               398.0          3450000.0\n",
       "пушкин                   369.0          5180000.0\n",
       "колпино                  338.0          3600000.0\n",
       "поселок парголово        327.0          4100000.0\n",
       "гатчина                  307.0          3100000.0\n",
       "деревня кудрово          299.0          3790000.0\n",
       "выборг                   237.0          2897000.0"
      ]
     },
     "execution_count": 32,
     "metadata": {},
     "output_type": "execute_result"
    }
   ],
   "source": [
    "l_p_pivot = data.pivot_table(\n",
    "    index = 'locality_name', values='last_price', aggfunc=('median','count')\n",
    ").sort_values(by='count',ascending=False\n",
    ")\n",
    "l_p_pivot.columns = ['total_notes', 'median_last_price']\n",
    "l_p_pivot.head(10)"
   ]
  },
  {
   "cell_type": "markdown",
   "metadata": {},
   "source": [
    "Интересно, что средняя стоимость квартир в Пушкине приближена к стоимости в Санкт-Петербурге."
   ]
  },
  {
   "cell_type": "code",
   "execution_count": 66,
   "metadata": {},
   "outputs": [
    {
     "data": {
      "text/plain": [
       "<AxesSubplot:title={'center':'Стоимость'}, ylabel='Frequency'>"
      ]
     },
     "execution_count": 66,
     "metadata": {},
     "output_type": "execute_result"
    },
    {
     "data": {
      "image/png": "[encoded data removed]",
      "text/plain": [
       "<Figure size 576x360 with 1 Axes>"
      ]
     },
     "metadata": {
      "needs_background": "light"
     },
     "output_type": "display_data"
    }
   ],
   "source": [
    "data.plot(title='Стоимость', y='last_price', kind='hist', bins=100, grid=True, range=(0,20000000), figsize=(8,5),color='green', ec='black')"
   ]
  },
  {
   "cell_type": "markdown",
   "metadata": {},
   "source": [
    "Распределение по цене нормальное, с данными все в порядке."
   ]
  },
  {
   "cell_type": "code",
   "execution_count": 34,
   "metadata": {},
   "outputs": [
    {
     "data": {
      "text/html": [
       "<div>\n",
       "<style scoped>\n",
       "    .dataframe tbody tr th:only-of-type {\n",
       "        vertical-align: middle;\n",
       "    }\n",
       "\n",
       "    .dataframe tbody tr th {\n",
       "        vertical-align: top;\n",
       "    }\n",
       "\n",
       "    .dataframe thead th {\n",
       "        text-align: right;\n",
       "    }\n",
       "</style>\n",
       "<table border=\"1\" class=\"dataframe\">\n",
       "  <thead>\n",
       "    <tr style=\"text-align: right;\">\n",
       "      <th></th>\n",
       "      <th>total_notes</th>\n",
       "      <th>rooms</th>\n",
       "    </tr>\n",
       "    <tr>\n",
       "      <th>locality_name</th>\n",
       "      <th></th>\n",
       "      <th></th>\n",
       "    </tr>\n",
       "  </thead>\n",
       "  <tbody>\n",
       "    <tr>\n",
       "      <th>санкт-петербург</th>\n",
       "      <td>15721.0</td>\n",
       "      <td>2.0</td>\n",
       "    </tr>\n",
       "    <tr>\n",
       "      <th>поселок мурино</th>\n",
       "      <td>556.0</td>\n",
       "      <td>1.0</td>\n",
       "    </tr>\n",
       "    <tr>\n",
       "      <th>поселок шушары</th>\n",
       "      <td>440.0</td>\n",
       "      <td>2.0</td>\n",
       "    </tr>\n",
       "    <tr>\n",
       "      <th>всеволожск</th>\n",
       "      <td>398.0</td>\n",
       "      <td>2.0</td>\n",
       "    </tr>\n",
       "    <tr>\n",
       "      <th>пушкин</th>\n",
       "      <td>369.0</td>\n",
       "      <td>2.0</td>\n",
       "    </tr>\n",
       "    <tr>\n",
       "      <th>колпино</th>\n",
       "      <td>338.0</td>\n",
       "      <td>2.0</td>\n",
       "    </tr>\n",
       "    <tr>\n",
       "      <th>поселок парголово</th>\n",
       "      <td>327.0</td>\n",
       "      <td>1.0</td>\n",
       "    </tr>\n",
       "    <tr>\n",
       "      <th>гатчина</th>\n",
       "      <td>307.0</td>\n",
       "      <td>2.0</td>\n",
       "    </tr>\n",
       "    <tr>\n",
       "      <th>деревня кудрово</th>\n",
       "      <td>299.0</td>\n",
       "      <td>1.0</td>\n",
       "    </tr>\n",
       "    <tr>\n",
       "      <th>выборг</th>\n",
       "      <td>237.0</td>\n",
       "      <td>2.0</td>\n",
       "    </tr>\n",
       "  </tbody>\n",
       "</table>\n",
       "</div>"
      ],
      "text/plain": [
       "                   total_notes  rooms\n",
       "locality_name                        \n",
       "санкт-петербург        15721.0    2.0\n",
       "поселок мурино           556.0    1.0\n",
       "поселок шушары           440.0    2.0\n",
       "всеволожск               398.0    2.0\n",
       "пушкин                   369.0    2.0\n",
       "колпино                  338.0    2.0\n",
       "поселок парголово        327.0    1.0\n",
       "гатчина                  307.0    2.0\n",
       "деревня кудрово          299.0    1.0\n",
       "выборг                   237.0    2.0"
      ]
     },
     "execution_count": 34,
     "metadata": {},
     "output_type": "execute_result"
    }
   ],
   "source": [
    "r_pivot = data.pivot_table(\n",
    "    index = 'locality_name', values='rooms', aggfunc=('median','count')\n",
    ").sort_values(by='count',ascending=False\n",
    ")\n",
    "r_pivot.columns = ['total_notes', 'rooms']\n",
    "r_pivot.head(10)"
   ]
  },
  {
   "cell_type": "markdown",
   "metadata": {},
   "source": [
    "Чаще всех продают 1 и 2-х комнатные квартиры."
   ]
  },
  {
   "cell_type": "code",
   "execution_count": 67,
   "metadata": {},
   "outputs": [
    {
     "data": {
      "text/plain": [
       "count    23699.000000\n",
       "mean         2.070636\n",
       "std          1.078405\n",
       "min          0.000000\n",
       "25%          1.000000\n",
       "50%          2.000000\n",
       "75%          3.000000\n",
       "max         19.000000\n",
       "Name: rooms, dtype: float64"
      ]
     },
     "execution_count": 67,
     "metadata": {},
     "output_type": "execute_result"
    },
    {
     "data": {
      "image/png": "[encoded data removed]",
      "text/plain": [
       "<Figure size 576x360 with 1 Axes>"
      ]
     },
     "metadata": {
      "needs_background": "light"
     },
     "output_type": "display_data"
    }
   ],
   "source": [
    "data.plot(title='Количество комнат', y='rooms', kind='hist', bins=30, grid=True, figsize=(8,5), color='green', ec='black')\n",
    "data['rooms'].describe()"
   ]
  },
  {
   "cell_type": "markdown",
   "metadata": {},
   "source": [
    "Распределение нормальное, если отсечь часть аномалий типа 0 комнат."
   ]
  },
  {
   "cell_type": "code",
   "execution_count": 36,
   "metadata": {},
   "outputs": [
    {
     "data": {
      "text/html": [
       "<div>\n",
       "<style scoped>\n",
       "    .dataframe tbody tr th:only-of-type {\n",
       "        vertical-align: middle;\n",
       "    }\n",
       "\n",
       "    .dataframe tbody tr th {\n",
       "        vertical-align: top;\n",
       "    }\n",
       "\n",
       "    .dataframe thead th {\n",
       "        text-align: right;\n",
       "    }\n",
       "</style>\n",
       "<table border=\"1\" class=\"dataframe\">\n",
       "  <thead>\n",
       "    <tr style=\"text-align: right;\">\n",
       "      <th></th>\n",
       "      <th>total_notes</th>\n",
       "      <th>median_ceiling_height</th>\n",
       "    </tr>\n",
       "    <tr>\n",
       "      <th>locality_name</th>\n",
       "      <th></th>\n",
       "      <th></th>\n",
       "    </tr>\n",
       "  </thead>\n",
       "  <tbody>\n",
       "    <tr>\n",
       "      <th>санкт-петербург</th>\n",
       "      <td>10082</td>\n",
       "      <td>2.70</td>\n",
       "    </tr>\n",
       "    <tr>\n",
       "      <th>всеволожск</th>\n",
       "      <td>271</td>\n",
       "      <td>2.70</td>\n",
       "    </tr>\n",
       "    <tr>\n",
       "      <th>пушкин</th>\n",
       "      <td>234</td>\n",
       "      <td>2.60</td>\n",
       "    </tr>\n",
       "    <tr>\n",
       "      <th>поселок шушары</th>\n",
       "      <td>217</td>\n",
       "      <td>2.63</td>\n",
       "    </tr>\n",
       "    <tr>\n",
       "      <th>поселок мурино</th>\n",
       "      <td>212</td>\n",
       "      <td>2.70</td>\n",
       "    </tr>\n",
       "    <tr>\n",
       "      <th>колпино</th>\n",
       "      <td>203</td>\n",
       "      <td>2.50</td>\n",
       "    </tr>\n",
       "    <tr>\n",
       "      <th>гатчина</th>\n",
       "      <td>148</td>\n",
       "      <td>2.55</td>\n",
       "    </tr>\n",
       "    <tr>\n",
       "      <th>петергоф</th>\n",
       "      <td>145</td>\n",
       "      <td>2.55</td>\n",
       "    </tr>\n",
       "    <tr>\n",
       "      <th>поселок парголово</th>\n",
       "      <td>137</td>\n",
       "      <td>2.64</td>\n",
       "    </tr>\n",
       "    <tr>\n",
       "      <th>сестрорецк</th>\n",
       "      <td>129</td>\n",
       "      <td>2.70</td>\n",
       "    </tr>\n",
       "  </tbody>\n",
       "</table>\n",
       "</div>"
      ],
      "text/plain": [
       "                   total_notes  median_ceiling_height\n",
       "locality_name                                        \n",
       "санкт-петербург          10082                   2.70\n",
       "всеволожск                 271                   2.70\n",
       "пушкин                     234                   2.60\n",
       "поселок шушары             217                   2.63\n",
       "поселок мурино             212                   2.70\n",
       "колпино                    203                   2.50\n",
       "гатчина                    148                   2.55\n",
       "петергоф                   145                   2.55\n",
       "поселок парголово          137                   2.64\n",
       "сестрорецк                 129                   2.70"
      ]
     },
     "execution_count": 36,
     "metadata": {},
     "output_type": "execute_result"
    }
   ],
   "source": [
    "rata = data.query('ceiling_height > 2 and ceiling_height < 6')\n",
    "c_h_pivot = rata.pivot_table(\n",
    "    index = 'locality_name', values='ceiling_height', aggfunc=('median','count')\n",
    ").sort_values(by='count',ascending=False\n",
    ")\n",
    "c_h_pivot.columns = ['total_notes', 'median_ceiling_height']\n",
    "c_h_pivot.head(10)"
   ]
  },
  {
   "cell_type": "code",
   "execution_count": 68,
   "metadata": {},
   "outputs": [
    {
     "data": {
      "text/plain": [
       "count    14504.000000\n",
       "mean         2.771499\n",
       "std          1.261056\n",
       "min          1.000000\n",
       "25%          2.520000\n",
       "50%          2.650000\n",
       "75%          2.800000\n",
       "max        100.000000\n",
       "Name: ceiling_height, dtype: float64"
      ]
     },
     "execution_count": 68,
     "metadata": {},
     "output_type": "execute_result"
    },
    {
     "data": {
      "image/png": "[encoded data removed]",
      "text/plain": [
       "<Figure size 576x360 with 1 Axes>"
      ]
     },
     "metadata": {
      "needs_background": "light"
     },
     "output_type": "display_data"
    }
   ],
   "source": [
    "rata.plot(title='Высота потолков', y='ceiling_height', kind='hist', bins=30, grid=True, figsize=(8,5), color='green', ec='black')\n",
    "data['ceiling_height'].describe()"
   ]
  },
  {
   "cell_type": "markdown",
   "metadata": {},
   "source": [
    "Отсеили аномалии, распределение данных нормальное. Как и ожидал, больше всего объявлений с потолками 2.5 - 2.7 метра."
   ]
  },
  {
   "cell_type": "code",
   "execution_count": 38,
   "metadata": {},
   "outputs": [
    {
     "data": {
      "text/html": [
       "<div>\n",
       "<style scoped>\n",
       "    .dataframe tbody tr th:only-of-type {\n",
       "        vertical-align: middle;\n",
       "    }\n",
       "\n",
       "    .dataframe tbody tr th {\n",
       "        vertical-align: top;\n",
       "    }\n",
       "\n",
       "    .dataframe thead th {\n",
       "        text-align: right;\n",
       "    }\n",
       "</style>\n",
       "<table border=\"1\" class=\"dataframe\">\n",
       "  <thead>\n",
       "    <tr style=\"text-align: right;\">\n",
       "      <th></th>\n",
       "      <th>count</th>\n",
       "      <th>median</th>\n",
       "    </tr>\n",
       "    <tr>\n",
       "      <th>floor_category</th>\n",
       "      <th></th>\n",
       "      <th></th>\n",
       "    </tr>\n",
       "  </thead>\n",
       "  <tbody>\n",
       "    <tr>\n",
       "      <th>другой</th>\n",
       "      <td>17363</td>\n",
       "      <td>10.0</td>\n",
       "    </tr>\n",
       "    <tr>\n",
       "      <th>первый</th>\n",
       "      <td>2917</td>\n",
       "      <td>5.0</td>\n",
       "    </tr>\n",
       "    <tr>\n",
       "      <th>последний</th>\n",
       "      <td>3336</td>\n",
       "      <td>5.0</td>\n",
       "    </tr>\n",
       "  </tbody>\n",
       "</table>\n",
       "</div>"
      ],
      "text/plain": [
       "                count  median\n",
       "floor_category               \n",
       "другой          17363    10.0\n",
       "первый           2917     5.0\n",
       "последний        3336     5.0"
      ]
     },
     "execution_count": 38,
     "metadata": {},
     "output_type": "execute_result"
    }
   ],
   "source": [
    "data.pivot_table(index='floor_category', values='floors_total', aggfunc=('median','count'))"
   ]
  },
  {
   "cell_type": "markdown",
   "metadata": {},
   "source": [
    "\"Первых\" и \"последних\" этажей больше всего в пятиэтажках, а вот другие распределились в особенности по 10ти этажкам."
   ]
  },
  {
   "cell_type": "code",
   "execution_count": 69,
   "metadata": {},
   "outputs": [
    {
     "data": {
      "text/plain": [
       "count    23699.000000\n",
       "mean         5.892358\n",
       "std          4.885249\n",
       "min          1.000000\n",
       "25%          2.000000\n",
       "50%          4.000000\n",
       "75%          8.000000\n",
       "max         33.000000\n",
       "Name: floor, dtype: float64"
      ]
     },
     "execution_count": 69,
     "metadata": {},
     "output_type": "execute_result"
    },
    {
     "data": {
      "image/png": "[encoded data removed]",
      "text/plain": [
       "<Figure size 576x360 with 1 Axes>"
      ]
     },
     "metadata": {
      "needs_background": "light"
     },
     "output_type": "display_data"
    }
   ],
   "source": [
    "data.plot(title='Этаж', y='floor', kind='hist', bins=30, grid=True, figsize=(8,5), color='green', ec='black')\n",
    "data['floor'].describe()"
   ]
  },
  {
   "cell_type": "markdown",
   "metadata": {},
   "source": [
    "Конечно тут многовато низких домов :) можно сделать срез после 5ти этажных (характерных для Питера), но мы потеряем много данных. Так или иначе, распределение нормальное несмотря на выбросы"
   ]
  },
  {
   "cell_type": "code",
   "execution_count": 40,
   "metadata": {},
   "outputs": [
    {
     "data": {
      "text/html": [
       "<div>\n",
       "<style scoped>\n",
       "    .dataframe tbody tr th:only-of-type {\n",
       "        vertical-align: middle;\n",
       "    }\n",
       "\n",
       "    .dataframe tbody tr th {\n",
       "        vertical-align: top;\n",
       "    }\n",
       "\n",
       "    .dataframe thead th {\n",
       "        text-align: right;\n",
       "    }\n",
       "</style>\n",
       "<table border=\"1\" class=\"dataframe\">\n",
       "  <thead>\n",
       "    <tr style=\"text-align: right;\">\n",
       "      <th></th>\n",
       "      <th>total_notes</th>\n",
       "      <th>median_Centers_nearest</th>\n",
       "    </tr>\n",
       "    <tr>\n",
       "      <th>locality_name</th>\n",
       "      <th></th>\n",
       "      <th></th>\n",
       "    </tr>\n",
       "  </thead>\n",
       "  <tbody>\n",
       "    <tr>\n",
       "      <th>санкт-петербург</th>\n",
       "      <td>15721</td>\n",
       "      <td>12260.0</td>\n",
       "    </tr>\n",
       "    <tr>\n",
       "      <th>поселок мурино</th>\n",
       "      <td>556</td>\n",
       "      <td>13098.5</td>\n",
       "    </tr>\n",
       "    <tr>\n",
       "      <th>поселок шушары</th>\n",
       "      <td>440</td>\n",
       "      <td>24211.0</td>\n",
       "    </tr>\n",
       "    <tr>\n",
       "      <th>всеволожск</th>\n",
       "      <td>398</td>\n",
       "      <td>13098.5</td>\n",
       "    </tr>\n",
       "    <tr>\n",
       "      <th>пушкин</th>\n",
       "      <td>369</td>\n",
       "      <td>27920.0</td>\n",
       "    </tr>\n",
       "    <tr>\n",
       "      <th>колпино</th>\n",
       "      <td>338</td>\n",
       "      <td>32018.0</td>\n",
       "    </tr>\n",
       "    <tr>\n",
       "      <th>поселок парголово</th>\n",
       "      <td>327</td>\n",
       "      <td>19311.0</td>\n",
       "    </tr>\n",
       "    <tr>\n",
       "      <th>гатчина</th>\n",
       "      <td>307</td>\n",
       "      <td>13098.5</td>\n",
       "    </tr>\n",
       "    <tr>\n",
       "      <th>деревня кудрово</th>\n",
       "      <td>299</td>\n",
       "      <td>13098.5</td>\n",
       "    </tr>\n",
       "    <tr>\n",
       "      <th>выборг</th>\n",
       "      <td>237</td>\n",
       "      <td>13098.5</td>\n",
       "    </tr>\n",
       "  </tbody>\n",
       "</table>\n",
       "</div>"
      ],
      "text/plain": [
       "                   total_notes  median_Centers_nearest\n",
       "locality_name                                         \n",
       "санкт-петербург          15721                 12260.0\n",
       "поселок мурино             556                 13098.5\n",
       "поселок шушары             440                 24211.0\n",
       "всеволожск                 398                 13098.5\n",
       "пушкин                     369                 27920.0\n",
       "колпино                    338                 32018.0\n",
       "поселок парголово          327                 19311.0\n",
       "гатчина                    307                 13098.5\n",
       "деревня кудрово            299                 13098.5\n",
       "выборг                     237                 13098.5"
      ]
     },
     "execution_count": 40,
     "metadata": {},
     "output_type": "execute_result"
    }
   ],
   "source": [
    "cc_pivot = data.pivot_table(\n",
    "    index='locality_name', values='cityCenters_nearest', aggfunc=('median','count')\n",
    ").sort_values(by='count',ascending=False\n",
    ")\n",
    "cc_pivot.columns = ['total_notes', 'median_Centers_nearest']\n",
    "cc_pivot.head(10)"
   ]
  },
  {
   "cell_type": "code",
   "execution_count": 70,
   "metadata": {},
   "outputs": [
    {
     "data": {
      "text/plain": [
       "count    23699.000000\n",
       "mean     13936.792797\n",
       "std       7553.779633\n",
       "min        181.000000\n",
       "25%      10927.000000\n",
       "50%      13098.500000\n",
       "75%      15248.500000\n",
       "max      65968.000000\n",
       "Name: cityCenters_nearest, dtype: float64"
      ]
     },
     "execution_count": 70,
     "metadata": {},
     "output_type": "execute_result"
    },
    {
     "data": {
      "image/png": "[encoded data removed]",
      "text/plain": [
       "<Figure size 576x360 with 1 Axes>"
      ]
     },
     "metadata": {
      "needs_background": "light"
     },
     "output_type": "display_data"
    }
   ],
   "source": [
    "data.plot(title='Удаленность от центра города', y='cityCenters_nearest', kind='hist', bins=100, grid=True, figsize=(8,5), color='green', ec='black')\n",
    "data['cityCenters_nearest'].describe()"
   ]
  },
  {
   "cell_type": "markdown",
   "metadata": {},
   "source": [
    "Больше половины квартир в Питере в 12ти километрах от центра. В данных есть большие выбросы."
   ]
  },
  {
   "cell_type": "code",
   "execution_count": 42,
   "metadata": {},
   "outputs": [
    {
     "data": {
      "text/html": [
       "<div>\n",
       "<style scoped>\n",
       "    .dataframe tbody tr th:only-of-type {\n",
       "        vertical-align: middle;\n",
       "    }\n",
       "\n",
       "    .dataframe tbody tr th {\n",
       "        vertical-align: top;\n",
       "    }\n",
       "\n",
       "    .dataframe thead th {\n",
       "        text-align: right;\n",
       "    }\n",
       "</style>\n",
       "<table border=\"1\" class=\"dataframe\">\n",
       "  <thead>\n",
       "    <tr style=\"text-align: right;\">\n",
       "      <th></th>\n",
       "      <th>total_notes</th>\n",
       "      <th>median_parks_nearest</th>\n",
       "    </tr>\n",
       "    <tr>\n",
       "      <th>locality_name</th>\n",
       "      <th></th>\n",
       "      <th></th>\n",
       "    </tr>\n",
       "  </thead>\n",
       "  <tbody>\n",
       "    <tr>\n",
       "      <th>санкт-петербург</th>\n",
       "      <td>7284</td>\n",
       "      <td>460.0</td>\n",
       "    </tr>\n",
       "    <tr>\n",
       "      <th>пушкин</th>\n",
       "      <td>212</td>\n",
       "      <td>399.5</td>\n",
       "    </tr>\n",
       "    <tr>\n",
       "      <th>петергоф</th>\n",
       "      <td>143</td>\n",
       "      <td>294.0</td>\n",
       "    </tr>\n",
       "    <tr>\n",
       "      <th>колпино</th>\n",
       "      <td>133</td>\n",
       "      <td>393.0</td>\n",
       "    </tr>\n",
       "    <tr>\n",
       "      <th>кронштадт</th>\n",
       "      <td>87</td>\n",
       "      <td>293.0</td>\n",
       "    </tr>\n",
       "    <tr>\n",
       "      <th>сестрорецк</th>\n",
       "      <td>72</td>\n",
       "      <td>367.0</td>\n",
       "    </tr>\n",
       "    <tr>\n",
       "      <th>красное село</th>\n",
       "      <td>46</td>\n",
       "      <td>428.5</td>\n",
       "    </tr>\n",
       "    <tr>\n",
       "      <th>павловск</th>\n",
       "      <td>26</td>\n",
       "      <td>312.0</td>\n",
       "    </tr>\n",
       "    <tr>\n",
       "      <th>поселок стрельна</th>\n",
       "      <td>19</td>\n",
       "      <td>700.0</td>\n",
       "    </tr>\n",
       "    <tr>\n",
       "      <th>зеленогорск</th>\n",
       "      <td>16</td>\n",
       "      <td>147.5</td>\n",
       "    </tr>\n",
       "  </tbody>\n",
       "</table>\n",
       "</div>"
      ],
      "text/plain": [
       "                  total_notes  median_parks_nearest\n",
       "locality_name                                      \n",
       "санкт-петербург          7284                 460.0\n",
       "пушкин                    212                 399.5\n",
       "петергоф                  143                 294.0\n",
       "колпино                   133                 393.0\n",
       "кронштадт                  87                 293.0\n",
       "сестрорецк                 72                 367.0\n",
       "красное село               46                 428.5\n",
       "павловск                   26                 312.0\n",
       "поселок стрельна           19                 700.0\n",
       "зеленогорск                16                 147.5"
      ]
     },
     "execution_count": 42,
     "metadata": {},
     "output_type": "execute_result"
    }
   ],
   "source": [
    "cc_pivot = data.pivot_table(\n",
    "    index='locality_name', values='parks_nearest', aggfunc=('median','count')\n",
    ").sort_values(by='count',ascending=False\n",
    ")\n",
    "cc_pivot.columns = ['total_notes', 'median_parks_nearest']\n",
    "cc_pivot.head(10)"
   ]
  },
  {
   "cell_type": "code",
   "execution_count": 71,
   "metadata": {},
   "outputs": [
    {
     "data": {
      "text/plain": [
       "count    8079.000000\n",
       "mean      490.804555\n",
       "std       342.317995\n",
       "min         1.000000\n",
       "25%       288.000000\n",
       "50%       455.000000\n",
       "75%       612.000000\n",
       "max      3190.000000\n",
       "Name: parks_nearest, dtype: float64"
      ]
     },
     "execution_count": 71,
     "metadata": {},
     "output_type": "execute_result"
    },
    {
     "data": {
      "image/png": "[encoded data removed]",
      "text/plain": [
       "<Figure size 576x360 with 1 Axes>"
      ]
     },
     "metadata": {
      "needs_background": "light"
     },
     "output_type": "display_data"
    }
   ],
   "source": [
    "data.plot(title='Парки рядом', y='parks_nearest', kind='hist', bins=50, grid=True, figsize=(8,5), color='green', ec='black')\n",
    "data['parks_nearest'].describe()"
   ]
  },
  {
   "cell_type": "markdown",
   "metadata": {},
   "source": [
    "Распределение нормальное, выбросы не сильно влияют на выборку, мат.ожидание близко к медианному значению."
   ]
  },
  {
   "cell_type": "markdown",
   "metadata": {},
   "source": [
    "**В общем и целом, показатели мы получили нормальные, с ними можно работать. Наибольшее число квартир в Санкт-Петербурге в невыскоих домах, с потолками 2.7м и площадью 50м.кв. = 2х комнатные квартиры. Медианная цена на квартиру в СПб в районе 5,5млн. руб.**"
   ]
  },
  {
   "cell_type": "markdown",
   "metadata": {},
   "source": [
    "####  Теперь посмотрим, как быстро продавались квартиры (столбец days_exposition). Этот параметр показывает, сколько дней было размещено каждое объявление."
   ]
  },
  {
   "cell_type": "code",
   "execution_count": 44,
   "metadata": {},
   "outputs": [
    {
     "data": {
      "text/plain": [
       "count    20518.000000\n",
       "mean       180.888634\n",
       "std        219.727988\n",
       "min          1.000000\n",
       "25%         45.000000\n",
       "50%         95.000000\n",
       "75%        232.000000\n",
       "max       1580.000000\n",
       "Name: days_exposition, dtype: float64"
      ]
     },
     "execution_count": 44,
     "metadata": {},
     "output_type": "execute_result"
    },
    {
     "data": {
      "image/png": "[encoded data removed]",
      "text/plain": [
       "<Figure size 432x288 with 1 Axes>"
      ]
     },
     "metadata": {
      "needs_background": "light"
     },
     "output_type": "display_data"
    }
   ],
   "source": [
    "plt.boxplot(data.loc[data['days_exposition']!=0]['days_exposition'])\n",
    "plt.ylim(0,1500)\n",
    "data.loc[data['days_exposition']!=0]['days_exposition'].describe()"
   ]
  },
  {
   "cell_type": "markdown",
   "metadata": {},
   "source": [
    "(っ◕‿◕)っ☆ﾟ.*･｡ﾟ Если отсеять ошибочную выборку с 0 дней, топ получаем следующие выводы. 25% квартир (1ый квартиль) продается довольно быстро - в первые 45 дней. У нас довольно большая разница между медианой и средним. Посмотрим данные поближе и уменьшим масштаб на гистограмме."
   ]
  },
  {
   "cell_type": "code",
   "execution_count": 45,
   "metadata": {},
   "outputs": [
    {
     "data": {
      "text/plain": [
       "<AxesSubplot:ylabel='Frequency'>"
      ]
     },
     "execution_count": 45,
     "metadata": {},
     "output_type": "execute_result"
    },
    {
     "data": {
      "image/png": "[encoded data removed]",
      "text/plain": [
       "<Figure size 432x288 with 1 Axes>"
      ]
     },
     "metadata": {
      "needs_background": "light"
     },
     "output_type": "display_data"
    },
    {
     "data": {
      "image/png": "[encoded data removed]",
      "text/plain": [
       "<Figure size 432x288 with 1 Axes>"
      ]
     },
     "metadata": {
      "needs_background": "light"
     },
     "output_type": "display_data"
    }
   ],
   "source": [
    "data.plot(y='days_exposition', kind='hist', bins=30, grid=True, range=(1,1600), color = 'green', ec='black')\n",
    "data.plot(y='days_exposition', kind='hist', bins=60, grid=True, range=(1,300), color = 'green', ec='black')"
   ]
  },
  {
   "cell_type": "code",
   "execution_count": 46,
   "metadata": {},
   "outputs": [
    {
     "data": {
      "text/plain": [
       "45      880\n",
       "60      538\n",
       "7       234\n",
       "30      208\n",
       "90      204\n",
       "       ... \n",
       "1112      1\n",
       "1080      1\n",
       "1064      1\n",
       "1032      1\n",
       "1391      1\n",
       "Name: days_exposition, Length: 1141, dtype: int64"
      ]
     },
     "execution_count": 46,
     "metadata": {},
     "output_type": "execute_result"
    }
   ],
   "source": [
    "data[data['days_exposition']!=0]['days_exposition'].value_counts()\n",
    "#45, 60, 7, 30, 90 дней - подозрительно чаще всех встречаются, похоже на автоматическое снятие, Уберем их из расчетов"
   ]
  },
  {
   "cell_type": "code",
   "execution_count": 47,
   "metadata": {},
   "outputs": [
    {
     "data": {
      "text/plain": [
       "count    18454.000000\n",
       "mean       195.803349\n",
       "std        226.760010\n",
       "min          1.000000\n",
       "25%         44.000000\n",
       "50%        114.000000\n",
       "75%        259.000000\n",
       "max       1580.000000\n",
       "Name: days_exposition, dtype: float64"
      ]
     },
     "execution_count": 47,
     "metadata": {},
     "output_type": "execute_result"
    }
   ],
   "source": [
    "nice_data = data.query('days_exposition != [0,45,60,7,30,90]')\n",
    "nice_data['days_exposition'].describe()"
   ]
  },
  {
   "cell_type": "markdown",
   "metadata": {},
   "source": [
    "Теперь похоже на хорошее распределение, медиана максимальна близка к среднему :) построим графики и убедимся"
   ]
  },
  {
   "cell_type": "code",
   "execution_count": 48,
   "metadata": {},
   "outputs": [
    {
     "data": {
      "text/plain": [
       "<AxesSubplot:ylabel='Frequency'>"
      ]
     },
     "execution_count": 48,
     "metadata": {},
     "output_type": "execute_result"
    },
    {
     "data": {
      "image/png": "[encoded data removed]",
      "text/plain": [
       "<Figure size 432x288 with 1 Axes>"
      ]
     },
     "metadata": {
      "needs_background": "light"
     },
     "output_type": "display_data"
    },
    {
     "data": {
      "image/png": "[encoded data removed]",
      "text/plain": [
       "<Figure size 432x288 with 1 Axes>"
      ]
     },
     "metadata": {
      "needs_background": "light"
     },
     "output_type": "display_data"
    },
    {
     "data": {
      "image/png": "[encoded data removed]",
      "text/plain": [
       "<Figure size 432x288 with 1 Axes>"
      ]
     },
     "metadata": {
      "needs_background": "light"
     },
     "output_type": "display_data"
    }
   ],
   "source": [
    "plt.boxplot(nice_data['days_exposition'])\n",
    "plt.ylim(1,1000)\n",
    "nice_data.plot(y='days_exposition', kind='hist', bins=30, grid=True, range=(1,1600), color = 'green', ec='black')\n",
    "nice_data.plot(y='days_exposition', kind='hist', bins=60, grid=True, range=(1,300), color = 'green', ec='black')"
   ]
  },
  {
   "cell_type": "markdown",
   "metadata": {},
   "source": [
    "**ଘ(∩^o^)⊃━☆゜ﾟПолучается 25% объявлений согласно статистике продается за 44 дня, а половина за 115 дней. Нормальные значения увеличи свой пул и располагаются в отрезке до 600 дней. Соответсвенно быстрые продажи зв 44дня и менее. Долгие продажи после 259 дней.**"
   ]
  },
  {
   "cell_type": "markdown",
   "metadata": {},
   "source": [
    "#### Определим факторы, которые больше всего влияют на общую (полную) стоимость объекта."
   ]
  },
  {
   "cell_type": "markdown",
   "metadata": {},
   "source": [
    "**Влияние общей площади на стоимость квадратного метра:**"
   ]
  },
  {
   "cell_type": "code",
   "execution_count": 49,
   "metadata": {},
   "outputs": [
    {
     "data": {
      "text/html": [
       "<div>\n",
       "<style scoped>\n",
       "    .dataframe tbody tr th:only-of-type {\n",
       "        vertical-align: middle;\n",
       "    }\n",
       "\n",
       "    .dataframe tbody tr th {\n",
       "        vertical-align: top;\n",
       "    }\n",
       "\n",
       "    .dataframe thead th {\n",
       "        text-align: right;\n",
       "    }\n",
       "</style>\n",
       "<table border=\"1\" class=\"dataframe\">\n",
       "  <thead>\n",
       "    <tr style=\"text-align: right;\">\n",
       "      <th></th>\n",
       "      <th>count</th>\n",
       "      <th>median</th>\n",
       "    </tr>\n",
       "    <tr>\n",
       "      <th>total_area</th>\n",
       "      <th></th>\n",
       "      <th></th>\n",
       "    </tr>\n",
       "  </thead>\n",
       "  <tbody>\n",
       "    <tr>\n",
       "      <th>136.20</th>\n",
       "      <td>1</td>\n",
       "      <td>98825.26</td>\n",
       "    </tr>\n",
       "    <tr>\n",
       "      <th>58.81</th>\n",
       "      <td>1</td>\n",
       "      <td>180241.46</td>\n",
       "    </tr>\n",
       "    <tr>\n",
       "      <th>27.60</th>\n",
       "      <td>3</td>\n",
       "      <td>76086.96</td>\n",
       "    </tr>\n",
       "    <tr>\n",
       "      <th>55.20</th>\n",
       "      <td>27</td>\n",
       "      <td>88768.12</td>\n",
       "    </tr>\n",
       "    <tr>\n",
       "      <th>95.40</th>\n",
       "      <td>1</td>\n",
       "      <td>121198.91</td>\n",
       "    </tr>\n",
       "    <tr>\n",
       "      <th>25.40</th>\n",
       "      <td>1</td>\n",
       "      <td>129921.26</td>\n",
       "    </tr>\n",
       "    <tr>\n",
       "      <th>70.60</th>\n",
       "      <td>12</td>\n",
       "      <td>105169.97</td>\n",
       "    </tr>\n",
       "    <tr>\n",
       "      <th>42.63</th>\n",
       "      <td>1</td>\n",
       "      <td>70349.52</td>\n",
       "    </tr>\n",
       "    <tr>\n",
       "      <th>90.50</th>\n",
       "      <td>7</td>\n",
       "      <td>97237.57</td>\n",
       "    </tr>\n",
       "    <tr>\n",
       "      <th>116.80</th>\n",
       "      <td>1</td>\n",
       "      <td>137073.72</td>\n",
       "    </tr>\n",
       "  </tbody>\n",
       "</table>\n",
       "</div>"
      ],
      "text/plain": [
       "            count     median\n",
       "total_area                  \n",
       "136.20          1   98825.26\n",
       "58.81           1  180241.46\n",
       "27.60           3   76086.96\n",
       "55.20          27   88768.12\n",
       "95.40           1  121198.91\n",
       "25.40           1  129921.26\n",
       "70.60          12  105169.97\n",
       "42.63           1   70349.52\n",
       "90.50           7   97237.57\n",
       "116.80          1  137073.72"
      ]
     },
     "execution_count": 49,
     "metadata": {},
     "output_type": "execute_result"
    }
   ],
   "source": [
    "q_data=data.pivot_table(\n",
    "    index='total_area', values='cost_metr', aggfunc=['count','median']\n",
    ").sort_values(by='total_area')\n",
    "q_data.columns = ['count', 'median']\n",
    "q_data.sample(10)"
   ]
  },
  {
   "cell_type": "markdown",
   "metadata": {},
   "source": [
    "Пока что видим, что данные как-то идут вразнобой... Пока что от увеличения территории, цена квадратного метра пропорционально не увеличивается/уменьшается. Построим графику корелляции."
   ]
  },
  {
   "cell_type": "code",
   "execution_count": 50,
   "metadata": {},
   "outputs": [
    {
     "name": "stdout",
     "output_type": "stream",
     "text": [
      "Показатель корреляции: 0.30196021032713416\n"
     ]
    },
    {
     "data": {
      "text/plain": [
       "<AxesSubplot:xlabel='total_area', ylabel='cost_metr'>"
      ]
     },
     "execution_count": 50,
     "metadata": {},
     "output_type": "execute_result"
    },
    {
     "data": {
      "image/png": "[encoded data removed]",
      "text/plain": [
       "<Figure size 432x288 with 1 Axes>"
      ]
     },
     "metadata": {
      "needs_background": "light"
     },
     "output_type": "display_data"
    }
   ],
   "source": [
    "print('Показатель корреляции:',data['total_area'].corr(data['cost_metr']))\n",
    "data.plot(x='total_area', y='cost_metr', kind='scatter', alpha=0.3, ec='blue') "
   ]
  },
  {
   "cell_type": "markdown",
   "metadata": {},
   "source": [
    "Показатель корреляции говорит нам о том, что зависимость слабая. \"Как будто редко, но все-таки больше площадь и больше цена\""
   ]
  },
  {
   "cell_type": "markdown",
   "metadata": {},
   "source": [
    "**Влияние жилой площади и площади кухни на стоимость квадратного метра:**"
   ]
  },
  {
   "cell_type": "code",
   "execution_count": 51,
   "metadata": {},
   "outputs": [
    {
     "data": {
      "text/html": [
       "<div>\n",
       "<style scoped>\n",
       "    .dataframe tbody tr th:only-of-type {\n",
       "        vertical-align: middle;\n",
       "    }\n",
       "\n",
       "    .dataframe tbody tr th {\n",
       "        vertical-align: top;\n",
       "    }\n",
       "\n",
       "    .dataframe thead th {\n",
       "        text-align: right;\n",
       "    }\n",
       "</style>\n",
       "<table border=\"1\" class=\"dataframe\">\n",
       "  <thead>\n",
       "    <tr style=\"text-align: right;\">\n",
       "      <th></th>\n",
       "      <th>kitchen_median</th>\n",
       "      <th>living_median</th>\n",
       "    </tr>\n",
       "    <tr>\n",
       "      <th>cost_metr</th>\n",
       "      <th></th>\n",
       "      <th></th>\n",
       "    </tr>\n",
       "  </thead>\n",
       "  <tbody>\n",
       "    <tr>\n",
       "      <th>111.83</th>\n",
       "      <td>40.500000</td>\n",
       "      <td>32.000000</td>\n",
       "    </tr>\n",
       "    <tr>\n",
       "      <th>7962.96</th>\n",
       "      <td>8.965517</td>\n",
       "      <td>29.528715</td>\n",
       "    </tr>\n",
       "    <tr>\n",
       "      <th>9615.38</th>\n",
       "      <td>8.000000</td>\n",
       "      <td>31.000000</td>\n",
       "    </tr>\n",
       "    <tr>\n",
       "      <th>10185.19</th>\n",
       "      <td>7.500000</td>\n",
       "      <td>40.000000</td>\n",
       "    </tr>\n",
       "    <tr>\n",
       "      <th>10368.66</th>\n",
       "      <td>5.500000</td>\n",
       "      <td>30.300000</td>\n",
       "    </tr>\n",
       "    <tr>\n",
       "      <th>...</th>\n",
       "      <td>...</td>\n",
       "      <td>...</td>\n",
       "    </tr>\n",
       "    <tr>\n",
       "      <th>995983.94</th>\n",
       "      <td>20.000000</td>\n",
       "      <td>67.200000</td>\n",
       "    </tr>\n",
       "    <tr>\n",
       "      <th>1000748.13</th>\n",
       "      <td>24.000000</td>\n",
       "      <td>204.000000</td>\n",
       "    </tr>\n",
       "    <tr>\n",
       "      <th>1542604.80</th>\n",
       "      <td>30.200000</td>\n",
       "      <td>63.700000</td>\n",
       "    </tr>\n",
       "    <tr>\n",
       "      <th>1736842.11</th>\n",
       "      <td>40.000000</td>\n",
       "      <td>95.000000</td>\n",
       "    </tr>\n",
       "    <tr>\n",
       "      <th>1907500.00</th>\n",
       "      <td>8.965517</td>\n",
       "      <td>250.000000</td>\n",
       "    </tr>\n",
       "  </tbody>\n",
       "</table>\n",
       "<p>14653 rows × 2 columns</p>\n",
       "</div>"
      ],
      "text/plain": [
       "            kitchen_median  living_median\n",
       "cost_metr                                \n",
       "111.83           40.500000      32.000000\n",
       "7962.96           8.965517      29.528715\n",
       "9615.38           8.000000      31.000000\n",
       "10185.19          7.500000      40.000000\n",
       "10368.66          5.500000      30.300000\n",
       "...                    ...            ...\n",
       "995983.94        20.000000      67.200000\n",
       "1000748.13       24.000000     204.000000\n",
       "1542604.80       30.200000      63.700000\n",
       "1736842.11       40.000000      95.000000\n",
       "1907500.00        8.965517     250.000000\n",
       "\n",
       "[14653 rows x 2 columns]"
      ]
     },
     "execution_count": 51,
     "metadata": {},
     "output_type": "execute_result"
    }
   ],
   "source": [
    "liv_n_kitch = data.pivot_table(\n",
    "    index='cost_metr', values=['living_area','kitchen_area'], aggfunc=('median')\n",
    ").sort_values(by='cost_metr')\n",
    "liv_n_kitch.columns = ['kitchen_median','living_median']\n",
    "liv_n_kitch"
   ]
  },
  {
   "cell_type": "markdown",
   "metadata": {},
   "source": [
    "Иногда, конечно, встречаются квартиры, где кухня больше, чем жилая площадь. Но тем не менее."
   ]
  },
  {
   "cell_type": "code",
   "execution_count": 52,
   "metadata": {},
   "outputs": [
    {
     "name": "stdout",
     "output_type": "stream",
     "text": [
      "Показатель корреляции living_area: 0.21\n",
      "Показатель корреляции kitchen_area: 0.36\n"
     ]
    },
    {
     "data": {
      "text/plain": [
       "<AxesSubplot:xlabel='kitchen_area', ylabel='cost_metr'>"
      ]
     },
     "execution_count": 52,
     "metadata": {},
     "output_type": "execute_result"
    },
    {
     "data": {
      "image/png": "[encoded data removed]",
      "text/plain": [
       "<Figure size 432x288 with 1 Axes>"
      ]
     },
     "metadata": {
      "needs_background": "light"
     },
     "output_type": "display_data"
    },
    {
     "data": {
      "image/png": "[encoded data removed]",
      "text/plain": [
       "<Figure size 432x288 with 1 Axes>"
      ]
     },
     "metadata": {
      "needs_background": "light"
     },
     "output_type": "display_data"
    }
   ],
   "source": [
    "print('Показатель корреляции living_area:',data['cost_metr'].corr(data['living_area']).round(2))\n",
    "print('Показатель корреляции kitchen_area:',data['cost_metr'].corr(data['kitchen_area']).round(2))\n",
    "data.plot(x='living_area', y='cost_metr', kind='scatter', alpha=0.2, ec='blue') \n",
    "data.plot(x='kitchen_area', y='cost_metr', kind='scatter', alpha=0.2, ec='blue') "
   ]
  },
  {
   "cell_type": "markdown",
   "metadata": {},
   "source": [
    "Оень похожая картина на графики зависимости общей площади от цены. Зависимость тут и у кохонной, и у жилой площади низкая к стоимости квадратного метра, тем не менее, корреляция положительная, а значит с увеличением этих площадей, стоимость квадратного метра, реже, но тоже растет."
   ]
  },
  {
   "cell_type": "markdown",
   "metadata": {},
   "source": [
    "**Влияние количества комнат на стоимость квадратного метра:**"
   ]
  },
  {
   "cell_type": "code",
   "execution_count": 53,
   "metadata": {},
   "outputs": [
    {
     "data": {
      "text/html": [
       "<div>\n",
       "<style scoped>\n",
       "    .dataframe tbody tr th:only-of-type {\n",
       "        vertical-align: middle;\n",
       "    }\n",
       "\n",
       "    .dataframe tbody tr th {\n",
       "        vertical-align: top;\n",
       "    }\n",
       "\n",
       "    .dataframe thead th {\n",
       "        text-align: right;\n",
       "    }\n",
       "</style>\n",
       "<table border=\"1\" class=\"dataframe\">\n",
       "  <thead>\n",
       "    <tr style=\"text-align: right;\">\n",
       "      <th></th>\n",
       "      <th>rooms_count</th>\n",
       "      <th>rooms_median</th>\n",
       "    </tr>\n",
       "    <tr>\n",
       "      <th>cost_metr</th>\n",
       "      <th></th>\n",
       "      <th></th>\n",
       "    </tr>\n",
       "  </thead>\n",
       "  <tbody>\n",
       "    <tr>\n",
       "      <th>111.83</th>\n",
       "      <td>1.0</td>\n",
       "      <td>2.0</td>\n",
       "    </tr>\n",
       "    <tr>\n",
       "      <th>7962.96</th>\n",
       "      <td>1.0</td>\n",
       "      <td>2.0</td>\n",
       "    </tr>\n",
       "    <tr>\n",
       "      <th>9615.38</th>\n",
       "      <td>1.0</td>\n",
       "      <td>2.0</td>\n",
       "    </tr>\n",
       "    <tr>\n",
       "      <th>10185.19</th>\n",
       "      <td>1.0</td>\n",
       "      <td>2.0</td>\n",
       "    </tr>\n",
       "    <tr>\n",
       "      <th>10368.66</th>\n",
       "      <td>1.0</td>\n",
       "      <td>2.0</td>\n",
       "    </tr>\n",
       "    <tr>\n",
       "      <th>...</th>\n",
       "      <td>...</td>\n",
       "      <td>...</td>\n",
       "    </tr>\n",
       "    <tr>\n",
       "      <th>995983.94</th>\n",
       "      <td>1.0</td>\n",
       "      <td>4.0</td>\n",
       "    </tr>\n",
       "    <tr>\n",
       "      <th>1000748.13</th>\n",
       "      <td>1.0</td>\n",
       "      <td>5.0</td>\n",
       "    </tr>\n",
       "    <tr>\n",
       "      <th>1542604.80</th>\n",
       "      <td>1.0</td>\n",
       "      <td>2.0</td>\n",
       "    </tr>\n",
       "    <tr>\n",
       "      <th>1736842.11</th>\n",
       "      <td>1.0</td>\n",
       "      <td>3.0</td>\n",
       "    </tr>\n",
       "    <tr>\n",
       "      <th>1907500.00</th>\n",
       "      <td>1.0</td>\n",
       "      <td>7.0</td>\n",
       "    </tr>\n",
       "  </tbody>\n",
       "</table>\n",
       "<p>14653 rows × 2 columns</p>\n",
       "</div>"
      ],
      "text/plain": [
       "            rooms_count  rooms_median\n",
       "cost_metr                            \n",
       "111.83              1.0           2.0\n",
       "7962.96             1.0           2.0\n",
       "9615.38             1.0           2.0\n",
       "10185.19            1.0           2.0\n",
       "10368.66            1.0           2.0\n",
       "...                 ...           ...\n",
       "995983.94           1.0           4.0\n",
       "1000748.13          1.0           5.0\n",
       "1542604.80          1.0           2.0\n",
       "1736842.11          1.0           3.0\n",
       "1907500.00          1.0           7.0\n",
       "\n",
       "[14653 rows x 2 columns]"
      ]
     },
     "execution_count": 53,
     "metadata": {},
     "output_type": "execute_result"
    }
   ],
   "source": [
    "rooms_pivot = data.pivot_table(\n",
    "    index='cost_metr', values='rooms', aggfunc=('count','median')\n",
    ").sort_values(by='cost_metr')\n",
    "rooms_pivot.columns = ['rooms_count','rooms_median']\n",
    "rooms_pivot"
   ]
  },
  {
   "cell_type": "code",
   "execution_count": 54,
   "metadata": {},
   "outputs": [
    {
     "name": "stdout",
     "output_type": "stream",
     "text": [
      "Показатель корреляции: 0.06\n"
     ]
    },
    {
     "data": {
      "text/plain": [
       "<AxesSubplot:xlabel='rooms', ylabel='cost_metr'>"
      ]
     },
     "execution_count": 54,
     "metadata": {},
     "output_type": "execute_result"
    },
    {
     "data": {
      "image/png": "[encoded data removed]",
      "text/plain": [
       "<Figure size 432x288 with 1 Axes>"
      ]
     },
     "metadata": {
      "needs_background": "light"
     },
     "output_type": "display_data"
    }
   ],
   "source": [
    "print('Показатель корреляции:',data['cost_metr'].corr(data['rooms']).round(2))\n",
    "data.plot(x='rooms', y='cost_metr', kind='scatter', alpha=0.3, ec='blue')"
   ]
  },
  {
   "cell_type": "markdown",
   "metadata": {},
   "source": [
    "Здесь у нас зависимость вообще практически отсутствует. Показатель корреляции 0,06. У трехкомнатных квартир получается выше стоимость метра квадртаного, чем у остальных."
   ]
  },
  {
   "cell_type": "markdown",
   "metadata": {},
   "source": [
    "**Влияние этажа, на котором расположена квартира (первый, последний, другой), на стоимость квадратного метра:**"
   ]
  },
  {
   "cell_type": "code",
   "execution_count": 55,
   "metadata": {},
   "outputs": [
    {
     "data": {
      "text/html": [
       "<div>\n",
       "<style scoped>\n",
       "    .dataframe tbody tr th:only-of-type {\n",
       "        vertical-align: middle;\n",
       "    }\n",
       "\n",
       "    .dataframe tbody tr th {\n",
       "        vertical-align: top;\n",
       "    }\n",
       "\n",
       "    .dataframe thead th {\n",
       "        text-align: right;\n",
       "    }\n",
       "</style>\n",
       "<table border=\"1\" class=\"dataframe\">\n",
       "  <thead>\n",
       "    <tr style=\"text-align: right;\">\n",
       "      <th></th>\n",
       "      <th>count_cost_metr</th>\n",
       "      <th>median_cost_metr</th>\n",
       "      <th>mean_cost_metr</th>\n",
       "    </tr>\n",
       "    <tr>\n",
       "      <th>floor_category</th>\n",
       "      <th></th>\n",
       "      <th></th>\n",
       "      <th></th>\n",
       "    </tr>\n",
       "  </thead>\n",
       "  <tbody>\n",
       "    <tr>\n",
       "      <th>другой</th>\n",
       "      <td>17363</td>\n",
       "      <td>103468.219537</td>\n",
       "      <td>98275.86</td>\n",
       "    </tr>\n",
       "    <tr>\n",
       "      <th>первый</th>\n",
       "      <td>2917</td>\n",
       "      <td>81983.559273</td>\n",
       "      <td>81223.63</td>\n",
       "    </tr>\n",
       "    <tr>\n",
       "      <th>последний</th>\n",
       "      <td>3336</td>\n",
       "      <td>93410.716277</td>\n",
       "      <td>87777.78</td>\n",
       "    </tr>\n",
       "  </tbody>\n",
       "</table>\n",
       "</div>"
      ],
      "text/plain": [
       "                count_cost_metr  median_cost_metr  mean_cost_metr\n",
       "floor_category                                                   \n",
       "другой                    17363     103468.219537        98275.86\n",
       "первый                     2917      81983.559273        81223.63\n",
       "последний                  3336      93410.716277        87777.78"
      ]
     },
     "execution_count": 55,
     "metadata": {},
     "output_type": "execute_result"
    }
   ],
   "source": [
    "floor_cat_pivot = data.pivot_table(index='floor_category', values='cost_metr', aggfunc=('count','median','mean'))\n",
    "floor_cat_pivot.columns = ['count_cost_metr','median_cost_metr', 'mean_cost_metr']\n",
    "floor_cat_pivot"
   ]
  },
  {
   "cell_type": "markdown",
   "metadata": {},
   "source": [
    "Здесь довольно понятно, что на первом этаже стоимость метра квадратного реально ниже, чем на всех остальных. Также, квартиры с этажом категории \"другой\" были чаще в многоэтажных домах, они новее Питерских пятиэтажек и, следовательно, стоимость метра будет больше."
   ]
  },
  {
   "cell_type": "markdown",
   "metadata": {},
   "source": [
    "**Влияние даты размещения (день недели, месяц, год) на стоимость квадратного метра:**"
   ]
  },
  {
   "cell_type": "code",
   "execution_count": 56,
   "metadata": {},
   "outputs": [
    {
     "data": {
      "text/html": [
       "<div>\n",
       "<style scoped>\n",
       "    .dataframe tbody tr th:only-of-type {\n",
       "        vertical-align: middle;\n",
       "    }\n",
       "\n",
       "    .dataframe tbody tr th {\n",
       "        vertical-align: top;\n",
       "    }\n",
       "\n",
       "    .dataframe thead th {\n",
       "        text-align: right;\n",
       "    }\n",
       "</style>\n",
       "<table border=\"1\" class=\"dataframe\">\n",
       "  <thead>\n",
       "    <tr style=\"text-align: right;\">\n",
       "      <th></th>\n",
       "      <th>count_month_expos</th>\n",
       "      <th>median_month_expos</th>\n",
       "      <th>count_weekday_expos</th>\n",
       "      <th>median_weekday_expos</th>\n",
       "      <th>count_year_expos</th>\n",
       "      <th>median_year_expos</th>\n",
       "    </tr>\n",
       "    <tr>\n",
       "      <th>cost_metr</th>\n",
       "      <th></th>\n",
       "      <th></th>\n",
       "      <th></th>\n",
       "      <th></th>\n",
       "      <th></th>\n",
       "      <th></th>\n",
       "    </tr>\n",
       "  </thead>\n",
       "  <tbody>\n",
       "    <tr>\n",
       "      <th>1907500.00</th>\n",
       "      <td>1.0</td>\n",
       "      <td>9.0</td>\n",
       "      <td>1.0</td>\n",
       "      <td>5.0</td>\n",
       "      <td>1.0</td>\n",
       "      <td>2017.0</td>\n",
       "    </tr>\n",
       "    <tr>\n",
       "      <th>1736842.11</th>\n",
       "      <td>1.0</td>\n",
       "      <td>4.0</td>\n",
       "      <td>1.0</td>\n",
       "      <td>2.0</td>\n",
       "      <td>1.0</td>\n",
       "      <td>2018.0</td>\n",
       "    </tr>\n",
       "    <tr>\n",
       "      <th>1542604.80</th>\n",
       "      <td>1.0</td>\n",
       "      <td>3.0</td>\n",
       "      <td>1.0</td>\n",
       "      <td>1.0</td>\n",
       "      <td>1.0</td>\n",
       "      <td>2019.0</td>\n",
       "    </tr>\n",
       "    <tr>\n",
       "      <th>1000748.13</th>\n",
       "      <td>1.0</td>\n",
       "      <td>2.0</td>\n",
       "      <td>1.0</td>\n",
       "      <td>5.0</td>\n",
       "      <td>1.0</td>\n",
       "      <td>2016.0</td>\n",
       "    </tr>\n",
       "    <tr>\n",
       "      <th>995983.94</th>\n",
       "      <td>1.0</td>\n",
       "      <td>10.0</td>\n",
       "      <td>1.0</td>\n",
       "      <td>3.0</td>\n",
       "      <td>1.0</td>\n",
       "      <td>2017.0</td>\n",
       "    </tr>\n",
       "    <tr>\n",
       "      <th>...</th>\n",
       "      <td>...</td>\n",
       "      <td>...</td>\n",
       "      <td>...</td>\n",
       "      <td>...</td>\n",
       "      <td>...</td>\n",
       "      <td>...</td>\n",
       "    </tr>\n",
       "    <tr>\n",
       "      <th>10368.66</th>\n",
       "      <td>1.0</td>\n",
       "      <td>8.0</td>\n",
       "      <td>1.0</td>\n",
       "      <td>4.0</td>\n",
       "      <td>1.0</td>\n",
       "      <td>2018.0</td>\n",
       "    </tr>\n",
       "    <tr>\n",
       "      <th>10185.19</th>\n",
       "      <td>1.0</td>\n",
       "      <td>2.0</td>\n",
       "      <td>1.0</td>\n",
       "      <td>3.0</td>\n",
       "      <td>1.0</td>\n",
       "      <td>2019.0</td>\n",
       "    </tr>\n",
       "    <tr>\n",
       "      <th>9615.38</th>\n",
       "      <td>1.0</td>\n",
       "      <td>8.0</td>\n",
       "      <td>1.0</td>\n",
       "      <td>3.0</td>\n",
       "      <td>1.0</td>\n",
       "      <td>2018.0</td>\n",
       "    </tr>\n",
       "    <tr>\n",
       "      <th>7962.96</th>\n",
       "      <td>1.0</td>\n",
       "      <td>6.0</td>\n",
       "      <td>1.0</td>\n",
       "      <td>1.0</td>\n",
       "      <td>1.0</td>\n",
       "      <td>2018.0</td>\n",
       "    </tr>\n",
       "    <tr>\n",
       "      <th>111.83</th>\n",
       "      <td>1.0</td>\n",
       "      <td>3.0</td>\n",
       "      <td>1.0</td>\n",
       "      <td>2.0</td>\n",
       "      <td>1.0</td>\n",
       "      <td>2019.0</td>\n",
       "    </tr>\n",
       "  </tbody>\n",
       "</table>\n",
       "<p>14653 rows × 6 columns</p>\n",
       "</div>"
      ],
      "text/plain": [
       "            count_month_expos  median_month_expos  count_weekday_expos  \\\n",
       "cost_metr                                                                \n",
       "1907500.00                1.0                 9.0                  1.0   \n",
       "1736842.11                1.0                 4.0                  1.0   \n",
       "1542604.80                1.0                 3.0                  1.0   \n",
       "1000748.13                1.0                 2.0                  1.0   \n",
       "995983.94                 1.0                10.0                  1.0   \n",
       "...                       ...                 ...                  ...   \n",
       "10368.66                  1.0                 8.0                  1.0   \n",
       "10185.19                  1.0                 2.0                  1.0   \n",
       "9615.38                   1.0                 8.0                  1.0   \n",
       "7962.96                   1.0                 6.0                  1.0   \n",
       "111.83                    1.0                 3.0                  1.0   \n",
       "\n",
       "            median_weekday_expos  count_year_expos  median_year_expos  \n",
       "cost_metr                                                              \n",
       "1907500.00                   5.0               1.0             2017.0  \n",
       "1736842.11                   2.0               1.0             2018.0  \n",
       "1542604.80                   1.0               1.0             2019.0  \n",
       "1000748.13                   5.0               1.0             2016.0  \n",
       "995983.94                    3.0               1.0             2017.0  \n",
       "...                          ...               ...                ...  \n",
       "10368.66                     4.0               1.0             2018.0  \n",
       "10185.19                     3.0               1.0             2019.0  \n",
       "9615.38                      3.0               1.0             2018.0  \n",
       "7962.96                      1.0               1.0             2018.0  \n",
       "111.83                       2.0               1.0             2019.0  \n",
       "\n",
       "[14653 rows x 6 columns]"
      ]
     },
     "execution_count": 56,
     "metadata": {},
     "output_type": "execute_result"
    }
   ],
   "source": [
    "season_pivot = data.pivot_table(\n",
    "    index='cost_metr',values=['weekday_expos','month_expos','year_expos'], aggfunc=('count','median')\n",
    ").sort_values(by='cost_metr',ascending=False)\n",
    "season_pivot.columns = ['count_month_expos',\n",
    "                        'median_month_expos',\n",
    "                        'count_weekday_expos',\n",
    "                        'median_weekday_expos',\n",
    "                        'count_year_expos',\n",
    "                        'median_year_expos']\n",
    "season_pivot"
   ]
  },
  {
   "cell_type": "code",
   "execution_count": 94,
   "metadata": {},
   "outputs": [
    {
     "data": {
      "image/png": "[encoded data removed]",
      "text/plain": [
       "<Figure size 432x288 with 1 Axes>"
      ]
     },
     "metadata": {
      "needs_background": "light"
     },
     "output_type": "display_data"
    }
   ],
   "source": [
    "d_pos=data.pivot_table(index='weekday_expos', values='cost_metr', aggfunc=['count', 'median'])\n",
    "d_pos.columns = ['count', 'median']\n",
    "d_pos.plot(title='Стоимость м.кв. по дням недели', y='median')\n",
    "plt.show()"
   ]
  },
  {
   "cell_type": "markdown",
   "metadata": {},
   "source": [
    "Касательно дня недели для выкладки: из данных видно, что в начале и середине недели люди выкладываются дороже, чем в конце. Самый дешевый метр квадратный у квартир, выложенных в субботу."
   ]
  },
  {
   "cell_type": "code",
   "execution_count": 95,
   "metadata": {},
   "outputs": [
    {
     "data": {
      "image/png": "[encoded data removed]",
      "text/plain": [
       "<Figure size 432x288 with 1 Axes>"
      ]
     },
     "metadata": {
      "needs_background": "light"
     },
     "output_type": "display_data"
    }
   ],
   "source": [
    "m_pos=data.pivot_table(index='month_expos', values='cost_metr', aggfunc=['count', 'median'])\n",
    "m_pos.columns = ['count', 'median']\n",
    "m_pos.plot(title='Стоимость м.кв. по месяцам',y='median')\n",
    "plt.show()"
   ]
  },
  {
   "cell_type": "markdown",
   "metadata": {},
   "source": [
    "Касательно сезонности, дороже метр квадратный у квартир, выложенных в апреле,августе и ноябре. Дешевле всего в мае и июне."
   ]
  },
  {
   "cell_type": "code",
   "execution_count": 93,
   "metadata": {},
   "outputs": [
    {
     "data": {
      "image/png": "[encoded data removed]",
      "text/plain": [
       "<Figure size 432x288 with 1 Axes>"
      ]
     },
     "metadata": {
      "needs_background": "light"
     },
     "output_type": "display_data"
    }
   ],
   "source": [
    "y_pos=data.pivot_table(index='year_expos', values='cost_metr', aggfunc=['count', 'median'])\n",
    "y_pos.columns = ['count', 'median']\n",
    "y_pos.plot(title='Стоимость м.кв. по годам',y='median')\n",
    "plt.show()"
   ]
  },
  {
   "cell_type": "markdown",
   "metadata": {},
   "source": [
    " По годам мы видим, что дешевле всего метр квадратный стоил в 2016 (спрос<предложения), а дороже всего в 2014 и 2019 (спрос>предложения)."
   ]
  },
  {
   "cell_type": "markdown",
   "metadata": {},
   "source": [
    "**По итогам анализа зависимостей стоимости квадратного метра получается интересное наблюдение: из рассмотренных показателей взаимосвязь, хоть и слабая, есть только у Общей Площади (чем выше площадь - тем выше цена за метр), а именно у Кухонной Площади (зависимость довольно слабая, но крепче других: чем больше кухня, тем выше цена за метр). Лучше всего присматривать себе квартиру в мае или июне - в эти месяцы метр квадратный дешевле всего.**\n",
    "\n",
    "*P.S.Если бы было больше данных по годам, можно было бы примерно представить цикличность и предположить снижение/рост цен в будущем, если не брать в расчет факторы непреодолимой силы.*"
   ]
  },
  {
   "cell_type": "markdown",
   "metadata": {},
   "source": [
    "#### Посчитаем среднюю цену одного квадратного метра в 10 населённых пунктах с наибольшим числом объявлений — построим сводную таблицу с количеством объявлений и средней ценой квадратного метра для этих населенных пунктов. Выделим населённые пункты с самой высокой и низкой стоимостью квадратного метра."
   ]
  },
  {
   "cell_type": "code",
   "execution_count": 98,
   "metadata": {},
   "outputs": [
    {
     "name": "stdout",
     "output_type": "stream",
     "text": [
      "                   notes_count  std_meter_cost\n",
      "locality_name                                 \n",
      "санкт-петербург          15721          114849\n",
      "поселок мурино             556           85681\n",
      "поселок шушары             440           78677\n",
      "всеволожск                 398           68654\n",
      "пушкин                     369          103125\n",
      "колпино                    338           75424\n",
      "поселок парголово          327           90175\n",
      "гатчина                    307           68746\n",
      "деревня кудрово            299           92473\n",
      "выборг                     237           58141\n"
     ]
    }
   ],
   "source": [
    "total_pivot = data.pivot_table(\n",
    "    index='locality_name', values='cost_metr', aggfunc=('count','mean')\n",
    ").sort_values(by='count',ascending=False)\n",
    "total_pivot.columns = ['notes_count', 'std_meter_cost']\n",
    "total_pivot['std_meter_cost'] = total_pivot['std_meter_cost'].astype(int)\n",
    "print(total_pivot.head(10))"
   ]
  },
  {
   "cell_type": "markdown",
   "metadata": {},
   "source": [
    "Из 10ти населенных пунктов с наибольшим числом объявлений в лидерах Санкт-Петербург, а меньше всех в Выборге. Посмотрим, где же дешевле квадратный метр, а где дороже."
   ]
  },
  {
   "cell_type": "code",
   "execution_count": 59,
   "metadata": {},
   "outputs": [
    {
     "name": "stdout",
     "output_type": "stream",
     "text": [
      "Наибольшая цена за кв.м. в: \n",
      "                  notes_count  std_meter_cost\n",
      "locality_name                               \n",
      "санкт-петербург        15721   114849.008793 \n",
      "\n",
      "Наименьшая цена за кв.м. в: \n",
      "                notes_count  std_meter_cost\n",
      "locality_name                             \n",
      "выборг                 237    58141.909325\n"
     ]
    }
   ],
   "source": [
    "total_pivot = total_pivot.head(10)\n",
    "max_cost = total_pivot[total_pivot['std_meter_cost'] == total_pivot['std_meter_cost'].max()]\n",
    "min_cost = total_pivot[total_pivot['std_meter_cost'] == total_pivot['std_meter_cost'].min()]\n",
    "print('Наибольшая цена за кв.м. в:', '\\n', max_cost, '\\n')\n",
    "print('Наименьшая цена за кв.м. в:', '\\n', min_cost)"
   ]
  },
  {
   "cell_type": "markdown",
   "metadata": {},
   "source": [
    "**Итак, получается, что чемпион по стоимости кв. м. Санкт Петербург - ср. стоимость метра 114849р. Дешевле всего получится в Выборге, там ср. стоимость кв. м. 58141р.**"
   ]
  },
  {
   "cell_type": "markdown",
   "metadata": {},
   "source": [
    "#### Ранее мы посчитали расстояние до центра в километрах. Теперь выделим квартиры в Санкт-Петербурге с помощью столбца locality_name и вычислим их среднюю стоимость на разном удалении от центра. Учтём каждый километр расстояния: узнаем среднюю цену квартир в одном километре от центра, в двух и так далее. Опишем, как стоимость объектов зависит от расстояния до центра города — построим график изменения средней цены для каждого километра от центра Петербурга."
   ]
  },
  {
   "cell_type": "code",
   "execution_count": 60,
   "metadata": {},
   "outputs": [
    {
     "data": {
      "text/html": [
       "<div>\n",
       "<style scoped>\n",
       "    .dataframe tbody tr th:only-of-type {\n",
       "        vertical-align: middle;\n",
       "    }\n",
       "\n",
       "    .dataframe tbody tr th {\n",
       "        vertical-align: top;\n",
       "    }\n",
       "\n",
       "    .dataframe thead th {\n",
       "        text-align: right;\n",
       "    }\n",
       "</style>\n",
       "<table border=\"1\" class=\"dataframe\">\n",
       "  <thead>\n",
       "    <tr style=\"text-align: right;\">\n",
       "      <th></th>\n",
       "      <th>locality_name</th>\n",
       "      <th>last_price</th>\n",
       "      <th>center_km</th>\n",
       "    </tr>\n",
       "  </thead>\n",
       "  <tbody>\n",
       "    <tr>\n",
       "      <th>0</th>\n",
       "      <td>санкт-петербург</td>\n",
       "      <td>13.000</td>\n",
       "      <td>17</td>\n",
       "    </tr>\n",
       "    <tr>\n",
       "      <th>2</th>\n",
       "      <td>санкт-петербург</td>\n",
       "      <td>5.196</td>\n",
       "      <td>14</td>\n",
       "    </tr>\n",
       "    <tr>\n",
       "      <th>3</th>\n",
       "      <td>санкт-петербург</td>\n",
       "      <td>64.900</td>\n",
       "      <td>7</td>\n",
       "    </tr>\n",
       "    <tr>\n",
       "      <th>4</th>\n",
       "      <td>санкт-петербург</td>\n",
       "      <td>10.000</td>\n",
       "      <td>9</td>\n",
       "    </tr>\n",
       "    <tr>\n",
       "      <th>7</th>\n",
       "      <td>санкт-петербург</td>\n",
       "      <td>7.915</td>\n",
       "      <td>12</td>\n",
       "    </tr>\n",
       "    <tr>\n",
       "      <th>9</th>\n",
       "      <td>санкт-петербург</td>\n",
       "      <td>5.400</td>\n",
       "      <td>16</td>\n",
       "    </tr>\n",
       "    <tr>\n",
       "      <th>10</th>\n",
       "      <td>санкт-петербург</td>\n",
       "      <td>5.050</td>\n",
       "      <td>14</td>\n",
       "    </tr>\n",
       "    <tr>\n",
       "      <th>15</th>\n",
       "      <td>санкт-петербург</td>\n",
       "      <td>4.650</td>\n",
       "      <td>15</td>\n",
       "    </tr>\n",
       "    <tr>\n",
       "      <th>16</th>\n",
       "      <td>санкт-петербург</td>\n",
       "      <td>6.700</td>\n",
       "      <td>11</td>\n",
       "    </tr>\n",
       "    <tr>\n",
       "      <th>17</th>\n",
       "      <td>санкт-петербург</td>\n",
       "      <td>4.180</td>\n",
       "      <td>15</td>\n",
       "    </tr>\n",
       "  </tbody>\n",
       "</table>\n",
       "</div>"
      ],
      "text/plain": [
       "      locality_name  last_price  center_km\n",
       "0   санкт-петербург      13.000         17\n",
       "2   санкт-петербург       5.196         14\n",
       "3   санкт-петербург      64.900          7\n",
       "4   санкт-петербург      10.000          9\n",
       "7   санкт-петербург       7.915         12\n",
       "9   санкт-петербург       5.400         16\n",
       "10  санкт-петербург       5.050         14\n",
       "15  санкт-петербург       4.650         15\n",
       "16  санкт-петербург       6.700         11\n",
       "17  санкт-петербург       4.180         15"
      ]
     },
     "execution_count": 60,
     "metadata": {},
     "output_type": "execute_result"
    }
   ],
   "source": [
    "lama = data[data['locality_name'] == 'санкт-петербург']\n",
    "lama = lama[['locality_name','last_price', 'center_km']]\n",
    "lama['last_price'] = (lama['last_price']/1000000) #перевели стоимость в млн.руб.\n",
    "lama.head(10)"
   ]
  },
  {
   "cell_type": "code",
   "execution_count": 61,
   "metadata": {},
   "outputs": [
    {
     "data": {
      "text/plain": [
       "<AxesSubplot:xlabel='center_km'>"
      ]
     },
     "execution_count": 61,
     "metadata": {},
     "output_type": "execute_result"
    },
    {
     "data": {
      "image/png": "[encoded data removed]",
      "text/plain": [
       "<Figure size 432x288 with 1 Axes>"
      ]
     },
     "metadata": {
      "needs_background": "light"
     },
     "output_type": "display_data"
    }
   ],
   "source": [
    "std_lama = lama[['last_price','center_km']].groupby(['center_km']).mean()\n",
    "std_lama.head(10)\n",
    "std_lama.plot(xlabel='center_km',y='last_price')"
   ]
  },
  {
   "cell_type": "markdown",
   "metadata": {},
   "source": [
    "**Как и должно быть: чем ближе квартира к центру, тем выше цена. Выбросы я бы объяснил либо ошибкой выгрузки, либо тем, что в новостройках квартиры дороже, чем в старых домах.**\n",
    "- P.S. Зона зависимости от центра города заказнчивается за пределами границ города."
   ]
  },
  {
   "cell_type": "markdown",
   "metadata": {
    "id": "h7VpzkIDAwb-"
   },
   "source": [
    "### Напишите общий вывод"
   ]
  },
  {
   "cell_type": "markdown",
   "metadata": {},
   "source": [
    "***Общий вывод:***\n",
    "- **1. Успешно импортировали таблицу, определили проблемные места, оценили общую ситуацию с данными.**\n",
    "- **2. Провели предобработку данных, дополнили данные там, где возможно, поработали над их типом, подумали над возможными проблемами возникновения.**\n",
    "- **3. Добавили новые критерии/категории для дальнейшей оценки данных.**\n",
    "- **4. Больше всего объявлений квартир в самом Санкт-Петербурге, где самые популярные - \"однушки\" и \"двушки\" со средним ценником 5,5 млн.руб. По стоимости квартир с Питером посоревнуется, разве что, Пушкин. Там средние цены максимально приближены к значениям Северной Столицы. Быстрой продажей можно назвать срок до 44 дней, ну а медленной - дольше 259дн. (при этом \"нормально\" будет ждать продажи и 600 дней). Касательно зависимости стоимости квадратного метра от критериев, победителем выступает Общая площадь, где больший вес оказывает размер кухни (P.S. что соответствует действительности, поскольку ниже цена квартир в советских домах (\"кораблях\"/\"хрущёвках\"), где в реальности кухни по 5м.кв., я с женой рассматриваю квартиры в первую очередь из-за планировки). Лучше всего присматривать себе квартиру в январе, мае и октябре - в эти месяцы метр квадратный дешевле всего. А где же квадратный метр самый дешевый? - В Выборге, тогда как самый дорогой, естественно, в Санкт-Петербурге. Если бюджет ограничен - не советую смотреть квартиру в центре Северной Столицы - тут чем ближе к Дворцовой, тем дороже!**"
   ]
  }
 ],
 "metadata": {
  "ExecuteTimeLog": [
   {
    "duration": 741,
    "start_time": "2024-09-27T09:57:45.849Z"
   },
   {
    "duration": 95,
    "start_time": "2024-09-27T09:58:13.973Z"
   },
   {
    "duration": 106,
    "start_time": "2024-09-27T09:58:28.141Z"
   },
   {
    "duration": 5,
    "start_time": "2024-09-27T09:59:08.053Z"
   },
   {
    "duration": 60,
    "start_time": "2024-09-27T09:59:25.063Z"
   },
   {
    "duration": 60,
    "start_time": "2024-09-27T10:00:12.890Z"
   },
   {
    "duration": 60,
    "start_time": "2024-09-27T10:00:26.009Z"
   },
   {
    "duration": 57,
    "start_time": "2024-09-27T10:01:13.418Z"
   },
   {
    "duration": 58,
    "start_time": "2024-09-27T10:01:14.210Z"
   },
   {
    "duration": 138,
    "start_time": "2024-09-27T10:05:09.404Z"
   },
   {
    "duration": 13,
    "start_time": "2024-09-27T10:05:12.764Z"
   },
   {
    "duration": 345,
    "start_time": "2024-09-27T10:06:11.899Z"
   },
   {
    "duration": 144,
    "start_time": "2024-09-27T10:06:15.570Z"
   },
   {
    "duration": 14,
    "start_time": "2024-09-27T10:06:17.645Z"
   },
   {
    "duration": 163,
    "start_time": "2024-09-27T10:06:27.839Z"
   },
   {
    "duration": 9,
    "start_time": "2024-09-27T10:08:25.764Z"
   },
   {
    "duration": 39,
    "start_time": "2024-09-27T10:08:29.425Z"
   },
   {
    "duration": 41,
    "start_time": "2024-09-27T10:10:15.014Z"
   },
   {
    "duration": 44,
    "start_time": "2024-09-27T10:10:23.280Z"
   },
   {
    "duration": 1621,
    "start_time": "2024-09-27T10:11:50.346Z"
   },
   {
    "duration": 797,
    "start_time": "2024-09-27T10:22:49.680Z"
   },
   {
    "duration": 46,
    "start_time": "2024-09-27T10:22:52.877Z"
   },
   {
    "duration": 1103,
    "start_time": "2024-09-27T10:22:55.504Z"
   },
   {
    "duration": 62,
    "start_time": "2024-09-27T11:48:23.756Z"
   },
   {
    "duration": 57,
    "start_time": "2024-09-27T12:03:01.303Z"
   },
   {
    "duration": 1126,
    "start_time": "2024-09-27T12:03:10.375Z"
   },
   {
    "duration": 39,
    "start_time": "2024-09-27T12:08:09.902Z"
   },
   {
    "duration": 37,
    "start_time": "2024-09-27T12:08:16.372Z"
   },
   {
    "duration": 54,
    "start_time": "2024-09-27T12:09:01.190Z"
   },
   {
    "duration": 37,
    "start_time": "2024-09-27T12:09:07.686Z"
   },
   {
    "duration": 21,
    "start_time": "2024-09-27T12:09:30.989Z"
   },
   {
    "duration": 21,
    "start_time": "2024-09-27T12:23:45.504Z"
   },
   {
    "duration": 20,
    "start_time": "2024-09-27T12:26:40.977Z"
   },
   {
    "duration": 22,
    "start_time": "2024-09-27T12:33:17.603Z"
   },
   {
    "duration": 6,
    "start_time": "2024-09-27T12:33:19.963Z"
   },
   {
    "duration": 6,
    "start_time": "2024-09-27T12:33:32.326Z"
   },
   {
    "duration": 9,
    "start_time": "2024-09-27T12:34:02.902Z"
   },
   {
    "duration": 10,
    "start_time": "2024-09-27T12:34:22.769Z"
   },
   {
    "duration": 65,
    "start_time": "2024-09-27T13:07:30.461Z"
   },
   {
    "duration": 1142,
    "start_time": "2024-09-27T13:08:04.586Z"
   },
   {
    "duration": 9,
    "start_time": "2024-09-27T13:11:45.968Z"
   },
   {
    "duration": 9,
    "start_time": "2024-09-27T13:11:59.379Z"
   },
   {
    "duration": 11,
    "start_time": "2024-09-27T13:12:13.933Z"
   },
   {
    "duration": 43,
    "start_time": "2024-09-27T13:12:36.367Z"
   },
   {
    "duration": 57,
    "start_time": "2024-09-27T13:12:59.689Z"
   },
   {
    "duration": 433,
    "start_time": "2024-09-27T13:13:33.909Z"
   },
   {
    "duration": 1263,
    "start_time": "2024-09-27T13:13:52.671Z"
   },
   {
    "duration": 6,
    "start_time": "2024-09-27T13:36:41.132Z"
   },
   {
    "duration": 9,
    "start_time": "2024-09-27T13:37:03.047Z"
   },
   {
    "duration": 10,
    "start_time": "2024-09-27T13:37:52.290Z"
   },
   {
    "duration": 9,
    "start_time": "2024-09-27T13:38:08.147Z"
   },
   {
    "duration": 5,
    "start_time": "2024-09-27T13:38:57.368Z"
   },
   {
    "duration": 49,
    "start_time": "2024-09-27T13:43:22.701Z"
   },
   {
    "duration": 11,
    "start_time": "2024-09-27T13:43:24.951Z"
   },
   {
    "duration": 10,
    "start_time": "2024-09-27T13:43:36.847Z"
   },
   {
    "duration": 7,
    "start_time": "2024-09-27T13:44:24.187Z"
   },
   {
    "duration": 9,
    "start_time": "2024-09-27T13:45:46.250Z"
   },
   {
    "duration": 4,
    "start_time": "2024-09-27T13:45:50.563Z"
   },
   {
    "duration": 4,
    "start_time": "2024-09-27T13:46:07.195Z"
   },
   {
    "duration": 782,
    "start_time": "2024-09-27T13:48:00.491Z"
   },
   {
    "duration": 11,
    "start_time": "2024-09-27T13:48:06.239Z"
   },
   {
    "duration": 57,
    "start_time": "2024-09-27T13:51:23.675Z"
   },
   {
    "duration": 10,
    "start_time": "2024-09-27T13:51:31.058Z"
   },
   {
    "duration": 53,
    "start_time": "2024-09-27T13:51:53.460Z"
   },
   {
    "duration": 54,
    "start_time": "2024-09-27T13:52:16.051Z"
   },
   {
    "duration": 129,
    "start_time": "2024-09-27T13:52:22.403Z"
   },
   {
    "duration": 48,
    "start_time": "2024-09-27T13:52:28.046Z"
   },
   {
    "duration": 52,
    "start_time": "2024-09-27T13:52:30.294Z"
   },
   {
    "duration": 9,
    "start_time": "2024-09-27T13:52:48.250Z"
   },
   {
    "duration": 11,
    "start_time": "2024-09-27T13:54:15.239Z"
   },
   {
    "duration": 454,
    "start_time": "2024-09-27T14:01:07.211Z"
   },
   {
    "duration": 405,
    "start_time": "2024-09-27T14:01:20.798Z"
   },
   {
    "duration": 58,
    "start_time": "2024-09-27T14:01:50.275Z"
   },
   {
    "duration": 461,
    "start_time": "2024-09-27T14:02:00.481Z"
   },
   {
    "duration": 58,
    "start_time": "2024-09-27T14:03:34.331Z"
   },
   {
    "duration": 63,
    "start_time": "2024-09-27T14:04:09.466Z"
   },
   {
    "duration": 58,
    "start_time": "2024-09-27T14:04:18.620Z"
   },
   {
    "duration": 69,
    "start_time": "2024-09-27T14:04:23.781Z"
   },
   {
    "duration": 54,
    "start_time": "2024-09-27T14:04:51.611Z"
   },
   {
    "duration": 13,
    "start_time": "2024-09-27T14:04:53.991Z"
   },
   {
    "duration": 145,
    "start_time": "2024-09-27T14:05:07.918Z"
   },
   {
    "duration": 54,
    "start_time": "2024-09-27T14:05:09.930Z"
   },
   {
    "duration": 55,
    "start_time": "2024-09-27T14:05:31.983Z"
   },
   {
    "duration": 55,
    "start_time": "2024-09-27T14:05:36.697Z"
   },
   {
    "duration": 53,
    "start_time": "2024-09-27T14:05:50.241Z"
   },
   {
    "duration": 30,
    "start_time": "2024-09-27T14:06:01.506Z"
   },
   {
    "duration": 6,
    "start_time": "2024-09-27T14:27:07.612Z"
   },
   {
    "duration": 7,
    "start_time": "2024-09-27T14:27:13.539Z"
   },
   {
    "duration": 10,
    "start_time": "2024-09-27T14:27:17.543Z"
   },
   {
    "duration": 11,
    "start_time": "2024-09-27T14:33:02.125Z"
   },
   {
    "duration": 11,
    "start_time": "2024-09-27T14:33:09.876Z"
   },
   {
    "duration": 16,
    "start_time": "2024-09-27T14:33:15.622Z"
   },
   {
    "duration": 19,
    "start_time": "2024-09-27T14:33:22.426Z"
   },
   {
    "duration": 22,
    "start_time": "2024-09-27T14:33:42.017Z"
   },
   {
    "duration": 26,
    "start_time": "2024-09-27T14:33:56.407Z"
   },
   {
    "duration": 26,
    "start_time": "2024-09-27T14:34:09.780Z"
   },
   {
    "duration": 26,
    "start_time": "2024-09-27T14:34:18.766Z"
   },
   {
    "duration": 26,
    "start_time": "2024-09-27T14:34:56.021Z"
   },
   {
    "duration": 8,
    "start_time": "2024-09-27T14:35:03.494Z"
   },
   {
    "duration": 55,
    "start_time": "2024-09-27T14:36:46.565Z"
   },
   {
    "duration": 104,
    "start_time": "2024-09-27T14:36:51.558Z"
   },
   {
    "duration": 28,
    "start_time": "2024-09-27T14:37:27.443Z"
   },
   {
    "duration": 8,
    "start_time": "2024-09-27T14:37:34.011Z"
   },
   {
    "duration": 66,
    "start_time": "2024-09-27T14:38:36.115Z"
   },
   {
    "duration": 107,
    "start_time": "2024-09-27T14:39:44.774Z"
   },
   {
    "duration": 108,
    "start_time": "2024-09-27T14:40:09.164Z"
   },
   {
    "duration": 110,
    "start_time": "2024-09-27T14:42:58.371Z"
   },
   {
    "duration": 161,
    "start_time": "2024-09-27T14:48:14.585Z"
   },
   {
    "duration": 148,
    "start_time": "2024-09-27T14:48:59.796Z"
   },
   {
    "duration": 17,
    "start_time": "2024-09-27T14:55:33.734Z"
   },
   {
    "duration": 197,
    "start_time": "2024-09-27T14:59:56.834Z"
   },
   {
    "duration": 11,
    "start_time": "2024-09-27T14:59:59.685Z"
   },
   {
    "duration": 12,
    "start_time": "2024-09-27T15:00:04.500Z"
   },
   {
    "duration": 196,
    "start_time": "2024-09-27T15:00:13.034Z"
   },
   {
    "duration": 270,
    "start_time": "2024-09-27T15:00:38.591Z"
   },
   {
    "duration": 5,
    "start_time": "2024-09-27T15:00:49.527Z"
   },
   {
    "duration": 14,
    "start_time": "2024-09-27T15:00:59.505Z"
   },
   {
    "duration": 14,
    "start_time": "2024-09-27T15:01:48.880Z"
   },
   {
    "duration": 204,
    "start_time": "2024-09-27T15:02:02.240Z"
   },
   {
    "duration": 218,
    "start_time": "2024-09-27T15:04:32.884Z"
   },
   {
    "duration": 202,
    "start_time": "2024-09-27T15:04:45.666Z"
   },
   {
    "duration": 10,
    "start_time": "2024-09-27T15:05:06.019Z"
   },
   {
    "duration": 14,
    "start_time": "2024-09-27T15:05:14.393Z"
   },
   {
    "duration": 13,
    "start_time": "2024-09-27T15:05:18.089Z"
   },
   {
    "duration": 11,
    "start_time": "2024-09-27T15:05:28.496Z"
   },
   {
    "duration": 215,
    "start_time": "2024-09-27T15:05:47.892Z"
   },
   {
    "duration": 22,
    "start_time": "2024-09-27T15:06:21.322Z"
   },
   {
    "duration": 11,
    "start_time": "2024-09-27T15:07:06.366Z"
   },
   {
    "duration": 164,
    "start_time": "2024-09-27T15:08:21.396Z"
   },
   {
    "duration": 10,
    "start_time": "2024-09-27T15:22:59.140Z"
   },
   {
    "duration": 6,
    "start_time": "2024-09-27T15:23:14.148Z"
   },
   {
    "duration": 168,
    "start_time": "2024-09-27T15:23:21.613Z"
   },
   {
    "duration": 133,
    "start_time": "2024-09-27T15:23:22.111Z"
   },
   {
    "duration": 162,
    "start_time": "2024-09-27T15:23:23.023Z"
   },
   {
    "duration": 53,
    "start_time": "2024-09-27T15:23:25.775Z"
   },
   {
    "duration": 1117,
    "start_time": "2024-09-27T15:23:28.177Z"
   },
   {
    "duration": 45,
    "start_time": "2024-09-27T15:23:30.207Z"
   },
   {
    "duration": 159,
    "start_time": "2024-09-27T15:23:33.937Z"
   },
   {
    "duration": 55,
    "start_time": "2024-09-27T15:23:35.655Z"
   },
   {
    "duration": 1320,
    "start_time": "2024-09-27T15:23:38.849Z"
   },
   {
    "duration": 52,
    "start_time": "2024-09-27T15:23:41.280Z"
   },
   {
    "duration": 22,
    "start_time": "2024-09-27T15:23:42.697Z"
   },
   {
    "duration": 26,
    "start_time": "2024-09-27T15:23:46.944Z"
   },
   {
    "duration": 25,
    "start_time": "2024-09-27T15:23:47.829Z"
   },
   {
    "duration": 162,
    "start_time": "2024-09-27T15:23:49.142Z"
   },
   {
    "duration": 7,
    "start_time": "2024-09-27T15:23:52.129Z"
   },
   {
    "duration": 5,
    "start_time": "2024-09-27T15:23:54.332Z"
   },
   {
    "duration": 11,
    "start_time": "2024-09-27T15:23:55.701Z"
   },
   {
    "duration": 9,
    "start_time": "2024-09-27T15:23:57.098Z"
   },
   {
    "duration": 10,
    "start_time": "2024-09-27T15:23:58.926Z"
   },
   {
    "duration": 157,
    "start_time": "2024-09-27T15:24:00.577Z"
   },
   {
    "duration": 7,
    "start_time": "2024-09-27T15:59:01.415Z"
   },
   {
    "duration": 6,
    "start_time": "2024-09-27T15:59:18.407Z"
   },
   {
    "duration": 7,
    "start_time": "2024-09-27T15:59:32.773Z"
   },
   {
    "duration": 5,
    "start_time": "2024-09-27T15:59:37.582Z"
   },
   {
    "duration": 6,
    "start_time": "2024-09-27T15:59:57.522Z"
   },
   {
    "duration": 7,
    "start_time": "2024-09-27T16:02:36.580Z"
   },
   {
    "duration": 200,
    "start_time": "2024-09-27T16:03:46.136Z"
   },
   {
    "duration": 8,
    "start_time": "2024-09-27T16:03:53.203Z"
   },
   {
    "duration": 14,
    "start_time": "2024-09-27T16:03:55.815Z"
   },
   {
    "duration": 197,
    "start_time": "2024-09-27T16:04:54.608Z"
   },
   {
    "duration": 158,
    "start_time": "2024-09-27T16:05:27.520Z"
   },
   {
    "duration": 162,
    "start_time": "2024-09-27T16:05:39.313Z"
   },
   {
    "duration": 156,
    "start_time": "2024-09-27T16:05:44.698Z"
   },
   {
    "duration": 153,
    "start_time": "2024-09-27T16:05:48.901Z"
   },
   {
    "duration": 54,
    "start_time": "2024-09-27T16:05:49.270Z"
   },
   {
    "duration": 1155,
    "start_time": "2024-09-27T16:05:49.484Z"
   },
   {
    "duration": 39,
    "start_time": "2024-09-27T16:05:50.641Z"
   },
   {
    "duration": 21,
    "start_time": "2024-09-27T16:05:51.047Z"
   },
   {
    "duration": 27,
    "start_time": "2024-09-27T16:05:53.989Z"
   },
   {
    "duration": 160,
    "start_time": "2024-09-27T16:05:54.169Z"
   },
   {
    "duration": 7,
    "start_time": "2024-09-27T16:05:54.471Z"
   },
   {
    "duration": 5,
    "start_time": "2024-09-27T16:05:54.885Z"
   },
   {
    "duration": 12,
    "start_time": "2024-09-27T16:05:55.325Z"
   },
   {
    "duration": 10,
    "start_time": "2024-09-27T16:05:55.653Z"
   },
   {
    "duration": 12,
    "start_time": "2024-09-27T16:05:55.969Z"
   },
   {
    "duration": 6,
    "start_time": "2024-09-27T16:05:56.294Z"
   },
   {
    "duration": 219,
    "start_time": "2024-09-27T16:05:56.748Z"
   },
   {
    "duration": 12,
    "start_time": "2024-09-27T16:08:41.944Z"
   },
   {
    "duration": 7,
    "start_time": "2024-09-27T16:09:05.914Z"
   },
   {
    "duration": 4,
    "start_time": "2024-09-27T16:09:10.309Z"
   },
   {
    "duration": 11,
    "start_time": "2024-09-27T16:11:32.273Z"
   },
   {
    "duration": 443,
    "start_time": "2024-09-27T16:12:37.291Z"
   },
   {
    "duration": 772,
    "start_time": "2024-09-27T16:13:08.042Z"
   },
   {
    "duration": 21,
    "start_time": "2024-09-27T16:13:17.009Z"
   },
   {
    "duration": 25,
    "start_time": "2024-09-27T16:13:29.986Z"
   },
   {
    "duration": 22,
    "start_time": "2024-09-27T16:13:37.179Z"
   },
   {
    "duration": 27,
    "start_time": "2024-09-27T16:13:47.881Z"
   },
   {
    "duration": 21,
    "start_time": "2024-09-27T16:13:50.746Z"
   },
   {
    "duration": 20,
    "start_time": "2024-09-27T16:13:56.563Z"
   },
   {
    "duration": 22,
    "start_time": "2024-09-27T16:14:00.500Z"
   },
   {
    "duration": 27,
    "start_time": "2024-09-27T16:14:11.630Z"
   },
   {
    "duration": 52,
    "start_time": "2024-09-27T16:14:24.835Z"
   },
   {
    "duration": 20,
    "start_time": "2024-09-27T16:14:27.602Z"
   },
   {
    "duration": 18,
    "start_time": "2024-09-27T16:14:54.210Z"
   },
   {
    "duration": 23,
    "start_time": "2024-09-27T16:15:39.806Z"
   },
   {
    "duration": 19,
    "start_time": "2024-09-27T16:15:56.113Z"
   },
   {
    "duration": 19,
    "start_time": "2024-09-27T16:16:02.784Z"
   },
   {
    "duration": 35,
    "start_time": "2024-09-27T16:16:28.410Z"
   },
   {
    "duration": 37,
    "start_time": "2024-09-27T16:16:44.439Z"
   },
   {
    "duration": 11,
    "start_time": "2024-09-27T16:18:34.158Z"
   },
   {
    "duration": 18,
    "start_time": "2024-09-27T16:19:35.487Z"
   },
   {
    "duration": 237,
    "start_time": "2024-09-27T16:19:48.898Z"
   },
   {
    "duration": 195,
    "start_time": "2024-09-27T16:19:51.543Z"
   },
   {
    "duration": 12,
    "start_time": "2024-09-27T16:20:04.823Z"
   },
   {
    "duration": 181,
    "start_time": "2024-09-27T16:20:29.549Z"
   },
   {
    "duration": 52,
    "start_time": "2024-09-27T16:20:29.905Z"
   },
   {
    "duration": 1073,
    "start_time": "2024-09-27T16:20:30.339Z"
   },
   {
    "duration": 37,
    "start_time": "2024-09-27T16:20:32.186Z"
   },
   {
    "duration": 21,
    "start_time": "2024-09-27T16:20:33.434Z"
   },
   {
    "duration": 25,
    "start_time": "2024-09-27T16:20:34.941Z"
   },
   {
    "duration": 156,
    "start_time": "2024-09-27T16:20:35.545Z"
   },
   {
    "duration": 8,
    "start_time": "2024-09-27T16:20:40.624Z"
   },
   {
    "duration": 5,
    "start_time": "2024-09-27T16:20:42.292Z"
   },
   {
    "duration": 12,
    "start_time": "2024-09-27T16:20:44.016Z"
   },
   {
    "duration": 10,
    "start_time": "2024-09-27T16:20:47.898Z"
   },
   {
    "duration": 12,
    "start_time": "2024-09-27T16:20:51.021Z"
   },
   {
    "duration": 6,
    "start_time": "2024-09-27T16:20:58.437Z"
   },
   {
    "duration": 6,
    "start_time": "2024-09-27T16:21:09.778Z"
   },
   {
    "duration": 49,
    "start_time": "2024-09-27T16:21:45.563Z"
   },
   {
    "duration": 8,
    "start_time": "2024-09-27T16:22:49.438Z"
   },
   {
    "duration": 13,
    "start_time": "2024-09-27T16:23:46.432Z"
   },
   {
    "duration": 9,
    "start_time": "2024-09-27T16:23:54.916Z"
   },
   {
    "duration": 61,
    "start_time": "2024-09-27T16:24:03.861Z"
   },
   {
    "duration": 16,
    "start_time": "2024-09-27T16:24:10.624Z"
   },
   {
    "duration": 4,
    "start_time": "2024-09-27T16:24:52.106Z"
   },
   {
    "duration": 10,
    "start_time": "2024-09-27T16:25:02.603Z"
   },
   {
    "duration": 16,
    "start_time": "2024-09-27T16:25:33.460Z"
   },
   {
    "duration": 15,
    "start_time": "2024-09-27T16:26:22.933Z"
   },
   {
    "duration": 16,
    "start_time": "2024-09-27T16:26:34.122Z"
   },
   {
    "duration": 28,
    "start_time": "2024-09-27T16:26:55.096Z"
   },
   {
    "duration": 9,
    "start_time": "2024-09-27T16:27:04.670Z"
   },
   {
    "duration": 10,
    "start_time": "2024-09-27T16:27:13.694Z"
   },
   {
    "duration": 16,
    "start_time": "2024-09-27T16:27:49.004Z"
   },
   {
    "duration": 24,
    "start_time": "2024-09-27T16:27:55.286Z"
   },
   {
    "duration": 9,
    "start_time": "2024-09-27T16:28:30.749Z"
   },
   {
    "duration": 14,
    "start_time": "2024-09-27T16:29:06.633Z"
   },
   {
    "duration": 16,
    "start_time": "2024-09-27T16:29:15.069Z"
   },
   {
    "duration": 14,
    "start_time": "2024-09-27T16:29:26.947Z"
   },
   {
    "duration": 12,
    "start_time": "2024-09-27T16:29:59.649Z"
   },
   {
    "duration": 53,
    "start_time": "2024-09-27T16:30:26.098Z"
   },
   {
    "duration": 10,
    "start_time": "2024-09-27T16:31:48.442Z"
   },
   {
    "duration": 11,
    "start_time": "2024-09-27T16:31:54.795Z"
   },
   {
    "duration": 12,
    "start_time": "2024-09-27T16:32:02.500Z"
   },
   {
    "duration": 54,
    "start_time": "2024-09-27T16:32:51.262Z"
   },
   {
    "duration": 10,
    "start_time": "2024-09-27T16:33:42.965Z"
   },
   {
    "duration": 9,
    "start_time": "2024-09-27T16:33:55.514Z"
   },
   {
    "duration": 8,
    "start_time": "2024-09-27T16:34:52.720Z"
   },
   {
    "duration": 9,
    "start_time": "2024-09-27T16:34:57.578Z"
   },
   {
    "duration": 28,
    "start_time": "2024-09-27T16:35:09.439Z"
   },
   {
    "duration": 9,
    "start_time": "2024-09-27T16:35:39.889Z"
   },
   {
    "duration": 1727,
    "start_time": "2024-09-30T08:22:11.108Z"
   },
   {
    "duration": 59,
    "start_time": "2024-09-30T08:22:12.836Z"
   },
   {
    "duration": 1126,
    "start_time": "2024-09-30T08:22:12.897Z"
   },
   {
    "duration": 42,
    "start_time": "2024-09-30T08:22:14.368Z"
   },
   {
    "duration": 21,
    "start_time": "2024-09-30T08:22:15.118Z"
   },
   {
    "duration": 26,
    "start_time": "2024-09-30T08:22:15.841Z"
   },
   {
    "duration": 154,
    "start_time": "2024-09-30T08:22:19.511Z"
   },
   {
    "duration": 7,
    "start_time": "2024-09-30T08:22:27.828Z"
   },
   {
    "duration": 149,
    "start_time": "2024-09-30T08:22:33.184Z"
   },
   {
    "duration": 55,
    "start_time": "2024-09-30T08:22:34.475Z"
   },
   {
    "duration": 1184,
    "start_time": "2024-09-30T08:22:34.912Z"
   },
   {
    "duration": 38,
    "start_time": "2024-09-30T08:22:36.312Z"
   },
   {
    "duration": 21,
    "start_time": "2024-09-30T08:22:36.706Z"
   },
   {
    "duration": 29,
    "start_time": "2024-09-30T08:22:37.074Z"
   },
   {
    "duration": 159,
    "start_time": "2024-09-30T08:22:37.253Z"
   },
   {
    "duration": 7,
    "start_time": "2024-09-30T08:22:37.602Z"
   },
   {
    "duration": 4,
    "start_time": "2024-09-30T08:22:37.966Z"
   },
   {
    "duration": 11,
    "start_time": "2024-09-30T08:22:38.491Z"
   },
   {
    "duration": 9,
    "start_time": "2024-09-30T08:22:38.856Z"
   },
   {
    "duration": 12,
    "start_time": "2024-09-30T08:22:39.289Z"
   },
   {
    "duration": 7,
    "start_time": "2024-09-30T08:22:39.685Z"
   },
   {
    "duration": 4,
    "start_time": "2024-09-30T08:22:40.102Z"
   },
   {
    "duration": 50,
    "start_time": "2024-09-30T08:22:40.668Z"
   },
   {
    "duration": 109,
    "start_time": "2024-09-30T08:22:40.980Z"
   },
   {
    "duration": 8,
    "start_time": "2024-09-30T08:22:41.436Z"
   },
   {
    "duration": 9,
    "start_time": "2024-09-30T08:22:51.589Z"
   },
   {
    "duration": 155,
    "start_time": "2024-09-30T08:23:13.929Z"
   },
   {
    "duration": 56,
    "start_time": "2024-09-30T08:23:15.482Z"
   },
   {
    "duration": 1102,
    "start_time": "2024-09-30T08:23:16.063Z"
   },
   {
    "duration": 37,
    "start_time": "2024-09-30T08:23:18.817Z"
   },
   {
    "duration": 21,
    "start_time": "2024-09-30T08:23:20.018Z"
   },
   {
    "duration": 28,
    "start_time": "2024-09-30T08:23:27.413Z"
   },
   {
    "duration": 162,
    "start_time": "2024-09-30T08:23:29.181Z"
   },
   {
    "duration": 7,
    "start_time": "2024-09-30T08:23:34.443Z"
   },
   {
    "duration": 5,
    "start_time": "2024-09-30T08:23:36.731Z"
   },
   {
    "duration": 11,
    "start_time": "2024-09-30T08:23:38.047Z"
   },
   {
    "duration": 9,
    "start_time": "2024-09-30T08:23:41.491Z"
   },
   {
    "duration": 11,
    "start_time": "2024-09-30T08:23:42.379Z"
   },
   {
    "duration": 6,
    "start_time": "2024-09-30T08:23:44.260Z"
   },
   {
    "duration": 4,
    "start_time": "2024-09-30T08:23:46.156Z"
   },
   {
    "duration": 45,
    "start_time": "2024-09-30T08:23:49.210Z"
   },
   {
    "duration": 16,
    "start_time": "2024-09-30T08:23:53.022Z"
   },
   {
    "duration": 13,
    "start_time": "2024-09-30T08:23:56.122Z"
   },
   {
    "duration": 5,
    "start_time": "2024-09-30T08:24:57.300Z"
   },
   {
    "duration": 854,
    "start_time": "2024-09-30T08:25:23.195Z"
   },
   {
    "duration": 832,
    "start_time": "2024-09-30T08:25:25.672Z"
   },
   {
    "duration": 17,
    "start_time": "2024-09-30T08:25:36.315Z"
   },
   {
    "duration": 11,
    "start_time": "2024-09-30T08:25:59.582Z"
   },
   {
    "duration": 13,
    "start_time": "2024-09-30T08:26:10.944Z"
   },
   {
    "duration": 53,
    "start_time": "2024-09-30T08:26:27.424Z"
   },
   {
    "duration": 11,
    "start_time": "2024-09-30T08:26:29.731Z"
   },
   {
    "duration": 11,
    "start_time": "2024-09-30T08:26:42.373Z"
   },
   {
    "duration": 54,
    "start_time": "2024-09-30T08:26:50.683Z"
   },
   {
    "duration": 6,
    "start_time": "2024-09-30T08:26:52.743Z"
   },
   {
    "duration": 10,
    "start_time": "2024-09-30T08:27:33.720Z"
   },
   {
    "duration": 11,
    "start_time": "2024-09-30T08:27:39.534Z"
   },
   {
    "duration": 11,
    "start_time": "2024-09-30T08:27:43.922Z"
   },
   {
    "duration": 28,
    "start_time": "2024-09-30T08:27:53.130Z"
   },
   {
    "duration": 30,
    "start_time": "2024-09-30T08:28:07.967Z"
   },
   {
    "duration": 6,
    "start_time": "2024-09-30T08:28:15.379Z"
   },
   {
    "duration": 9,
    "start_time": "2024-09-30T08:29:18.304Z"
   },
   {
    "duration": 10,
    "start_time": "2024-09-30T08:29:32.314Z"
   },
   {
    "duration": 9,
    "start_time": "2024-09-30T08:29:38.246Z"
   },
   {
    "duration": 10,
    "start_time": "2024-09-30T08:29:42.961Z"
   },
   {
    "duration": 10,
    "start_time": "2024-09-30T08:29:46.162Z"
   },
   {
    "duration": 11,
    "start_time": "2024-09-30T08:30:03.162Z"
   },
   {
    "duration": 10,
    "start_time": "2024-09-30T08:30:06.825Z"
   },
   {
    "duration": 13,
    "start_time": "2024-09-30T08:30:11.234Z"
   },
   {
    "duration": 7,
    "start_time": "2024-09-30T08:32:36.034Z"
   },
   {
    "duration": 5,
    "start_time": "2024-09-30T08:32:49.511Z"
   },
   {
    "duration": 5,
    "start_time": "2024-09-30T08:32:50.529Z"
   },
   {
    "duration": 25,
    "start_time": "2024-09-30T08:37:10.541Z"
   },
   {
    "duration": 12,
    "start_time": "2024-09-30T08:39:01.420Z"
   },
   {
    "duration": 8,
    "start_time": "2024-09-30T08:39:10.536Z"
   },
   {
    "duration": 10,
    "start_time": "2024-09-30T08:39:17.559Z"
   },
   {
    "duration": 159,
    "start_time": "2024-09-30T08:41:08.901Z"
   },
   {
    "duration": 54,
    "start_time": "2024-09-30T08:41:09.105Z"
   },
   {
    "duration": 1152,
    "start_time": "2024-09-30T08:41:09.297Z"
   },
   {
    "duration": 53,
    "start_time": "2024-09-30T08:41:10.451Z"
   },
   {
    "duration": 24,
    "start_time": "2024-09-30T08:41:10.506Z"
   },
   {
    "duration": 28,
    "start_time": "2024-09-30T08:41:10.760Z"
   },
   {
    "duration": 163,
    "start_time": "2024-09-30T08:41:10.942Z"
   },
   {
    "duration": 7,
    "start_time": "2024-09-30T08:41:11.301Z"
   },
   {
    "duration": 5,
    "start_time": "2024-09-30T08:41:11.677Z"
   },
   {
    "duration": 14,
    "start_time": "2024-09-30T08:41:12.040Z"
   },
   {
    "duration": 10,
    "start_time": "2024-09-30T08:41:12.449Z"
   },
   {
    "duration": 12,
    "start_time": "2024-09-30T08:41:13.016Z"
   },
   {
    "duration": 7,
    "start_time": "2024-09-30T08:41:14.112Z"
   },
   {
    "duration": 4,
    "start_time": "2024-09-30T08:41:15.342Z"
   },
   {
    "duration": 44,
    "start_time": "2024-09-30T08:41:16.036Z"
   },
   {
    "duration": 10,
    "start_time": "2024-09-30T08:41:16.598Z"
   },
   {
    "duration": 9,
    "start_time": "2024-09-30T08:41:37.672Z"
   },
   {
    "duration": 7,
    "start_time": "2024-09-30T08:41:53.401Z"
   },
   {
    "duration": 5,
    "start_time": "2024-09-30T08:42:09.525Z"
   },
   {
    "duration": 3,
    "start_time": "2024-09-30T08:48:17.469Z"
   },
   {
    "duration": 10,
    "start_time": "2024-09-30T08:48:21.002Z"
   },
   {
    "duration": 18,
    "start_time": "2024-09-30T08:48:38.675Z"
   },
   {
    "duration": 8,
    "start_time": "2024-09-30T08:48:47.804Z"
   },
   {
    "duration": 20,
    "start_time": "2024-09-30T08:50:43.360Z"
   },
   {
    "duration": 253,
    "start_time": "2024-09-30T08:50:58.070Z"
   },
   {
    "duration": 205,
    "start_time": "2024-09-30T08:51:31.518Z"
   },
   {
    "duration": 317,
    "start_time": "2024-09-30T08:51:42.986Z"
   },
   {
    "duration": 8,
    "start_time": "2024-09-30T08:55:51.712Z"
   },
   {
    "duration": 5,
    "start_time": "2024-09-30T08:55:57.873Z"
   },
   {
    "duration": 6,
    "start_time": "2024-09-30T08:56:12.772Z"
   },
   {
    "duration": 8,
    "start_time": "2024-09-30T08:57:29.035Z"
   },
   {
    "duration": 5,
    "start_time": "2024-09-30T09:03:05.994Z"
   },
   {
    "duration": 6,
    "start_time": "2024-09-30T09:03:49.850Z"
   },
   {
    "duration": 12,
    "start_time": "2024-09-30T09:06:34.375Z"
   },
   {
    "duration": 43,
    "start_time": "2024-09-30T09:07:12.409Z"
   },
   {
    "duration": 60,
    "start_time": "2024-09-30T09:07:20.581Z"
   },
   {
    "duration": 27,
    "start_time": "2024-09-30T09:13:30.688Z"
   },
   {
    "duration": 12,
    "start_time": "2024-09-30T09:16:25.135Z"
   },
   {
    "duration": 37,
    "start_time": "2024-09-30T09:16:30.049Z"
   },
   {
    "duration": 1832,
    "start_time": "2024-09-30T09:25:11.178Z"
   },
   {
    "duration": 1993,
    "start_time": "2024-09-30T09:27:29.033Z"
   },
   {
    "duration": 11,
    "start_time": "2024-09-30T09:27:42.424Z"
   },
   {
    "duration": 30,
    "start_time": "2024-09-30T09:27:45.911Z"
   },
   {
    "duration": 2076,
    "start_time": "2024-09-30T09:28:14.172Z"
   },
   {
    "duration": 38,
    "start_time": "2024-09-30T09:28:16.250Z"
   },
   {
    "duration": 146,
    "start_time": "2024-09-30T09:28:53.191Z"
   },
   {
    "duration": 55,
    "start_time": "2024-09-30T09:28:53.825Z"
   },
   {
    "duration": 1155,
    "start_time": "2024-09-30T09:28:54.374Z"
   },
   {
    "duration": 40,
    "start_time": "2024-09-30T09:28:55.865Z"
   },
   {
    "duration": 22,
    "start_time": "2024-09-30T09:28:56.567Z"
   },
   {
    "duration": 26,
    "start_time": "2024-09-30T09:28:57.204Z"
   },
   {
    "duration": 165,
    "start_time": "2024-09-30T09:28:57.551Z"
   },
   {
    "duration": 7,
    "start_time": "2024-09-30T09:28:58.162Z"
   },
   {
    "duration": 6,
    "start_time": "2024-09-30T09:28:58.758Z"
   },
   {
    "duration": 18,
    "start_time": "2024-09-30T09:28:59.362Z"
   },
   {
    "duration": 14,
    "start_time": "2024-09-30T09:28:59.929Z"
   },
   {
    "duration": 18,
    "start_time": "2024-09-30T09:29:00.487Z"
   },
   {
    "duration": 8,
    "start_time": "2024-09-30T09:29:01.073Z"
   },
   {
    "duration": 5,
    "start_time": "2024-09-30T09:29:01.697Z"
   },
   {
    "duration": 45,
    "start_time": "2024-09-30T09:29:02.217Z"
   },
   {
    "duration": 50,
    "start_time": "2024-09-30T09:29:02.512Z"
   },
   {
    "duration": 27,
    "start_time": "2024-09-30T09:29:05.749Z"
   },
   {
    "duration": 37,
    "start_time": "2024-09-30T09:29:06.458Z"
   },
   {
    "duration": 1861,
    "start_time": "2024-09-30T09:29:07.406Z"
   },
   {
    "duration": 784,
    "start_time": "2024-09-30T09:29:09.305Z"
   },
   {
    "duration": 34,
    "start_time": "2024-09-30T09:29:26.468Z"
   },
   {
    "duration": 35,
    "start_time": "2024-09-30T09:29:31.980Z"
   },
   {
    "duration": 1951,
    "start_time": "2024-09-30T09:30:25.984Z"
   },
   {
    "duration": 1938,
    "start_time": "2024-09-30T09:30:28.322Z"
   },
   {
    "duration": 37,
    "start_time": "2024-09-30T09:30:30.262Z"
   },
   {
    "duration": 1307,
    "start_time": "2024-09-30T09:31:31.512Z"
   },
   {
    "duration": 63,
    "start_time": "2024-09-30T09:31:32.821Z"
   },
   {
    "duration": 1109,
    "start_time": "2024-09-30T09:31:32.885Z"
   },
   {
    "duration": 41,
    "start_time": "2024-09-30T09:31:33.996Z"
   },
   {
    "duration": 39,
    "start_time": "2024-09-30T09:31:34.038Z"
   },
   {
    "duration": 26,
    "start_time": "2024-09-30T09:31:34.078Z"
   },
   {
    "duration": 172,
    "start_time": "2024-09-30T09:31:34.106Z"
   },
   {
    "duration": 6,
    "start_time": "2024-09-30T09:31:34.280Z"
   },
   {
    "duration": 9,
    "start_time": "2024-09-30T09:31:34.288Z"
   },
   {
    "duration": 14,
    "start_time": "2024-09-30T09:31:34.299Z"
   },
   {
    "duration": 28,
    "start_time": "2024-09-30T09:31:34.314Z"
   },
   {
    "duration": 21,
    "start_time": "2024-09-30T09:31:34.344Z"
   },
   {
    "duration": 12,
    "start_time": "2024-09-30T09:31:34.367Z"
   },
   {
    "duration": 29,
    "start_time": "2024-09-30T09:31:34.381Z"
   },
   {
    "duration": 56,
    "start_time": "2024-09-30T09:31:34.412Z"
   },
   {
    "duration": 44,
    "start_time": "2024-09-30T09:31:34.470Z"
   },
   {
    "duration": 26,
    "start_time": "2024-09-30T09:31:34.516Z"
   },
   {
    "duration": 49,
    "start_time": "2024-09-30T09:31:34.544Z"
   },
   {
    "duration": 1920,
    "start_time": "2024-09-30T09:31:50.085Z"
   },
   {
    "duration": 46,
    "start_time": "2024-09-30T09:31:52.037Z"
   },
   {
    "duration": 148,
    "start_time": "2024-09-30T09:31:52.085Z"
   },
   {
    "duration": 53,
    "start_time": "2024-09-30T09:31:53.225Z"
   },
   {
    "duration": 1088,
    "start_time": "2024-09-30T09:31:54.059Z"
   },
   {
    "duration": 37,
    "start_time": "2024-09-30T09:31:55.716Z"
   },
   {
    "duration": 21,
    "start_time": "2024-09-30T09:31:56.152Z"
   },
   {
    "duration": 28,
    "start_time": "2024-09-30T09:31:56.492Z"
   },
   {
    "duration": 165,
    "start_time": "2024-09-30T09:31:56.661Z"
   },
   {
    "duration": 8,
    "start_time": "2024-09-30T09:31:56.970Z"
   },
   {
    "duration": 5,
    "start_time": "2024-09-30T09:31:57.279Z"
   },
   {
    "duration": 10,
    "start_time": "2024-09-30T09:31:57.574Z"
   },
   {
    "duration": 9,
    "start_time": "2024-09-30T09:31:57.875Z"
   },
   {
    "duration": 11,
    "start_time": "2024-09-30T09:31:58.437Z"
   },
   {
    "duration": 7,
    "start_time": "2024-09-30T09:31:59.370Z"
   },
   {
    "duration": 3,
    "start_time": "2024-09-30T09:32:00.015Z"
   },
   {
    "duration": 43,
    "start_time": "2024-09-30T09:32:00.521Z"
   },
   {
    "duration": 45,
    "start_time": "2024-09-30T09:32:00.697Z"
   },
   {
    "duration": 26,
    "start_time": "2024-09-30T09:32:02.863Z"
   },
   {
    "duration": 38,
    "start_time": "2024-09-30T09:32:03.535Z"
   },
   {
    "duration": 15403,
    "start_time": "2024-09-30T09:32:04.278Z"
   },
   {
    "duration": 28,
    "start_time": "2024-09-30T09:32:19.714Z"
   },
   {
    "duration": 53,
    "start_time": "2024-09-30T09:32:19.744Z"
   },
   {
    "duration": 895,
    "start_time": "2024-09-30T09:33:13.750Z"
   },
   {
    "duration": 1875,
    "start_time": "2024-09-30T09:35:42.451Z"
   },
   {
    "duration": 28,
    "start_time": "2024-09-30T09:35:46.205Z"
   },
   {
    "duration": 1855,
    "start_time": "2024-09-30T09:36:12.001Z"
   },
   {
    "duration": 29,
    "start_time": "2024-09-30T09:36:14.677Z"
   },
   {
    "duration": 148,
    "start_time": "2024-09-30T09:36:23.441Z"
   },
   {
    "duration": 56,
    "start_time": "2024-09-30T09:36:24.145Z"
   },
   {
    "duration": 1121,
    "start_time": "2024-09-30T09:36:24.722Z"
   },
   {
    "duration": 37,
    "start_time": "2024-09-30T09:36:27.281Z"
   },
   {
    "duration": 22,
    "start_time": "2024-09-30T09:36:28.497Z"
   },
   {
    "duration": 26,
    "start_time": "2024-09-30T09:36:29.646Z"
   },
   {
    "duration": 162,
    "start_time": "2024-09-30T09:36:30.291Z"
   },
   {
    "duration": 9,
    "start_time": "2024-09-30T09:36:31.531Z"
   },
   {
    "duration": 4,
    "start_time": "2024-09-30T09:36:32.760Z"
   },
   {
    "duration": 12,
    "start_time": "2024-09-30T09:36:33.875Z"
   },
   {
    "duration": 9,
    "start_time": "2024-09-30T09:36:35.388Z"
   },
   {
    "duration": 13,
    "start_time": "2024-09-30T09:36:36.388Z"
   },
   {
    "duration": 7,
    "start_time": "2024-09-30T09:36:37.559Z"
   },
   {
    "duration": 5,
    "start_time": "2024-09-30T09:36:38.745Z"
   },
   {
    "duration": 44,
    "start_time": "2024-09-30T09:36:40.218Z"
   },
   {
    "duration": 44,
    "start_time": "2024-09-30T09:36:41.214Z"
   },
   {
    "duration": 25,
    "start_time": "2024-09-30T09:36:44.790Z"
   },
   {
    "duration": 37,
    "start_time": "2024-09-30T09:36:45.683Z"
   },
   {
    "duration": 1943,
    "start_time": "2024-09-30T09:36:47.345Z"
   },
   {
    "duration": 29,
    "start_time": "2024-09-30T09:36:52.405Z"
   },
   {
    "duration": 3,
    "start_time": "2024-09-30T09:38:06.833Z"
   },
   {
    "duration": 14,
    "start_time": "2024-09-30T09:46:05.591Z"
   },
   {
    "duration": 13,
    "start_time": "2024-09-30T09:46:43.739Z"
   },
   {
    "duration": 220,
    "start_time": "2024-09-30T09:47:13.941Z"
   },
   {
    "duration": 227,
    "start_time": "2024-09-30T09:47:22.564Z"
   },
   {
    "duration": 30,
    "start_time": "2024-09-30T09:47:54.896Z"
   },
   {
    "duration": 156,
    "start_time": "2024-09-30T09:48:06.131Z"
   },
   {
    "duration": 53,
    "start_time": "2024-09-30T09:48:06.438Z"
   },
   {
    "duration": 1184,
    "start_time": "2024-09-30T09:48:06.854Z"
   },
   {
    "duration": 39,
    "start_time": "2024-09-30T09:48:08.245Z"
   },
   {
    "duration": 22,
    "start_time": "2024-09-30T09:48:08.747Z"
   },
   {
    "duration": 27,
    "start_time": "2024-09-30T09:48:09.208Z"
   },
   {
    "duration": 157,
    "start_time": "2024-09-30T09:48:09.449Z"
   },
   {
    "duration": 7,
    "start_time": "2024-09-30T09:48:09.949Z"
   },
   {
    "duration": 4,
    "start_time": "2024-09-30T09:48:10.395Z"
   },
   {
    "duration": 11,
    "start_time": "2024-09-30T09:48:10.844Z"
   },
   {
    "duration": 9,
    "start_time": "2024-09-30T09:48:11.432Z"
   },
   {
    "duration": 11,
    "start_time": "2024-09-30T09:48:12.086Z"
   },
   {
    "duration": 6,
    "start_time": "2024-09-30T09:48:12.956Z"
   },
   {
    "duration": 4,
    "start_time": "2024-09-30T09:48:13.889Z"
   },
   {
    "duration": 44,
    "start_time": "2024-09-30T09:48:14.461Z"
   },
   {
    "duration": 46,
    "start_time": "2024-09-30T09:48:15.115Z"
   },
   {
    "duration": 27,
    "start_time": "2024-09-30T09:48:17.428Z"
   },
   {
    "duration": 36,
    "start_time": "2024-09-30T09:48:18.814Z"
   },
   {
    "duration": 794,
    "start_time": "2024-09-30T09:48:19.383Z"
   },
   {
    "duration": 27,
    "start_time": "2024-09-30T09:48:20.327Z"
   },
   {
    "duration": 19,
    "start_time": "2024-09-30T09:49:04.045Z"
   },
   {
    "duration": 13,
    "start_time": "2024-09-30T09:50:04.092Z"
   },
   {
    "duration": 22,
    "start_time": "2024-09-30T09:50:24.937Z"
   },
   {
    "duration": 27,
    "start_time": "2024-09-30T09:50:29.502Z"
   },
   {
    "duration": 18,
    "start_time": "2024-09-30T09:58:10.278Z"
   },
   {
    "duration": 10,
    "start_time": "2024-09-30T09:59:11.008Z"
   },
   {
    "duration": 35,
    "start_time": "2024-09-30T10:02:25.880Z"
   },
   {
    "duration": 22,
    "start_time": "2024-09-30T10:02:39.985Z"
   },
   {
    "duration": 12,
    "start_time": "2024-09-30T10:03:24.256Z"
   },
   {
    "duration": 68,
    "start_time": "2024-09-30T10:03:39.237Z"
   },
   {
    "duration": 10,
    "start_time": "2024-09-30T10:03:58.064Z"
   },
   {
    "duration": 8,
    "start_time": "2024-09-30T10:04:09.236Z"
   },
   {
    "duration": 8,
    "start_time": "2024-09-30T10:04:27.691Z"
   },
   {
    "duration": 8,
    "start_time": "2024-09-30T10:04:39.854Z"
   },
   {
    "duration": 4,
    "start_time": "2024-09-30T10:04:53.617Z"
   },
   {
    "duration": 5,
    "start_time": "2024-09-30T10:05:05.322Z"
   },
   {
    "duration": 7,
    "start_time": "2024-09-30T10:05:36.577Z"
   },
   {
    "duration": 8,
    "start_time": "2024-09-30T10:05:51.720Z"
   },
   {
    "duration": 8,
    "start_time": "2024-09-30T10:06:10.826Z"
   },
   {
    "duration": 8,
    "start_time": "2024-09-30T10:06:15.831Z"
   },
   {
    "duration": 62,
    "start_time": "2024-09-30T10:07:35.882Z"
   },
   {
    "duration": 10,
    "start_time": "2024-09-30T10:07:50.092Z"
   },
   {
    "duration": 47,
    "start_time": "2024-09-30T10:09:07.679Z"
   },
   {
    "duration": 46,
    "start_time": "2024-09-30T10:09:11.550Z"
   },
   {
    "duration": 50,
    "start_time": "2024-09-30T10:09:26.969Z"
   },
   {
    "duration": 10,
    "start_time": "2024-09-30T10:56:31.340Z"
   },
   {
    "duration": 11,
    "start_time": "2024-09-30T10:56:40.126Z"
   },
   {
    "duration": 15,
    "start_time": "2024-09-30T10:56:55.756Z"
   },
   {
    "duration": 154,
    "start_time": "2024-09-30T10:57:22.170Z"
   },
   {
    "duration": 52,
    "start_time": "2024-09-30T10:57:24.716Z"
   },
   {
    "duration": 1084,
    "start_time": "2024-09-30T10:57:25.386Z"
   },
   {
    "duration": 42,
    "start_time": "2024-09-30T10:57:28.357Z"
   },
   {
    "duration": 21,
    "start_time": "2024-09-30T10:57:31.183Z"
   },
   {
    "duration": 26,
    "start_time": "2024-09-30T10:57:35.374Z"
   },
   {
    "duration": 159,
    "start_time": "2024-09-30T10:57:39.630Z"
   },
   {
    "duration": 6,
    "start_time": "2024-09-30T10:57:45.309Z"
   },
   {
    "duration": 11,
    "start_time": "2024-09-30T10:58:03.325Z"
   },
   {
    "duration": 15,
    "start_time": "2024-09-30T10:58:05.597Z"
   },
   {
    "duration": 9,
    "start_time": "2024-09-30T10:58:19.891Z"
   },
   {
    "duration": 15,
    "start_time": "2024-09-30T10:58:58.680Z"
   },
   {
    "duration": 96,
    "start_time": "2024-09-30T11:02:00.212Z"
   },
   {
    "duration": 30,
    "start_time": "2024-09-30T11:02:15.205Z"
   },
   {
    "duration": 54,
    "start_time": "2024-09-30T11:02:41.228Z"
   },
   {
    "duration": 106,
    "start_time": "2024-09-30T11:02:46.672Z"
   },
   {
    "duration": 152,
    "start_time": "2024-09-30T11:03:00.116Z"
   },
   {
    "duration": 106,
    "start_time": "2024-09-30T11:03:07.341Z"
   },
   {
    "duration": 105,
    "start_time": "2024-09-30T11:03:15.492Z"
   },
   {
    "duration": 93,
    "start_time": "2024-09-30T11:03:20.796Z"
   },
   {
    "duration": 2021,
    "start_time": "2024-09-30T11:03:52.755Z"
   },
   {
    "duration": 110,
    "start_time": "2024-09-30T11:32:04.572Z"
   },
   {
    "duration": 109,
    "start_time": "2024-09-30T11:32:59.439Z"
   },
   {
    "duration": 89,
    "start_time": "2024-09-30T11:33:04.612Z"
   },
   {
    "duration": 22,
    "start_time": "2024-09-30T11:37:41.036Z"
   },
   {
    "duration": 22,
    "start_time": "2024-09-30T11:39:05.010Z"
   },
   {
    "duration": 10,
    "start_time": "2024-09-30T11:39:12.243Z"
   },
   {
    "duration": 16,
    "start_time": "2024-09-30T11:39:23.870Z"
   },
   {
    "duration": 90,
    "start_time": "2024-09-30T11:40:21.823Z"
   },
   {
    "duration": 90,
    "start_time": "2024-09-30T11:40:43.684Z"
   },
   {
    "duration": 27,
    "start_time": "2024-09-30T11:40:50.521Z"
   },
   {
    "duration": 7,
    "start_time": "2024-09-30T11:42:03.594Z"
   },
   {
    "duration": 18,
    "start_time": "2024-09-30T11:42:46.909Z"
   },
   {
    "duration": 19,
    "start_time": "2024-09-30T11:42:56.474Z"
   },
   {
    "duration": 6,
    "start_time": "2024-09-30T11:43:42.662Z"
   },
   {
    "duration": 15,
    "start_time": "2024-09-30T11:43:45.333Z"
   },
   {
    "duration": 5,
    "start_time": "2024-09-30T11:44:11.567Z"
   },
   {
    "duration": 21,
    "start_time": "2024-09-30T11:49:47.819Z"
   },
   {
    "duration": 10,
    "start_time": "2024-09-30T11:49:52.745Z"
   },
   {
    "duration": 11,
    "start_time": "2024-09-30T11:50:09.345Z"
   },
   {
    "duration": 6,
    "start_time": "2024-09-30T11:50:51.656Z"
   },
   {
    "duration": 16,
    "start_time": "2024-09-30T11:52:14.850Z"
   },
   {
    "duration": 7,
    "start_time": "2024-09-30T11:52:23.223Z"
   },
   {
    "duration": 8,
    "start_time": "2024-09-30T11:53:43.184Z"
   },
   {
    "duration": 7,
    "start_time": "2024-09-30T11:53:47.426Z"
   },
   {
    "duration": 9,
    "start_time": "2024-09-30T11:54:10.291Z"
   },
   {
    "duration": 17,
    "start_time": "2024-09-30T11:55:57.091Z"
   },
   {
    "duration": 18,
    "start_time": "2024-09-30T11:56:09.668Z"
   },
   {
    "duration": 21,
    "start_time": "2024-09-30T11:56:21.264Z"
   },
   {
    "duration": 22,
    "start_time": "2024-09-30T11:56:48.954Z"
   },
   {
    "duration": 20,
    "start_time": "2024-09-30T11:57:14.124Z"
   },
   {
    "duration": 22,
    "start_time": "2024-09-30T11:57:17.487Z"
   },
   {
    "duration": 6,
    "start_time": "2024-09-30T11:57:27.047Z"
   },
   {
    "duration": 18,
    "start_time": "2024-09-30T11:57:28.308Z"
   },
   {
    "duration": 17,
    "start_time": "2024-09-30T11:57:49.586Z"
   },
   {
    "duration": 24,
    "start_time": "2024-09-30T11:58:05.461Z"
   },
   {
    "duration": 21,
    "start_time": "2024-09-30T11:58:10.926Z"
   },
   {
    "duration": 20,
    "start_time": "2024-09-30T11:58:16.764Z"
   },
   {
    "duration": 19,
    "start_time": "2024-09-30T11:58:39.066Z"
   },
   {
    "duration": 19,
    "start_time": "2024-09-30T11:58:49.631Z"
   },
   {
    "duration": 56,
    "start_time": "2024-09-30T11:58:58.028Z"
   },
   {
    "duration": 20,
    "start_time": "2024-09-30T11:59:04.812Z"
   },
   {
    "duration": 22,
    "start_time": "2024-09-30T12:00:30.772Z"
   },
   {
    "duration": 22,
    "start_time": "2024-09-30T12:00:42.295Z"
   },
   {
    "duration": 17,
    "start_time": "2024-09-30T12:00:55.003Z"
   },
   {
    "duration": 52,
    "start_time": "2024-09-30T12:01:22.359Z"
   },
   {
    "duration": 26,
    "start_time": "2024-09-30T12:02:09.080Z"
   },
   {
    "duration": 19,
    "start_time": "2024-09-30T12:02:19.669Z"
   },
   {
    "duration": 4,
    "start_time": "2024-09-30T12:03:32.848Z"
   },
   {
    "duration": 5,
    "start_time": "2024-09-30T12:03:36.003Z"
   },
   {
    "duration": 21,
    "start_time": "2024-09-30T12:06:00.578Z"
   },
   {
    "duration": 11,
    "start_time": "2024-09-30T12:06:01.721Z"
   },
   {
    "duration": 4,
    "start_time": "2024-09-30T12:06:02.718Z"
   },
   {
    "duration": 8,
    "start_time": "2024-09-30T12:06:03.502Z"
   },
   {
    "duration": 6,
    "start_time": "2024-09-30T12:06:06.010Z"
   },
   {
    "duration": 6,
    "start_time": "2024-09-30T12:07:06.618Z"
   },
   {
    "duration": 7,
    "start_time": "2024-09-30T12:07:15.996Z"
   },
   {
    "duration": 6,
    "start_time": "2024-09-30T12:07:43.627Z"
   },
   {
    "duration": 6,
    "start_time": "2024-09-30T12:09:21.696Z"
   },
   {
    "duration": 6,
    "start_time": "2024-09-30T12:09:47.391Z"
   },
   {
    "duration": 6,
    "start_time": "2024-09-30T12:09:52.325Z"
   },
   {
    "duration": 13,
    "start_time": "2024-09-30T12:12:00.362Z"
   },
   {
    "duration": 6,
    "start_time": "2024-09-30T12:15:02.393Z"
   },
   {
    "duration": 6,
    "start_time": "2024-09-30T12:15:06.635Z"
   },
   {
    "duration": 5,
    "start_time": "2024-09-30T12:15:10.849Z"
   },
   {
    "duration": 4,
    "start_time": "2024-09-30T12:16:05.901Z"
   },
   {
    "duration": 16,
    "start_time": "2024-09-30T12:16:12.553Z"
   },
   {
    "duration": 107,
    "start_time": "2024-09-30T12:18:57.449Z"
   },
   {
    "duration": 89,
    "start_time": "2024-09-30T12:18:58.811Z"
   },
   {
    "duration": 36,
    "start_time": "2024-09-30T12:18:59.370Z"
   },
   {
    "duration": 2104,
    "start_time": "2024-09-30T12:19:00.189Z"
   },
   {
    "duration": 21,
    "start_time": "2024-09-30T12:19:02.482Z"
   },
   {
    "duration": 10,
    "start_time": "2024-09-30T12:19:03.400Z"
   },
   {
    "duration": 16,
    "start_time": "2024-09-30T12:19:04.697Z"
   },
   {
    "duration": 6,
    "start_time": "2024-09-30T12:19:05.678Z"
   },
   {
    "duration": 17,
    "start_time": "2024-09-30T12:19:06.708Z"
   },
   {
    "duration": 9,
    "start_time": "2024-09-30T12:19:07.586Z"
   },
   {
    "duration": 4,
    "start_time": "2024-09-30T12:19:08.385Z"
   },
   {
    "duration": 8,
    "start_time": "2024-09-30T12:19:09.256Z"
   },
   {
    "duration": 7,
    "start_time": "2024-09-30T12:19:11.985Z"
   },
   {
    "duration": 7,
    "start_time": "2024-09-30T12:19:12.807Z"
   },
   {
    "duration": 4,
    "start_time": "2024-09-30T12:19:13.740Z"
   },
   {
    "duration": 16,
    "start_time": "2024-09-30T12:19:43.869Z"
   },
   {
    "duration": 6,
    "start_time": "2024-09-30T12:20:08.044Z"
   },
   {
    "duration": 4,
    "start_time": "2024-09-30T12:20:12.413Z"
   },
   {
    "duration": 4,
    "start_time": "2024-09-30T12:20:26.106Z"
   },
   {
    "duration": 7,
    "start_time": "2024-09-30T12:20:33.183Z"
   },
   {
    "duration": 5,
    "start_time": "2024-09-30T12:20:36.325Z"
   },
   {
    "duration": 30,
    "start_time": "2024-09-30T12:26:36.851Z"
   },
   {
    "duration": 31,
    "start_time": "2024-09-30T12:26:38.500Z"
   },
   {
    "duration": 33,
    "start_time": "2024-09-30T12:26:47.374Z"
   },
   {
    "duration": 35,
    "start_time": "2024-09-30T12:26:50.430Z"
   },
   {
    "duration": 33,
    "start_time": "2024-09-30T12:26:55.948Z"
   },
   {
    "duration": 9,
    "start_time": "2024-09-30T12:26:58.231Z"
   },
   {
    "duration": 7,
    "start_time": "2024-09-30T12:27:21.389Z"
   },
   {
    "duration": 6,
    "start_time": "2024-09-30T12:27:31.521Z"
   },
   {
    "duration": 5,
    "start_time": "2024-09-30T12:27:35.449Z"
   },
   {
    "duration": 36,
    "start_time": "2024-09-30T12:30:59.781Z"
   },
   {
    "duration": 6,
    "start_time": "2024-09-30T12:31:02.504Z"
   },
   {
    "duration": 6,
    "start_time": "2024-09-30T12:31:10.712Z"
   },
   {
    "duration": 11,
    "start_time": "2024-09-30T12:33:46.552Z"
   },
   {
    "duration": 11,
    "start_time": "2024-09-30T12:33:53.621Z"
   },
   {
    "duration": 10,
    "start_time": "2024-09-30T12:33:59.254Z"
   },
   {
    "duration": 12,
    "start_time": "2024-09-30T12:34:03.111Z"
   },
   {
    "duration": 11,
    "start_time": "2024-09-30T12:34:12.922Z"
   },
   {
    "duration": 5,
    "start_time": "2024-09-30T12:34:56.320Z"
   },
   {
    "duration": 6,
    "start_time": "2024-09-30T12:37:19.043Z"
   },
   {
    "duration": 7,
    "start_time": "2024-09-30T12:37:31.855Z"
   },
   {
    "duration": 6,
    "start_time": "2024-09-30T12:38:00.059Z"
   },
   {
    "duration": 7,
    "start_time": "2024-09-30T12:38:07.240Z"
   },
   {
    "duration": 6,
    "start_time": "2024-09-30T12:39:10.528Z"
   },
   {
    "duration": 6,
    "start_time": "2024-09-30T12:39:16.817Z"
   },
   {
    "duration": 7,
    "start_time": "2024-09-30T12:40:48.293Z"
   },
   {
    "duration": 18,
    "start_time": "2024-09-30T12:41:34.375Z"
   },
   {
    "duration": 18,
    "start_time": "2024-09-30T12:42:08.739Z"
   },
   {
    "duration": 17,
    "start_time": "2024-09-30T12:42:12.774Z"
   },
   {
    "duration": 17,
    "start_time": "2024-09-30T12:42:24.887Z"
   },
   {
    "duration": 15,
    "start_time": "2024-09-30T12:42:42.405Z"
   },
   {
    "duration": 12,
    "start_time": "2024-09-30T12:43:14.233Z"
   },
   {
    "duration": 18,
    "start_time": "2024-09-30T12:43:18.862Z"
   },
   {
    "duration": 15,
    "start_time": "2024-09-30T12:43:21.042Z"
   },
   {
    "duration": 16,
    "start_time": "2024-09-30T12:43:50.215Z"
   },
   {
    "duration": 20,
    "start_time": "2024-09-30T12:44:08.233Z"
   },
   {
    "duration": 15,
    "start_time": "2024-09-30T12:44:13.041Z"
   },
   {
    "duration": 16,
    "start_time": "2024-09-30T12:45:52.179Z"
   },
   {
    "duration": 7,
    "start_time": "2024-09-30T12:46:00.082Z"
   },
   {
    "duration": 5,
    "start_time": "2024-09-30T12:46:01.148Z"
   },
   {
    "duration": 18,
    "start_time": "2024-09-30T12:46:01.453Z"
   },
   {
    "duration": 17,
    "start_time": "2024-09-30T12:46:38.812Z"
   },
   {
    "duration": 19,
    "start_time": "2024-09-30T12:46:42.966Z"
   },
   {
    "duration": 19,
    "start_time": "2024-09-30T12:46:59.012Z"
   },
   {
    "duration": 111,
    "start_time": "2024-09-30T12:48:36.929Z"
   },
   {
    "duration": 88,
    "start_time": "2024-09-30T12:48:37.538Z"
   },
   {
    "duration": 28,
    "start_time": "2024-09-30T12:48:37.867Z"
   },
   {
    "duration": 1884,
    "start_time": "2024-09-30T12:48:38.186Z"
   },
   {
    "duration": 22,
    "start_time": "2024-09-30T12:48:40.077Z"
   },
   {
    "duration": 10,
    "start_time": "2024-09-30T12:48:40.100Z"
   },
   {
    "duration": 16,
    "start_time": "2024-09-30T12:48:40.112Z"
   },
   {
    "duration": 6,
    "start_time": "2024-09-30T12:48:40.130Z"
   },
   {
    "duration": 32,
    "start_time": "2024-09-30T12:48:40.318Z"
   },
   {
    "duration": 12,
    "start_time": "2024-09-30T12:48:40.636Z"
   },
   {
    "duration": 5,
    "start_time": "2024-09-30T12:48:40.933Z"
   },
   {
    "duration": 9,
    "start_time": "2024-09-30T12:48:41.261Z"
   },
   {
    "duration": 7,
    "start_time": "2024-09-30T12:48:41.572Z"
   },
   {
    "duration": 6,
    "start_time": "2024-09-30T12:48:41.895Z"
   },
   {
    "duration": 4,
    "start_time": "2024-09-30T12:48:42.212Z"
   },
   {
    "duration": 5,
    "start_time": "2024-09-30T12:48:42.512Z"
   },
   {
    "duration": 5,
    "start_time": "2024-09-30T12:48:42.822Z"
   },
   {
    "duration": 12,
    "start_time": "2024-09-30T12:48:42.977Z"
   },
   {
    "duration": 26,
    "start_time": "2024-09-30T12:48:43.452Z"
   },
   {
    "duration": 38,
    "start_time": "2024-09-30T12:48:44.165Z"
   },
   {
    "duration": 19,
    "start_time": "2024-09-30T12:48:47.265Z"
   },
   {
    "duration": 17,
    "start_time": "2024-09-30T12:48:55.066Z"
   },
   {
    "duration": 111,
    "start_time": "2024-09-30T12:49:03.307Z"
   },
   {
    "duration": 88,
    "start_time": "2024-09-30T12:49:03.916Z"
   },
   {
    "duration": 28,
    "start_time": "2024-09-30T12:49:04.391Z"
   },
   {
    "duration": 2087,
    "start_time": "2024-09-30T12:49:04.822Z"
   },
   {
    "duration": 22,
    "start_time": "2024-09-30T12:49:06.911Z"
   },
   {
    "duration": 10,
    "start_time": "2024-09-30T12:49:07.221Z"
   },
   {
    "duration": 17,
    "start_time": "2024-09-30T12:49:08.722Z"
   },
   {
    "duration": 7,
    "start_time": "2024-09-30T12:49:09.645Z"
   },
   {
    "duration": 34,
    "start_time": "2024-09-30T12:49:10.840Z"
   },
   {
    "duration": 10,
    "start_time": "2024-09-30T12:49:12.643Z"
   },
   {
    "duration": 5,
    "start_time": "2024-09-30T12:49:13.468Z"
   },
   {
    "duration": 9,
    "start_time": "2024-09-30T12:49:13.937Z"
   },
   {
    "duration": 7,
    "start_time": "2024-09-30T12:49:14.424Z"
   },
   {
    "duration": 6,
    "start_time": "2024-09-30T12:49:17.366Z"
   },
   {
    "duration": 4,
    "start_time": "2024-09-30T12:49:17.789Z"
   },
   {
    "duration": 6,
    "start_time": "2024-09-30T12:49:18.225Z"
   },
   {
    "duration": 5,
    "start_time": "2024-09-30T12:49:19.121Z"
   },
   {
    "duration": 11,
    "start_time": "2024-09-30T12:49:19.854Z"
   },
   {
    "duration": 59,
    "start_time": "2024-09-30T12:50:18.171Z"
   },
   {
    "duration": 17,
    "start_time": "2024-09-30T12:50:25.433Z"
   },
   {
    "duration": 24,
    "start_time": "2024-09-30T12:51:08.172Z"
   },
   {
    "duration": 16,
    "start_time": "2024-09-30T12:51:33.708Z"
   },
   {
    "duration": 10,
    "start_time": "2024-09-30T12:53:19.833Z"
   },
   {
    "duration": 24,
    "start_time": "2024-09-30T12:53:26.302Z"
   },
   {
    "duration": 18,
    "start_time": "2024-09-30T12:54:18.966Z"
   },
   {
    "duration": 112,
    "start_time": "2024-09-30T12:54:35.474Z"
   },
   {
    "duration": 96,
    "start_time": "2024-09-30T12:54:37.324Z"
   },
   {
    "duration": 30,
    "start_time": "2024-09-30T12:54:37.661Z"
   },
   {
    "duration": 2182,
    "start_time": "2024-09-30T12:54:37.886Z"
   },
   {
    "duration": 25,
    "start_time": "2024-09-30T12:54:40.070Z"
   },
   {
    "duration": 10,
    "start_time": "2024-09-30T12:54:40.097Z"
   },
   {
    "duration": 16,
    "start_time": "2024-09-30T12:54:40.109Z"
   },
   {
    "duration": 6,
    "start_time": "2024-09-30T12:54:40.127Z"
   },
   {
    "duration": 63,
    "start_time": "2024-09-30T12:54:40.135Z"
   },
   {
    "duration": 14,
    "start_time": "2024-09-30T12:54:40.200Z"
   },
   {
    "duration": 4,
    "start_time": "2024-09-30T12:54:40.412Z"
   },
   {
    "duration": 9,
    "start_time": "2024-09-30T12:54:40.745Z"
   },
   {
    "duration": 6,
    "start_time": "2024-09-30T12:54:41.078Z"
   },
   {
    "duration": 6,
    "start_time": "2024-09-30T12:54:41.684Z"
   },
   {
    "duration": 4,
    "start_time": "2024-09-30T12:54:41.835Z"
   },
   {
    "duration": 5,
    "start_time": "2024-09-30T12:54:42.181Z"
   },
   {
    "duration": 5,
    "start_time": "2024-09-30T12:54:42.547Z"
   },
   {
    "duration": 804,
    "start_time": "2024-09-30T12:54:42.746Z"
   },
   {
    "duration": 37,
    "start_time": "2024-09-30T12:54:43.552Z"
   },
   {
    "duration": 51,
    "start_time": "2024-09-30T12:54:45.036Z"
   },
   {
    "duration": 18,
    "start_time": "2024-09-30T12:54:45.649Z"
   },
   {
    "duration": 54,
    "start_time": "2024-09-30T12:55:55.788Z"
   },
   {
    "duration": 23,
    "start_time": "2024-09-30T12:56:16.844Z"
   },
   {
    "duration": 22,
    "start_time": "2024-09-30T12:56:36.295Z"
   },
   {
    "duration": 15,
    "start_time": "2024-09-30T12:56:42.351Z"
   },
   {
    "duration": 14,
    "start_time": "2024-09-30T12:56:46.329Z"
   },
   {
    "duration": 14,
    "start_time": "2024-09-30T12:57:00.917Z"
   },
   {
    "duration": 11,
    "start_time": "2024-09-30T12:59:20.294Z"
   },
   {
    "duration": 16,
    "start_time": "2024-09-30T12:59:53.344Z"
   },
   {
    "duration": 13,
    "start_time": "2024-09-30T12:59:58.904Z"
   },
   {
    "duration": 12,
    "start_time": "2024-09-30T13:00:16.904Z"
   },
   {
    "duration": 13,
    "start_time": "2024-09-30T13:00:27.377Z"
   },
   {
    "duration": 18,
    "start_time": "2024-09-30T13:02:15.080Z"
   },
   {
    "duration": 22,
    "start_time": "2024-09-30T13:02:25.707Z"
   },
   {
    "duration": 19,
    "start_time": "2024-09-30T13:03:13.174Z"
   },
   {
    "duration": 19,
    "start_time": "2024-09-30T13:03:25.043Z"
   },
   {
    "duration": 21,
    "start_time": "2024-09-30T13:03:26.433Z"
   },
   {
    "duration": 19,
    "start_time": "2024-09-30T13:03:27.041Z"
   },
   {
    "duration": 19,
    "start_time": "2024-09-30T13:03:27.212Z"
   },
   {
    "duration": 19,
    "start_time": "2024-09-30T13:03:30.929Z"
   },
   {
    "duration": 4,
    "start_time": "2024-09-30T13:03:36.707Z"
   },
   {
    "duration": 20,
    "start_time": "2024-09-30T13:03:38.471Z"
   },
   {
    "duration": 19,
    "start_time": "2024-09-30T13:04:02.491Z"
   },
   {
    "duration": 19,
    "start_time": "2024-09-30T13:04:05.009Z"
   },
   {
    "duration": 18,
    "start_time": "2024-09-30T13:04:32.767Z"
   },
   {
    "duration": 96,
    "start_time": "2024-09-30T13:04:45.815Z"
   },
   {
    "duration": 86,
    "start_time": "2024-09-30T13:04:46.134Z"
   },
   {
    "duration": 27,
    "start_time": "2024-09-30T13:04:46.284Z"
   },
   {
    "duration": 1900,
    "start_time": "2024-09-30T13:04:46.460Z"
   },
   {
    "duration": 30,
    "start_time": "2024-09-30T13:04:48.362Z"
   },
   {
    "duration": 11,
    "start_time": "2024-09-30T13:04:48.394Z"
   },
   {
    "duration": 15,
    "start_time": "2024-09-30T13:04:48.407Z"
   },
   {
    "duration": 6,
    "start_time": "2024-09-30T13:04:48.508Z"
   },
   {
    "duration": 33,
    "start_time": "2024-09-30T13:04:48.953Z"
   },
   {
    "duration": 9,
    "start_time": "2024-09-30T13:04:49.407Z"
   },
   {
    "duration": 5,
    "start_time": "2024-09-30T13:04:49.961Z"
   },
   {
    "duration": 13,
    "start_time": "2024-09-30T13:04:50.577Z"
   },
   {
    "duration": 6,
    "start_time": "2024-09-30T13:04:50.920Z"
   },
   {
    "duration": 6,
    "start_time": "2024-09-30T13:04:51.561Z"
   },
   {
    "duration": 4,
    "start_time": "2024-09-30T13:04:52.396Z"
   },
   {
    "duration": 5,
    "start_time": "2024-09-30T13:04:52.844Z"
   },
   {
    "duration": 6,
    "start_time": "2024-09-30T13:04:53.429Z"
   },
   {
    "duration": 15,
    "start_time": "2024-09-30T13:04:53.724Z"
   },
   {
    "duration": 12,
    "start_time": "2024-09-30T13:05:05.755Z"
   },
   {
    "duration": 1339,
    "start_time": "2024-09-30T13:05:28.407Z"
   },
   {
    "duration": 91,
    "start_time": "2024-09-30T13:05:29.748Z"
   },
   {
    "duration": 35,
    "start_time": "2024-09-30T13:05:29.841Z"
   },
   {
    "duration": 1942,
    "start_time": "2024-09-30T13:05:29.878Z"
   },
   {
    "duration": 27,
    "start_time": "2024-09-30T13:05:31.823Z"
   },
   {
    "duration": 20,
    "start_time": "2024-09-30T13:05:31.852Z"
   },
   {
    "duration": 93,
    "start_time": "2024-09-30T13:05:31.874Z"
   },
   {
    "duration": 6,
    "start_time": "2024-09-30T13:05:31.977Z"
   },
   {
    "duration": 46,
    "start_time": "2024-09-30T13:05:31.985Z"
   },
   {
    "duration": 10,
    "start_time": "2024-09-30T13:05:32.033Z"
   },
   {
    "duration": 5,
    "start_time": "2024-09-30T13:05:32.045Z"
   },
   {
    "duration": 29,
    "start_time": "2024-09-30T13:05:32.052Z"
   },
   {
    "duration": 29,
    "start_time": "2024-09-30T13:05:32.083Z"
   },
   {
    "duration": 18,
    "start_time": "2024-09-30T13:05:32.115Z"
   },
   {
    "duration": 5,
    "start_time": "2024-09-30T13:05:32.135Z"
   },
   {
    "duration": 16,
    "start_time": "2024-09-30T13:05:32.141Z"
   },
   {
    "duration": 5,
    "start_time": "2024-09-30T13:05:32.159Z"
   },
   {
    "duration": 14,
    "start_time": "2024-09-30T13:05:32.166Z"
   },
   {
    "duration": 26,
    "start_time": "2024-09-30T13:05:32.182Z"
   },
   {
    "duration": 67,
    "start_time": "2024-09-30T13:05:32.211Z"
   },
   {
    "duration": 121,
    "start_time": "2024-09-30T13:05:32.280Z"
   },
   {
    "duration": 0,
    "start_time": "2024-09-30T13:05:32.403Z"
   },
   {
    "duration": 0,
    "start_time": "2024-09-30T13:05:32.404Z"
   },
   {
    "duration": 22,
    "start_time": "2024-09-30T13:05:51.901Z"
   },
   {
    "duration": 22,
    "start_time": "2024-09-30T13:06:01.776Z"
   },
   {
    "duration": 1284,
    "start_time": "2024-09-30T13:06:16.090Z"
   },
   {
    "duration": 104,
    "start_time": "2024-09-30T13:06:17.376Z"
   },
   {
    "duration": 29,
    "start_time": "2024-09-30T13:06:17.482Z"
   },
   {
    "duration": 1995,
    "start_time": "2024-09-30T13:06:17.513Z"
   },
   {
    "duration": 26,
    "start_time": "2024-09-30T13:06:19.510Z"
   },
   {
    "duration": 10,
    "start_time": "2024-09-30T13:06:19.538Z"
   },
   {
    "duration": 27,
    "start_time": "2024-09-30T13:06:19.549Z"
   },
   {
    "duration": 7,
    "start_time": "2024-09-30T13:06:19.577Z"
   },
   {
    "duration": 34,
    "start_time": "2024-09-30T13:06:19.586Z"
   },
   {
    "duration": 9,
    "start_time": "2024-09-30T13:06:19.623Z"
   },
   {
    "duration": 4,
    "start_time": "2024-09-30T13:06:19.634Z"
   },
   {
    "duration": 36,
    "start_time": "2024-09-30T13:06:19.640Z"
   },
   {
    "duration": 85,
    "start_time": "2024-09-30T13:06:19.677Z"
   },
   {
    "duration": 17,
    "start_time": "2024-09-30T13:06:19.763Z"
   },
   {
    "duration": 4,
    "start_time": "2024-09-30T13:06:19.782Z"
   },
   {
    "duration": 7,
    "start_time": "2024-09-30T13:06:19.788Z"
   },
   {
    "duration": 5,
    "start_time": "2024-09-30T13:06:19.797Z"
   },
   {
    "duration": 24,
    "start_time": "2024-09-30T13:06:19.804Z"
   },
   {
    "duration": 81,
    "start_time": "2024-09-30T13:06:19.830Z"
   },
   {
    "duration": 39,
    "start_time": "2024-09-30T13:06:19.912Z"
   },
   {
    "duration": 150,
    "start_time": "2024-09-30T13:06:19.952Z"
   },
   {
    "duration": 0,
    "start_time": "2024-09-30T13:06:20.104Z"
   },
   {
    "duration": 0,
    "start_time": "2024-09-30T13:06:20.105Z"
   },
   {
    "duration": 27,
    "start_time": "2024-09-30T13:06:28.453Z"
   },
   {
    "duration": 1320,
    "start_time": "2024-09-30T13:06:38.144Z"
   },
   {
    "duration": 95,
    "start_time": "2024-09-30T13:06:39.466Z"
   },
   {
    "duration": 39,
    "start_time": "2024-09-30T13:06:39.564Z"
   },
   {
    "duration": 2010,
    "start_time": "2024-09-30T13:06:39.606Z"
   },
   {
    "duration": 27,
    "start_time": "2024-09-30T13:06:41.619Z"
   },
   {
    "duration": 10,
    "start_time": "2024-09-30T13:06:41.648Z"
   },
   {
    "duration": 26,
    "start_time": "2024-09-30T13:06:41.660Z"
   },
   {
    "duration": 7,
    "start_time": "2024-09-30T13:06:41.688Z"
   },
   {
    "duration": 34,
    "start_time": "2024-09-30T13:06:41.697Z"
   },
   {
    "duration": 9,
    "start_time": "2024-09-30T13:06:41.735Z"
   },
   {
    "duration": 6,
    "start_time": "2024-09-30T13:06:41.776Z"
   },
   {
    "duration": 9,
    "start_time": "2024-09-30T13:06:41.784Z"
   },
   {
    "duration": 105,
    "start_time": "2024-09-30T13:06:41.795Z"
   },
   {
    "duration": 7,
    "start_time": "2024-09-30T13:06:41.902Z"
   },
   {
    "duration": 4,
    "start_time": "2024-09-30T13:06:41.910Z"
   },
   {
    "duration": 6,
    "start_time": "2024-09-30T13:06:41.916Z"
   },
   {
    "duration": 6,
    "start_time": "2024-09-30T13:06:41.924Z"
   },
   {
    "duration": 57,
    "start_time": "2024-09-30T13:06:41.931Z"
   },
   {
    "duration": 26,
    "start_time": "2024-09-30T13:06:41.989Z"
   },
   {
    "duration": 37,
    "start_time": "2024-09-30T13:06:42.017Z"
   },
   {
    "duration": 121,
    "start_time": "2024-09-30T13:06:42.076Z"
   },
   {
    "duration": 0,
    "start_time": "2024-09-30T13:06:42.199Z"
   },
   {
    "duration": 0,
    "start_time": "2024-09-30T13:06:42.201Z"
   },
   {
    "duration": 14,
    "start_time": "2024-09-30T13:11:27.371Z"
   },
   {
    "duration": 9,
    "start_time": "2024-09-30T13:13:18.013Z"
   },
   {
    "duration": 18,
    "start_time": "2024-09-30T13:13:28.933Z"
   },
   {
    "duration": 15,
    "start_time": "2024-09-30T13:13:36.228Z"
   },
   {
    "duration": 13,
    "start_time": "2024-09-30T13:13:49.527Z"
   },
   {
    "duration": 21,
    "start_time": "2024-09-30T13:13:59.548Z"
   },
   {
    "duration": 27,
    "start_time": "2024-09-30T13:14:09.810Z"
   },
   {
    "duration": 1325,
    "start_time": "2024-09-30T13:14:30.443Z"
   },
   {
    "duration": 97,
    "start_time": "2024-09-30T13:14:31.770Z"
   },
   {
    "duration": 33,
    "start_time": "2024-09-30T13:14:31.869Z"
   },
   {
    "duration": 1992,
    "start_time": "2024-09-30T13:14:31.904Z"
   },
   {
    "duration": 27,
    "start_time": "2024-09-30T13:14:33.898Z"
   },
   {
    "duration": 10,
    "start_time": "2024-09-30T13:14:33.926Z"
   },
   {
    "duration": 97,
    "start_time": "2024-09-30T13:14:33.938Z"
   },
   {
    "duration": 7,
    "start_time": "2024-09-30T13:14:34.036Z"
   },
   {
    "duration": 49,
    "start_time": "2024-09-30T13:14:34.045Z"
   },
   {
    "duration": 26,
    "start_time": "2024-09-30T13:14:34.096Z"
   },
   {
    "duration": 20,
    "start_time": "2024-09-30T13:14:34.124Z"
   },
   {
    "duration": 14,
    "start_time": "2024-09-30T13:14:34.145Z"
   },
   {
    "duration": 10,
    "start_time": "2024-09-30T13:14:34.160Z"
   },
   {
    "duration": 7,
    "start_time": "2024-09-30T13:14:34.173Z"
   },
   {
    "duration": 8,
    "start_time": "2024-09-30T13:14:34.182Z"
   },
   {
    "duration": 54,
    "start_time": "2024-09-30T13:14:34.191Z"
   },
   {
    "duration": 7,
    "start_time": "2024-09-30T13:14:34.246Z"
   },
   {
    "duration": 27,
    "start_time": "2024-09-30T13:14:34.255Z"
   },
   {
    "duration": 50,
    "start_time": "2024-09-30T13:14:34.283Z"
   },
   {
    "duration": 116,
    "start_time": "2024-09-30T13:14:34.334Z"
   },
   {
    "duration": 0,
    "start_time": "2024-09-30T13:14:34.451Z"
   },
   {
    "duration": 0,
    "start_time": "2024-09-30T13:14:34.452Z"
   },
   {
    "duration": 8,
    "start_time": "2024-09-30T13:15:36.453Z"
   },
   {
    "duration": 15,
    "start_time": "2024-09-30T13:15:49.720Z"
   },
   {
    "duration": 16,
    "start_time": "2024-09-30T13:15:56.933Z"
   },
   {
    "duration": 12,
    "start_time": "2024-09-30T13:16:49.255Z"
   },
   {
    "duration": 11,
    "start_time": "2024-09-30T13:17:27.447Z"
   },
   {
    "duration": 48,
    "start_time": "2024-09-30T13:17:48.930Z"
   },
   {
    "duration": 25,
    "start_time": "2024-09-30T13:17:51.051Z"
   },
   {
    "duration": 10,
    "start_time": "2024-09-30T13:18:16.385Z"
   },
   {
    "duration": 10,
    "start_time": "2024-09-30T13:18:21.686Z"
   },
   {
    "duration": 34,
    "start_time": "2024-09-30T13:18:38.896Z"
   },
   {
    "duration": 1301,
    "start_time": "2024-09-30T13:19:04.655Z"
   },
   {
    "duration": 104,
    "start_time": "2024-09-30T13:19:05.958Z"
   },
   {
    "duration": 38,
    "start_time": "2024-09-30T13:19:06.064Z"
   },
   {
    "duration": 1960,
    "start_time": "2024-09-30T13:19:06.104Z"
   },
   {
    "duration": 26,
    "start_time": "2024-09-30T13:19:08.066Z"
   },
   {
    "duration": 10,
    "start_time": "2024-09-30T13:19:08.093Z"
   },
   {
    "duration": 16,
    "start_time": "2024-09-30T13:19:08.105Z"
   },
   {
    "duration": 6,
    "start_time": "2024-09-30T13:19:08.122Z"
   },
   {
    "duration": 64,
    "start_time": "2024-09-30T13:19:08.130Z"
   },
   {
    "duration": 12,
    "start_time": "2024-09-30T13:19:08.197Z"
   },
   {
    "duration": 5,
    "start_time": "2024-09-30T13:19:08.212Z"
   },
   {
    "duration": 42,
    "start_time": "2024-09-30T13:19:08.220Z"
   },
   {
    "duration": 84,
    "start_time": "2024-09-30T13:19:08.264Z"
   },
   {
    "duration": 6,
    "start_time": "2024-09-30T13:19:08.350Z"
   },
   {
    "duration": 10,
    "start_time": "2024-09-30T13:19:08.357Z"
   },
   {
    "duration": 7,
    "start_time": "2024-09-30T13:19:08.369Z"
   },
   {
    "duration": 5,
    "start_time": "2024-09-30T13:19:08.377Z"
   },
   {
    "duration": 7,
    "start_time": "2024-09-30T13:19:08.383Z"
   },
   {
    "duration": 27,
    "start_time": "2024-09-30T13:19:08.391Z"
   },
   {
    "duration": 66,
    "start_time": "2024-09-30T13:19:08.419Z"
   },
   {
    "duration": 119,
    "start_time": "2024-09-30T13:19:08.486Z"
   },
   {
    "duration": 0,
    "start_time": "2024-09-30T13:19:08.607Z"
   },
   {
    "duration": 0,
    "start_time": "2024-09-30T13:19:08.608Z"
   },
   {
    "duration": 6,
    "start_time": "2024-09-30T13:19:19.408Z"
   },
   {
    "duration": 5,
    "start_time": "2024-09-30T13:20:06.545Z"
   },
   {
    "duration": 7,
    "start_time": "2024-09-30T13:20:41.208Z"
   },
   {
    "duration": 10,
    "start_time": "2024-09-30T13:27:35.878Z"
   },
   {
    "duration": 11,
    "start_time": "2024-09-30T13:27:45.433Z"
   },
   {
    "duration": 13,
    "start_time": "2024-09-30T13:27:55.220Z"
   },
   {
    "duration": 63,
    "start_time": "2024-09-30T13:29:35.658Z"
   },
   {
    "duration": 1278,
    "start_time": "2024-09-30T13:31:31.997Z"
   },
   {
    "duration": 100,
    "start_time": "2024-09-30T13:31:33.277Z"
   },
   {
    "duration": 27,
    "start_time": "2024-09-30T13:31:33.379Z"
   },
   {
    "duration": 1999,
    "start_time": "2024-09-30T13:31:33.409Z"
   },
   {
    "duration": 27,
    "start_time": "2024-09-30T13:31:35.411Z"
   },
   {
    "duration": 11,
    "start_time": "2024-09-30T13:31:35.440Z"
   },
   {
    "duration": 29,
    "start_time": "2024-09-30T13:31:35.453Z"
   },
   {
    "duration": 7,
    "start_time": "2024-09-30T13:31:35.484Z"
   },
   {
    "duration": 45,
    "start_time": "2024-09-30T13:31:35.493Z"
   },
   {
    "duration": 10,
    "start_time": "2024-09-30T13:31:35.541Z"
   },
   {
    "duration": 24,
    "start_time": "2024-09-30T13:31:35.552Z"
   },
   {
    "duration": 11,
    "start_time": "2024-09-30T13:31:35.578Z"
   },
   {
    "duration": 100,
    "start_time": "2024-09-30T13:31:35.591Z"
   },
   {
    "duration": 7,
    "start_time": "2024-09-30T13:31:35.693Z"
   },
   {
    "duration": 5,
    "start_time": "2024-09-30T13:31:35.702Z"
   },
   {
    "duration": 8,
    "start_time": "2024-09-30T13:31:35.708Z"
   },
   {
    "duration": 16,
    "start_time": "2024-09-30T13:31:35.717Z"
   },
   {
    "duration": 25,
    "start_time": "2024-09-30T13:31:35.735Z"
   },
   {
    "duration": 39,
    "start_time": "2024-09-30T13:31:35.761Z"
   },
   {
    "duration": 47,
    "start_time": "2024-09-30T13:31:35.802Z"
   },
   {
    "duration": 127,
    "start_time": "2024-09-30T13:31:35.851Z"
   },
   {
    "duration": 0,
    "start_time": "2024-09-30T13:31:35.980Z"
   },
   {
    "duration": 0,
    "start_time": "2024-09-30T13:31:35.981Z"
   },
   {
    "duration": 13,
    "start_time": "2024-09-30T13:33:10.627Z"
   },
   {
    "duration": 10,
    "start_time": "2024-09-30T13:33:53.715Z"
   },
   {
    "duration": 40,
    "start_time": "2024-09-30T13:34:10.439Z"
   },
   {
    "duration": 40,
    "start_time": "2024-09-30T13:37:06.881Z"
   },
   {
    "duration": 60,
    "start_time": "2024-09-30T13:38:15.148Z"
   },
   {
    "duration": 72,
    "start_time": "2024-09-30T13:40:05.241Z"
   },
   {
    "duration": 40,
    "start_time": "2024-09-30T13:40:20.478Z"
   },
   {
    "duration": 33,
    "start_time": "2024-09-30T13:43:05.654Z"
   },
   {
    "duration": 17,
    "start_time": "2024-09-30T13:43:33.546Z"
   },
   {
    "duration": 19,
    "start_time": "2024-09-30T13:44:12.098Z"
   },
   {
    "duration": 303,
    "start_time": "2024-09-30T13:44:40.748Z"
   },
   {
    "duration": 293,
    "start_time": "2024-09-30T13:45:14.824Z"
   },
   {
    "duration": 287,
    "start_time": "2024-09-30T13:45:19.610Z"
   },
   {
    "duration": 365,
    "start_time": "2024-09-30T13:45:24.913Z"
   },
   {
    "duration": 308,
    "start_time": "2024-09-30T13:45:32.108Z"
   },
   {
    "duration": 52,
    "start_time": "2024-09-30T13:45:42.783Z"
   },
   {
    "duration": 282,
    "start_time": "2024-09-30T13:45:49.049Z"
   },
   {
    "duration": 11,
    "start_time": "2024-09-30T13:46:11.620Z"
   },
   {
    "duration": 15,
    "start_time": "2024-09-30T13:47:20.509Z"
   },
   {
    "duration": 6,
    "start_time": "2024-09-30T13:49:45.100Z"
   },
   {
    "duration": 4,
    "start_time": "2024-09-30T13:49:49.402Z"
   },
   {
    "duration": 4,
    "start_time": "2024-09-30T14:08:11.661Z"
   },
   {
    "duration": 6,
    "start_time": "2024-09-30T14:08:29.183Z"
   },
   {
    "duration": 6,
    "start_time": "2024-09-30T14:08:33.748Z"
   },
   {
    "duration": 6,
    "start_time": "2024-09-30T14:08:36.899Z"
   },
   {
    "duration": 5,
    "start_time": "2024-09-30T14:08:39.583Z"
   },
   {
    "duration": 5,
    "start_time": "2024-09-30T14:08:47.911Z"
   },
   {
    "duration": 10,
    "start_time": "2024-09-30T14:08:53.776Z"
   },
   {
    "duration": 4,
    "start_time": "2024-09-30T14:08:56.949Z"
   },
   {
    "duration": 6,
    "start_time": "2024-09-30T14:09:03.606Z"
   },
   {
    "duration": 4,
    "start_time": "2024-09-30T14:09:10.489Z"
   },
   {
    "duration": 5,
    "start_time": "2024-09-30T14:09:46.676Z"
   },
   {
    "duration": 7,
    "start_time": "2024-09-30T14:09:54.735Z"
   },
   {
    "duration": 7,
    "start_time": "2024-09-30T14:09:58.764Z"
   },
   {
    "duration": 6,
    "start_time": "2024-09-30T14:10:02.760Z"
   },
   {
    "duration": 7,
    "start_time": "2024-09-30T14:10:05.897Z"
   },
   {
    "duration": 7,
    "start_time": "2024-09-30T14:10:28.765Z"
   },
   {
    "duration": 12,
    "start_time": "2024-09-30T14:10:29.066Z"
   },
   {
    "duration": 28,
    "start_time": "2024-09-30T14:10:29.717Z"
   },
   {
    "duration": 39,
    "start_time": "2024-09-30T14:10:29.868Z"
   },
   {
    "duration": 283,
    "start_time": "2024-09-30T14:10:30.747Z"
   },
   {
    "duration": 7,
    "start_time": "2024-09-30T14:10:31.196Z"
   },
   {
    "duration": 4,
    "start_time": "2024-09-30T14:10:34.324Z"
   },
   {
    "duration": 5,
    "start_time": "2024-09-30T14:10:43.594Z"
   },
   {
    "duration": 6,
    "start_time": "2024-09-30T14:11:07.275Z"
   },
   {
    "duration": 10,
    "start_time": "2024-09-30T14:11:11.321Z"
   },
   {
    "duration": 5,
    "start_time": "2024-09-30T14:11:15.718Z"
   },
   {
    "duration": 6,
    "start_time": "2024-09-30T14:11:21.725Z"
   },
   {
    "duration": 6,
    "start_time": "2024-09-30T14:11:24.526Z"
   },
   {
    "duration": 6,
    "start_time": "2024-09-30T14:11:28.838Z"
   },
   {
    "duration": 1298,
    "start_time": "2024-09-30T14:12:11.859Z"
   },
   {
    "duration": 96,
    "start_time": "2024-09-30T14:12:13.158Z"
   },
   {
    "duration": 32,
    "start_time": "2024-09-30T14:12:13.256Z"
   },
   {
    "duration": 1998,
    "start_time": "2024-09-30T14:12:13.290Z"
   },
   {
    "duration": 27,
    "start_time": "2024-09-30T14:12:15.291Z"
   },
   {
    "duration": 17,
    "start_time": "2024-09-30T14:12:15.320Z"
   },
   {
    "duration": 104,
    "start_time": "2024-09-30T14:12:15.339Z"
   },
   {
    "duration": 5,
    "start_time": "2024-09-30T14:12:15.445Z"
   },
   {
    "duration": 42,
    "start_time": "2024-09-30T14:12:15.452Z"
   },
   {
    "duration": 9,
    "start_time": "2024-09-30T14:12:15.497Z"
   },
   {
    "duration": 5,
    "start_time": "2024-09-30T14:12:15.508Z"
   },
   {
    "duration": 10,
    "start_time": "2024-09-30T14:12:15.514Z"
   },
   {
    "duration": 14,
    "start_time": "2024-09-30T14:12:15.526Z"
   },
   {
    "duration": 7,
    "start_time": "2024-09-30T14:12:15.542Z"
   },
   {
    "duration": 25,
    "start_time": "2024-09-30T14:12:15.551Z"
   },
   {
    "duration": 28,
    "start_time": "2024-09-30T14:12:15.577Z"
   },
   {
    "duration": 31,
    "start_time": "2024-09-30T14:12:15.607Z"
   },
   {
    "duration": 7,
    "start_time": "2024-09-30T14:12:15.640Z"
   },
   {
    "duration": 13,
    "start_time": "2024-09-30T14:12:15.648Z"
   },
   {
    "duration": 27,
    "start_time": "2024-09-30T14:12:15.662Z"
   },
   {
    "duration": 46,
    "start_time": "2024-09-30T14:12:15.691Z"
   },
   {
    "duration": 319,
    "start_time": "2024-09-30T14:12:15.739Z"
   },
   {
    "duration": 17,
    "start_time": "2024-09-30T14:12:16.060Z"
   },
   {
    "duration": 8,
    "start_time": "2024-09-30T14:12:16.078Z"
   },
   {
    "duration": 1726,
    "start_time": "2024-10-01T09:08:18.834Z"
   },
   {
    "duration": 112,
    "start_time": "2024-10-01T09:08:20.562Z"
   },
   {
    "duration": 31,
    "start_time": "2024-10-01T09:08:20.675Z"
   },
   {
    "duration": 2145,
    "start_time": "2024-10-01T09:08:20.708Z"
   },
   {
    "duration": 26,
    "start_time": "2024-10-01T09:08:22.855Z"
   },
   {
    "duration": 10,
    "start_time": "2024-10-01T09:08:22.883Z"
   },
   {
    "duration": 17,
    "start_time": "2024-10-01T09:08:22.895Z"
   },
   {
    "duration": 14,
    "start_time": "2024-10-01T09:08:22.914Z"
   },
   {
    "duration": 34,
    "start_time": "2024-10-01T09:08:22.956Z"
   },
   {
    "duration": 9,
    "start_time": "2024-10-01T09:08:22.992Z"
   },
   {
    "duration": 5,
    "start_time": "2024-10-01T09:08:23.002Z"
   },
   {
    "duration": 10,
    "start_time": "2024-10-01T09:08:23.008Z"
   },
   {
    "duration": 118,
    "start_time": "2024-10-01T09:08:23.020Z"
   },
   {
    "duration": 19,
    "start_time": "2024-10-01T09:08:23.139Z"
   },
   {
    "duration": 5,
    "start_time": "2024-10-01T09:08:23.159Z"
   },
   {
    "duration": 7,
    "start_time": "2024-10-01T09:08:23.165Z"
   },
   {
    "duration": 5,
    "start_time": "2024-10-01T09:08:23.174Z"
   },
   {
    "duration": 15,
    "start_time": "2024-10-01T09:08:23.181Z"
   },
   {
    "duration": 76,
    "start_time": "2024-10-01T09:08:23.198Z"
   },
   {
    "duration": 30,
    "start_time": "2024-10-01T09:08:23.276Z"
   },
   {
    "duration": 56,
    "start_time": "2024-10-01T09:08:23.308Z"
   },
   {
    "duration": 342,
    "start_time": "2024-10-01T09:08:23.367Z"
   },
   {
    "duration": 8,
    "start_time": "2024-10-01T09:08:23.711Z"
   },
   {
    "duration": 10,
    "start_time": "2024-10-01T09:08:23.720Z"
   },
   {
    "duration": 30,
    "start_time": "2024-10-01T09:10:59.749Z"
   },
   {
    "duration": 140,
    "start_time": "2024-10-01T09:11:14.028Z"
   },
   {
    "duration": 26,
    "start_time": "2024-10-01T09:11:32.070Z"
   },
   {
    "duration": 26,
    "start_time": "2024-10-01T09:11:48.966Z"
   },
   {
    "duration": 31,
    "start_time": "2024-10-01T09:13:06.659Z"
   },
   {
    "duration": 31,
    "start_time": "2024-10-01T09:13:23.335Z"
   },
   {
    "duration": 25,
    "start_time": "2024-10-01T09:13:37.654Z"
   },
   {
    "duration": 25,
    "start_time": "2024-10-01T09:14:20.676Z"
   },
   {
    "duration": 24,
    "start_time": "2024-10-01T09:14:39.636Z"
   },
   {
    "duration": 25,
    "start_time": "2024-10-01T09:14:53.513Z"
   },
   {
    "duration": 64,
    "start_time": "2024-10-01T09:15:11.597Z"
   },
   {
    "duration": 80,
    "start_time": "2024-10-01T09:15:18.515Z"
   },
   {
    "duration": 95,
    "start_time": "2024-10-01T09:15:29.314Z"
   },
   {
    "duration": 27,
    "start_time": "2024-10-01T09:15:33.741Z"
   },
   {
    "duration": 26,
    "start_time": "2024-10-01T09:17:17.311Z"
   },
   {
    "duration": 344,
    "start_time": "2024-10-01T09:17:25.941Z"
   },
   {
    "duration": 26,
    "start_time": "2024-10-01T09:17:38.811Z"
   },
   {
    "duration": 1400,
    "start_time": "2024-10-01T09:19:09.073Z"
   },
   {
    "duration": 110,
    "start_time": "2024-10-01T09:19:10.475Z"
   },
   {
    "duration": 30,
    "start_time": "2024-10-01T09:19:10.587Z"
   },
   {
    "duration": 2181,
    "start_time": "2024-10-01T09:19:10.619Z"
   },
   {
    "duration": 26,
    "start_time": "2024-10-01T09:19:12.803Z"
   },
   {
    "duration": 10,
    "start_time": "2024-10-01T09:19:12.831Z"
   },
   {
    "duration": 17,
    "start_time": "2024-10-01T09:19:12.843Z"
   },
   {
    "duration": 7,
    "start_time": "2024-10-01T09:19:12.862Z"
   },
   {
    "duration": 35,
    "start_time": "2024-10-01T09:19:12.871Z"
   },
   {
    "duration": 9,
    "start_time": "2024-10-01T09:19:12.910Z"
   },
   {
    "duration": 34,
    "start_time": "2024-10-01T09:19:12.921Z"
   },
   {
    "duration": 11,
    "start_time": "2024-10-01T09:19:12.957Z"
   },
   {
    "duration": 98,
    "start_time": "2024-10-01T09:19:12.970Z"
   },
   {
    "duration": 15,
    "start_time": "2024-10-01T09:19:13.070Z"
   },
   {
    "duration": 4,
    "start_time": "2024-10-01T09:19:13.087Z"
   },
   {
    "duration": 17,
    "start_time": "2024-10-01T09:19:13.092Z"
   },
   {
    "duration": 5,
    "start_time": "2024-10-01T09:19:13.111Z"
   },
   {
    "duration": 9,
    "start_time": "2024-10-01T09:19:13.118Z"
   },
   {
    "duration": 38,
    "start_time": "2024-10-01T09:19:13.128Z"
   },
   {
    "duration": 30,
    "start_time": "2024-10-01T09:19:13.168Z"
   },
   {
    "duration": 64,
    "start_time": "2024-10-01T09:19:13.200Z"
   },
   {
    "duration": 331,
    "start_time": "2024-10-01T09:19:13.266Z"
   },
   {
    "duration": 8,
    "start_time": "2024-10-01T09:19:13.599Z"
   },
   {
    "duration": 58,
    "start_time": "2024-10-01T09:19:13.609Z"
   },
   {
    "duration": 56,
    "start_time": "2024-10-01T09:19:13.669Z"
   },
   {
    "duration": 25,
    "start_time": "2024-10-01T09:19:19.885Z"
   },
   {
    "duration": 113,
    "start_time": "2024-10-01T09:21:31.079Z"
   },
   {
    "duration": 1222,
    "start_time": "2024-10-01T09:21:38.029Z"
   },
   {
    "duration": 320,
    "start_time": "2024-10-01T09:21:56.956Z"
   },
   {
    "duration": 306,
    "start_time": "2024-10-01T09:22:12.451Z"
   },
   {
    "duration": 313,
    "start_time": "2024-10-01T09:22:16.349Z"
   },
   {
    "duration": 329,
    "start_time": "2024-10-01T09:22:26.697Z"
   },
   {
    "duration": 425,
    "start_time": "2024-10-01T09:28:05.834Z"
   },
   {
    "duration": 327,
    "start_time": "2024-10-01T09:28:21.173Z"
   },
   {
    "duration": 311,
    "start_time": "2024-10-01T09:28:42.592Z"
   },
   {
    "duration": 11,
    "start_time": "2024-10-01T09:30:16.703Z"
   },
   {
    "duration": 11,
    "start_time": "2024-10-01T09:30:22.077Z"
   },
   {
    "duration": 312,
    "start_time": "2024-10-01T09:31:37.868Z"
   },
   {
    "duration": 26,
    "start_time": "2024-10-01T09:35:23.559Z"
   },
   {
    "duration": 305,
    "start_time": "2024-10-01T09:37:04.015Z"
   },
   {
    "duration": 456,
    "start_time": "2024-10-01T09:37:11.536Z"
   },
   {
    "duration": 65,
    "start_time": "2024-10-01T09:38:29.913Z"
   },
   {
    "duration": 333,
    "start_time": "2024-10-01T09:39:01.022Z"
   },
   {
    "duration": 343,
    "start_time": "2024-10-01T09:39:30.143Z"
   },
   {
    "duration": 322,
    "start_time": "2024-10-01T09:39:36.360Z"
   },
   {
    "duration": 369,
    "start_time": "2024-10-01T09:39:46.025Z"
   },
   {
    "duration": 71,
    "start_time": "2024-10-01T09:40:29.333Z"
   },
   {
    "duration": 361,
    "start_time": "2024-10-01T09:40:45.721Z"
   },
   {
    "duration": 528,
    "start_time": "2024-10-01T09:41:01.440Z"
   },
   {
    "duration": 343,
    "start_time": "2024-10-01T09:41:12.241Z"
   },
   {
    "duration": 317,
    "start_time": "2024-10-01T09:41:28.365Z"
   },
   {
    "duration": 335,
    "start_time": "2024-10-01T09:41:46.571Z"
   },
   {
    "duration": 29,
    "start_time": "2024-10-01T09:41:52.187Z"
   },
   {
    "duration": 345,
    "start_time": "2024-10-01T09:41:53.024Z"
   },
   {
    "duration": 340,
    "start_time": "2024-10-01T09:41:55.693Z"
   },
   {
    "duration": 1384,
    "start_time": "2024-10-01T09:42:09.214Z"
   },
   {
    "duration": 107,
    "start_time": "2024-10-01T09:42:10.600Z"
   },
   {
    "duration": 37,
    "start_time": "2024-10-01T09:42:10.708Z"
   },
   {
    "duration": 2148,
    "start_time": "2024-10-01T09:42:10.756Z"
   },
   {
    "duration": 28,
    "start_time": "2024-10-01T09:42:12.906Z"
   },
   {
    "duration": 10,
    "start_time": "2024-10-01T09:42:12.935Z"
   },
   {
    "duration": 22,
    "start_time": "2024-10-01T09:42:12.947Z"
   },
   {
    "duration": 7,
    "start_time": "2024-10-01T09:42:12.970Z"
   },
   {
    "duration": 49,
    "start_time": "2024-10-01T09:42:12.978Z"
   },
   {
    "duration": 10,
    "start_time": "2024-10-01T09:42:13.030Z"
   },
   {
    "duration": 5,
    "start_time": "2024-10-01T09:42:13.056Z"
   },
   {
    "duration": 113,
    "start_time": "2024-10-01T09:42:13.063Z"
   },
   {
    "duration": 9,
    "start_time": "2024-10-01T09:42:13.178Z"
   },
   {
    "duration": 18,
    "start_time": "2024-10-01T09:42:13.188Z"
   },
   {
    "duration": 4,
    "start_time": "2024-10-01T09:42:13.208Z"
   },
   {
    "duration": 5,
    "start_time": "2024-10-01T09:42:13.214Z"
   },
   {
    "duration": 5,
    "start_time": "2024-10-01T09:42:13.221Z"
   },
   {
    "duration": 32,
    "start_time": "2024-10-01T09:42:13.228Z"
   },
   {
    "duration": 15,
    "start_time": "2024-10-01T09:42:13.261Z"
   },
   {
    "duration": 29,
    "start_time": "2024-10-01T09:42:13.278Z"
   },
   {
    "duration": 69,
    "start_time": "2024-10-01T09:42:13.308Z"
   },
   {
    "duration": 318,
    "start_time": "2024-10-01T09:42:13.378Z"
   },
   {
    "duration": 8,
    "start_time": "2024-10-01T09:42:13.697Z"
   },
   {
    "duration": 58,
    "start_time": "2024-10-01T09:42:13.706Z"
   },
   {
    "duration": 28,
    "start_time": "2024-10-01T09:42:13.766Z"
   },
   {
    "duration": 320,
    "start_time": "2024-10-01T09:42:13.796Z"
   },
   {
    "duration": 25,
    "start_time": "2024-10-01T09:42:14.118Z"
   },
   {
    "duration": 355,
    "start_time": "2024-10-01T09:42:14.158Z"
   },
   {
    "duration": 349,
    "start_time": "2024-10-01T09:42:14.514Z"
   },
   {
    "duration": 337,
    "start_time": "2024-10-01T09:42:29.406Z"
   },
   {
    "duration": 30,
    "start_time": "2024-10-01T09:43:37.053Z"
   },
   {
    "duration": 65,
    "start_time": "2024-10-01T09:44:12.608Z"
   },
   {
    "duration": 459,
    "start_time": "2024-10-01T09:46:35.808Z"
   },
   {
    "duration": 332,
    "start_time": "2024-10-01T09:46:42.467Z"
   },
   {
    "duration": 326,
    "start_time": "2024-10-01T09:47:49.716Z"
   },
   {
    "duration": 341,
    "start_time": "2024-10-01T09:48:00.956Z"
   },
   {
    "duration": 354,
    "start_time": "2024-10-01T09:48:55.583Z"
   },
   {
    "duration": 65,
    "start_time": "2024-10-01T09:51:42.625Z"
   },
   {
    "duration": 507,
    "start_time": "2024-10-01T09:52:15.251Z"
   },
   {
    "duration": 36,
    "start_time": "2024-10-01T09:53:24.932Z"
   },
   {
    "duration": 72,
    "start_time": "2024-10-01T09:53:46.171Z"
   },
   {
    "duration": 136,
    "start_time": "2024-10-01T09:54:15.126Z"
   },
   {
    "duration": 25,
    "start_time": "2024-10-01T09:54:28.309Z"
   },
   {
    "duration": 28,
    "start_time": "2024-10-01T09:54:47.204Z"
   },
   {
    "duration": 33,
    "start_time": "2024-10-01T09:55:47.307Z"
   },
   {
    "duration": 242,
    "start_time": "2024-10-01T09:57:16.235Z"
   },
   {
    "duration": 231,
    "start_time": "2024-10-01T09:57:33.905Z"
   },
   {
    "duration": 64,
    "start_time": "2024-10-01T09:58:59.635Z"
   },
   {
    "duration": 28,
    "start_time": "2024-10-01T10:09:44.089Z"
   },
   {
    "duration": 227,
    "start_time": "2024-10-01T10:10:12.553Z"
   },
   {
    "duration": 31,
    "start_time": "2024-10-01T10:10:37.699Z"
   },
   {
    "duration": 27,
    "start_time": "2024-10-01T10:11:02.177Z"
   },
   {
    "duration": 23,
    "start_time": "2024-10-01T10:13:59.155Z"
   },
   {
    "duration": 26,
    "start_time": "2024-10-01T10:14:13.476Z"
   },
   {
    "duration": 10,
    "start_time": "2024-10-01T10:15:29.635Z"
   },
   {
    "duration": 9,
    "start_time": "2024-10-01T10:15:56.144Z"
   },
   {
    "duration": 13,
    "start_time": "2024-10-01T10:16:24.381Z"
   },
   {
    "duration": 8,
    "start_time": "2024-10-01T10:16:33.653Z"
   },
   {
    "duration": 14,
    "start_time": "2024-10-01T10:16:55.359Z"
   },
   {
    "duration": 15,
    "start_time": "2024-10-01T10:17:39.707Z"
   },
   {
    "duration": 10,
    "start_time": "2024-10-01T10:17:47.244Z"
   },
   {
    "duration": 1450,
    "start_time": "2024-10-01T10:17:59.530Z"
   },
   {
    "duration": 113,
    "start_time": "2024-10-01T10:18:00.982Z"
   },
   {
    "duration": 32,
    "start_time": "2024-10-01T10:18:01.099Z"
   },
   {
    "duration": 2204,
    "start_time": "2024-10-01T10:18:01.133Z"
   },
   {
    "duration": 29,
    "start_time": "2024-10-01T10:18:03.338Z"
   },
   {
    "duration": 11,
    "start_time": "2024-10-01T10:18:03.368Z"
   },
   {
    "duration": 17,
    "start_time": "2024-10-01T10:18:03.381Z"
   },
   {
    "duration": 7,
    "start_time": "2024-10-01T10:18:03.400Z"
   },
   {
    "duration": 152,
    "start_time": "2024-10-01T10:18:03.409Z"
   },
   {
    "duration": 28,
    "start_time": "2024-10-01T10:18:03.563Z"
   },
   {
    "duration": 20,
    "start_time": "2024-10-01T10:18:03.592Z"
   },
   {
    "duration": 40,
    "start_time": "2024-10-01T10:18:03.614Z"
   },
   {
    "duration": 11,
    "start_time": "2024-10-01T10:18:03.656Z"
   },
   {
    "duration": 12,
    "start_time": "2024-10-01T10:18:03.669Z"
   },
   {
    "duration": 5,
    "start_time": "2024-10-01T10:18:03.683Z"
   },
   {
    "duration": 35,
    "start_time": "2024-10-01T10:18:03.689Z"
   },
   {
    "duration": 30,
    "start_time": "2024-10-01T10:18:03.725Z"
   },
   {
    "duration": 19,
    "start_time": "2024-10-01T10:18:03.756Z"
   },
   {
    "duration": 24,
    "start_time": "2024-10-01T10:18:03.777Z"
   },
   {
    "duration": 44,
    "start_time": "2024-10-01T10:18:03.802Z"
   },
   {
    "duration": 121,
    "start_time": "2024-10-01T10:18:03.848Z"
   },
   {
    "duration": 355,
    "start_time": "2024-10-01T10:18:03.970Z"
   },
   {
    "duration": 8,
    "start_time": "2024-10-01T10:18:04.326Z"
   },
   {
    "duration": 18,
    "start_time": "2024-10-01T10:18:04.336Z"
   },
   {
    "duration": 35,
    "start_time": "2024-10-01T10:18:04.356Z"
   },
   {
    "duration": 327,
    "start_time": "2024-10-01T10:18:04.393Z"
   },
   {
    "duration": 33,
    "start_time": "2024-10-01T10:18:04.725Z"
   },
   {
    "duration": 350,
    "start_time": "2024-10-01T10:18:04.760Z"
   },
   {
    "duration": 24,
    "start_time": "2024-10-01T10:18:05.112Z"
   },
   {
    "duration": 382,
    "start_time": "2024-10-01T10:18:05.138Z"
   },
   {
    "duration": 36,
    "start_time": "2024-10-01T10:18:05.522Z"
   },
   {
    "duration": 365,
    "start_time": "2024-10-01T10:18:05.560Z"
   },
   {
    "duration": 41,
    "start_time": "2024-10-01T10:18:05.927Z"
   },
   {
    "duration": 341,
    "start_time": "2024-10-01T10:18:05.970Z"
   },
   {
    "duration": 26,
    "start_time": "2024-10-01T10:18:06.313Z"
   },
   {
    "duration": 5,
    "start_time": "2024-10-01T10:18:35.956Z"
   },
   {
    "duration": 1232,
    "start_time": "2024-10-01T10:19:15.756Z"
   },
   {
    "duration": 107,
    "start_time": "2024-10-01T10:21:52.261Z"
   },
   {
    "duration": 78,
    "start_time": "2024-10-01T10:22:10.022Z"
   },
   {
    "duration": 291,
    "start_time": "2024-10-01T10:22:16.754Z"
   },
   {
    "duration": 349,
    "start_time": "2024-10-01T10:22:18.760Z"
   },
   {
    "duration": 66,
    "start_time": "2024-10-01T10:22:24.906Z"
   },
   {
    "duration": 0,
    "start_time": "2024-10-01T10:23:00.261Z"
   },
   {
    "duration": 11,
    "start_time": "2024-10-01T10:23:08.158Z"
   },
   {
    "duration": 312,
    "start_time": "2024-10-01T10:24:39.320Z"
   },
   {
    "duration": 14,
    "start_time": "2024-10-01T10:25:00.625Z"
   },
   {
    "duration": 353,
    "start_time": "2024-10-01T10:25:30.525Z"
   },
   {
    "duration": 472,
    "start_time": "2024-10-01T10:25:57.994Z"
   },
   {
    "duration": 639,
    "start_time": "2024-10-01T10:26:40.203Z"
   },
   {
    "duration": 20,
    "start_time": "2024-10-01T10:27:40.104Z"
   },
   {
    "duration": 19,
    "start_time": "2024-10-01T10:29:17.729Z"
   },
   {
    "duration": 334,
    "start_time": "2024-10-01T10:29:43.604Z"
   },
   {
    "duration": 322,
    "start_time": "2024-10-01T10:29:50.277Z"
   },
   {
    "duration": 597,
    "start_time": "2024-10-01T10:32:48.495Z"
   },
   {
    "duration": 352,
    "start_time": "2024-10-01T10:34:18.407Z"
   },
   {
    "duration": 21,
    "start_time": "2024-10-01T10:34:22.219Z"
   },
   {
    "duration": 104,
    "start_time": "2024-10-01T10:34:26.129Z"
   },
   {
    "duration": 1462,
    "start_time": "2024-10-01T10:34:46.525Z"
   },
   {
    "duration": 123,
    "start_time": "2024-10-01T10:34:47.989Z"
   },
   {
    "duration": 49,
    "start_time": "2024-10-01T10:34:48.115Z"
   },
   {
    "duration": 2197,
    "start_time": "2024-10-01T10:34:48.166Z"
   },
   {
    "duration": 27,
    "start_time": "2024-10-01T10:34:50.365Z"
   },
   {
    "duration": 10,
    "start_time": "2024-10-01T10:34:50.394Z"
   },
   {
    "duration": 31,
    "start_time": "2024-10-01T10:34:50.406Z"
   },
   {
    "duration": 24,
    "start_time": "2024-10-01T10:34:50.439Z"
   },
   {
    "duration": 37,
    "start_time": "2024-10-01T10:34:50.465Z"
   },
   {
    "duration": 14,
    "start_time": "2024-10-01T10:34:50.505Z"
   },
   {
    "duration": 8,
    "start_time": "2024-10-01T10:34:50.521Z"
   },
   {
    "duration": 117,
    "start_time": "2024-10-01T10:34:50.531Z"
   },
   {
    "duration": 10,
    "start_time": "2024-10-01T10:34:50.650Z"
   },
   {
    "duration": 43,
    "start_time": "2024-10-01T10:34:50.662Z"
   },
   {
    "duration": 5,
    "start_time": "2024-10-01T10:34:50.707Z"
   },
   {
    "duration": 7,
    "start_time": "2024-10-01T10:34:50.713Z"
   },
   {
    "duration": 52,
    "start_time": "2024-10-01T10:34:50.721Z"
   },
   {
    "duration": 41,
    "start_time": "2024-10-01T10:34:50.774Z"
   },
   {
    "duration": 15,
    "start_time": "2024-10-01T10:34:50.817Z"
   },
   {
    "duration": 31,
    "start_time": "2024-10-01T10:34:50.833Z"
   },
   {
    "duration": 52,
    "start_time": "2024-10-01T10:34:50.865Z"
   },
   {
    "duration": 339,
    "start_time": "2024-10-01T10:34:50.918Z"
   },
   {
    "duration": 9,
    "start_time": "2024-10-01T10:34:51.259Z"
   },
   {
    "duration": 22,
    "start_time": "2024-10-01T10:34:51.270Z"
   },
   {
    "duration": 36,
    "start_time": "2024-10-01T10:34:51.294Z"
   },
   {
    "duration": 342,
    "start_time": "2024-10-01T10:34:51.332Z"
   },
   {
    "duration": 26,
    "start_time": "2024-10-01T10:34:51.677Z"
   },
   {
    "duration": 355,
    "start_time": "2024-10-01T10:34:51.707Z"
   },
   {
    "duration": 27,
    "start_time": "2024-10-01T10:34:52.064Z"
   },
   {
    "duration": 360,
    "start_time": "2024-10-01T10:34:52.093Z"
   },
   {
    "duration": 36,
    "start_time": "2024-10-01T10:34:52.456Z"
   },
   {
    "duration": 360,
    "start_time": "2024-10-01T10:34:52.495Z"
   },
   {
    "duration": 29,
    "start_time": "2024-10-01T10:34:52.857Z"
   },
   {
    "duration": 362,
    "start_time": "2024-10-01T10:34:52.888Z"
   },
   {
    "duration": 26,
    "start_time": "2024-10-01T10:34:53.255Z"
   },
   {
    "duration": 436,
    "start_time": "2024-10-01T10:34:53.282Z"
   },
   {
    "duration": 451,
    "start_time": "2024-10-01T10:35:40.735Z"
   },
   {
    "duration": 434,
    "start_time": "2024-10-01T10:36:34.922Z"
   },
   {
    "duration": 1387,
    "start_time": "2024-10-01T10:36:39.639Z"
   },
   {
    "duration": 106,
    "start_time": "2024-10-01T10:36:41.029Z"
   },
   {
    "duration": 46,
    "start_time": "2024-10-01T10:36:41.136Z"
   },
   {
    "duration": 2119,
    "start_time": "2024-10-01T10:36:41.185Z"
   },
   {
    "duration": 27,
    "start_time": "2024-10-01T10:36:43.307Z"
   },
   {
    "duration": 10,
    "start_time": "2024-10-01T10:36:43.336Z"
   },
   {
    "duration": 126,
    "start_time": "2024-10-01T10:36:43.347Z"
   },
   {
    "duration": 6,
    "start_time": "2024-10-01T10:36:43.475Z"
   },
   {
    "duration": 48,
    "start_time": "2024-10-01T10:36:43.482Z"
   },
   {
    "duration": 51,
    "start_time": "2024-10-01T10:36:43.531Z"
   },
   {
    "duration": 25,
    "start_time": "2024-10-01T10:36:43.584Z"
   },
   {
    "duration": 16,
    "start_time": "2024-10-01T10:36:43.611Z"
   },
   {
    "duration": 24,
    "start_time": "2024-10-01T10:36:43.628Z"
   },
   {
    "duration": 7,
    "start_time": "2024-10-01T10:36:43.655Z"
   },
   {
    "duration": 5,
    "start_time": "2024-10-01T10:36:43.664Z"
   },
   {
    "duration": 23,
    "start_time": "2024-10-01T10:36:43.671Z"
   },
   {
    "duration": 18,
    "start_time": "2024-10-01T10:36:43.696Z"
   },
   {
    "duration": 32,
    "start_time": "2024-10-01T10:36:43.715Z"
   },
   {
    "duration": 14,
    "start_time": "2024-10-01T10:36:43.750Z"
   },
   {
    "duration": 33,
    "start_time": "2024-10-01T10:36:43.766Z"
   },
   {
    "duration": 54,
    "start_time": "2024-10-01T10:36:43.801Z"
   },
   {
    "duration": 339,
    "start_time": "2024-10-01T10:36:43.858Z"
   },
   {
    "duration": 8,
    "start_time": "2024-10-01T10:36:44.199Z"
   },
   {
    "duration": 6,
    "start_time": "2024-10-01T10:36:44.209Z"
   },
   {
    "duration": 50,
    "start_time": "2024-10-01T10:36:44.217Z"
   },
   {
    "duration": 318,
    "start_time": "2024-10-01T10:36:44.269Z"
   },
   {
    "duration": 27,
    "start_time": "2024-10-01T10:36:44.589Z"
   },
   {
    "duration": 354,
    "start_time": "2024-10-01T10:36:44.618Z"
   },
   {
    "duration": 26,
    "start_time": "2024-10-01T10:36:44.974Z"
   },
   {
    "duration": 416,
    "start_time": "2024-10-01T10:36:45.003Z"
   },
   {
    "duration": 34,
    "start_time": "2024-10-01T10:36:45.422Z"
   },
   {
    "duration": 339,
    "start_time": "2024-10-01T10:36:45.458Z"
   },
   {
    "duration": 29,
    "start_time": "2024-10-01T10:36:45.799Z"
   },
   {
    "duration": 357,
    "start_time": "2024-10-01T10:36:45.831Z"
   },
   {
    "duration": 28,
    "start_time": "2024-10-01T10:36:46.190Z"
   },
   {
    "duration": 437,
    "start_time": "2024-10-01T10:36:46.221Z"
   },
   {
    "duration": 420,
    "start_time": "2024-10-01T10:37:19.372Z"
   },
   {
    "duration": 424,
    "start_time": "2024-10-01T10:39:35.882Z"
   },
   {
    "duration": 560,
    "start_time": "2024-10-01T10:39:48.852Z"
   },
   {
    "duration": 1486,
    "start_time": "2024-10-01T10:39:56.536Z"
   },
   {
    "duration": 108,
    "start_time": "2024-10-01T10:39:58.024Z"
   },
   {
    "duration": 38,
    "start_time": "2024-10-01T10:39:58.133Z"
   },
   {
    "duration": 2108,
    "start_time": "2024-10-01T10:39:58.173Z"
   },
   {
    "duration": 27,
    "start_time": "2024-10-01T10:40:00.282Z"
   },
   {
    "duration": 53,
    "start_time": "2024-10-01T10:40:00.311Z"
   },
   {
    "duration": 75,
    "start_time": "2024-10-01T10:40:00.365Z"
   },
   {
    "duration": 20,
    "start_time": "2024-10-01T10:40:00.442Z"
   },
   {
    "duration": 38,
    "start_time": "2024-10-01T10:40:00.463Z"
   },
   {
    "duration": 9,
    "start_time": "2024-10-01T10:40:00.504Z"
   },
   {
    "duration": 15,
    "start_time": "2024-10-01T10:40:00.515Z"
   },
   {
    "duration": 112,
    "start_time": "2024-10-01T10:40:00.532Z"
   },
   {
    "duration": 20,
    "start_time": "2024-10-01T10:40:00.646Z"
   },
   {
    "duration": 21,
    "start_time": "2024-10-01T10:40:00.668Z"
   },
   {
    "duration": 25,
    "start_time": "2024-10-01T10:40:00.691Z"
   },
   {
    "duration": 7,
    "start_time": "2024-10-01T10:40:00.718Z"
   },
   {
    "duration": 5,
    "start_time": "2024-10-01T10:40:00.727Z"
   },
   {
    "duration": 82,
    "start_time": "2024-10-01T10:40:00.734Z"
   },
   {
    "duration": 16,
    "start_time": "2024-10-01T10:40:00.818Z"
   },
   {
    "duration": 27,
    "start_time": "2024-10-01T10:40:00.836Z"
   },
   {
    "duration": 49,
    "start_time": "2024-10-01T10:40:00.865Z"
   },
   {
    "duration": 325,
    "start_time": "2024-10-01T10:40:00.916Z"
   },
   {
    "duration": 14,
    "start_time": "2024-10-01T10:40:01.243Z"
   },
   {
    "duration": 8,
    "start_time": "2024-10-01T10:40:01.258Z"
   },
   {
    "duration": 44,
    "start_time": "2024-10-01T10:40:01.268Z"
   },
   {
    "duration": 318,
    "start_time": "2024-10-01T10:40:01.313Z"
   },
   {
    "duration": 37,
    "start_time": "2024-10-01T10:40:01.633Z"
   },
   {
    "duration": 353,
    "start_time": "2024-10-01T10:40:01.674Z"
   },
   {
    "duration": 41,
    "start_time": "2024-10-01T10:40:02.031Z"
   },
   {
    "duration": 371,
    "start_time": "2024-10-01T10:40:02.074Z"
   },
   {
    "duration": 32,
    "start_time": "2024-10-01T10:40:02.447Z"
   },
   {
    "duration": 378,
    "start_time": "2024-10-01T10:40:02.481Z"
   },
   {
    "duration": 29,
    "start_time": "2024-10-01T10:40:02.861Z"
   },
   {
    "duration": 398,
    "start_time": "2024-10-01T10:40:02.892Z"
   },
   {
    "duration": 25,
    "start_time": "2024-10-01T10:40:03.292Z"
   },
   {
    "duration": 468,
    "start_time": "2024-10-01T10:40:03.319Z"
   },
   {
    "duration": 26,
    "start_time": "2024-10-01T10:40:25.354Z"
   },
   {
    "duration": 454,
    "start_time": "2024-10-01T10:40:26.944Z"
   },
   {
    "duration": 439,
    "start_time": "2024-10-01T10:40:54.730Z"
   },
   {
    "duration": 121,
    "start_time": "2024-10-01T10:42:12.517Z"
   },
   {
    "duration": 24,
    "start_time": "2024-10-01T10:42:36.951Z"
   },
   {
    "duration": 12,
    "start_time": "2024-10-01T10:44:19.593Z"
   },
   {
    "duration": 20,
    "start_time": "2024-10-01T10:44:29.224Z"
   },
   {
    "duration": 17,
    "start_time": "2024-10-01T10:44:42.451Z"
   },
   {
    "duration": 25,
    "start_time": "2024-10-01T10:45:30.215Z"
   },
   {
    "duration": 1471,
    "start_time": "2024-10-01T10:45:34.540Z"
   },
   {
    "duration": 113,
    "start_time": "2024-10-01T10:45:36.013Z"
   },
   {
    "duration": 38,
    "start_time": "2024-10-01T10:45:36.128Z"
   },
   {
    "duration": 2252,
    "start_time": "2024-10-01T10:45:36.168Z"
   },
   {
    "duration": 28,
    "start_time": "2024-10-01T10:45:38.422Z"
   },
   {
    "duration": 18,
    "start_time": "2024-10-01T10:45:38.451Z"
   },
   {
    "duration": 22,
    "start_time": "2024-10-01T10:45:38.470Z"
   },
   {
    "duration": 7,
    "start_time": "2024-10-01T10:45:38.493Z"
   },
   {
    "duration": 44,
    "start_time": "2024-10-01T10:45:38.501Z"
   },
   {
    "duration": 9,
    "start_time": "2024-10-01T10:45:38.555Z"
   },
   {
    "duration": 7,
    "start_time": "2024-10-01T10:45:38.566Z"
   },
   {
    "duration": 104,
    "start_time": "2024-10-01T10:45:38.574Z"
   },
   {
    "duration": 8,
    "start_time": "2024-10-01T10:45:38.680Z"
   },
   {
    "duration": 7,
    "start_time": "2024-10-01T10:45:38.690Z"
   },
   {
    "duration": 4,
    "start_time": "2024-10-01T10:45:38.699Z"
   },
   {
    "duration": 5,
    "start_time": "2024-10-01T10:45:38.705Z"
   },
   {
    "duration": 5,
    "start_time": "2024-10-01T10:45:38.712Z"
   },
   {
    "duration": 42,
    "start_time": "2024-10-01T10:45:38.718Z"
   },
   {
    "duration": 71,
    "start_time": "2024-10-01T10:45:38.762Z"
   },
   {
    "duration": 29,
    "start_time": "2024-10-01T10:45:38.835Z"
   },
   {
    "duration": 42,
    "start_time": "2024-10-01T10:45:38.865Z"
   },
   {
    "duration": 348,
    "start_time": "2024-10-01T10:45:38.909Z"
   },
   {
    "duration": 9,
    "start_time": "2024-10-01T10:45:39.259Z"
   },
   {
    "duration": 24,
    "start_time": "2024-10-01T10:45:39.269Z"
   },
   {
    "duration": 40,
    "start_time": "2024-10-01T10:45:39.295Z"
   },
   {
    "duration": 337,
    "start_time": "2024-10-01T10:45:39.337Z"
   },
   {
    "duration": 25,
    "start_time": "2024-10-01T10:45:39.676Z"
   },
   {
    "duration": 354,
    "start_time": "2024-10-01T10:45:39.705Z"
   },
   {
    "duration": 25,
    "start_time": "2024-10-01T10:45:40.061Z"
   },
   {
    "duration": 351,
    "start_time": "2024-10-01T10:45:40.088Z"
   },
   {
    "duration": 37,
    "start_time": "2024-10-01T10:45:40.441Z"
   },
   {
    "duration": 352,
    "start_time": "2024-10-01T10:45:40.479Z"
   },
   {
    "duration": 38,
    "start_time": "2024-10-01T10:45:40.833Z"
   },
   {
    "duration": 385,
    "start_time": "2024-10-01T10:45:40.873Z"
   },
   {
    "duration": 26,
    "start_time": "2024-10-01T10:45:41.259Z"
   },
   {
    "duration": 22,
    "start_time": "2024-10-01T10:45:41.287Z"
   },
   {
    "duration": 145,
    "start_time": "2024-10-01T10:45:41.310Z"
   },
   {
    "duration": 6,
    "start_time": "2024-10-01T10:46:09.808Z"
   },
   {
    "duration": 22,
    "start_time": "2024-10-01T10:46:31.355Z"
   },
   {
    "duration": 23,
    "start_time": "2024-10-01T10:47:57.870Z"
   },
   {
    "duration": 22,
    "start_time": "2024-10-01T10:48:21.821Z"
   },
   {
    "duration": 23,
    "start_time": "2024-10-01T10:48:37.164Z"
   },
   {
    "duration": 19,
    "start_time": "2024-10-01T10:49:04.674Z"
   },
   {
    "duration": 19,
    "start_time": "2024-10-01T10:49:11.870Z"
   },
   {
    "duration": 1164,
    "start_time": "2024-10-01T10:50:56.779Z"
   },
   {
    "duration": 1514,
    "start_time": "2024-10-01T10:51:02.697Z"
   },
   {
    "duration": 14,
    "start_time": "2024-10-01T10:51:12.344Z"
   },
   {
    "duration": 1211,
    "start_time": "2024-10-01T10:51:14.565Z"
   },
   {
    "duration": 14,
    "start_time": "2024-10-01T10:51:58.982Z"
   },
   {
    "duration": 8,
    "start_time": "2024-10-01T10:52:05.952Z"
   },
   {
    "duration": 13,
    "start_time": "2024-10-01T10:52:13.340Z"
   },
   {
    "duration": 7,
    "start_time": "2024-10-01T10:52:26.591Z"
   },
   {
    "duration": 12,
    "start_time": "2024-10-01T10:53:12.038Z"
   },
   {
    "duration": 11,
    "start_time": "2024-10-01T10:53:20.413Z"
   },
   {
    "duration": 77,
    "start_time": "2024-10-01T10:53:38.337Z"
   },
   {
    "duration": 9,
    "start_time": "2024-10-01T10:54:09.303Z"
   },
   {
    "duration": 9,
    "start_time": "2024-10-01T10:54:16.309Z"
   },
   {
    "duration": 9,
    "start_time": "2024-10-01T10:54:29.085Z"
   },
   {
    "duration": 29,
    "start_time": "2024-10-01T10:54:35.185Z"
   },
   {
    "duration": 52,
    "start_time": "2024-10-01T16:14:05.814Z"
   },
   {
    "duration": 1609,
    "start_time": "2024-10-01T16:14:15.636Z"
   },
   {
    "duration": 91,
    "start_time": "2024-10-01T16:14:17.247Z"
   },
   {
    "duration": 30,
    "start_time": "2024-10-01T16:14:17.339Z"
   },
   {
    "duration": 2064,
    "start_time": "2024-10-01T16:14:17.372Z"
   },
   {
    "duration": 26,
    "start_time": "2024-10-01T16:14:19.438Z"
   },
   {
    "duration": 10,
    "start_time": "2024-10-01T16:14:19.465Z"
   },
   {
    "duration": 16,
    "start_time": "2024-10-01T16:14:19.477Z"
   },
   {
    "duration": 6,
    "start_time": "2024-10-01T16:14:19.495Z"
   },
   {
    "duration": 40,
    "start_time": "2024-10-01T16:14:19.502Z"
   },
   {
    "duration": 10,
    "start_time": "2024-10-01T16:14:19.564Z"
   },
   {
    "duration": 105,
    "start_time": "2024-10-01T16:14:19.576Z"
   },
   {
    "duration": 14,
    "start_time": "2024-10-01T16:14:19.683Z"
   },
   {
    "duration": 7,
    "start_time": "2024-10-01T16:14:19.699Z"
   },
   {
    "duration": 7,
    "start_time": "2024-10-01T16:14:19.708Z"
   },
   {
    "duration": 5,
    "start_time": "2024-10-01T16:14:19.716Z"
   },
   {
    "duration": 45,
    "start_time": "2024-10-01T16:14:19.722Z"
   },
   {
    "duration": 6,
    "start_time": "2024-10-01T16:14:19.769Z"
   },
   {
    "duration": 10,
    "start_time": "2024-10-01T16:14:19.777Z"
   },
   {
    "duration": 15,
    "start_time": "2024-10-01T16:14:19.789Z"
   },
   {
    "duration": 64,
    "start_time": "2024-10-01T16:14:19.806Z"
   },
   {
    "duration": 55,
    "start_time": "2024-10-01T16:14:19.872Z"
   },
   {
    "duration": 351,
    "start_time": "2024-10-01T16:14:19.929Z"
   },
   {
    "duration": 9,
    "start_time": "2024-10-01T16:14:20.282Z"
   },
   {
    "duration": 6,
    "start_time": "2024-10-01T16:14:20.293Z"
   },
   {
    "duration": 54,
    "start_time": "2024-10-01T16:14:20.301Z"
   },
   {
    "duration": 318,
    "start_time": "2024-10-01T16:14:20.356Z"
   },
   {
    "duration": 24,
    "start_time": "2024-10-01T16:14:20.677Z"
   },
   {
    "duration": 393,
    "start_time": "2024-10-01T16:14:20.704Z"
   },
   {
    "duration": 25,
    "start_time": "2024-10-01T16:14:21.099Z"
   },
   {
    "duration": 343,
    "start_time": "2024-10-01T16:14:21.126Z"
   },
   {
    "duration": 27,
    "start_time": "2024-10-01T16:14:21.471Z"
   },
   {
    "duration": 377,
    "start_time": "2024-10-01T16:14:21.500Z"
   },
   {
    "duration": 26,
    "start_time": "2024-10-01T16:14:21.879Z"
   },
   {
    "duration": 333,
    "start_time": "2024-10-01T16:14:21.907Z"
   },
   {
    "duration": 39,
    "start_time": "2024-10-01T16:14:22.242Z"
   },
   {
    "duration": 112,
    "start_time": "2024-10-01T16:14:22.283Z"
   },
   {
    "duration": 0,
    "start_time": "2024-10-01T16:14:22.397Z"
   },
   {
    "duration": 10,
    "start_time": "2024-10-01T16:14:38.283Z"
   },
   {
    "duration": 38,
    "start_time": "2024-10-01T16:14:47.098Z"
   },
   {
    "duration": 27,
    "start_time": "2024-10-01T16:15:57.076Z"
   },
   {
    "duration": 338,
    "start_time": "2024-10-01T16:17:25.350Z"
   },
   {
    "duration": 330,
    "start_time": "2024-10-01T16:17:28.318Z"
   },
   {
    "duration": 37,
    "start_time": "2024-10-01T16:17:40.967Z"
   },
   {
    "duration": 385,
    "start_time": "2024-10-01T16:17:45.713Z"
   },
   {
    "duration": 1353,
    "start_time": "2024-10-01T16:18:08.675Z"
   },
   {
    "duration": 102,
    "start_time": "2024-10-01T16:18:10.031Z"
   },
   {
    "duration": 39,
    "start_time": "2024-10-01T16:18:10.135Z"
   },
   {
    "duration": 2092,
    "start_time": "2024-10-01T16:18:10.176Z"
   },
   {
    "duration": 26,
    "start_time": "2024-10-01T16:18:12.270Z"
   },
   {
    "duration": 11,
    "start_time": "2024-10-01T16:18:12.298Z"
   },
   {
    "duration": 21,
    "start_time": "2024-10-01T16:18:12.311Z"
   },
   {
    "duration": 32,
    "start_time": "2024-10-01T16:18:12.334Z"
   },
   {
    "duration": 46,
    "start_time": "2024-10-01T16:18:12.368Z"
   },
   {
    "duration": 9,
    "start_time": "2024-10-01T16:18:12.417Z"
   },
   {
    "duration": 13,
    "start_time": "2024-10-01T16:18:12.428Z"
   },
   {
    "duration": 121,
    "start_time": "2024-10-01T16:18:12.443Z"
   },
   {
    "duration": 26,
    "start_time": "2024-10-01T16:18:12.566Z"
   },
   {
    "duration": 7,
    "start_time": "2024-10-01T16:18:12.595Z"
   },
   {
    "duration": 14,
    "start_time": "2024-10-01T16:18:12.603Z"
   },
   {
    "duration": 10,
    "start_time": "2024-10-01T16:18:12.619Z"
   },
   {
    "duration": 6,
    "start_time": "2024-10-01T16:18:12.631Z"
   },
   {
    "duration": 7,
    "start_time": "2024-10-01T16:18:12.639Z"
   },
   {
    "duration": 29,
    "start_time": "2024-10-01T16:18:12.647Z"
   },
   {
    "duration": 29,
    "start_time": "2024-10-01T16:18:12.678Z"
   },
   {
    "duration": 67,
    "start_time": "2024-10-01T16:18:12.710Z"
   },
   {
    "duration": 322,
    "start_time": "2024-10-01T16:18:12.780Z"
   },
   {
    "duration": 11,
    "start_time": "2024-10-01T16:18:13.104Z"
   },
   {
    "duration": 8,
    "start_time": "2024-10-01T16:18:13.116Z"
   },
   {
    "duration": 59,
    "start_time": "2024-10-01T16:18:13.126Z"
   },
   {
    "duration": 332,
    "start_time": "2024-10-01T16:18:13.187Z"
   },
   {
    "duration": 26,
    "start_time": "2024-10-01T16:18:13.521Z"
   },
   {
    "duration": 383,
    "start_time": "2024-10-01T16:18:13.550Z"
   },
   {
    "duration": 35,
    "start_time": "2024-10-01T16:18:13.935Z"
   },
   {
    "duration": 318,
    "start_time": "2024-10-01T16:18:13.972Z"
   },
   {
    "duration": 25,
    "start_time": "2024-10-01T16:18:14.292Z"
   },
   {
    "duration": 333,
    "start_time": "2024-10-01T16:18:14.319Z"
   },
   {
    "duration": 51,
    "start_time": "2024-10-01T16:18:14.655Z"
   },
   {
    "duration": 373,
    "start_time": "2024-10-01T16:18:14.708Z"
   },
   {
    "duration": 48,
    "start_time": "2024-10-01T16:18:15.083Z"
   },
   {
    "duration": 477,
    "start_time": "2024-10-01T16:18:15.134Z"
   },
   {
    "duration": 25,
    "start_time": "2024-10-01T16:18:15.613Z"
   },
   {
    "duration": 113,
    "start_time": "2024-10-01T16:21:38.474Z"
   },
   {
    "duration": 90,
    "start_time": "2024-10-01T16:21:39.235Z"
   },
   {
    "duration": 31,
    "start_time": "2024-10-01T16:21:39.689Z"
   },
   {
    "duration": 2022,
    "start_time": "2024-10-01T16:21:40.194Z"
   },
   {
    "duration": 22,
    "start_time": "2024-10-01T16:21:42.218Z"
   },
   {
    "duration": 11,
    "start_time": "2024-10-01T16:21:42.656Z"
   },
   {
    "duration": 17,
    "start_time": "2024-10-01T16:21:43.269Z"
   },
   {
    "duration": 8,
    "start_time": "2024-10-01T16:21:43.942Z"
   },
   {
    "duration": 32,
    "start_time": "2024-10-01T16:21:44.493Z"
   },
   {
    "duration": 9,
    "start_time": "2024-10-01T16:21:44.937Z"
   },
   {
    "duration": 5,
    "start_time": "2024-10-01T16:21:45.320Z"
   },
   {
    "duration": 8,
    "start_time": "2024-10-01T16:21:45.701Z"
   },
   {
    "duration": 6,
    "start_time": "2024-10-01T16:21:46.073Z"
   },
   {
    "duration": 7,
    "start_time": "2024-10-01T16:21:46.441Z"
   },
   {
    "duration": 5,
    "start_time": "2024-10-01T16:21:47.023Z"
   },
   {
    "duration": 6,
    "start_time": "2024-10-01T16:21:48.170Z"
   },
   {
    "duration": 5,
    "start_time": "2024-10-01T16:21:48.515Z"
   },
   {
    "duration": 8,
    "start_time": "2024-10-01T16:21:49.101Z"
   },
   {
    "duration": 14,
    "start_time": "2024-10-01T16:21:49.290Z"
   },
   {
    "duration": 34,
    "start_time": "2024-10-01T16:21:49.969Z"
   },
   {
    "duration": 41,
    "start_time": "2024-10-01T16:21:50.156Z"
   },
   {
    "duration": 287,
    "start_time": "2024-10-01T16:21:50.993Z"
   },
   {
    "duration": 8,
    "start_time": "2024-10-01T16:21:51.385Z"
   },
   {
    "duration": 6,
    "start_time": "2024-10-01T16:21:51.838Z"
   },
   {
    "duration": 26,
    "start_time": "2024-10-01T16:21:53.985Z"
   },
   {
    "duration": 312,
    "start_time": "2024-10-01T16:21:55.353Z"
   },
   {
    "duration": 23,
    "start_time": "2024-10-01T16:21:56.419Z"
   },
   {
    "duration": 298,
    "start_time": "2024-10-01T16:21:57.958Z"
   },
   {
    "duration": 25,
    "start_time": "2024-10-01T16:21:59.607Z"
   },
   {
    "duration": 308,
    "start_time": "2024-10-01T16:22:01.873Z"
   },
   {
    "duration": 32,
    "start_time": "2024-10-01T16:22:03.950Z"
   },
   {
    "duration": 455,
    "start_time": "2024-10-01T16:22:08.267Z"
   },
   {
    "duration": 28,
    "start_time": "2024-10-01T16:22:11.660Z"
   },
   {
    "duration": 219,
    "start_time": "2024-10-01T16:22:12.970Z"
   },
   {
    "duration": 27,
    "start_time": "2024-10-01T16:22:19.149Z"
   },
   {
    "duration": 106,
    "start_time": "2024-10-01T16:22:54.872Z"
   },
   {
    "duration": 93,
    "start_time": "2024-10-01T16:23:06.580Z"
   },
   {
    "duration": 27,
    "start_time": "2024-10-01T16:23:45.506Z"
   },
   {
    "duration": 309,
    "start_time": "2024-10-01T16:23:48.051Z"
   },
   {
    "duration": 194,
    "start_time": "2024-10-01T16:23:58.595Z"
   },
   {
    "duration": 83,
    "start_time": "2024-10-01T16:25:03.497Z"
   },
   {
    "duration": 202,
    "start_time": "2024-10-01T16:52:18.091Z"
   },
   {
    "duration": 230,
    "start_time": "2024-10-01T16:52:35.061Z"
   },
   {
    "duration": 187,
    "start_time": "2024-10-01T16:52:41.845Z"
   },
   {
    "duration": 172,
    "start_time": "2024-10-01T16:52:55.236Z"
   },
   {
    "duration": 192,
    "start_time": "2024-10-01T16:53:00.418Z"
   },
   {
    "duration": 207,
    "start_time": "2024-10-01T16:53:24.262Z"
   },
   {
    "duration": 70,
    "start_time": "2024-10-01T16:55:16.697Z"
   },
   {
    "duration": 115,
    "start_time": "2024-10-01T17:00:55.358Z"
   },
   {
    "duration": 26,
    "start_time": "2024-10-01T17:01:10.862Z"
   },
   {
    "duration": 28,
    "start_time": "2024-10-01T17:03:03.984Z"
   },
   {
    "duration": 24,
    "start_time": "2024-10-01T17:03:06.779Z"
   },
   {
    "duration": 23,
    "start_time": "2024-10-01T17:03:24.135Z"
   },
   {
    "duration": 25,
    "start_time": "2024-10-01T17:04:29.074Z"
   },
   {
    "duration": 23,
    "start_time": "2024-10-01T17:04:32.801Z"
   },
   {
    "duration": 25,
    "start_time": "2024-10-01T17:04:39.859Z"
   },
   {
    "duration": 308,
    "start_time": "2024-10-01T17:05:12.524Z"
   },
   {
    "duration": 481,
    "start_time": "2024-10-01T17:05:37.145Z"
   },
   {
    "duration": 26,
    "start_time": "2024-10-01T17:07:54.977Z"
   },
   {
    "duration": 300,
    "start_time": "2024-10-01T17:08:14.315Z"
   },
   {
    "duration": 231,
    "start_time": "2024-10-01T17:08:17.544Z"
   },
   {
    "duration": 79,
    "start_time": "2024-10-01T17:10:37.541Z"
   },
   {
    "duration": 80,
    "start_time": "2024-10-01T17:13:13.075Z"
   },
   {
    "duration": 105,
    "start_time": "2024-10-01T17:17:02.953Z"
   },
   {
    "duration": 96,
    "start_time": "2024-10-01T17:17:08.688Z"
   },
   {
    "duration": 100,
    "start_time": "2024-10-01T17:17:13.266Z"
   },
   {
    "duration": 412,
    "start_time": "2024-10-01T17:18:49.587Z"
   },
   {
    "duration": 729,
    "start_time": "2024-10-01T17:19:07.499Z"
   },
   {
    "duration": 527,
    "start_time": "2024-10-01T17:19:49.369Z"
   },
   {
    "duration": 91,
    "start_time": "2024-10-01T17:20:28.077Z"
   },
   {
    "duration": 301,
    "start_time": "2024-10-01T17:20:40.484Z"
   },
   {
    "duration": 103,
    "start_time": "2024-10-01T17:20:43.730Z"
   },
   {
    "duration": 196,
    "start_time": "2024-10-01T17:23:35.405Z"
   },
   {
    "duration": 114,
    "start_time": "2024-10-01T17:24:01.442Z"
   },
   {
    "duration": 399,
    "start_time": "2024-10-01T17:31:22.773Z"
   },
   {
    "duration": 667,
    "start_time": "2024-10-01T17:31:41.962Z"
   },
   {
    "duration": 10,
    "start_time": "2024-10-01T17:32:32.122Z"
   },
   {
    "duration": 9,
    "start_time": "2024-10-01T17:33:53.323Z"
   },
   {
    "duration": 10,
    "start_time": "2024-10-01T17:33:56.340Z"
   },
   {
    "duration": 11,
    "start_time": "2024-10-01T17:35:08.440Z"
   },
   {
    "duration": 9,
    "start_time": "2024-10-01T17:36:06.477Z"
   },
   {
    "duration": 96,
    "start_time": "2024-10-01T17:36:16.573Z"
   },
   {
    "duration": 13,
    "start_time": "2024-10-01T17:36:42.976Z"
   },
   {
    "duration": 10,
    "start_time": "2024-10-01T17:37:39.809Z"
   },
   {
    "duration": 10,
    "start_time": "2024-10-01T17:38:09.465Z"
   },
   {
    "duration": 15,
    "start_time": "2024-10-01T17:38:26.641Z"
   },
   {
    "duration": 10,
    "start_time": "2024-10-01T17:38:54.626Z"
   },
   {
    "duration": 14,
    "start_time": "2024-10-01T17:38:55.112Z"
   },
   {
    "duration": 16,
    "start_time": "2024-10-01T17:39:39.916Z"
   },
   {
    "duration": 1327,
    "start_time": "2024-10-01T17:40:07.469Z"
   },
   {
    "duration": 92,
    "start_time": "2024-10-01T17:40:08.797Z"
   },
   {
    "duration": 27,
    "start_time": "2024-10-01T17:40:08.890Z"
   },
   {
    "duration": 2046,
    "start_time": "2024-10-01T17:40:08.918Z"
   },
   {
    "duration": 26,
    "start_time": "2024-10-01T17:40:10.966Z"
   },
   {
    "duration": 10,
    "start_time": "2024-10-01T17:40:10.993Z"
   },
   {
    "duration": 116,
    "start_time": "2024-10-01T17:40:11.004Z"
   },
   {
    "duration": 6,
    "start_time": "2024-10-01T17:40:11.121Z"
   },
   {
    "duration": 39,
    "start_time": "2024-10-01T17:40:11.129Z"
   },
   {
    "duration": 7,
    "start_time": "2024-10-01T17:40:11.170Z"
   },
   {
    "duration": 80,
    "start_time": "2024-10-01T17:40:11.179Z"
   },
   {
    "duration": 10,
    "start_time": "2024-10-01T17:40:11.261Z"
   },
   {
    "duration": 9,
    "start_time": "2024-10-01T17:40:11.272Z"
   },
   {
    "duration": 6,
    "start_time": "2024-10-01T17:40:11.284Z"
   },
   {
    "duration": 6,
    "start_time": "2024-10-01T17:40:11.291Z"
   },
   {
    "duration": 14,
    "start_time": "2024-10-01T17:40:11.298Z"
   },
   {
    "duration": 10,
    "start_time": "2024-10-01T17:40:11.313Z"
   },
   {
    "duration": 33,
    "start_time": "2024-10-01T17:40:11.324Z"
   },
   {
    "duration": 15,
    "start_time": "2024-10-01T17:40:11.358Z"
   },
   {
    "duration": 28,
    "start_time": "2024-10-01T17:40:11.374Z"
   },
   {
    "duration": 41,
    "start_time": "2024-10-01T17:40:11.403Z"
   },
   {
    "duration": 347,
    "start_time": "2024-10-01T17:40:11.446Z"
   },
   {
    "duration": 8,
    "start_time": "2024-10-01T17:40:11.795Z"
   },
   {
    "duration": 7,
    "start_time": "2024-10-01T17:40:11.804Z"
   },
   {
    "duration": 30,
    "start_time": "2024-10-01T17:40:11.813Z"
   },
   {
    "duration": 320,
    "start_time": "2024-10-01T17:40:11.845Z"
   },
   {
    "duration": 25,
    "start_time": "2024-10-01T17:40:12.167Z"
   },
   {
    "duration": 356,
    "start_time": "2024-10-01T17:40:12.194Z"
   },
   {
    "duration": 29,
    "start_time": "2024-10-01T17:40:12.551Z"
   },
   {
    "duration": 320,
    "start_time": "2024-10-01T17:40:12.582Z"
   },
   {
    "duration": 28,
    "start_time": "2024-10-01T17:40:12.903Z"
   },
   {
    "duration": 325,
    "start_time": "2024-10-01T17:40:12.933Z"
   },
   {
    "duration": 28,
    "start_time": "2024-10-01T17:40:13.260Z"
   },
   {
    "duration": 356,
    "start_time": "2024-10-01T17:40:13.290Z"
   },
   {
    "duration": 33,
    "start_time": "2024-10-01T17:40:13.648Z"
   },
   {
    "duration": 209,
    "start_time": "2024-10-01T17:40:13.682Z"
   },
   {
    "duration": 20,
    "start_time": "2024-10-01T17:40:13.892Z"
   },
   {
    "duration": 219,
    "start_time": "2024-10-01T17:40:13.914Z"
   },
   {
    "duration": 30,
    "start_time": "2024-10-01T17:40:14.135Z"
   },
   {
    "duration": 299,
    "start_time": "2024-10-01T17:40:14.166Z"
   },
   {
    "duration": 22,
    "start_time": "2024-10-01T17:40:14.468Z"
   },
   {
    "duration": 223,
    "start_time": "2024-10-01T17:40:14.491Z"
   },
   {
    "duration": 114,
    "start_time": "2024-10-01T17:40:14.715Z"
   },
   {
    "duration": 466,
    "start_time": "2024-10-01T17:40:14.831Z"
   },
   {
    "duration": 10,
    "start_time": "2024-10-01T17:40:15.299Z"
   },
   {
    "duration": 14,
    "start_time": "2024-10-01T17:40:15.311Z"
   },
   {
    "duration": 17,
    "start_time": "2024-10-01T17:40:42.121Z"
   },
   {
    "duration": 80,
    "start_time": "2024-10-01T17:42:14.968Z"
   },
   {
    "duration": 96,
    "start_time": "2024-10-01T17:42:20.974Z"
   },
   {
    "duration": 79,
    "start_time": "2024-10-01T17:42:24.656Z"
   },
   {
    "duration": 643,
    "start_time": "2024-10-01T17:43:05.101Z"
   },
   {
    "duration": 22,
    "start_time": "2024-10-01T18:07:34.114Z"
   },
   {
    "duration": 16,
    "start_time": "2024-10-01T18:07:40.251Z"
   },
   {
    "duration": 26,
    "start_time": "2024-10-01T18:07:46.026Z"
   },
   {
    "duration": 34,
    "start_time": "2024-10-01T18:08:25.420Z"
   },
   {
    "duration": 30,
    "start_time": "2024-10-01T18:09:47.709Z"
   },
   {
    "duration": 31,
    "start_time": "2024-10-01T18:09:51.123Z"
   },
   {
    "duration": 30,
    "start_time": "2024-10-01T18:10:02.230Z"
   },
   {
    "duration": 22,
    "start_time": "2024-10-01T18:10:59.534Z"
   },
   {
    "duration": 35,
    "start_time": "2024-10-01T18:11:43.297Z"
   },
   {
    "duration": 28,
    "start_time": "2024-10-01T18:11:49.563Z"
   },
   {
    "duration": 31,
    "start_time": "2024-10-01T18:12:51.633Z"
   },
   {
    "duration": 22,
    "start_time": "2024-10-01T18:13:04.108Z"
   },
   {
    "duration": 23,
    "start_time": "2024-10-01T18:13:56.359Z"
   },
   {
    "duration": 13,
    "start_time": "2024-10-01T18:15:48.818Z"
   },
   {
    "duration": 6,
    "start_time": "2024-10-01T18:16:02.417Z"
   },
   {
    "duration": 64,
    "start_time": "2024-10-01T18:18:20.729Z"
   },
   {
    "duration": 1159,
    "start_time": "2024-10-01T18:18:26.824Z"
   },
   {
    "duration": 144,
    "start_time": "2024-10-01T18:18:48.375Z"
   },
   {
    "duration": 18,
    "start_time": "2024-10-01T18:20:10.781Z"
   },
   {
    "duration": 127,
    "start_time": "2024-10-01T18:20:15.999Z"
   },
   {
    "duration": 24,
    "start_time": "2024-10-01T18:21:29.782Z"
   },
   {
    "duration": 119,
    "start_time": "2024-10-01T18:21:45.645Z"
   },
   {
    "duration": 70,
    "start_time": "2024-10-01T18:22:04.725Z"
   },
   {
    "duration": 61,
    "start_time": "2024-10-01T19:35:35.071Z"
   },
   {
    "duration": 65,
    "start_time": "2024-10-01T19:36:18.082Z"
   },
   {
    "duration": 60,
    "start_time": "2024-10-01T19:37:08.709Z"
   },
   {
    "duration": 71,
    "start_time": "2024-10-01T19:38:27.860Z"
   },
   {
    "duration": 62,
    "start_time": "2024-10-01T19:38:34.733Z"
   },
   {
    "duration": 63,
    "start_time": "2024-10-01T19:38:42.596Z"
   },
   {
    "duration": 65,
    "start_time": "2024-10-01T19:38:45.456Z"
   },
   {
    "duration": 64,
    "start_time": "2024-10-01T19:38:52.084Z"
   },
   {
    "duration": 5,
    "start_time": "2024-10-01T19:39:06.524Z"
   },
   {
    "duration": 1261,
    "start_time": "2024-10-01T19:39:08.741Z"
   },
   {
    "duration": 1354,
    "start_time": "2024-10-01T19:39:24.163Z"
   },
   {
    "duration": 96,
    "start_time": "2024-10-01T19:39:25.519Z"
   },
   {
    "duration": 27,
    "start_time": "2024-10-01T19:39:25.617Z"
   },
   {
    "duration": 1998,
    "start_time": "2024-10-01T19:39:25.646Z"
   },
   {
    "duration": 27,
    "start_time": "2024-10-01T19:39:27.645Z"
   },
   {
    "duration": 10,
    "start_time": "2024-10-01T19:39:27.673Z"
   },
   {
    "duration": 16,
    "start_time": "2024-10-01T19:39:27.685Z"
   },
   {
    "duration": 6,
    "start_time": "2024-10-01T19:39:27.703Z"
   },
   {
    "duration": 56,
    "start_time": "2024-10-01T19:39:27.710Z"
   },
   {
    "duration": 9,
    "start_time": "2024-10-01T19:39:27.769Z"
   },
   {
    "duration": 5,
    "start_time": "2024-10-01T19:39:27.780Z"
   },
   {
    "duration": 110,
    "start_time": "2024-10-01T19:39:27.786Z"
   },
   {
    "duration": 10,
    "start_time": "2024-10-01T19:39:27.897Z"
   },
   {
    "duration": 9,
    "start_time": "2024-10-01T19:39:27.908Z"
   },
   {
    "duration": 4,
    "start_time": "2024-10-01T19:39:27.919Z"
   },
   {
    "duration": 12,
    "start_time": "2024-10-01T19:39:27.925Z"
   },
   {
    "duration": 8,
    "start_time": "2024-10-01T19:39:27.965Z"
   },
   {
    "duration": 8,
    "start_time": "2024-10-01T19:39:27.974Z"
   },
   {
    "duration": 13,
    "start_time": "2024-10-01T19:39:27.984Z"
   },
   {
    "duration": 28,
    "start_time": "2024-10-01T19:39:27.999Z"
   },
   {
    "duration": 89,
    "start_time": "2024-10-01T19:39:28.028Z"
   },
   {
    "duration": 333,
    "start_time": "2024-10-01T19:39:28.119Z"
   },
   {
    "duration": 11,
    "start_time": "2024-10-01T19:39:28.456Z"
   },
   {
    "duration": 6,
    "start_time": "2024-10-01T19:39:28.469Z"
   },
   {
    "duration": 26,
    "start_time": "2024-10-01T19:39:28.477Z"
   },
   {
    "duration": 295,
    "start_time": "2024-10-01T19:39:28.504Z"
   },
   {
    "duration": 21,
    "start_time": "2024-10-01T19:39:28.801Z"
   },
   {
    "duration": 312,
    "start_time": "2024-10-01T19:39:28.826Z"
   },
   {
    "duration": 29,
    "start_time": "2024-10-01T19:39:29.139Z"
   },
   {
    "duration": 307,
    "start_time": "2024-10-01T19:39:29.169Z"
   },
   {
    "duration": 24,
    "start_time": "2024-10-01T19:39:29.478Z"
   },
   {
    "duration": 339,
    "start_time": "2024-10-01T19:39:29.503Z"
   },
   {
    "duration": 33,
    "start_time": "2024-10-01T19:39:29.844Z"
   },
   {
    "duration": 320,
    "start_time": "2024-10-01T19:39:29.878Z"
   },
   {
    "duration": 26,
    "start_time": "2024-10-01T19:39:30.200Z"
   },
   {
    "duration": 226,
    "start_time": "2024-10-01T19:39:30.228Z"
   },
   {
    "duration": 21,
    "start_time": "2024-10-01T19:39:30.456Z"
   },
   {
    "duration": 204,
    "start_time": "2024-10-01T19:39:30.479Z"
   },
   {
    "duration": 22,
    "start_time": "2024-10-01T19:39:30.685Z"
   },
   {
    "duration": 330,
    "start_time": "2024-10-01T19:39:30.709Z"
   },
   {
    "duration": 29,
    "start_time": "2024-10-01T19:39:31.040Z"
   },
   {
    "duration": 234,
    "start_time": "2024-10-01T19:39:31.070Z"
   },
   {
    "duration": 114,
    "start_time": "2024-10-01T19:39:31.306Z"
   },
   {
    "duration": 495,
    "start_time": "2024-10-01T19:39:31.422Z"
   },
   {
    "duration": 11,
    "start_time": "2024-10-01T19:39:31.919Z"
   },
   {
    "duration": 34,
    "start_time": "2024-10-01T19:39:31.932Z"
   },
   {
    "duration": 685,
    "start_time": "2024-10-01T19:39:31.968Z"
   },
   {
    "duration": 24,
    "start_time": "2024-10-01T19:39:32.655Z"
   },
   {
    "duration": 1411,
    "start_time": "2024-10-01T19:39:32.681Z"
   },
   {
    "duration": 194,
    "start_time": "2024-10-01T19:40:06.125Z"
   },
   {
    "duration": 194,
    "start_time": "2024-10-01T19:40:12.814Z"
   },
   {
    "duration": 219,
    "start_time": "2024-10-01T19:40:15.973Z"
   },
   {
    "duration": 218,
    "start_time": "2024-10-01T19:40:19.796Z"
   },
   {
    "duration": 66,
    "start_time": "2024-10-01T19:43:28.206Z"
   },
   {
    "duration": 82,
    "start_time": "2024-10-01T19:45:23.655Z"
   },
   {
    "duration": 60,
    "start_time": "2024-10-01T19:45:37.013Z"
   },
   {
    "duration": 34,
    "start_time": "2024-10-01T19:45:42.968Z"
   },
   {
    "duration": 22,
    "start_time": "2024-10-01T19:46:34.823Z"
   },
   {
    "duration": 30,
    "start_time": "2024-10-01T19:47:21.016Z"
   },
   {
    "duration": 21,
    "start_time": "2024-10-01T19:47:54.330Z"
   },
   {
    "duration": 22,
    "start_time": "2024-10-01T19:48:39.016Z"
   },
   {
    "duration": 24,
    "start_time": "2024-10-01T19:48:52.590Z"
   },
   {
    "duration": 33,
    "start_time": "2024-10-01T19:49:06.590Z"
   },
   {
    "duration": 20,
    "start_time": "2024-10-01T19:49:40.976Z"
   },
   {
    "duration": 1476,
    "start_time": "2024-10-01T19:51:39.626Z"
   },
   {
    "duration": 1397,
    "start_time": "2024-10-01T19:51:52.965Z"
   },
   {
    "duration": 1338,
    "start_time": "2024-10-01T19:52:40.198Z"
   },
   {
    "duration": 7,
    "start_time": "2024-10-01T19:52:59.799Z"
   },
   {
    "duration": 125,
    "start_time": "2024-10-01T19:53:09.988Z"
   },
   {
    "duration": 6,
    "start_time": "2024-10-01T19:53:32.793Z"
   },
   {
    "duration": 9,
    "start_time": "2024-10-01T19:53:47.406Z"
   },
   {
    "duration": 6,
    "start_time": "2024-10-01T19:53:50.869Z"
   },
   {
    "duration": 408,
    "start_time": "2024-10-01T19:54:31.735Z"
   },
   {
    "duration": 422,
    "start_time": "2024-10-01T19:55:11.485Z"
   },
   {
    "duration": 444,
    "start_time": "2024-10-01T19:55:33.465Z"
   },
   {
    "duration": 33,
    "start_time": "2024-10-01T20:07:05.529Z"
   },
   {
    "duration": 1346,
    "start_time": "2024-10-01T20:08:58.821Z"
   },
   {
    "duration": 1344,
    "start_time": "2024-10-01T20:09:01.811Z"
   },
   {
    "duration": 1248,
    "start_time": "2024-10-01T20:09:19.876Z"
   },
   {
    "duration": 313,
    "start_time": "2024-10-01T20:09:33.417Z"
   },
   {
    "duration": 460,
    "start_time": "2024-10-01T20:11:24.830Z"
   },
   {
    "duration": 503,
    "start_time": "2024-10-01T20:12:22.568Z"
   },
   {
    "duration": 508,
    "start_time": "2024-10-01T20:12:41.591Z"
   },
   {
    "duration": 1265,
    "start_time": "2024-10-01T20:12:53.646Z"
   },
   {
    "duration": 197,
    "start_time": "2024-10-01T20:13:03.856Z"
   },
   {
    "duration": 175,
    "start_time": "2024-10-01T20:14:30.871Z"
   },
   {
    "duration": 24,
    "start_time": "2024-10-01T20:15:08.451Z"
   },
   {
    "duration": 28,
    "start_time": "2024-10-01T20:15:15.429Z"
   },
   {
    "duration": 380,
    "start_time": "2024-10-01T20:15:49.297Z"
   },
   {
    "duration": 1317,
    "start_time": "2024-10-01T20:18:46.330Z"
   },
   {
    "duration": 99,
    "start_time": "2024-10-01T20:18:47.649Z"
   },
   {
    "duration": 51,
    "start_time": "2024-10-01T20:18:47.750Z"
   },
   {
    "duration": 1952,
    "start_time": "2024-10-01T20:18:47.804Z"
   },
   {
    "duration": 26,
    "start_time": "2024-10-01T20:18:49.758Z"
   },
   {
    "duration": 9,
    "start_time": "2024-10-01T20:18:49.786Z"
   },
   {
    "duration": 16,
    "start_time": "2024-10-01T20:18:49.797Z"
   },
   {
    "duration": 18,
    "start_time": "2024-10-01T20:18:49.815Z"
   },
   {
    "duration": 77,
    "start_time": "2024-10-01T20:18:49.834Z"
   },
   {
    "duration": 11,
    "start_time": "2024-10-01T20:18:49.914Z"
   },
   {
    "duration": 16,
    "start_time": "2024-10-01T20:18:49.927Z"
   },
   {
    "duration": 88,
    "start_time": "2024-10-01T20:18:49.945Z"
   },
   {
    "duration": 23,
    "start_time": "2024-10-01T20:18:50.035Z"
   },
   {
    "duration": 30,
    "start_time": "2024-10-01T20:18:50.060Z"
   },
   {
    "duration": 13,
    "start_time": "2024-10-01T20:18:50.092Z"
   },
   {
    "duration": 18,
    "start_time": "2024-10-01T20:18:50.107Z"
   },
   {
    "duration": 48,
    "start_time": "2024-10-01T20:18:50.127Z"
   },
   {
    "duration": 24,
    "start_time": "2024-10-01T20:18:50.176Z"
   },
   {
    "duration": 24,
    "start_time": "2024-10-01T20:18:50.202Z"
   },
   {
    "duration": 38,
    "start_time": "2024-10-01T20:18:50.228Z"
   },
   {
    "duration": 43,
    "start_time": "2024-10-01T20:18:50.268Z"
   },
   {
    "duration": 300,
    "start_time": "2024-10-01T20:18:50.313Z"
   },
   {
    "duration": 7,
    "start_time": "2024-10-01T20:18:50.615Z"
   },
   {
    "duration": 14,
    "start_time": "2024-10-01T20:18:50.624Z"
   },
   {
    "duration": 39,
    "start_time": "2024-10-01T20:18:50.639Z"
   },
   {
    "duration": 318,
    "start_time": "2024-10-01T20:18:50.681Z"
   },
   {
    "duration": 24,
    "start_time": "2024-10-01T20:18:51.002Z"
   },
   {
    "duration": 338,
    "start_time": "2024-10-01T20:18:51.031Z"
   },
   {
    "duration": 22,
    "start_time": "2024-10-01T20:18:51.371Z"
   },
   {
    "duration": 351,
    "start_time": "2024-10-01T20:18:51.394Z"
   },
   {
    "duration": 32,
    "start_time": "2024-10-01T20:18:51.747Z"
   },
   {
    "duration": 337,
    "start_time": "2024-10-01T20:18:51.781Z"
   },
   {
    "duration": 25,
    "start_time": "2024-10-01T20:18:52.119Z"
   },
   {
    "duration": 319,
    "start_time": "2024-10-01T20:18:52.146Z"
   },
   {
    "duration": 28,
    "start_time": "2024-10-01T20:18:52.467Z"
   },
   {
    "duration": 208,
    "start_time": "2024-10-01T20:18:52.497Z"
   },
   {
    "duration": 20,
    "start_time": "2024-10-01T20:18:52.707Z"
   },
   {
    "duration": 206,
    "start_time": "2024-10-01T20:18:52.728Z"
   },
   {
    "duration": 32,
    "start_time": "2024-10-01T20:18:52.936Z"
   },
   {
    "duration": 309,
    "start_time": "2024-10-01T20:18:52.969Z"
   },
   {
    "duration": 23,
    "start_time": "2024-10-01T20:18:53.281Z"
   },
   {
    "duration": 238,
    "start_time": "2024-10-01T20:18:53.306Z"
   },
   {
    "duration": 124,
    "start_time": "2024-10-01T20:18:53.546Z"
   },
   {
    "duration": 491,
    "start_time": "2024-10-01T20:18:53.673Z"
   },
   {
    "duration": 11,
    "start_time": "2024-10-01T20:18:54.165Z"
   },
   {
    "duration": 28,
    "start_time": "2024-10-01T20:18:54.177Z"
   },
   {
    "duration": 615,
    "start_time": "2024-10-01T20:18:54.207Z"
   },
   {
    "duration": 22,
    "start_time": "2024-10-01T20:18:54.825Z"
   },
   {
    "duration": 247,
    "start_time": "2024-10-01T20:18:54.849Z"
   },
   {
    "duration": 24,
    "start_time": "2024-10-01T20:18:55.098Z"
   },
   {
    "duration": 434,
    "start_time": "2024-10-01T20:18:55.124Z"
   },
   {
    "duration": 28,
    "start_time": "2024-10-01T20:18:55.565Z"
   },
   {
    "duration": 188,
    "start_time": "2024-10-01T20:18:55.595Z"
   },
   {
    "duration": 249,
    "start_time": "2024-10-01T20:19:17.480Z"
   },
   {
    "duration": 78,
    "start_time": "2024-10-01T20:21:19.212Z"
   },
   {
    "duration": 60,
    "start_time": "2024-10-01T20:23:51.472Z"
   },
   {
    "duration": 121,
    "start_time": "2024-10-01T20:23:55.588Z"
   },
   {
    "duration": 37,
    "start_time": "2024-10-01T20:24:04.540Z"
   },
   {
    "duration": 22,
    "start_time": "2024-10-01T20:24:18.295Z"
   },
   {
    "duration": 20,
    "start_time": "2024-10-01T20:24:24.196Z"
   },
   {
    "duration": 31,
    "start_time": "2024-10-01T20:24:56.825Z"
   },
   {
    "duration": 31,
    "start_time": "2024-10-01T20:25:45.410Z"
   },
   {
    "duration": 19,
    "start_time": "2024-10-01T20:26:32.257Z"
   },
   {
    "duration": 33,
    "start_time": "2024-10-01T20:27:11.318Z"
   },
   {
    "duration": 11,
    "start_time": "2024-10-01T20:38:33.598Z"
   },
   {
    "duration": 5,
    "start_time": "2024-10-01T20:38:36.243Z"
   },
   {
    "duration": 81,
    "start_time": "2024-10-01T20:39:53.232Z"
   },
   {
    "duration": 59,
    "start_time": "2024-10-01T20:40:05.221Z"
   },
   {
    "duration": 51,
    "start_time": "2024-10-01T20:40:20.247Z"
   },
   {
    "duration": 46,
    "start_time": "2024-10-01T20:42:43.412Z"
   },
   {
    "duration": 435,
    "start_time": "2024-10-01T20:47:27.241Z"
   },
   {
    "duration": 224,
    "start_time": "2024-10-01T20:48:00.651Z"
   },
   {
    "duration": 228,
    "start_time": "2024-10-01T20:48:07.527Z"
   },
   {
    "duration": 17,
    "start_time": "2024-10-01T20:48:42.016Z"
   },
   {
    "duration": 1385,
    "start_time": "2024-10-01T20:49:52.562Z"
   },
   {
    "duration": 101,
    "start_time": "2024-10-01T20:49:53.949Z"
   },
   {
    "duration": 39,
    "start_time": "2024-10-01T20:49:54.052Z"
   },
   {
    "duration": 1982,
    "start_time": "2024-10-01T20:49:54.094Z"
   },
   {
    "duration": 26,
    "start_time": "2024-10-01T20:49:56.077Z"
   },
   {
    "duration": 9,
    "start_time": "2024-10-01T20:49:56.105Z"
   },
   {
    "duration": 15,
    "start_time": "2024-10-01T20:49:56.115Z"
   },
   {
    "duration": 5,
    "start_time": "2024-10-01T20:49:56.131Z"
   },
   {
    "duration": 54,
    "start_time": "2024-10-01T20:49:56.138Z"
   },
   {
    "duration": 8,
    "start_time": "2024-10-01T20:49:56.195Z"
   },
   {
    "duration": 107,
    "start_time": "2024-10-01T20:49:56.204Z"
   },
   {
    "duration": 8,
    "start_time": "2024-10-01T20:49:56.313Z"
   },
   {
    "duration": 6,
    "start_time": "2024-10-01T20:49:56.323Z"
   },
   {
    "duration": 9,
    "start_time": "2024-10-01T20:49:56.331Z"
   },
   {
    "duration": 26,
    "start_time": "2024-10-01T20:49:56.341Z"
   },
   {
    "duration": 6,
    "start_time": "2024-10-01T20:49:56.368Z"
   },
   {
    "duration": 5,
    "start_time": "2024-10-01T20:49:56.376Z"
   },
   {
    "duration": 9,
    "start_time": "2024-10-01T20:49:56.383Z"
   },
   {
    "duration": 17,
    "start_time": "2024-10-01T20:49:56.394Z"
   },
   {
    "duration": 63,
    "start_time": "2024-10-01T20:49:56.413Z"
   },
   {
    "duration": 54,
    "start_time": "2024-10-01T20:49:56.478Z"
   },
   {
    "duration": 299,
    "start_time": "2024-10-01T20:49:56.534Z"
   },
   {
    "duration": 8,
    "start_time": "2024-10-01T20:49:56.834Z"
   },
   {
    "duration": 9,
    "start_time": "2024-10-01T20:49:56.844Z"
   },
   {
    "duration": 35,
    "start_time": "2024-10-01T20:49:56.865Z"
   },
   {
    "duration": 309,
    "start_time": "2024-10-01T20:49:56.902Z"
   },
   {
    "duration": 35,
    "start_time": "2024-10-01T20:49:57.214Z"
   },
   {
    "duration": 338,
    "start_time": "2024-10-01T20:49:57.264Z"
   },
   {
    "duration": 35,
    "start_time": "2024-10-01T20:49:57.604Z"
   },
   {
    "duration": 343,
    "start_time": "2024-10-01T20:49:57.642Z"
   },
   {
    "duration": 26,
    "start_time": "2024-10-01T20:49:57.987Z"
   },
   {
    "duration": 331,
    "start_time": "2024-10-01T20:49:58.015Z"
   },
   {
    "duration": 35,
    "start_time": "2024-10-01T20:49:58.348Z"
   },
   {
    "duration": 326,
    "start_time": "2024-10-01T20:49:58.384Z"
   },
   {
    "duration": 28,
    "start_time": "2024-10-01T20:49:58.712Z"
   },
   {
    "duration": 226,
    "start_time": "2024-10-01T20:49:58.742Z"
   },
   {
    "duration": 21,
    "start_time": "2024-10-01T20:49:58.970Z"
   },
   {
    "duration": 213,
    "start_time": "2024-10-01T20:49:58.993Z"
   },
   {
    "duration": 23,
    "start_time": "2024-10-01T20:49:59.207Z"
   },
   {
    "duration": 340,
    "start_time": "2024-10-01T20:49:59.232Z"
   },
   {
    "duration": 34,
    "start_time": "2024-10-01T20:49:59.574Z"
   },
   {
    "duration": 243,
    "start_time": "2024-10-01T20:49:59.610Z"
   },
   {
    "duration": 116,
    "start_time": "2024-10-01T20:49:59.855Z"
   },
   {
    "duration": 456,
    "start_time": "2024-10-01T20:49:59.973Z"
   },
   {
    "duration": 11,
    "start_time": "2024-10-01T20:50:00.430Z"
   },
   {
    "duration": 28,
    "start_time": "2024-10-01T20:50:00.442Z"
   },
   {
    "duration": 652,
    "start_time": "2024-10-01T20:50:00.471Z"
   },
   {
    "duration": 42,
    "start_time": "2024-10-01T20:50:01.125Z"
   },
   {
    "duration": 210,
    "start_time": "2024-10-01T20:50:01.169Z"
   },
   {
    "duration": 29,
    "start_time": "2024-10-01T20:50:01.381Z"
   },
   {
    "duration": 460,
    "start_time": "2024-10-01T20:50:01.412Z"
   },
   {
    "duration": 28,
    "start_time": "2024-10-01T20:50:01.874Z"
   },
   {
    "duration": 242,
    "start_time": "2024-10-01T20:50:01.904Z"
   },
   {
    "duration": 27,
    "start_time": "2024-10-01T20:50:02.148Z"
   },
   {
    "duration": 47,
    "start_time": "2024-10-01T20:50:02.177Z"
   },
   {
    "duration": 1329,
    "start_time": "2024-10-01T20:50:02.226Z"
   },
   {
    "duration": 263,
    "start_time": "2024-10-01T20:50:23.766Z"
   },
   {
    "duration": 645,
    "start_time": "2024-10-01T20:50:53.592Z"
   },
   {
    "duration": 1313,
    "start_time": "2024-10-01T21:10:17.311Z"
   },
   {
    "duration": 97,
    "start_time": "2024-10-01T21:10:18.627Z"
   },
   {
    "duration": 44,
    "start_time": "2024-10-01T21:10:18.729Z"
   },
   {
    "duration": 2093,
    "start_time": "2024-10-01T21:10:18.775Z"
   },
   {
    "duration": 30,
    "start_time": "2024-10-01T21:10:20.870Z"
   },
   {
    "duration": 10,
    "start_time": "2024-10-01T21:10:20.902Z"
   },
   {
    "duration": 20,
    "start_time": "2024-10-01T21:10:20.914Z"
   },
   {
    "duration": 30,
    "start_time": "2024-10-01T21:10:20.936Z"
   },
   {
    "duration": 144,
    "start_time": "2024-10-01T21:10:20.970Z"
   },
   {
    "duration": 12,
    "start_time": "2024-10-01T21:10:21.116Z"
   },
   {
    "duration": 5,
    "start_time": "2024-10-01T21:10:21.130Z"
   },
   {
    "duration": 38,
    "start_time": "2024-10-01T21:10:21.136Z"
   },
   {
    "duration": 12,
    "start_time": "2024-10-01T21:10:21.176Z"
   },
   {
    "duration": 7,
    "start_time": "2024-10-01T21:10:21.191Z"
   },
   {
    "duration": 5,
    "start_time": "2024-10-01T21:10:21.200Z"
   },
   {
    "duration": 5,
    "start_time": "2024-10-01T21:10:21.207Z"
   },
   {
    "duration": 5,
    "start_time": "2024-10-01T21:10:21.214Z"
   },
   {
    "duration": 52,
    "start_time": "2024-10-01T21:10:21.221Z"
   },
   {
    "duration": 15,
    "start_time": "2024-10-01T21:10:21.275Z"
   },
   {
    "duration": 38,
    "start_time": "2024-10-01T21:10:21.292Z"
   },
   {
    "duration": 66,
    "start_time": "2024-10-01T21:10:21.332Z"
   },
   {
    "duration": 307,
    "start_time": "2024-10-01T21:10:21.400Z"
   },
   {
    "duration": 8,
    "start_time": "2024-10-01T21:10:21.709Z"
   },
   {
    "duration": 7,
    "start_time": "2024-10-01T21:10:21.718Z"
   },
   {
    "duration": 47,
    "start_time": "2024-10-01T21:10:21.727Z"
   },
   {
    "duration": 301,
    "start_time": "2024-10-01T21:10:21.776Z"
   },
   {
    "duration": 23,
    "start_time": "2024-10-01T21:10:22.081Z"
   },
   {
    "duration": 331,
    "start_time": "2024-10-01T21:10:22.105Z"
   },
   {
    "duration": 32,
    "start_time": "2024-10-01T21:10:22.437Z"
   },
   {
    "duration": 313,
    "start_time": "2024-10-01T21:10:22.471Z"
   },
   {
    "duration": 25,
    "start_time": "2024-10-01T21:10:22.786Z"
   },
   {
    "duration": 360,
    "start_time": "2024-10-01T21:10:22.812Z"
   },
   {
    "duration": 26,
    "start_time": "2024-10-01T21:10:23.174Z"
   },
   {
    "duration": 327,
    "start_time": "2024-10-01T21:10:23.202Z"
   },
   {
    "duration": 35,
    "start_time": "2024-10-01T21:10:23.531Z"
   },
   {
    "duration": 231,
    "start_time": "2024-10-01T21:10:23.567Z"
   },
   {
    "duration": 41,
    "start_time": "2024-10-01T21:10:23.800Z"
   },
   {
    "duration": 237,
    "start_time": "2024-10-01T21:10:23.844Z"
   },
   {
    "duration": 25,
    "start_time": "2024-10-01T21:10:24.083Z"
   },
   {
    "duration": 326,
    "start_time": "2024-10-01T21:10:24.110Z"
   },
   {
    "duration": 30,
    "start_time": "2024-10-01T21:10:24.438Z"
   },
   {
    "duration": 243,
    "start_time": "2024-10-01T21:10:24.470Z"
   },
   {
    "duration": 132,
    "start_time": "2024-10-01T21:10:24.715Z"
   },
   {
    "duration": 493,
    "start_time": "2024-10-01T21:10:24.849Z"
   },
   {
    "duration": 21,
    "start_time": "2024-10-01T21:10:25.344Z"
   },
   {
    "duration": 16,
    "start_time": "2024-10-01T21:10:25.367Z"
   },
   {
    "duration": 702,
    "start_time": "2024-10-01T21:10:25.384Z"
   },
   {
    "duration": 25,
    "start_time": "2024-10-01T21:10:26.088Z"
   },
   {
    "duration": 233,
    "start_time": "2024-10-01T21:10:26.115Z"
   },
   {
    "duration": 40,
    "start_time": "2024-10-01T21:10:26.350Z"
   },
   {
    "duration": 514,
    "start_time": "2024-10-01T21:10:26.392Z"
   },
   {
    "duration": 41,
    "start_time": "2024-10-01T21:10:26.908Z"
   },
   {
    "duration": 259,
    "start_time": "2024-10-01T21:10:26.965Z"
   },
   {
    "duration": 22,
    "start_time": "2024-10-01T21:10:27.226Z"
   },
   {
    "duration": 61,
    "start_time": "2024-10-01T21:10:27.250Z"
   },
   {
    "duration": 647,
    "start_time": "2024-10-01T21:10:27.313Z"
   },
   {
    "duration": 63,
    "start_time": "2024-10-01T21:10:27.961Z"
   },
   {
    "duration": 69,
    "start_time": "2024-10-01T21:12:47.597Z"
   },
   {
    "duration": 629,
    "start_time": "2024-10-01T21:12:51.378Z"
   },
   {
    "duration": 622,
    "start_time": "2024-10-01T21:13:20.644Z"
   },
   {
    "duration": 614,
    "start_time": "2024-10-01T21:13:30.325Z"
   },
   {
    "duration": 588,
    "start_time": "2024-10-01T21:13:38.824Z"
   },
   {
    "duration": 1741,
    "start_time": "2024-10-02T07:35:40.367Z"
   },
   {
    "duration": 93,
    "start_time": "2024-10-02T07:35:42.110Z"
   },
   {
    "duration": 31,
    "start_time": "2024-10-02T07:35:42.205Z"
   },
   {
    "duration": 1976,
    "start_time": "2024-10-02T07:35:42.238Z"
   },
   {
    "duration": 26,
    "start_time": "2024-10-02T07:35:44.216Z"
   },
   {
    "duration": 10,
    "start_time": "2024-10-02T07:35:44.243Z"
   },
   {
    "duration": 22,
    "start_time": "2024-10-02T07:35:44.254Z"
   },
   {
    "duration": 16,
    "start_time": "2024-10-02T07:35:44.277Z"
   },
   {
    "duration": 63,
    "start_time": "2024-10-02T07:35:44.295Z"
   },
   {
    "duration": 15,
    "start_time": "2024-10-02T07:35:44.361Z"
   },
   {
    "duration": 22,
    "start_time": "2024-10-02T07:35:44.378Z"
   },
   {
    "duration": 96,
    "start_time": "2024-10-02T07:35:44.402Z"
   },
   {
    "duration": 57,
    "start_time": "2024-10-02T07:35:44.500Z"
   },
   {
    "duration": 21,
    "start_time": "2024-10-02T07:35:44.559Z"
   },
   {
    "duration": 22,
    "start_time": "2024-10-02T07:35:44.581Z"
   },
   {
    "duration": 19,
    "start_time": "2024-10-02T07:35:44.605Z"
   },
   {
    "duration": 16,
    "start_time": "2024-10-02T07:35:44.626Z"
   },
   {
    "duration": 30,
    "start_time": "2024-10-02T07:35:44.643Z"
   },
   {
    "duration": 16,
    "start_time": "2024-10-02T07:35:44.675Z"
   },
   {
    "duration": 39,
    "start_time": "2024-10-02T07:35:44.693Z"
   },
   {
    "duration": 59,
    "start_time": "2024-10-02T07:35:44.733Z"
   },
   {
    "duration": 303,
    "start_time": "2024-10-02T07:35:44.794Z"
   },
   {
    "duration": 7,
    "start_time": "2024-10-02T07:35:45.099Z"
   },
   {
    "duration": 23,
    "start_time": "2024-10-02T07:35:45.107Z"
   },
   {
    "duration": 42,
    "start_time": "2024-10-02T07:35:45.132Z"
   },
   {
    "duration": 299,
    "start_time": "2024-10-02T07:35:45.176Z"
   },
   {
    "duration": 23,
    "start_time": "2024-10-02T07:35:45.477Z"
   },
   {
    "duration": 334,
    "start_time": "2024-10-02T07:35:45.504Z"
   },
   {
    "duration": 24,
    "start_time": "2024-10-02T07:35:45.839Z"
   },
   {
    "duration": 327,
    "start_time": "2024-10-02T07:35:45.865Z"
   },
   {
    "duration": 34,
    "start_time": "2024-10-02T07:35:46.194Z"
   },
   {
    "duration": 362,
    "start_time": "2024-10-02T07:35:46.230Z"
   },
   {
    "duration": 35,
    "start_time": "2024-10-02T07:35:46.594Z"
   },
   {
    "duration": 325,
    "start_time": "2024-10-02T07:35:46.630Z"
   },
   {
    "duration": 28,
    "start_time": "2024-10-02T07:35:46.956Z"
   },
   {
    "duration": 210,
    "start_time": "2024-10-02T07:35:46.986Z"
   },
   {
    "duration": 28,
    "start_time": "2024-10-02T07:35:47.198Z"
   },
   {
    "duration": 239,
    "start_time": "2024-10-02T07:35:47.227Z"
   },
   {
    "duration": 23,
    "start_time": "2024-10-02T07:35:47.468Z"
   },
   {
    "duration": 328,
    "start_time": "2024-10-02T07:35:47.493Z"
   },
   {
    "duration": 24,
    "start_time": "2024-10-02T07:35:47.822Z"
   },
   {
    "duration": 240,
    "start_time": "2024-10-02T07:35:47.847Z"
   },
   {
    "duration": 118,
    "start_time": "2024-10-02T07:35:48.089Z"
   },
   {
    "duration": 466,
    "start_time": "2024-10-02T07:35:48.209Z"
   },
   {
    "duration": 10,
    "start_time": "2024-10-02T07:35:48.677Z"
   },
   {
    "duration": 25,
    "start_time": "2024-10-02T07:35:48.688Z"
   },
   {
    "duration": 640,
    "start_time": "2024-10-02T07:35:48.714Z"
   },
   {
    "duration": 22,
    "start_time": "2024-10-02T07:35:49.356Z"
   },
   {
    "duration": 218,
    "start_time": "2024-10-02T07:35:49.380Z"
   },
   {
    "duration": 30,
    "start_time": "2024-10-02T07:35:49.599Z"
   },
   {
    "duration": 427,
    "start_time": "2024-10-02T07:35:49.631Z"
   },
   {
    "duration": 30,
    "start_time": "2024-10-02T07:35:50.059Z"
   },
   {
    "duration": 237,
    "start_time": "2024-10-02T07:35:50.090Z"
   },
   {
    "duration": 22,
    "start_time": "2024-10-02T07:35:50.328Z"
   },
   {
    "duration": 72,
    "start_time": "2024-10-02T07:35:50.351Z"
   },
   {
    "duration": 602,
    "start_time": "2024-10-02T07:35:50.424Z"
   },
   {
    "duration": 27,
    "start_time": "2024-10-02T07:37:50.294Z"
   },
   {
    "duration": 26,
    "start_time": "2024-10-02T07:37:57.389Z"
   },
   {
    "duration": 20,
    "start_time": "2024-10-02T07:54:28.520Z"
   },
   {
    "duration": 25,
    "start_time": "2024-10-02T07:54:36.674Z"
   },
   {
    "duration": 30,
    "start_time": "2024-10-02T07:55:01.628Z"
   },
   {
    "duration": 22,
    "start_time": "2024-10-02T07:55:44.764Z"
   },
   {
    "duration": 22,
    "start_time": "2024-10-02T07:57:28.561Z"
   },
   {
    "duration": 23,
    "start_time": "2024-10-02T07:57:41.812Z"
   },
   {
    "duration": 27,
    "start_time": "2024-10-02T07:57:50.184Z"
   },
   {
    "duration": 110,
    "start_time": "2024-10-02T08:07:42.923Z"
   },
   {
    "duration": 8,
    "start_time": "2024-10-02T08:07:47.701Z"
   },
   {
    "duration": 4,
    "start_time": "2024-10-02T08:07:51.336Z"
   },
   {
    "duration": 5,
    "start_time": "2024-10-02T08:08:12.273Z"
   },
   {
    "duration": 6,
    "start_time": "2024-10-02T08:08:52.965Z"
   },
   {
    "duration": 58,
    "start_time": "2024-10-02T08:10:51.216Z"
   },
   {
    "duration": 9,
    "start_time": "2024-10-02T08:10:55.522Z"
   },
   {
    "duration": 8,
    "start_time": "2024-10-02T08:11:12.029Z"
   },
   {
    "duration": 9,
    "start_time": "2024-10-02T08:11:36.827Z"
   },
   {
    "duration": 8,
    "start_time": "2024-10-02T08:11:43.619Z"
   },
   {
    "duration": 11,
    "start_time": "2024-10-02T08:11:57.032Z"
   },
   {
    "duration": 9,
    "start_time": "2024-10-02T08:12:00.901Z"
   },
   {
    "duration": 54,
    "start_time": "2024-10-02T08:13:29.220Z"
   },
   {
    "duration": 8,
    "start_time": "2024-10-02T08:13:53.402Z"
   },
   {
    "duration": 14,
    "start_time": "2024-10-02T08:14:34.819Z"
   },
   {
    "duration": 15,
    "start_time": "2024-10-02T08:14:46.900Z"
   },
   {
    "duration": 10,
    "start_time": "2024-10-02T08:14:55.421Z"
   },
   {
    "duration": 9,
    "start_time": "2024-10-02T08:15:45.484Z"
   },
   {
    "duration": 5,
    "start_time": "2024-10-02T08:24:06.740Z"
   },
   {
    "duration": 12,
    "start_time": "2024-10-02T08:25:01.409Z"
   },
   {
    "duration": 10,
    "start_time": "2024-10-02T08:25:14.078Z"
   },
   {
    "duration": 11,
    "start_time": "2024-10-02T08:26:42.049Z"
   },
   {
    "duration": 802,
    "start_time": "2024-10-02T08:28:10.220Z"
   },
   {
    "duration": 4,
    "start_time": "2024-10-02T08:28:22.509Z"
   },
   {
    "duration": 16,
    "start_time": "2024-10-02T08:28:55.856Z"
   },
   {
    "duration": 63,
    "start_time": "2024-10-02T08:29:08.188Z"
   },
   {
    "duration": 12,
    "start_time": "2024-10-02T08:29:12.876Z"
   },
   {
    "duration": 15,
    "start_time": "2024-10-02T08:29:18.149Z"
   },
   {
    "duration": 21,
    "start_time": "2024-10-02T08:29:55.679Z"
   },
   {
    "duration": 21,
    "start_time": "2024-10-02T08:29:59.635Z"
   },
   {
    "duration": 16,
    "start_time": "2024-10-02T08:30:45.057Z"
   },
   {
    "duration": 16,
    "start_time": "2024-10-02T08:31:13.573Z"
   },
   {
    "duration": 25,
    "start_time": "2024-10-02T08:31:18.096Z"
   },
   {
    "duration": 4,
    "start_time": "2024-10-02T08:31:35.853Z"
   },
   {
    "duration": 24,
    "start_time": "2024-10-02T08:31:41.346Z"
   },
   {
    "duration": 4,
    "start_time": "2024-10-02T08:31:50.700Z"
   },
   {
    "duration": 25,
    "start_time": "2024-10-02T08:32:05.060Z"
   },
   {
    "duration": 25,
    "start_time": "2024-10-02T08:32:22.727Z"
   },
   {
    "duration": 23,
    "start_time": "2024-10-02T08:32:28.034Z"
   },
   {
    "duration": 24,
    "start_time": "2024-10-02T08:32:53.852Z"
   },
   {
    "duration": 23,
    "start_time": "2024-10-02T08:36:13.008Z"
   },
   {
    "duration": 29,
    "start_time": "2024-10-02T08:37:53.320Z"
   },
   {
    "duration": 29,
    "start_time": "2024-10-02T08:38:02.354Z"
   },
   {
    "duration": 29,
    "start_time": "2024-10-02T08:38:07.650Z"
   },
   {
    "duration": 76,
    "start_time": "2024-10-02T08:38:16.043Z"
   },
   {
    "duration": 28,
    "start_time": "2024-10-02T08:38:28.224Z"
   },
   {
    "duration": 24,
    "start_time": "2024-10-02T08:38:42.782Z"
   },
   {
    "duration": 25,
    "start_time": "2024-10-02T08:41:22.602Z"
   },
   {
    "duration": 10,
    "start_time": "2024-10-02T08:41:42.273Z"
   },
   {
    "duration": 15,
    "start_time": "2024-10-02T08:41:47.003Z"
   },
   {
    "duration": 14,
    "start_time": "2024-10-02T08:41:57.526Z"
   },
   {
    "duration": 16,
    "start_time": "2024-10-02T08:42:06.058Z"
   },
   {
    "duration": 15,
    "start_time": "2024-10-02T08:42:20.053Z"
   },
   {
    "duration": 14,
    "start_time": "2024-10-02T08:43:16.056Z"
   },
   {
    "duration": 15,
    "start_time": "2024-10-02T08:43:39.330Z"
   },
   {
    "duration": 7,
    "start_time": "2024-10-02T08:43:48.509Z"
   },
   {
    "duration": 15,
    "start_time": "2024-10-02T08:43:50.897Z"
   },
   {
    "duration": 14,
    "start_time": "2024-10-02T08:44:08.978Z"
   },
   {
    "duration": 14,
    "start_time": "2024-10-02T08:44:49.489Z"
   },
   {
    "duration": 14,
    "start_time": "2024-10-02T08:50:36.088Z"
   },
   {
    "duration": 9,
    "start_time": "2024-10-02T08:50:54.269Z"
   },
   {
    "duration": 5,
    "start_time": "2024-10-02T08:52:42.887Z"
   },
   {
    "duration": 22,
    "start_time": "2024-10-02T08:52:47.753Z"
   },
   {
    "duration": 1295,
    "start_time": "2024-10-02T08:52:55.626Z"
   },
   {
    "duration": 100,
    "start_time": "2024-10-02T08:52:56.923Z"
   },
   {
    "duration": 28,
    "start_time": "2024-10-02T08:52:57.025Z"
   },
   {
    "duration": 2038,
    "start_time": "2024-10-02T08:52:57.055Z"
   },
   {
    "duration": 28,
    "start_time": "2024-10-02T08:52:59.095Z"
   },
   {
    "duration": 11,
    "start_time": "2024-10-02T08:52:59.125Z"
   },
   {
    "duration": 25,
    "start_time": "2024-10-02T08:52:59.137Z"
   },
   {
    "duration": 6,
    "start_time": "2024-10-02T08:52:59.165Z"
   },
   {
    "duration": 64,
    "start_time": "2024-10-02T08:52:59.173Z"
   },
   {
    "duration": 51,
    "start_time": "2024-10-02T08:52:59.241Z"
   },
   {
    "duration": 20,
    "start_time": "2024-10-02T08:52:59.294Z"
   },
   {
    "duration": 120,
    "start_time": "2024-10-02T08:52:59.316Z"
   },
   {
    "duration": 23,
    "start_time": "2024-10-02T08:52:59.438Z"
   },
   {
    "duration": 28,
    "start_time": "2024-10-02T08:52:59.462Z"
   },
   {
    "duration": 21,
    "start_time": "2024-10-02T08:52:59.492Z"
   },
   {
    "duration": 74,
    "start_time": "2024-10-02T08:52:59.514Z"
   },
   {
    "duration": 20,
    "start_time": "2024-10-02T08:52:59.589Z"
   },
   {
    "duration": 16,
    "start_time": "2024-10-02T08:52:59.610Z"
   },
   {
    "duration": 40,
    "start_time": "2024-10-02T08:52:59.628Z"
   },
   {
    "duration": 47,
    "start_time": "2024-10-02T08:52:59.670Z"
   },
   {
    "duration": 54,
    "start_time": "2024-10-02T08:52:59.718Z"
   },
   {
    "duration": 302,
    "start_time": "2024-10-02T08:52:59.774Z"
   },
   {
    "duration": 8,
    "start_time": "2024-10-02T08:53:00.078Z"
   },
   {
    "duration": 47,
    "start_time": "2024-10-02T08:53:00.088Z"
   },
   {
    "duration": 54,
    "start_time": "2024-10-02T08:53:00.137Z"
   },
   {
    "duration": 319,
    "start_time": "2024-10-02T08:53:00.192Z"
   },
   {
    "duration": 27,
    "start_time": "2024-10-02T08:53:00.513Z"
   },
   {
    "duration": 428,
    "start_time": "2024-10-02T08:53:00.544Z"
   },
   {
    "duration": 23,
    "start_time": "2024-10-02T08:53:00.974Z"
   },
   {
    "duration": 340,
    "start_time": "2024-10-02T08:53:00.999Z"
   },
   {
    "duration": 25,
    "start_time": "2024-10-02T08:53:01.340Z"
   },
   {
    "duration": 347,
    "start_time": "2024-10-02T08:53:01.367Z"
   },
   {
    "duration": 26,
    "start_time": "2024-10-02T08:53:01.721Z"
   },
   {
    "duration": 365,
    "start_time": "2024-10-02T08:53:01.749Z"
   },
   {
    "duration": 28,
    "start_time": "2024-10-02T08:53:02.120Z"
   },
   {
    "duration": 219,
    "start_time": "2024-10-02T08:53:02.150Z"
   },
   {
    "duration": 25,
    "start_time": "2024-10-02T08:53:02.371Z"
   },
   {
    "duration": 254,
    "start_time": "2024-10-02T08:53:02.398Z"
   },
   {
    "duration": 24,
    "start_time": "2024-10-02T08:53:02.654Z"
   },
   {
    "duration": 361,
    "start_time": "2024-10-02T08:53:02.680Z"
   },
   {
    "duration": 26,
    "start_time": "2024-10-02T08:53:03.043Z"
   },
   {
    "duration": 265,
    "start_time": "2024-10-02T08:53:03.071Z"
   },
   {
    "duration": 122,
    "start_time": "2024-10-02T08:53:03.338Z"
   },
   {
    "duration": 466,
    "start_time": "2024-10-02T08:53:03.462Z"
   },
   {
    "duration": 12,
    "start_time": "2024-10-02T08:53:03.930Z"
   },
   {
    "duration": 40,
    "start_time": "2024-10-02T08:53:03.943Z"
   },
   {
    "duration": 743,
    "start_time": "2024-10-02T08:53:03.985Z"
   },
   {
    "duration": 22,
    "start_time": "2024-10-02T08:53:04.731Z"
   },
   {
    "duration": 255,
    "start_time": "2024-10-02T08:53:04.755Z"
   },
   {
    "duration": 28,
    "start_time": "2024-10-02T08:53:05.012Z"
   },
   {
    "duration": 438,
    "start_time": "2024-10-02T08:53:05.042Z"
   },
   {
    "duration": 40,
    "start_time": "2024-10-02T08:53:05.482Z"
   },
   {
    "duration": 226,
    "start_time": "2024-10-02T08:53:05.524Z"
   },
   {
    "duration": 20,
    "start_time": "2024-10-02T08:53:05.751Z"
   },
   {
    "duration": 108,
    "start_time": "2024-10-02T08:53:05.773Z"
   },
   {
    "duration": 614,
    "start_time": "2024-10-02T08:53:05.882Z"
   },
   {
    "duration": 29,
    "start_time": "2024-10-02T08:53:06.497Z"
   },
   {
    "duration": 9,
    "start_time": "2024-10-02T08:53:06.527Z"
   },
   {
    "duration": 172,
    "start_time": "2024-10-02T08:53:06.538Z"
   },
   {
    "duration": 61,
    "start_time": "2024-10-02T08:54:33.351Z"
   },
   {
    "duration": 15,
    "start_time": "2024-10-02T08:54:36.752Z"
   },
   {
    "duration": 8,
    "start_time": "2024-10-02T08:54:44.425Z"
   },
   {
    "duration": 826,
    "start_time": "2024-10-02T08:54:57.413Z"
   },
   {
    "duration": 14,
    "start_time": "2024-10-02T08:55:11.004Z"
   },
   {
    "duration": 396,
    "start_time": "2024-10-02T08:55:24.097Z"
   },
   {
    "duration": 65,
    "start_time": "2024-10-02T08:57:11.450Z"
   },
   {
    "duration": 57,
    "start_time": "2024-10-02T08:57:14.837Z"
   },
   {
    "duration": 57,
    "start_time": "2024-10-02T08:57:21.854Z"
   },
   {
    "duration": 70,
    "start_time": "2024-10-02T08:57:29.479Z"
   },
   {
    "duration": 10,
    "start_time": "2024-10-02T08:57:39.598Z"
   },
   {
    "duration": 10,
    "start_time": "2024-10-02T08:58:02.661Z"
   },
   {
    "duration": 24,
    "start_time": "2024-10-02T08:58:08.342Z"
   },
   {
    "duration": 422,
    "start_time": "2024-10-02T09:02:19.267Z"
   },
   {
    "duration": 9,
    "start_time": "2024-10-02T09:02:50.972Z"
   },
   {
    "duration": 18,
    "start_time": "2024-10-02T09:02:56.953Z"
   },
   {
    "duration": 12,
    "start_time": "2024-10-02T09:03:26.148Z"
   },
   {
    "duration": 19,
    "start_time": "2024-10-02T09:03:28.461Z"
   },
   {
    "duration": 19,
    "start_time": "2024-10-02T09:03:38.492Z"
   },
   {
    "duration": 17,
    "start_time": "2024-10-02T09:03:42.895Z"
   },
   {
    "duration": 16,
    "start_time": "2024-10-02T09:03:49.811Z"
   },
   {
    "duration": 13,
    "start_time": "2024-10-02T09:03:59.468Z"
   },
   {
    "duration": 15,
    "start_time": "2024-10-02T09:04:08.246Z"
   },
   {
    "duration": 16,
    "start_time": "2024-10-02T09:04:14.092Z"
   },
   {
    "duration": 12,
    "start_time": "2024-10-02T09:05:01.399Z"
   },
   {
    "duration": 20,
    "start_time": "2024-10-02T09:05:04.074Z"
   },
   {
    "duration": 21,
    "start_time": "2024-10-02T09:05:10.942Z"
   },
   {
    "duration": 20,
    "start_time": "2024-10-02T09:05:22.746Z"
   },
   {
    "duration": 3004,
    "start_time": "2024-10-02T09:09:00.678Z"
   },
   {
    "duration": 13,
    "start_time": "2024-10-02T09:13:23.521Z"
   },
   {
    "duration": 7,
    "start_time": "2024-10-02T09:13:29.758Z"
   },
   {
    "duration": 1366,
    "start_time": "2024-10-02T09:13:41.571Z"
   },
   {
    "duration": 104,
    "start_time": "2024-10-02T09:13:42.940Z"
   },
   {
    "duration": 30,
    "start_time": "2024-10-02T09:13:43.045Z"
   },
   {
    "duration": 2019,
    "start_time": "2024-10-02T09:13:43.078Z"
   },
   {
    "duration": 28,
    "start_time": "2024-10-02T09:13:45.098Z"
   },
   {
    "duration": 11,
    "start_time": "2024-10-02T09:13:45.127Z"
   },
   {
    "duration": 51,
    "start_time": "2024-10-02T09:13:45.139Z"
   },
   {
    "duration": 12,
    "start_time": "2024-10-02T09:13:45.192Z"
   },
   {
    "duration": 51,
    "start_time": "2024-10-02T09:13:45.205Z"
   },
   {
    "duration": 22,
    "start_time": "2024-10-02T09:13:45.258Z"
   },
   {
    "duration": 21,
    "start_time": "2024-10-02T09:13:45.282Z"
   },
   {
    "duration": 92,
    "start_time": "2024-10-02T09:13:45.304Z"
   },
   {
    "duration": 28,
    "start_time": "2024-10-02T09:13:45.397Z"
   },
   {
    "duration": 13,
    "start_time": "2024-10-02T09:13:45.426Z"
   },
   {
    "duration": 16,
    "start_time": "2024-10-02T09:13:45.440Z"
   },
   {
    "duration": 8,
    "start_time": "2024-10-02T09:13:45.458Z"
   },
   {
    "duration": 23,
    "start_time": "2024-10-02T09:13:45.467Z"
   },
   {
    "duration": 25,
    "start_time": "2024-10-02T09:13:45.492Z"
   },
   {
    "duration": 15,
    "start_time": "2024-10-02T09:13:45.518Z"
   },
   {
    "duration": 42,
    "start_time": "2024-10-02T09:13:45.534Z"
   },
   {
    "duration": 69,
    "start_time": "2024-10-02T09:13:45.578Z"
   },
   {
    "duration": 318,
    "start_time": "2024-10-02T09:13:45.649Z"
   },
   {
    "duration": 7,
    "start_time": "2024-10-02T09:13:45.969Z"
   },
   {
    "duration": 6,
    "start_time": "2024-10-02T09:13:45.978Z"
   },
   {
    "duration": 51,
    "start_time": "2024-10-02T09:13:45.985Z"
   },
   {
    "duration": 317,
    "start_time": "2024-10-02T09:13:46.038Z"
   },
   {
    "duration": 22,
    "start_time": "2024-10-02T09:13:46.357Z"
   },
   {
    "duration": 340,
    "start_time": "2024-10-02T09:13:46.383Z"
   },
   {
    "duration": 23,
    "start_time": "2024-10-02T09:13:46.725Z"
   },
   {
    "duration": 331,
    "start_time": "2024-10-02T09:13:46.749Z"
   },
   {
    "duration": 26,
    "start_time": "2024-10-02T09:13:47.082Z"
   },
   {
    "duration": 357,
    "start_time": "2024-10-02T09:13:47.122Z"
   },
   {
    "duration": 26,
    "start_time": "2024-10-02T09:13:47.480Z"
   },
   {
    "duration": 338,
    "start_time": "2024-10-02T09:13:47.507Z"
   },
   {
    "duration": 30,
    "start_time": "2024-10-02T09:13:47.846Z"
   },
   {
    "duration": 223,
    "start_time": "2024-10-02T09:13:47.878Z"
   },
   {
    "duration": 29,
    "start_time": "2024-10-02T09:13:48.103Z"
   },
   {
    "duration": 298,
    "start_time": "2024-10-02T09:13:48.134Z"
   },
   {
    "duration": 24,
    "start_time": "2024-10-02T09:13:48.434Z"
   },
   {
    "duration": 330,
    "start_time": "2024-10-02T09:13:48.459Z"
   },
   {
    "duration": 32,
    "start_time": "2024-10-02T09:13:48.790Z"
   },
   {
    "duration": 241,
    "start_time": "2024-10-02T09:13:48.824Z"
   },
   {
    "duration": 118,
    "start_time": "2024-10-02T09:13:49.067Z"
   },
   {
    "duration": 456,
    "start_time": "2024-10-02T09:13:49.186Z"
   },
   {
    "duration": 9,
    "start_time": "2024-10-02T09:13:49.644Z"
   },
   {
    "duration": 27,
    "start_time": "2024-10-02T09:13:49.654Z"
   },
   {
    "duration": 687,
    "start_time": "2024-10-02T09:13:49.682Z"
   },
   {
    "duration": 22,
    "start_time": "2024-10-02T09:13:50.371Z"
   },
   {
    "duration": 222,
    "start_time": "2024-10-02T09:13:50.395Z"
   },
   {
    "duration": 23,
    "start_time": "2024-10-02T09:13:50.618Z"
   },
   {
    "duration": 541,
    "start_time": "2024-10-02T09:13:50.643Z"
   },
   {
    "duration": 38,
    "start_time": "2024-10-02T09:13:51.186Z"
   },
   {
    "duration": 232,
    "start_time": "2024-10-02T09:13:51.226Z"
   },
   {
    "duration": 22,
    "start_time": "2024-10-02T09:13:51.460Z"
   },
   {
    "duration": 65,
    "start_time": "2024-10-02T09:13:51.484Z"
   },
   {
    "duration": 628,
    "start_time": "2024-10-02T09:13:51.551Z"
   },
   {
    "duration": 20,
    "start_time": "2024-10-02T09:13:52.181Z"
   },
   {
    "duration": 49,
    "start_time": "2024-10-02T09:13:52.202Z"
   },
   {
    "duration": 42,
    "start_time": "2024-10-02T09:13:52.252Z"
   },
   {
    "duration": 20,
    "start_time": "2024-10-02T09:18:19.130Z"
   },
   {
    "duration": 24,
    "start_time": "2024-10-02T09:18:44.781Z"
   },
   {
    "duration": 13,
    "start_time": "2024-10-02T09:18:52.110Z"
   },
   {
    "duration": 17,
    "start_time": "2024-10-02T09:20:03.987Z"
   },
   {
    "duration": 1341,
    "start_time": "2024-10-02T09:20:22.008Z"
   },
   {
    "duration": 102,
    "start_time": "2024-10-02T09:20:23.351Z"
   },
   {
    "duration": 28,
    "start_time": "2024-10-02T09:20:23.455Z"
   },
   {
    "duration": 1980,
    "start_time": "2024-10-02T09:20:23.485Z"
   },
   {
    "duration": 27,
    "start_time": "2024-10-02T09:20:25.467Z"
   },
   {
    "duration": 9,
    "start_time": "2024-10-02T09:20:25.495Z"
   },
   {
    "duration": 33,
    "start_time": "2024-10-02T09:20:25.506Z"
   },
   {
    "duration": 6,
    "start_time": "2024-10-02T09:20:25.541Z"
   },
   {
    "duration": 33,
    "start_time": "2024-10-02T09:20:25.549Z"
   },
   {
    "duration": 30,
    "start_time": "2024-10-02T09:20:25.585Z"
   },
   {
    "duration": 5,
    "start_time": "2024-10-02T09:20:25.617Z"
   },
   {
    "duration": 123,
    "start_time": "2024-10-02T09:20:25.624Z"
   },
   {
    "duration": 28,
    "start_time": "2024-10-02T09:20:25.749Z"
   },
   {
    "duration": 6,
    "start_time": "2024-10-02T09:20:25.779Z"
   },
   {
    "duration": 4,
    "start_time": "2024-10-02T09:20:25.787Z"
   },
   {
    "duration": 5,
    "start_time": "2024-10-02T09:20:25.792Z"
   },
   {
    "duration": 15,
    "start_time": "2024-10-02T09:20:25.799Z"
   },
   {
    "duration": 7,
    "start_time": "2024-10-02T09:20:25.815Z"
   },
   {
    "duration": 13,
    "start_time": "2024-10-02T09:20:25.824Z"
   },
   {
    "duration": 27,
    "start_time": "2024-10-02T09:20:25.839Z"
   },
   {
    "duration": 62,
    "start_time": "2024-10-02T09:20:25.868Z"
   },
   {
    "duration": 305,
    "start_time": "2024-10-02T09:20:25.931Z"
   },
   {
    "duration": 7,
    "start_time": "2024-10-02T09:20:26.238Z"
   },
   {
    "duration": 24,
    "start_time": "2024-10-02T09:20:26.246Z"
   },
   {
    "duration": 30,
    "start_time": "2024-10-02T09:20:26.272Z"
   },
   {
    "duration": 319,
    "start_time": "2024-10-02T09:20:26.304Z"
   },
   {
    "duration": 24,
    "start_time": "2024-10-02T09:20:26.625Z"
   },
   {
    "duration": 401,
    "start_time": "2024-10-02T09:20:26.654Z"
   },
   {
    "duration": 23,
    "start_time": "2024-10-02T09:20:27.056Z"
   },
   {
    "duration": 364,
    "start_time": "2024-10-02T09:20:27.080Z"
   },
   {
    "duration": 26,
    "start_time": "2024-10-02T09:20:27.446Z"
   },
   {
    "duration": 328,
    "start_time": "2024-10-02T09:20:27.473Z"
   },
   {
    "duration": 34,
    "start_time": "2024-10-02T09:20:27.803Z"
   },
   {
    "duration": 316,
    "start_time": "2024-10-02T09:20:27.838Z"
   },
   {
    "duration": 34,
    "start_time": "2024-10-02T09:20:28.155Z"
   },
   {
    "duration": 271,
    "start_time": "2024-10-02T09:20:28.191Z"
   },
   {
    "duration": 20,
    "start_time": "2024-10-02T09:20:28.464Z"
   },
   {
    "duration": 228,
    "start_time": "2024-10-02T09:20:28.486Z"
   },
   {
    "duration": 23,
    "start_time": "2024-10-02T09:20:28.715Z"
   },
   {
    "duration": 358,
    "start_time": "2024-10-02T09:20:28.739Z"
   },
   {
    "duration": 28,
    "start_time": "2024-10-02T09:20:29.098Z"
   },
   {
    "duration": 237,
    "start_time": "2024-10-02T09:20:29.128Z"
   },
   {
    "duration": 119,
    "start_time": "2024-10-02T09:20:29.366Z"
   },
   {
    "duration": 457,
    "start_time": "2024-10-02T09:20:29.486Z"
   },
   {
    "duration": 10,
    "start_time": "2024-10-02T09:20:29.945Z"
   },
   {
    "duration": 13,
    "start_time": "2024-10-02T09:20:29.957Z"
   },
   {
    "duration": 686,
    "start_time": "2024-10-02T09:20:29.972Z"
   },
   {
    "duration": 24,
    "start_time": "2024-10-02T09:20:30.660Z"
   },
   {
    "duration": 320,
    "start_time": "2024-10-02T09:20:30.685Z"
   },
   {
    "duration": 28,
    "start_time": "2024-10-02T09:20:31.007Z"
   },
   {
    "duration": 445,
    "start_time": "2024-10-02T09:20:31.036Z"
   },
   {
    "duration": 38,
    "start_time": "2024-10-02T09:20:31.483Z"
   },
   {
    "duration": 224,
    "start_time": "2024-10-02T09:20:31.522Z"
   },
   {
    "duration": 21,
    "start_time": "2024-10-02T09:20:31.748Z"
   },
   {
    "duration": 65,
    "start_time": "2024-10-02T09:20:31.771Z"
   },
   {
    "duration": 654,
    "start_time": "2024-10-02T09:20:31.838Z"
   },
   {
    "duration": 28,
    "start_time": "2024-10-02T09:20:32.493Z"
   },
   {
    "duration": 9,
    "start_time": "2024-10-02T09:20:32.523Z"
   },
   {
    "duration": 26,
    "start_time": "2024-10-02T09:20:32.534Z"
   },
   {
    "duration": 19,
    "start_time": "2024-10-02T09:21:12.694Z"
   },
   {
    "duration": 13,
    "start_time": "2024-10-02T09:21:20.612Z"
   },
   {
    "duration": 19,
    "start_time": "2024-10-02T09:21:23.712Z"
   },
   {
    "duration": 14,
    "start_time": "2024-10-02T09:21:31.725Z"
   },
   {
    "duration": 14,
    "start_time": "2024-10-02T09:21:39.764Z"
   },
   {
    "duration": 101,
    "start_time": "2024-10-02T09:26:07.763Z"
   },
   {
    "duration": 5,
    "start_time": "2024-10-02T09:26:17.492Z"
   },
   {
    "duration": 5,
    "start_time": "2024-10-02T09:27:32.118Z"
   },
   {
    "duration": 5,
    "start_time": "2024-10-02T09:27:41.362Z"
   },
   {
    "duration": 6,
    "start_time": "2024-10-02T09:28:10.076Z"
   },
   {
    "duration": 12,
    "start_time": "2024-10-02T09:28:12.291Z"
   },
   {
    "duration": 13,
    "start_time": "2024-10-02T09:30:02.080Z"
   },
   {
    "duration": 59,
    "start_time": "2024-10-02T09:30:17.669Z"
   },
   {
    "duration": 59,
    "start_time": "2024-10-02T09:30:19.469Z"
   },
   {
    "duration": 12,
    "start_time": "2024-10-02T09:30:22.365Z"
   },
   {
    "duration": 10,
    "start_time": "2024-10-02T09:30:27.591Z"
   },
   {
    "duration": 125,
    "start_time": "2024-10-02T09:36:01.211Z"
   },
   {
    "duration": 87,
    "start_time": "2024-10-02T09:36:01.740Z"
   },
   {
    "duration": 30,
    "start_time": "2024-10-02T09:36:02.429Z"
   },
   {
    "duration": 2044,
    "start_time": "2024-10-02T09:36:03.368Z"
   },
   {
    "duration": 22,
    "start_time": "2024-10-02T09:36:06.024Z"
   },
   {
    "duration": 10,
    "start_time": "2024-10-02T09:36:07.641Z"
   },
   {
    "duration": 15,
    "start_time": "2024-10-02T09:36:10.665Z"
   },
   {
    "duration": 6,
    "start_time": "2024-10-02T09:36:12.393Z"
   },
   {
    "duration": 34,
    "start_time": "2024-10-02T09:36:13.381Z"
   },
   {
    "duration": 9,
    "start_time": "2024-10-02T09:36:14.008Z"
   },
   {
    "duration": 5,
    "start_time": "2024-10-02T09:36:15.613Z"
   },
   {
    "duration": 8,
    "start_time": "2024-10-02T09:36:16.483Z"
   },
   {
    "duration": 7,
    "start_time": "2024-10-02T09:36:17.677Z"
   },
   {
    "duration": 6,
    "start_time": "2024-10-02T09:36:23.620Z"
   },
   {
    "duration": 4,
    "start_time": "2024-10-02T09:36:29.433Z"
   },
   {
    "duration": 5,
    "start_time": "2024-10-02T09:36:31.268Z"
   },
   {
    "duration": 5,
    "start_time": "2024-10-02T09:36:32.091Z"
   },
   {
    "duration": 12,
    "start_time": "2024-10-02T09:36:44.138Z"
   },
   {
    "duration": 1268,
    "start_time": "2024-10-02T09:37:07.849Z"
   },
   {
    "duration": 93,
    "start_time": "2024-10-02T09:37:09.119Z"
   },
   {
    "duration": 28,
    "start_time": "2024-10-02T09:37:09.221Z"
   },
   {
    "duration": 1974,
    "start_time": "2024-10-02T09:37:09.251Z"
   },
   {
    "duration": 26,
    "start_time": "2024-10-02T09:37:11.227Z"
   },
   {
    "duration": 10,
    "start_time": "2024-10-02T09:37:11.255Z"
   },
   {
    "duration": 17,
    "start_time": "2024-10-02T09:37:11.267Z"
   },
   {
    "duration": 7,
    "start_time": "2024-10-02T09:37:11.286Z"
   },
   {
    "duration": 60,
    "start_time": "2024-10-02T09:37:11.294Z"
   },
   {
    "duration": 9,
    "start_time": "2024-10-02T09:37:11.357Z"
   },
   {
    "duration": 11,
    "start_time": "2024-10-02T09:37:11.368Z"
   },
   {
    "duration": 111,
    "start_time": "2024-10-02T09:37:11.381Z"
   },
   {
    "duration": 27,
    "start_time": "2024-10-02T09:37:11.494Z"
   },
   {
    "duration": 20,
    "start_time": "2024-10-02T09:37:11.523Z"
   },
   {
    "duration": 6,
    "start_time": "2024-10-02T09:37:11.545Z"
   },
   {
    "duration": 12,
    "start_time": "2024-10-02T09:37:11.553Z"
   },
   {
    "duration": 25,
    "start_time": "2024-10-02T09:37:11.567Z"
   },
   {
    "duration": 20,
    "start_time": "2024-10-02T09:37:11.594Z"
   },
   {
    "duration": 38,
    "start_time": "2024-10-02T09:37:11.617Z"
   },
   {
    "duration": 28,
    "start_time": "2024-10-02T09:37:11.657Z"
   },
   {
    "duration": 47,
    "start_time": "2024-10-02T09:37:11.686Z"
   },
   {
    "duration": 305,
    "start_time": "2024-10-02T09:37:11.734Z"
   },
   {
    "duration": 8,
    "start_time": "2024-10-02T09:37:12.040Z"
   },
   {
    "duration": 7,
    "start_time": "2024-10-02T09:37:12.049Z"
   },
   {
    "duration": 32,
    "start_time": "2024-10-02T09:37:12.057Z"
   },
   {
    "duration": 299,
    "start_time": "2024-10-02T09:37:12.091Z"
   },
   {
    "duration": 30,
    "start_time": "2024-10-02T09:37:12.392Z"
   },
   {
    "duration": 334,
    "start_time": "2024-10-02T09:37:12.427Z"
   },
   {
    "duration": 24,
    "start_time": "2024-10-02T09:37:12.763Z"
   },
   {
    "duration": 384,
    "start_time": "2024-10-02T09:37:12.789Z"
   },
   {
    "duration": 26,
    "start_time": "2024-10-02T09:37:13.174Z"
   },
   {
    "duration": 325,
    "start_time": "2024-10-02T09:37:13.201Z"
   },
   {
    "duration": 25,
    "start_time": "2024-10-02T09:37:13.528Z"
   },
   {
    "duration": 334,
    "start_time": "2024-10-02T09:37:13.554Z"
   },
   {
    "duration": 42,
    "start_time": "2024-10-02T09:37:13.890Z"
   },
   {
    "duration": 206,
    "start_time": "2024-10-02T09:37:13.934Z"
   },
   {
    "duration": 19,
    "start_time": "2024-10-02T09:37:14.141Z"
   },
   {
    "duration": 219,
    "start_time": "2024-10-02T09:37:14.162Z"
   },
   {
    "duration": 25,
    "start_time": "2024-10-02T09:37:14.382Z"
   },
   {
    "duration": 314,
    "start_time": "2024-10-02T09:37:14.408Z"
   },
   {
    "duration": 23,
    "start_time": "2024-10-02T09:37:14.724Z"
   },
   {
    "duration": 242,
    "start_time": "2024-10-02T09:37:14.749Z"
   },
   {
    "duration": 118,
    "start_time": "2024-10-02T09:37:14.993Z"
   },
   {
    "duration": 462,
    "start_time": "2024-10-02T09:37:15.114Z"
   },
   {
    "duration": 12,
    "start_time": "2024-10-02T09:37:15.578Z"
   },
   {
    "duration": 32,
    "start_time": "2024-10-02T09:37:15.592Z"
   },
   {
    "duration": 648,
    "start_time": "2024-10-02T09:37:15.626Z"
   },
   {
    "duration": 23,
    "start_time": "2024-10-02T09:37:16.276Z"
   },
   {
    "duration": 223,
    "start_time": "2024-10-02T09:37:16.300Z"
   },
   {
    "duration": 23,
    "start_time": "2024-10-02T09:37:16.524Z"
   },
   {
    "duration": 441,
    "start_time": "2024-10-02T09:37:16.549Z"
   },
   {
    "duration": 36,
    "start_time": "2024-10-02T09:37:16.991Z"
   },
   {
    "duration": 212,
    "start_time": "2024-10-02T09:37:17.029Z"
   },
   {
    "duration": 21,
    "start_time": "2024-10-02T09:37:17.243Z"
   },
   {
    "duration": 81,
    "start_time": "2024-10-02T09:37:17.266Z"
   },
   {
    "duration": 620,
    "start_time": "2024-10-02T09:37:17.350Z"
   },
   {
    "duration": 20,
    "start_time": "2024-10-02T09:37:17.971Z"
   },
   {
    "duration": 14,
    "start_time": "2024-10-02T09:37:17.993Z"
   },
   {
    "duration": 16,
    "start_time": "2024-10-02T09:37:18.020Z"
   },
   {
    "duration": 11,
    "start_time": "2024-10-02T09:37:18.038Z"
   },
   {
    "duration": 5,
    "start_time": "2024-10-02T09:37:42.423Z"
   },
   {
    "duration": 6,
    "start_time": "2024-10-02T09:37:51.390Z"
   },
   {
    "duration": 11,
    "start_time": "2024-10-02T09:38:01.128Z"
   },
   {
    "duration": 5,
    "start_time": "2024-10-02T09:38:14.600Z"
   },
   {
    "duration": 1287,
    "start_time": "2024-10-02T09:38:20.605Z"
   },
   {
    "duration": 95,
    "start_time": "2024-10-02T09:38:21.894Z"
   },
   {
    "duration": 42,
    "start_time": "2024-10-02T09:38:21.991Z"
   },
   {
    "duration": 1954,
    "start_time": "2024-10-02T09:38:22.036Z"
   },
   {
    "duration": 28,
    "start_time": "2024-10-02T09:38:23.992Z"
   },
   {
    "duration": 11,
    "start_time": "2024-10-02T09:38:24.022Z"
   },
   {
    "duration": 27,
    "start_time": "2024-10-02T09:38:24.035Z"
   },
   {
    "duration": 6,
    "start_time": "2024-10-02T09:38:24.064Z"
   },
   {
    "duration": 49,
    "start_time": "2024-10-02T09:38:24.072Z"
   },
   {
    "duration": 8,
    "start_time": "2024-10-02T09:38:24.123Z"
   },
   {
    "duration": 13,
    "start_time": "2024-10-02T09:38:24.133Z"
   },
   {
    "duration": 101,
    "start_time": "2024-10-02T09:38:24.147Z"
   },
   {
    "duration": 7,
    "start_time": "2024-10-02T09:38:24.250Z"
   },
   {
    "duration": 19,
    "start_time": "2024-10-02T09:38:24.258Z"
   },
   {
    "duration": 4,
    "start_time": "2024-10-02T09:38:24.278Z"
   },
   {
    "duration": 6,
    "start_time": "2024-10-02T09:38:24.284Z"
   },
   {
    "duration": 6,
    "start_time": "2024-10-02T09:38:24.292Z"
   },
   {
    "duration": 24,
    "start_time": "2024-10-02T09:38:24.299Z"
   },
   {
    "duration": 16,
    "start_time": "2024-10-02T09:38:24.324Z"
   },
   {
    "duration": 33,
    "start_time": "2024-10-02T09:38:24.341Z"
   },
   {
    "duration": 60,
    "start_time": "2024-10-02T09:38:24.375Z"
   },
   {
    "duration": 312,
    "start_time": "2024-10-02T09:38:24.437Z"
   },
   {
    "duration": 8,
    "start_time": "2024-10-02T09:38:24.750Z"
   },
   {
    "duration": 7,
    "start_time": "2024-10-02T09:38:24.760Z"
   },
   {
    "duration": 97,
    "start_time": "2024-10-02T09:38:24.768Z"
   },
   {
    "duration": 296,
    "start_time": "2024-10-02T09:38:24.866Z"
   },
   {
    "duration": 24,
    "start_time": "2024-10-02T09:38:25.163Z"
   },
   {
    "duration": 338,
    "start_time": "2024-10-02T09:38:25.191Z"
   },
   {
    "duration": 23,
    "start_time": "2024-10-02T09:38:25.531Z"
   },
   {
    "duration": 328,
    "start_time": "2024-10-02T09:38:25.555Z"
   },
   {
    "duration": 25,
    "start_time": "2024-10-02T09:38:25.884Z"
   },
   {
    "duration": 312,
    "start_time": "2024-10-02T09:38:25.922Z"
   },
   {
    "duration": 25,
    "start_time": "2024-10-02T09:38:26.236Z"
   },
   {
    "duration": 328,
    "start_time": "2024-10-02T09:38:26.262Z"
   },
   {
    "duration": 38,
    "start_time": "2024-10-02T09:38:26.591Z"
   },
   {
    "duration": 207,
    "start_time": "2024-10-02T09:38:26.630Z"
   },
   {
    "duration": 19,
    "start_time": "2024-10-02T09:38:26.839Z"
   },
   {
    "duration": 210,
    "start_time": "2024-10-02T09:38:26.860Z"
   },
   {
    "duration": 23,
    "start_time": "2024-10-02T09:38:27.072Z"
   },
   {
    "duration": 359,
    "start_time": "2024-10-02T09:38:27.097Z"
   },
   {
    "duration": 24,
    "start_time": "2024-10-02T09:38:27.458Z"
   },
   {
    "duration": 239,
    "start_time": "2024-10-02T09:38:27.484Z"
   },
   {
    "duration": 122,
    "start_time": "2024-10-02T09:38:27.725Z"
   },
   {
    "duration": 438,
    "start_time": "2024-10-02T09:38:27.848Z"
   },
   {
    "duration": 10,
    "start_time": "2024-10-02T09:38:28.288Z"
   },
   {
    "duration": 73,
    "start_time": "2024-10-02T09:38:28.300Z"
   },
   {
    "duration": 668,
    "start_time": "2024-10-02T09:38:28.375Z"
   },
   {
    "duration": 22,
    "start_time": "2024-10-02T09:38:29.045Z"
   },
   {
    "duration": 217,
    "start_time": "2024-10-02T09:38:29.068Z"
   },
   {
    "duration": 23,
    "start_time": "2024-10-02T09:38:29.287Z"
   },
   {
    "duration": 446,
    "start_time": "2024-10-02T09:38:29.311Z"
   },
   {
    "duration": 29,
    "start_time": "2024-10-02T09:38:29.759Z"
   },
   {
    "duration": 239,
    "start_time": "2024-10-02T09:38:29.789Z"
   },
   {
    "duration": 22,
    "start_time": "2024-10-02T09:38:30.030Z"
   },
   {
    "duration": 59,
    "start_time": "2024-10-02T09:38:30.053Z"
   },
   {
    "duration": 636,
    "start_time": "2024-10-02T09:38:30.114Z"
   },
   {
    "duration": 19,
    "start_time": "2024-10-02T09:38:30.752Z"
   },
   {
    "duration": 9,
    "start_time": "2024-10-02T09:38:30.773Z"
   },
   {
    "duration": 72,
    "start_time": "2024-10-02T09:38:30.783Z"
   },
   {
    "duration": 14,
    "start_time": "2024-10-02T09:38:30.856Z"
   },
   {
    "duration": 105,
    "start_time": "2024-10-02T09:40:03.509Z"
   },
   {
    "duration": 245,
    "start_time": "2024-10-02T09:41:04.602Z"
   },
   {
    "duration": 117,
    "start_time": "2024-10-02T09:42:40.493Z"
   },
   {
    "duration": 219,
    "start_time": "2024-10-02T09:43:03.860Z"
   },
   {
    "duration": 201,
    "start_time": "2024-10-02T09:43:16.990Z"
   },
   {
    "duration": 236,
    "start_time": "2024-10-02T09:43:26.471Z"
   },
   {
    "duration": 235,
    "start_time": "2024-10-02T09:43:36.726Z"
   },
   {
    "duration": 1323,
    "start_time": "2024-10-02T09:44:22.707Z"
   },
   {
    "duration": 100,
    "start_time": "2024-10-02T09:44:24.032Z"
   },
   {
    "duration": 29,
    "start_time": "2024-10-02T09:44:24.133Z"
   },
   {
    "duration": 1981,
    "start_time": "2024-10-02T09:44:24.164Z"
   },
   {
    "duration": 25,
    "start_time": "2024-10-02T09:44:26.147Z"
   },
   {
    "duration": 9,
    "start_time": "2024-10-02T09:44:26.174Z"
   },
   {
    "duration": 16,
    "start_time": "2024-10-02T09:44:26.184Z"
   },
   {
    "duration": 6,
    "start_time": "2024-10-02T09:44:26.202Z"
   },
   {
    "duration": 33,
    "start_time": "2024-10-02T09:44:26.221Z"
   },
   {
    "duration": 16,
    "start_time": "2024-10-02T09:44:26.256Z"
   },
   {
    "duration": 10,
    "start_time": "2024-10-02T09:44:26.273Z"
   },
   {
    "duration": 100,
    "start_time": "2024-10-02T09:44:26.285Z"
   },
   {
    "duration": 23,
    "start_time": "2024-10-02T09:44:26.387Z"
   },
   {
    "duration": 7,
    "start_time": "2024-10-02T09:44:26.412Z"
   },
   {
    "duration": 5,
    "start_time": "2024-10-02T09:44:26.420Z"
   },
   {
    "duration": 35,
    "start_time": "2024-10-02T09:44:26.426Z"
   },
   {
    "duration": 8,
    "start_time": "2024-10-02T09:44:26.463Z"
   },
   {
    "duration": 7,
    "start_time": "2024-10-02T09:44:26.473Z"
   },
   {
    "duration": 19,
    "start_time": "2024-10-02T09:44:26.482Z"
   },
   {
    "duration": 27,
    "start_time": "2024-10-02T09:44:26.503Z"
   },
   {
    "duration": 44,
    "start_time": "2024-10-02T09:44:26.531Z"
   },
   {
    "duration": 316,
    "start_time": "2024-10-02T09:44:26.577Z"
   },
   {
    "duration": 8,
    "start_time": "2024-10-02T09:44:26.895Z"
   },
   {
    "duration": 29,
    "start_time": "2024-10-02T09:44:26.905Z"
   },
   {
    "duration": 27,
    "start_time": "2024-10-02T09:44:26.936Z"
   },
   {
    "duration": 321,
    "start_time": "2024-10-02T09:44:26.965Z"
   },
   {
    "duration": 37,
    "start_time": "2024-10-02T09:44:27.290Z"
   },
   {
    "duration": 338,
    "start_time": "2024-10-02T09:44:27.333Z"
   },
   {
    "duration": 27,
    "start_time": "2024-10-02T09:44:27.672Z"
   },
   {
    "duration": 328,
    "start_time": "2024-10-02T09:44:27.701Z"
   },
   {
    "duration": 26,
    "start_time": "2024-10-02T09:44:28.031Z"
   },
   {
    "duration": 331,
    "start_time": "2024-10-02T09:44:28.059Z"
   },
   {
    "duration": 37,
    "start_time": "2024-10-02T09:44:28.391Z"
   },
   {
    "duration": 323,
    "start_time": "2024-10-02T09:44:28.429Z"
   },
   {
    "duration": 29,
    "start_time": "2024-10-02T09:44:28.753Z"
   },
   {
    "duration": 221,
    "start_time": "2024-10-02T09:44:28.784Z"
   },
   {
    "duration": 24,
    "start_time": "2024-10-02T09:44:29.007Z"
   },
   {
    "duration": 251,
    "start_time": "2024-10-02T09:44:29.032Z"
   },
   {
    "duration": 24,
    "start_time": "2024-10-02T09:44:29.285Z"
   },
   {
    "duration": 324,
    "start_time": "2024-10-02T09:44:29.310Z"
   },
   {
    "duration": 24,
    "start_time": "2024-10-02T09:44:29.636Z"
   },
   {
    "duration": 236,
    "start_time": "2024-10-02T09:44:29.661Z"
   },
   {
    "duration": 123,
    "start_time": "2024-10-02T09:44:29.899Z"
   },
   {
    "duration": 461,
    "start_time": "2024-10-02T09:44:30.024Z"
   },
   {
    "duration": 11,
    "start_time": "2024-10-02T09:44:30.487Z"
   },
   {
    "duration": 28,
    "start_time": "2024-10-02T09:44:30.499Z"
   },
   {
    "duration": 676,
    "start_time": "2024-10-02T09:44:30.529Z"
   },
   {
    "duration": 30,
    "start_time": "2024-10-02T09:44:31.206Z"
   },
   {
    "duration": 213,
    "start_time": "2024-10-02T09:44:31.238Z"
   },
   {
    "duration": 23,
    "start_time": "2024-10-02T09:44:31.452Z"
   },
   {
    "duration": 448,
    "start_time": "2024-10-02T09:44:31.476Z"
   },
   {
    "duration": 29,
    "start_time": "2024-10-02T09:44:31.926Z"
   },
   {
    "duration": 259,
    "start_time": "2024-10-02T09:44:31.956Z"
   },
   {
    "duration": 23,
    "start_time": "2024-10-02T09:44:32.216Z"
   },
   {
    "duration": 58,
    "start_time": "2024-10-02T09:44:32.241Z"
   },
   {
    "duration": 690,
    "start_time": "2024-10-02T09:44:32.301Z"
   },
   {
    "duration": 28,
    "start_time": "2024-10-02T09:44:32.993Z"
   },
   {
    "duration": 52,
    "start_time": "2024-10-02T09:44:33.023Z"
   },
   {
    "duration": 23,
    "start_time": "2024-10-02T09:44:33.077Z"
   },
   {
    "duration": 11,
    "start_time": "2024-10-02T09:44:33.102Z"
   },
   {
    "duration": 24,
    "start_time": "2024-10-02T09:44:55.094Z"
   },
   {
    "duration": 1319,
    "start_time": "2024-10-02T09:45:04.989Z"
   },
   {
    "duration": 99,
    "start_time": "2024-10-02T09:45:06.310Z"
   },
   {
    "duration": 34,
    "start_time": "2024-10-02T09:45:06.411Z"
   },
   {
    "duration": 2010,
    "start_time": "2024-10-02T09:45:06.447Z"
   },
   {
    "duration": 25,
    "start_time": "2024-10-02T09:45:08.459Z"
   },
   {
    "duration": 23,
    "start_time": "2024-10-02T09:45:08.485Z"
   },
   {
    "duration": 15,
    "start_time": "2024-10-02T09:45:08.510Z"
   },
   {
    "duration": 7,
    "start_time": "2024-10-02T09:45:08.527Z"
   },
   {
    "duration": 47,
    "start_time": "2024-10-02T09:45:08.535Z"
   },
   {
    "duration": 9,
    "start_time": "2024-10-02T09:45:08.585Z"
   },
   {
    "duration": 9,
    "start_time": "2024-10-02T09:45:08.596Z"
   },
   {
    "duration": 99,
    "start_time": "2024-10-02T09:45:08.606Z"
   },
   {
    "duration": 17,
    "start_time": "2024-10-02T09:45:08.706Z"
   },
   {
    "duration": 66,
    "start_time": "2024-10-02T09:45:08.725Z"
   },
   {
    "duration": 4,
    "start_time": "2024-10-02T09:45:08.793Z"
   },
   {
    "duration": 6,
    "start_time": "2024-10-02T09:45:08.798Z"
   },
   {
    "duration": 28,
    "start_time": "2024-10-02T09:45:08.805Z"
   },
   {
    "duration": 60,
    "start_time": "2024-10-02T09:45:08.835Z"
   },
   {
    "duration": 16,
    "start_time": "2024-10-02T09:45:08.897Z"
   },
   {
    "duration": 27,
    "start_time": "2024-10-02T09:45:08.914Z"
   },
   {
    "duration": 158,
    "start_time": "2024-10-02T09:45:08.943Z"
   },
   {
    "duration": 311,
    "start_time": "2024-10-02T09:45:09.102Z"
   },
   {
    "duration": 8,
    "start_time": "2024-10-02T09:45:09.415Z"
   },
   {
    "duration": 50,
    "start_time": "2024-10-02T09:45:09.424Z"
   },
   {
    "duration": 26,
    "start_time": "2024-10-02T09:45:09.476Z"
   },
   {
    "duration": 296,
    "start_time": "2024-10-02T09:45:09.504Z"
   },
   {
    "duration": 32,
    "start_time": "2024-10-02T09:45:09.801Z"
   },
   {
    "duration": 327,
    "start_time": "2024-10-02T09:45:09.837Z"
   },
   {
    "duration": 24,
    "start_time": "2024-10-02T09:45:10.166Z"
   },
   {
    "duration": 319,
    "start_time": "2024-10-02T09:45:10.192Z"
   },
   {
    "duration": 30,
    "start_time": "2024-10-02T09:45:10.513Z"
   },
   {
    "duration": 328,
    "start_time": "2024-10-02T09:45:10.544Z"
   },
   {
    "duration": 24,
    "start_time": "2024-10-02T09:45:10.874Z"
   },
   {
    "duration": 324,
    "start_time": "2024-10-02T09:45:10.900Z"
   },
   {
    "duration": 29,
    "start_time": "2024-10-02T09:45:11.226Z"
   },
   {
    "duration": 221,
    "start_time": "2024-10-02T09:45:11.256Z"
   },
   {
    "duration": 20,
    "start_time": "2024-10-02T09:45:11.479Z"
   },
   {
    "duration": 217,
    "start_time": "2024-10-02T09:45:11.501Z"
   },
   {
    "duration": 24,
    "start_time": "2024-10-02T09:45:11.719Z"
   },
   {
    "duration": 320,
    "start_time": "2024-10-02T09:45:11.745Z"
   },
   {
    "duration": 23,
    "start_time": "2024-10-02T09:45:12.066Z"
   },
   {
    "duration": 236,
    "start_time": "2024-10-02T09:45:12.091Z"
   },
   {
    "duration": 123,
    "start_time": "2024-10-02T09:45:12.329Z"
   },
   {
    "duration": 452,
    "start_time": "2024-10-02T09:45:12.454Z"
   },
   {
    "duration": 22,
    "start_time": "2024-10-02T09:45:12.908Z"
   },
   {
    "duration": 35,
    "start_time": "2024-10-02T09:45:12.932Z"
   },
   {
    "duration": 639,
    "start_time": "2024-10-02T09:45:12.968Z"
   },
   {
    "duration": 30,
    "start_time": "2024-10-02T09:45:13.608Z"
   },
   {
    "duration": 213,
    "start_time": "2024-10-02T09:45:13.639Z"
   },
   {
    "duration": 21,
    "start_time": "2024-10-02T09:45:13.854Z"
   },
   {
    "duration": 432,
    "start_time": "2024-10-02T09:45:13.876Z"
   },
   {
    "duration": 36,
    "start_time": "2024-10-02T09:45:14.310Z"
   },
   {
    "duration": 290,
    "start_time": "2024-10-02T09:45:14.347Z"
   },
   {
    "duration": 20,
    "start_time": "2024-10-02T09:45:14.639Z"
   },
   {
    "duration": 65,
    "start_time": "2024-10-02T09:45:14.661Z"
   },
   {
    "duration": 624,
    "start_time": "2024-10-02T09:45:14.727Z"
   },
   {
    "duration": 21,
    "start_time": "2024-10-02T09:45:15.353Z"
   },
   {
    "duration": 20,
    "start_time": "2024-10-02T09:45:15.376Z"
   },
   {
    "duration": 51,
    "start_time": "2024-10-02T09:45:15.398Z"
   },
   {
    "duration": 55,
    "start_time": "2024-10-02T09:45:15.451Z"
   },
   {
    "duration": 12,
    "start_time": "2024-10-02T09:45:56.248Z"
   },
   {
    "duration": 15,
    "start_time": "2024-10-02T09:46:31.682Z"
   },
   {
    "duration": 14,
    "start_time": "2024-10-02T09:46:40.906Z"
   },
   {
    "duration": 18,
    "start_time": "2024-10-02T09:47:03.335Z"
   },
   {
    "duration": 16,
    "start_time": "2024-10-02T09:47:34.789Z"
   },
   {
    "duration": 11,
    "start_time": "2024-10-02T09:47:37.162Z"
   },
   {
    "duration": 11,
    "start_time": "2024-10-02T09:47:54.958Z"
   },
   {
    "duration": 516,
    "start_time": "2024-10-02T09:50:04.483Z"
   },
   {
    "duration": 468,
    "start_time": "2024-10-02T09:51:14.194Z"
   },
   {
    "duration": 426,
    "start_time": "2024-10-02T09:51:20.776Z"
   },
   {
    "duration": 476,
    "start_time": "2024-10-02T09:51:27.218Z"
   },
   {
    "duration": 427,
    "start_time": "2024-10-02T09:51:36.480Z"
   },
   {
    "duration": 1265,
    "start_time": "2024-10-02T09:52:12.977Z"
   },
   {
    "duration": 101,
    "start_time": "2024-10-02T09:52:14.245Z"
   },
   {
    "duration": 27,
    "start_time": "2024-10-02T09:52:14.348Z"
   },
   {
    "duration": 1972,
    "start_time": "2024-10-02T09:52:14.377Z"
   },
   {
    "duration": 25,
    "start_time": "2024-10-02T09:52:16.351Z"
   },
   {
    "duration": 9,
    "start_time": "2024-10-02T09:52:16.378Z"
   },
   {
    "duration": 104,
    "start_time": "2024-10-02T09:52:16.388Z"
   },
   {
    "duration": 6,
    "start_time": "2024-10-02T09:52:16.493Z"
   },
   {
    "duration": 34,
    "start_time": "2024-10-02T09:52:16.501Z"
   },
   {
    "duration": 9,
    "start_time": "2024-10-02T09:52:16.537Z"
   },
   {
    "duration": 5,
    "start_time": "2024-10-02T09:52:16.547Z"
   },
   {
    "duration": 103,
    "start_time": "2024-10-02T09:52:16.554Z"
   },
   {
    "duration": 19,
    "start_time": "2024-10-02T09:52:16.658Z"
   },
   {
    "duration": 8,
    "start_time": "2024-10-02T09:52:16.678Z"
   },
   {
    "duration": 4,
    "start_time": "2024-10-02T09:52:16.687Z"
   },
   {
    "duration": 6,
    "start_time": "2024-10-02T09:52:16.692Z"
   },
   {
    "duration": 4,
    "start_time": "2024-10-02T09:52:16.700Z"
   },
   {
    "duration": 9,
    "start_time": "2024-10-02T09:52:16.721Z"
   },
   {
    "duration": 65,
    "start_time": "2024-10-02T09:52:16.732Z"
   },
   {
    "duration": 27,
    "start_time": "2024-10-02T09:52:16.799Z"
   },
   {
    "duration": 120,
    "start_time": "2024-10-02T09:52:16.829Z"
   },
   {
    "duration": 307,
    "start_time": "2024-10-02T09:52:16.951Z"
   },
   {
    "duration": 9,
    "start_time": "2024-10-02T09:52:17.260Z"
   },
   {
    "duration": 52,
    "start_time": "2024-10-02T09:52:17.270Z"
   },
   {
    "duration": 32,
    "start_time": "2024-10-02T09:52:17.324Z"
   },
   {
    "duration": 337,
    "start_time": "2024-10-02T09:52:17.358Z"
   },
   {
    "duration": 33,
    "start_time": "2024-10-02T09:52:17.697Z"
   },
   {
    "duration": 324,
    "start_time": "2024-10-02T09:52:17.734Z"
   },
   {
    "duration": 23,
    "start_time": "2024-10-02T09:52:18.060Z"
   },
   {
    "duration": 327,
    "start_time": "2024-10-02T09:52:18.085Z"
   },
   {
    "duration": 30,
    "start_time": "2024-10-02T09:52:18.413Z"
   },
   {
    "duration": 338,
    "start_time": "2024-10-02T09:52:18.444Z"
   },
   {
    "duration": 37,
    "start_time": "2024-10-02T09:52:18.784Z"
   },
   {
    "duration": 323,
    "start_time": "2024-10-02T09:52:18.823Z"
   },
   {
    "duration": 27,
    "start_time": "2024-10-02T09:52:19.148Z"
   },
   {
    "duration": 211,
    "start_time": "2024-10-02T09:52:19.176Z"
   },
   {
    "duration": 20,
    "start_time": "2024-10-02T09:52:19.389Z"
   },
   {
    "duration": 211,
    "start_time": "2024-10-02T09:52:19.411Z"
   },
   {
    "duration": 23,
    "start_time": "2024-10-02T09:52:19.624Z"
   },
   {
    "duration": 332,
    "start_time": "2024-10-02T09:52:19.649Z"
   },
   {
    "duration": 24,
    "start_time": "2024-10-02T09:52:19.983Z"
   },
   {
    "duration": 234,
    "start_time": "2024-10-02T09:52:20.021Z"
   },
   {
    "duration": 119,
    "start_time": "2024-10-02T09:52:20.257Z"
   },
   {
    "duration": 437,
    "start_time": "2024-10-02T09:52:20.377Z"
   },
   {
    "duration": 15,
    "start_time": "2024-10-02T09:52:20.815Z"
   },
   {
    "duration": 95,
    "start_time": "2024-10-02T09:52:20.831Z"
   },
   {
    "duration": 629,
    "start_time": "2024-10-02T09:52:20.928Z"
   },
   {
    "duration": 20,
    "start_time": "2024-10-02T09:52:21.559Z"
   },
   {
    "duration": 209,
    "start_time": "2024-10-02T09:52:21.581Z"
   },
   {
    "duration": 31,
    "start_time": "2024-10-02T09:52:21.791Z"
   },
   {
    "duration": 420,
    "start_time": "2024-10-02T09:52:21.824Z"
   },
   {
    "duration": 28,
    "start_time": "2024-10-02T09:52:22.245Z"
   },
   {
    "duration": 224,
    "start_time": "2024-10-02T09:52:22.275Z"
   },
   {
    "duration": 34,
    "start_time": "2024-10-02T09:52:22.500Z"
   },
   {
    "duration": 45,
    "start_time": "2024-10-02T09:52:22.536Z"
   },
   {
    "duration": 627,
    "start_time": "2024-10-02T09:52:22.583Z"
   },
   {
    "duration": 25,
    "start_time": "2024-10-02T09:52:23.212Z"
   },
   {
    "duration": 9,
    "start_time": "2024-10-02T09:52:23.239Z"
   },
   {
    "duration": 40,
    "start_time": "2024-10-02T09:52:23.249Z"
   },
   {
    "duration": 950,
    "start_time": "2024-10-02T09:52:23.291Z"
   },
   {
    "duration": 896,
    "start_time": "2024-10-02T09:52:31.049Z"
   },
   {
    "duration": 10,
    "start_time": "2024-10-02T09:52:59.190Z"
   },
   {
    "duration": 10,
    "start_time": "2024-10-02T09:53:26.513Z"
   },
   {
    "duration": 4,
    "start_time": "2024-10-02T09:53:48.628Z"
   },
   {
    "duration": 776,
    "start_time": "2024-10-02T09:53:55.434Z"
   },
   {
    "duration": 9,
    "start_time": "2024-10-02T09:54:01.222Z"
   },
   {
    "duration": 769,
    "start_time": "2024-10-02T09:55:31.104Z"
   },
   {
    "duration": 841,
    "start_time": "2024-10-02T09:55:52.536Z"
   },
   {
    "duration": 28,
    "start_time": "2024-10-02T09:55:57.786Z"
   },
   {
    "duration": 15,
    "start_time": "2024-10-02T09:56:15.929Z"
   },
   {
    "duration": 15,
    "start_time": "2024-10-02T09:56:33.849Z"
   },
   {
    "duration": 16,
    "start_time": "2024-10-02T09:56:41.518Z"
   },
   {
    "duration": 17,
    "start_time": "2024-10-02T09:58:05.940Z"
   },
   {
    "duration": 121,
    "start_time": "2024-10-02T09:58:34.861Z"
   },
   {
    "duration": 17,
    "start_time": "2024-10-02T09:58:48.837Z"
   },
   {
    "duration": 162,
    "start_time": "2024-10-02T09:59:25.796Z"
   },
   {
    "duration": 10,
    "start_time": "2024-10-02T10:00:37.533Z"
   },
   {
    "duration": 158,
    "start_time": "2024-10-02T10:01:34.438Z"
   },
   {
    "duration": 163,
    "start_time": "2024-10-02T10:01:52.790Z"
   },
   {
    "duration": 143,
    "start_time": "2024-10-02T10:02:35.807Z"
   },
   {
    "duration": 153,
    "start_time": "2024-10-02T10:03:12.150Z"
   },
   {
    "duration": 1275,
    "start_time": "2024-10-02T10:03:35.734Z"
   },
   {
    "duration": 93,
    "start_time": "2024-10-02T10:03:37.011Z"
   },
   {
    "duration": 39,
    "start_time": "2024-10-02T10:03:37.105Z"
   },
   {
    "duration": 2004,
    "start_time": "2024-10-02T10:03:37.145Z"
   },
   {
    "duration": 27,
    "start_time": "2024-10-02T10:03:39.151Z"
   },
   {
    "duration": 9,
    "start_time": "2024-10-02T10:03:39.180Z"
   },
   {
    "duration": 32,
    "start_time": "2024-10-02T10:03:39.191Z"
   },
   {
    "duration": 8,
    "start_time": "2024-10-02T10:03:39.224Z"
   },
   {
    "duration": 32,
    "start_time": "2024-10-02T10:03:39.234Z"
   },
   {
    "duration": 8,
    "start_time": "2024-10-02T10:03:39.269Z"
   },
   {
    "duration": 12,
    "start_time": "2024-10-02T10:03:39.278Z"
   },
   {
    "duration": 105,
    "start_time": "2024-10-02T10:03:39.291Z"
   },
   {
    "duration": 16,
    "start_time": "2024-10-02T10:03:39.398Z"
   },
   {
    "duration": 9,
    "start_time": "2024-10-02T10:03:39.415Z"
   },
   {
    "duration": 4,
    "start_time": "2024-10-02T10:03:39.426Z"
   },
   {
    "duration": 15,
    "start_time": "2024-10-02T10:03:39.432Z"
   },
   {
    "duration": 23,
    "start_time": "2024-10-02T10:03:39.449Z"
   },
   {
    "duration": 8,
    "start_time": "2024-10-02T10:03:39.474Z"
   },
   {
    "duration": 22,
    "start_time": "2024-10-02T10:03:39.483Z"
   },
   {
    "duration": 27,
    "start_time": "2024-10-02T10:03:39.507Z"
   },
   {
    "duration": 46,
    "start_time": "2024-10-02T10:03:39.536Z"
   },
   {
    "duration": 310,
    "start_time": "2024-10-02T10:03:39.584Z"
   },
   {
    "duration": 8,
    "start_time": "2024-10-02T10:03:39.895Z"
   },
   {
    "duration": 30,
    "start_time": "2024-10-02T10:03:39.905Z"
   },
   {
    "duration": 25,
    "start_time": "2024-10-02T10:03:39.937Z"
   },
   {
    "duration": 314,
    "start_time": "2024-10-02T10:03:39.964Z"
   },
   {
    "duration": 23,
    "start_time": "2024-10-02T10:03:40.280Z"
   },
   {
    "duration": 327,
    "start_time": "2024-10-02T10:03:40.320Z"
   },
   {
    "duration": 25,
    "start_time": "2024-10-02T10:03:40.648Z"
   },
   {
    "duration": 325,
    "start_time": "2024-10-02T10:03:40.674Z"
   },
   {
    "duration": 40,
    "start_time": "2024-10-02T10:03:41.000Z"
   },
   {
    "duration": 321,
    "start_time": "2024-10-02T10:03:41.041Z"
   },
   {
    "duration": 26,
    "start_time": "2024-10-02T10:03:41.364Z"
   },
   {
    "duration": 335,
    "start_time": "2024-10-02T10:03:41.391Z"
   },
   {
    "duration": 29,
    "start_time": "2024-10-02T10:03:41.727Z"
   },
   {
    "duration": 216,
    "start_time": "2024-10-02T10:03:41.758Z"
   },
   {
    "duration": 19,
    "start_time": "2024-10-02T10:03:41.976Z"
   },
   {
    "duration": 207,
    "start_time": "2024-10-02T10:03:41.997Z"
   },
   {
    "duration": 27,
    "start_time": "2024-10-02T10:03:42.206Z"
   },
   {
    "duration": 317,
    "start_time": "2024-10-02T10:03:42.234Z"
   },
   {
    "duration": 24,
    "start_time": "2024-10-02T10:03:42.553Z"
   },
   {
    "duration": 235,
    "start_time": "2024-10-02T10:03:42.579Z"
   },
   {
    "duration": 135,
    "start_time": "2024-10-02T10:03:42.820Z"
   },
   {
    "duration": 448,
    "start_time": "2024-10-02T10:03:42.957Z"
   },
   {
    "duration": 18,
    "start_time": "2024-10-02T10:03:43.407Z"
   },
   {
    "duration": 13,
    "start_time": "2024-10-02T10:03:43.427Z"
   },
   {
    "duration": 656,
    "start_time": "2024-10-02T10:03:43.442Z"
   },
   {
    "duration": 31,
    "start_time": "2024-10-02T10:03:44.099Z"
   },
   {
    "duration": 210,
    "start_time": "2024-10-02T10:03:44.131Z"
   },
   {
    "duration": 23,
    "start_time": "2024-10-02T10:03:44.343Z"
   },
   {
    "duration": 440,
    "start_time": "2024-10-02T10:03:44.368Z"
   },
   {
    "duration": 28,
    "start_time": "2024-10-02T10:03:44.810Z"
   },
   {
    "duration": 227,
    "start_time": "2024-10-02T10:03:44.839Z"
   },
   {
    "duration": 22,
    "start_time": "2024-10-02T10:03:45.067Z"
   },
   {
    "duration": 114,
    "start_time": "2024-10-02T10:03:45.092Z"
   },
   {
    "duration": 619,
    "start_time": "2024-10-02T10:03:45.209Z"
   },
   {
    "duration": 20,
    "start_time": "2024-10-02T10:03:45.829Z"
   },
   {
    "duration": 10,
    "start_time": "2024-10-02T10:03:45.851Z"
   },
   {
    "duration": 23,
    "start_time": "2024-10-02T10:03:45.863Z"
   },
   {
    "duration": 168,
    "start_time": "2024-10-02T10:03:45.888Z"
   },
   {
    "duration": 1457,
    "start_time": "2024-10-03T05:55:14.941Z"
   },
   {
    "duration": 188,
    "start_time": "2024-10-03T05:55:16.400Z"
   },
   {
    "duration": 79,
    "start_time": "2024-10-03T06:54:37.525Z"
   },
   {
    "duration": 2110,
    "start_time": "2024-10-03T06:55:31.575Z"
   },
   {
    "duration": 88,
    "start_time": "2024-10-03T06:55:47.492Z"
   },
   {
    "duration": 17,
    "start_time": "2024-10-03T06:58:47.422Z"
   },
   {
    "duration": 3,
    "start_time": "2024-10-03T07:06:00.436Z"
   },
   {
    "duration": 112,
    "start_time": "2024-10-03T07:06:32.224Z"
   },
   {
    "duration": 1272,
    "start_time": "2024-10-03T07:06:45.886Z"
   },
   {
    "duration": 126,
    "start_time": "2024-10-03T07:06:47.160Z"
   },
   {
    "duration": 99,
    "start_time": "2024-10-03T07:06:47.288Z"
   },
   {
    "duration": 30,
    "start_time": "2024-10-03T07:06:47.389Z"
   },
   {
    "duration": 2104,
    "start_time": "2024-10-03T07:06:47.421Z"
   },
   {
    "duration": 26,
    "start_time": "2024-10-03T07:06:49.527Z"
   },
   {
    "duration": 20,
    "start_time": "2024-10-03T07:06:49.554Z"
   },
   {
    "duration": 107,
    "start_time": "2024-10-03T07:06:49.576Z"
   },
   {
    "duration": 0,
    "start_time": "2024-10-03T07:06:49.778Z"
   },
   {
    "duration": 0,
    "start_time": "2024-10-03T07:06:49.779Z"
   },
   {
    "duration": 0,
    "start_time": "2024-10-03T07:06:49.780Z"
   },
   {
    "duration": 0,
    "start_time": "2024-10-03T07:06:49.781Z"
   },
   {
    "duration": 0,
    "start_time": "2024-10-03T07:06:49.783Z"
   },
   {
    "duration": 0,
    "start_time": "2024-10-03T07:06:49.783Z"
   },
   {
    "duration": 0,
    "start_time": "2024-10-03T07:06:49.785Z"
   },
   {
    "duration": 0,
    "start_time": "2024-10-03T07:06:49.785Z"
   },
   {
    "duration": 0,
    "start_time": "2024-10-03T07:06:49.786Z"
   },
   {
    "duration": 0,
    "start_time": "2024-10-03T07:06:49.787Z"
   },
   {
    "duration": 0,
    "start_time": "2024-10-03T07:06:49.788Z"
   },
   {
    "duration": 0,
    "start_time": "2024-10-03T07:06:49.789Z"
   },
   {
    "duration": 0,
    "start_time": "2024-10-03T07:06:49.790Z"
   },
   {
    "duration": 0,
    "start_time": "2024-10-03T07:06:49.791Z"
   },
   {
    "duration": 0,
    "start_time": "2024-10-03T07:06:49.793Z"
   },
   {
    "duration": 0,
    "start_time": "2024-10-03T07:06:49.793Z"
   },
   {
    "duration": 0,
    "start_time": "2024-10-03T07:06:49.795Z"
   },
   {
    "duration": 0,
    "start_time": "2024-10-03T07:06:49.795Z"
   },
   {
    "duration": 0,
    "start_time": "2024-10-03T07:06:49.796Z"
   },
   {
    "duration": 0,
    "start_time": "2024-10-03T07:06:49.797Z"
   },
   {
    "duration": 0,
    "start_time": "2024-10-03T07:06:49.798Z"
   },
   {
    "duration": 0,
    "start_time": "2024-10-03T07:06:49.799Z"
   },
   {
    "duration": 0,
    "start_time": "2024-10-03T07:06:49.800Z"
   },
   {
    "duration": 0,
    "start_time": "2024-10-03T07:06:49.801Z"
   },
   {
    "duration": 0,
    "start_time": "2024-10-03T07:06:49.801Z"
   },
   {
    "duration": 0,
    "start_time": "2024-10-03T07:06:49.802Z"
   },
   {
    "duration": 0,
    "start_time": "2024-10-03T07:06:49.803Z"
   },
   {
    "duration": 0,
    "start_time": "2024-10-03T07:06:49.804Z"
   },
   {
    "duration": 0,
    "start_time": "2024-10-03T07:06:49.846Z"
   },
   {
    "duration": 0,
    "start_time": "2024-10-03T07:06:49.847Z"
   },
   {
    "duration": 0,
    "start_time": "2024-10-03T07:06:49.848Z"
   },
   {
    "duration": 0,
    "start_time": "2024-10-03T07:06:49.849Z"
   },
   {
    "duration": 0,
    "start_time": "2024-10-03T07:06:49.850Z"
   },
   {
    "duration": 0,
    "start_time": "2024-10-03T07:06:49.851Z"
   },
   {
    "duration": 0,
    "start_time": "2024-10-03T07:06:49.851Z"
   },
   {
    "duration": 0,
    "start_time": "2024-10-03T07:06:49.853Z"
   },
   {
    "duration": 0,
    "start_time": "2024-10-03T07:06:49.853Z"
   },
   {
    "duration": 0,
    "start_time": "2024-10-03T07:06:49.854Z"
   },
   {
    "duration": 0,
    "start_time": "2024-10-03T07:06:49.855Z"
   },
   {
    "duration": 0,
    "start_time": "2024-10-03T07:06:49.856Z"
   },
   {
    "duration": 0,
    "start_time": "2024-10-03T07:06:49.857Z"
   },
   {
    "duration": 0,
    "start_time": "2024-10-03T07:06:49.858Z"
   },
   {
    "duration": 0,
    "start_time": "2024-10-03T07:06:49.859Z"
   },
   {
    "duration": 0,
    "start_time": "2024-10-03T07:06:49.860Z"
   },
   {
    "duration": 0,
    "start_time": "2024-10-03T07:06:49.861Z"
   },
   {
    "duration": 0,
    "start_time": "2024-10-03T07:06:49.862Z"
   },
   {
    "duration": 0,
    "start_time": "2024-10-03T07:06:49.863Z"
   },
   {
    "duration": 0,
    "start_time": "2024-10-03T07:06:49.863Z"
   },
   {
    "duration": 0,
    "start_time": "2024-10-03T07:06:49.864Z"
   },
   {
    "duration": 0,
    "start_time": "2024-10-03T07:06:49.865Z"
   },
   {
    "duration": 0,
    "start_time": "2024-10-03T07:06:49.866Z"
   },
   {
    "duration": 0,
    "start_time": "2024-10-03T07:06:49.867Z"
   },
   {
    "duration": 0,
    "start_time": "2024-10-03T07:06:49.868Z"
   },
   {
    "duration": 0,
    "start_time": "2024-10-03T07:06:49.869Z"
   },
   {
    "duration": 65,
    "start_time": "2024-10-03T07:07:25.093Z"
   },
   {
    "duration": 14,
    "start_time": "2024-10-03T07:07:35.054Z"
   },
   {
    "duration": 226,
    "start_time": "2024-10-03T07:07:58.044Z"
   },
   {
    "duration": 71,
    "start_time": "2024-10-03T07:08:10.734Z"
   },
   {
    "duration": 5,
    "start_time": "2024-10-03T07:09:34.474Z"
   },
   {
    "duration": 1239,
    "start_time": "2024-10-03T07:18:53.809Z"
   },
   {
    "duration": 116,
    "start_time": "2024-10-03T07:18:55.050Z"
   },
   {
    "duration": 100,
    "start_time": "2024-10-03T07:18:55.167Z"
   },
   {
    "duration": 28,
    "start_time": "2024-10-03T07:18:55.269Z"
   },
   {
    "duration": 2070,
    "start_time": "2024-10-03T07:18:55.299Z"
   },
   {
    "duration": 27,
    "start_time": "2024-10-03T07:18:57.371Z"
   },
   {
    "duration": 10,
    "start_time": "2024-10-03T07:18:57.399Z"
   },
   {
    "duration": 35,
    "start_time": "2024-10-03T07:18:57.411Z"
   },
   {
    "duration": 6,
    "start_time": "2024-10-03T07:18:57.448Z"
   },
   {
    "duration": 139,
    "start_time": "2024-10-03T07:18:57.457Z"
   },
   {
    "duration": 11,
    "start_time": "2024-10-03T07:18:57.597Z"
   },
   {
    "duration": 5,
    "start_time": "2024-10-03T07:18:57.610Z"
   },
   {
    "duration": 37,
    "start_time": "2024-10-03T07:18:57.617Z"
   },
   {
    "duration": 18,
    "start_time": "2024-10-03T07:18:57.655Z"
   },
   {
    "duration": 7,
    "start_time": "2024-10-03T07:18:57.675Z"
   },
   {
    "duration": 31,
    "start_time": "2024-10-03T07:18:57.684Z"
   },
   {
    "duration": 42,
    "start_time": "2024-10-03T07:18:57.717Z"
   },
   {
    "duration": 5,
    "start_time": "2024-10-03T07:18:57.761Z"
   },
   {
    "duration": 35,
    "start_time": "2024-10-03T07:18:57.767Z"
   },
   {
    "duration": 17,
    "start_time": "2024-10-03T07:18:57.804Z"
   },
   {
    "duration": 43,
    "start_time": "2024-10-03T07:18:57.824Z"
   },
   {
    "duration": 42,
    "start_time": "2024-10-03T07:18:57.870Z"
   },
   {
    "duration": 325,
    "start_time": "2024-10-03T07:18:57.913Z"
   },
   {
    "duration": 12,
    "start_time": "2024-10-03T07:18:58.239Z"
   },
   {
    "duration": 24,
    "start_time": "2024-10-03T07:18:58.253Z"
   },
   {
    "duration": 29,
    "start_time": "2024-10-03T07:18:58.278Z"
   },
   {
    "duration": 398,
    "start_time": "2024-10-03T07:18:58.308Z"
   },
   {
    "duration": 23,
    "start_time": "2024-10-03T07:18:58.710Z"
   },
   {
    "duration": 326,
    "start_time": "2024-10-03T07:18:58.745Z"
   },
   {
    "duration": 24,
    "start_time": "2024-10-03T07:18:59.073Z"
   },
   {
    "duration": 337,
    "start_time": "2024-10-03T07:18:59.099Z"
   },
   {
    "duration": 31,
    "start_time": "2024-10-03T07:18:59.438Z"
   },
   {
    "duration": 342,
    "start_time": "2024-10-03T07:18:59.471Z"
   },
   {
    "duration": 38,
    "start_time": "2024-10-03T07:18:59.815Z"
   },
   {
    "duration": 317,
    "start_time": "2024-10-03T07:18:59.855Z"
   },
   {
    "duration": 30,
    "start_time": "2024-10-03T07:19:00.174Z"
   },
   {
    "duration": 277,
    "start_time": "2024-10-03T07:19:00.205Z"
   },
   {
    "duration": 21,
    "start_time": "2024-10-03T07:19:00.483Z"
   },
   {
    "duration": 263,
    "start_time": "2024-10-03T07:19:00.506Z"
   },
   {
    "duration": 23,
    "start_time": "2024-10-03T07:19:00.771Z"
   },
   {
    "duration": 333,
    "start_time": "2024-10-03T07:19:00.795Z"
   },
   {
    "duration": 35,
    "start_time": "2024-10-03T07:19:01.130Z"
   },
   {
    "duration": 263,
    "start_time": "2024-10-03T07:19:01.167Z"
   },
   {
    "duration": 138,
    "start_time": "2024-10-03T07:19:01.431Z"
   },
   {
    "duration": 504,
    "start_time": "2024-10-03T07:19:01.571Z"
   },
   {
    "duration": 11,
    "start_time": "2024-10-03T07:19:02.076Z"
   },
   {
    "duration": 19,
    "start_time": "2024-10-03T07:19:02.089Z"
   },
   {
    "duration": 717,
    "start_time": "2024-10-03T07:19:02.110Z"
   },
   {
    "duration": 34,
    "start_time": "2024-10-03T07:19:02.828Z"
   },
   {
    "duration": 234,
    "start_time": "2024-10-03T07:19:02.863Z"
   },
   {
    "duration": 23,
    "start_time": "2024-10-03T07:19:03.098Z"
   },
   {
    "duration": 534,
    "start_time": "2024-10-03T07:19:03.123Z"
   },
   {
    "duration": 40,
    "start_time": "2024-10-03T07:19:03.660Z"
   },
   {
    "duration": 260,
    "start_time": "2024-10-03T07:19:03.702Z"
   },
   {
    "duration": 23,
    "start_time": "2024-10-03T07:19:03.964Z"
   },
   {
    "duration": 85,
    "start_time": "2024-10-03T07:19:03.989Z"
   },
   {
    "duration": 650,
    "start_time": "2024-10-03T07:19:04.076Z"
   },
   {
    "duration": 30,
    "start_time": "2024-10-03T07:19:04.728Z"
   },
   {
    "duration": 12,
    "start_time": "2024-10-03T07:19:04.760Z"
   },
   {
    "duration": 63,
    "start_time": "2024-10-03T07:19:04.773Z"
   },
   {
    "duration": 190,
    "start_time": "2024-10-03T07:19:04.838Z"
   },
   {
    "duration": 309,
    "start_time": "2024-10-03T07:20:15.752Z"
   },
   {
    "duration": 310,
    "start_time": "2024-10-03T07:21:31.163Z"
   },
   {
    "duration": 457,
    "start_time": "2024-10-03T07:21:47.374Z"
   },
   {
    "duration": 324,
    "start_time": "2024-10-03T07:21:57.962Z"
   },
   {
    "duration": 336,
    "start_time": "2024-10-03T07:22:07.219Z"
   },
   {
    "duration": 221,
    "start_time": "2024-10-03T07:22:28.910Z"
   },
   {
    "duration": 207,
    "start_time": "2024-10-03T07:22:39.829Z"
   },
   {
    "duration": 214,
    "start_time": "2024-10-03T07:22:50.753Z"
   },
   {
    "duration": 329,
    "start_time": "2024-10-03T07:23:06.786Z"
   },
   {
    "duration": 373,
    "start_time": "2024-10-03T07:23:22.869Z"
   },
   {
    "duration": 227,
    "start_time": "2024-10-03T07:25:43.870Z"
   },
   {
    "duration": 1063,
    "start_time": "2024-10-03T07:26:13.116Z"
   },
   {
    "duration": 13,
    "start_time": "2024-10-03T07:31:29.564Z"
   },
   {
    "duration": 15,
    "start_time": "2024-10-03T07:31:33.428Z"
   },
   {
    "duration": 1059,
    "start_time": "2024-10-03T07:46:33.789Z"
   },
   {
    "duration": 818,
    "start_time": "2024-10-03T07:46:49.637Z"
   },
   {
    "duration": 241,
    "start_time": "2024-10-03T07:46:53.777Z"
   },
   {
    "duration": 835,
    "start_time": "2024-10-03T07:46:58.475Z"
   },
   {
    "duration": 1099,
    "start_time": "2024-10-03T07:47:15.619Z"
   },
   {
    "duration": 14,
    "start_time": "2024-10-03T07:49:07.481Z"
   },
   {
    "duration": 16,
    "start_time": "2024-10-03T07:49:17.632Z"
   },
   {
    "duration": 13,
    "start_time": "2024-10-03T07:49:19.690Z"
   },
   {
    "duration": 17,
    "start_time": "2024-10-03T07:49:25.411Z"
   },
   {
    "duration": 12,
    "start_time": "2024-10-03T07:49:27.161Z"
   },
   {
    "duration": 17,
    "start_time": "2024-10-03T07:50:15.964Z"
   },
   {
    "duration": 146,
    "start_time": "2024-10-03T07:50:24.264Z"
   },
   {
    "duration": 187,
    "start_time": "2024-10-03T07:51:17.995Z"
   },
   {
    "duration": 160,
    "start_time": "2024-10-03T07:51:25.766Z"
   },
   {
    "duration": 176,
    "start_time": "2024-10-03T07:51:28.262Z"
   },
   {
    "duration": 88,
    "start_time": "2024-10-03T07:51:42.477Z"
   },
   {
    "duration": 155,
    "start_time": "2024-10-03T07:51:50.834Z"
   },
   {
    "duration": 165,
    "start_time": "2024-10-03T07:52:37.381Z"
   },
   {
    "duration": 149,
    "start_time": "2024-10-03T07:52:43.061Z"
   },
   {
    "duration": 161,
    "start_time": "2024-10-03T07:52:43.546Z"
   },
   {
    "duration": 65,
    "start_time": "2024-10-03T07:57:34.134Z"
   },
   {
    "duration": 28,
    "start_time": "2024-10-03T07:58:24.245Z"
   },
   {
    "duration": 23,
    "start_time": "2024-10-03T07:58:29.190Z"
   },
   {
    "duration": 79,
    "start_time": "2024-10-04T07:40:49.453Z"
   }
  ],
  "colab": {
   "provenance": []
  },
  "kernelspec": {
   "display_name": "Python 3 (ipykernel)",
   "language": "python",
   "name": "python3"
  },
  "language_info": {
   "codemirror_mode": {
    "name": "ipython",
    "version": 3
   },
   "file_extension": ".py",
   "mimetype": "text/x-python",
   "name": "python",
   "nbconvert_exporter": "python",
   "pygments_lexer": "ipython3",
   "version": "3.12.3"
  },
  "toc": {
   "base_numbering": 1,
   "nav_menu": {},
   "number_sections": true,
   "sideBar": true,
   "skip_h1_title": true,
   "title_cell": "Table of Contents",
   "title_sidebar": "Contents",
   "toc_cell": false,
   "toc_position": {},
   "toc_section_display": true,
   "toc_window_display": false
  }
 },
 "nbformat": 4,
 "nbformat_minor": 4
}
