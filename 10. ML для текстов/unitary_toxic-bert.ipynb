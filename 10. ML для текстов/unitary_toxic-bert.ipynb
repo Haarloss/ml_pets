{
 "cells": [
  {
   "cell_type": "markdown",
   "metadata": {
    "toc": true
   },
   "source": [
    "<h1>Содержание<span class=\"tocSkip\"></span></h1>\n",
    "<div class=\"toc\"><ul class=\"toc-item\"><li><span><a href=\"#Подготовка\" data-toc-modified-id=\"Подготовка-1\"><span class=\"toc-item-num\">1&nbsp;&nbsp;</span>Подготовка</a></span></li><li><span><a href=\"#Обучение\" data-toc-modified-id=\"Обучение-2\"><span class=\"toc-item-num\">2&nbsp;&nbsp;</span>Обучение</a></span></li><li><span><a href=\"#Выводы\" data-toc-modified-id=\"Выводы-3\"><span class=\"toc-item-num\">3&nbsp;&nbsp;</span>Выводы</a></span></li><li><span><a href=\"#Чек-лист-проверки\" data-toc-modified-id=\"Чек-лист-проверки-4\"><span class=\"toc-item-num\">4&nbsp;&nbsp;</span>Чек-лист проверки</a></span></li></ul></div>"
   ]
  },
  {
   "cell_type": "markdown",
   "metadata": {},
   "source": [
    "# Проект с BERT"
   ]
  },
  {
   "cell_type": "markdown",
   "metadata": {},
   "source": [
    "Интернет-магазин запускает новый сервис. Теперь пользователи могут редактировать и дополнять описания товаров, как в вики-сообществах. То есть клиенты предлагают свои правки и комментируют изменения других. Магазину нужен инструмент, который будет искать токсичные комментарии и отправлять их на модерацию. \n",
    "\n",
    "Обучите модель классифицировать комментарии на позитивные и негативные. В вашем распоряжении набор данных с разметкой о токсичности правок.\n",
    "\n",
    "Постройте модель со значением метрики качества *F1* не меньше 0.75. \n",
    "\n",
    "**Инструкция по выполнению проекта**\n",
    "\n",
    "1. Загрузите и подготовьте данные.\n",
    "2. Обучите разные модели. \n",
    "3. Сделайте выводы.\n",
    "\n",
    "**Описание данных**\n",
    "\n",
    "Данные находятся в файле `toxic_comments.csv`. Столбец *text* в нём содержит текст комментария, а *toxic* — целевой признак."
   ]
  },
  {
   "cell_type": "code",
   "execution_count": 1,
   "metadata": {},
   "outputs": [],
   "source": [
    "RANDOM_STATE = 45\n",
    "TEST_SIZE = 0.25"
   ]
  },
  {
   "cell_type": "code",
   "execution_count": 2,
   "metadata": {},
   "outputs": [
    {
     "name": "stdout",
     "output_type": "stream",
     "text": [
      "Requirement already satisfied: scikit-learn==1.1.3 in /opt/conda/lib/python3.9/site-packages (1.1.3)\n",
      "Requirement already satisfied: joblib>=1.0.0 in /opt/conda/lib/python3.9/site-packages (from scikit-learn==1.1.3) (1.4.2)\n",
      "Requirement already satisfied: numpy>=1.17.3 in /opt/conda/lib/python3.9/site-packages (from scikit-learn==1.1.3) (1.21.1)\n",
      "Requirement already satisfied: scipy>=1.3.2 in /opt/conda/lib/python3.9/site-packages (from scikit-learn==1.1.3) (1.9.1)\n",
      "Requirement already satisfied: threadpoolctl>=2.0.0 in /opt/conda/lib/python3.9/site-packages (from scikit-learn==1.1.3) (3.1.0)\n",
      "Requirement already satisfied: imbalanced-learn in /opt/conda/lib/python3.9/site-packages (0.12.4)\n",
      "Requirement already satisfied: numpy>=1.17.3 in /opt/conda/lib/python3.9/site-packages (from imbalanced-learn) (1.21.1)\n",
      "Requirement already satisfied: joblib>=1.1.1 in /opt/conda/lib/python3.9/site-packages (from imbalanced-learn) (1.4.2)\n",
      "Requirement already satisfied: scikit-learn>=1.0.2 in /opt/conda/lib/python3.9/site-packages (from imbalanced-learn) (1.1.3)\n",
      "Requirement already satisfied: threadpoolctl>=2.0.0 in /opt/conda/lib/python3.9/site-packages (from imbalanced-learn) (3.1.0)\n",
      "Requirement already satisfied: scipy>=1.5.0 in /opt/conda/lib/python3.9/site-packages (from imbalanced-learn) (1.9.1)\n"
     ]
    }
   ],
   "source": [
    "!pip install scikit-learn==1.1.3 \n",
    "!pip install --upgrade Pillow -q\n",
    "!pip install imbalanced-learn"
   ]
  },
  {
   "cell_type": "code",
   "execution_count": 3,
   "metadata": {},
   "outputs": [],
   "source": [
    "from imblearn.over_sampling import SMOTE\n",
    "from imblearn.pipeline import Pipeline, make_pipeline\n",
    "import torch\n",
    "import re\n",
    "import nltk\n",
    "from nltk.corpus import stopwords \n",
    "from tqdm import tqdm\n",
    "import transformers\n",
    "from transformers import AutoTokenizer, AutoModelForSequenceClassification\n",
    "import pandas as pd\n",
    "import numpy as np\n",
    "import matplotlib.pyplot as plt\n",
    "from sklearn.svm import SVC\n",
    "from sklearn.tree import DecisionTreeClassifier\n",
    "from sklearn.linear_model import LogisticRegression\n",
    "from sklearn.model_selection import (train_test_split, \n",
    "                                     cross_val_score,\n",
    "                                     GridSearchCV,\n",
    "                                     KFold)\n",
    "from sklearn.metrics import f1_score\n",
    "from sklearn.compose import ColumnTransformer\n",
    "from tqdm import notebook"
   ]
  },
  {
   "cell_type": "markdown",
   "metadata": {},
   "source": [
    "## Подготовка"
   ]
  },
  {
   "cell_type": "markdown",
   "metadata": {},
   "source": [
    "**Импортировал и посмотрел данные**"
   ]
  },
  {
   "cell_type": "code",
   "execution_count": 4,
   "metadata": {
    "scrolled": true
   },
   "outputs": [
    {
     "data": {
      "text/html": [
       "<div>\n",
       "<style scoped>\n",
       "    .dataframe tbody tr th:only-of-type {\n",
       "        vertical-align: middle;\n",
       "    }\n",
       "\n",
       "    .dataframe tbody tr th {\n",
       "        vertical-align: top;\n",
       "    }\n",
       "\n",
       "    .dataframe thead th {\n",
       "        text-align: right;\n",
       "    }\n",
       "</style>\n",
       "<table border=\"1\" class=\"dataframe\">\n",
       "  <thead>\n",
       "    <tr style=\"text-align: right;\">\n",
       "      <th></th>\n",
       "      <th>Unnamed: 0</th>\n",
       "      <th>text</th>\n",
       "      <th>toxic</th>\n",
       "    </tr>\n",
       "  </thead>\n",
       "  <tbody>\n",
       "    <tr>\n",
       "      <th>61157</th>\n",
       "      <td>61224</td>\n",
       "      <td>Thanks, Chaldean. I have found some evidence that some manuscripts from the bishop's library in Siirt did survive. There are a few manuscripts in the Bibliothèque nationale de France that seem to be survivors of the Siirt library. \\n\\nThe Assyrian tribes template could simply be made dormant (de-linked from articles with a note saying why that's been done) until you feel that you can include more complete articles on the tribes. The Nochiya Tribe article looks good. Being a syriacist, the only thing I noticed was that, in the ethnic groups template, the header says Nochiyayeh, but the script underneath says Nochiya — you need an extra yud zlami-pshuqi before the final alap. I agree with you that it would be good to have an article about the geographic homeland of Assyrians. However, it would be have to be carefully and named. You are right in suggesting the article Kurdistan as a good model, as it has avoided all sorts of attacks by those who suggest that it infringes the sovereignty of other nations. Also, even though modern Assyrians celebrate descent from the ancient Assyrians, we need to keep the articles seperate, as they are talking about two very different historical periods. Perhaps it would be good to have an article an article on Assyrian homeland that could be linked from the Assyria article in a dablink. —</td>\n",
       "      <td>0</td>\n",
       "    </tr>\n",
       "    <tr>\n",
       "      <th>39526</th>\n",
       "      <td>39576</td>\n",
       "      <td>Place of Birth \\n\\nIt's currently a red link, I was wondering if the name is spelt correctly or not. If we have no article for the place, might be nice of someone to create it.</td>\n",
       "      <td>0</td>\n",
       "    </tr>\n",
       "    <tr>\n",
       "      <th>155071</th>\n",
       "      <td>155228</td>\n",
       "      <td>\"\\n\\nAsian2duracell report\\nHello. There's a template under the \"\"current requests\"\" section which you can copy for the standard formatting. (You'll need to click \"\"edit\"\", and the template will be in hidden comments indicated by  .) You'll need to provide diffs indicating that you've contacted the other involved people, informing them that you've filed a request, and also provide a brief summary under the appropriate sections. Note that this isn't the Mediation Cabal, which is where you seem to have copied your format from. You may also wish to see some of the other requests currently on the page for examples of the format that's currently used. Please let me know if you have any other questions. Thanks!  (A note?) \"</td>\n",
       "      <td>0</td>\n",
       "    </tr>\n",
       "    <tr>\n",
       "      <th>90528</th>\n",
       "      <td>90619</td>\n",
       "      <td>\"What's wrong with listening to parents, isn't that the job of doctors? How is ignoring them better? If by \"\"fringe\"\" you mean not being bribed by Merck or a corrupt public health official trying to avoid jail-time then I suppose you are correct. Your \"\"tagging\"\" of the article is merely because it does not provide the usual \"\"there is no evidence\"\" party-line linked to the CDC website or to some \"\"non-profit\"\" front group for Pharma such as Every Child By Two or Quackwatch. I understand there are certain administrators here being paid to skew Wikipedia's information for the sake of certain \"\"interests\"\" but that doesn't make giving incorrect health information right. How could getting a shot thimerosal-free cause \"\"child deaths?\"\" Btw, aren't vaccines responsible for SIDS? http://www.kspr.com/news/local/30808289.html \\n\\n129.64.129.56  \\n\\n\"</td>\n",
       "      <td>0</td>\n",
       "    </tr>\n",
       "    <tr>\n",
       "      <th>32055</th>\n",
       "      <td>32095</td>\n",
       "      <td>|listas=Last Ten Years (Superman)</td>\n",
       "      <td>0</td>\n",
       "    </tr>\n",
       "    <tr>\n",
       "      <th>72815</th>\n",
       "      <td>72886</td>\n",
       "      <td>\"\\nShe was sunk well out of USA waters. The \"\"fair use\"\" claim that no good image of a coal-fired steam trawler in action is available and in authors life + 70 years, seems sensible to me, given that the image is so old.   \"</td>\n",
       "      <td>0</td>\n",
       "    </tr>\n",
       "    <tr>\n",
       "      <th>1681</th>\n",
       "      <td>1681</td>\n",
       "      <td>Some that we know would claim that as OR, but I won't. As I said, if you want GB maybe find a source that says it?</td>\n",
       "      <td>0</td>\n",
       "    </tr>\n",
       "    <tr>\n",
       "      <th>23682</th>\n",
       "      <td>23702</td>\n",
       "      <td>sorry \\n\\nFor stuffing the battery page - mt internet went down during a save I have fixed it at an internet cafe  chad\\n\\nNo worries. Another semi-common event is that certain browsers will only edit 32KB of text (which is why the Wiki software warns you whenever a page gets longer). If you try to edit the article with these browsers, they have a nasty habit of cutting off the article at th3 32,769th character. (That's what I figured had happened to you.)</td>\n",
       "      <td>0</td>\n",
       "    </tr>\n",
       "    <tr>\n",
       "      <th>134448</th>\n",
       "      <td>134586</td>\n",
       "      <td>\"\\n\\nI can't believe it!\\nThis story of how they got their doctor degree has been discussed before, and agreed upon, a long time ago. That was before EE guy time but anyway, the same on different forums, and not earlier than this august month. And to clear out all doubts, thought it is a far out dream, and as Igor has already pointd it out a few articles above, which mean only a few hours before you came with your extract, mention honorable is a very honorable mention who is seldom given to a thesis and mean that the work is considered as being very good.\\nDo you get it now?\\nOr shall we absolutely repeat this, let say, 1000 times before it get in to the correct part of your brain system?\\nThis being already a repetition. But if you were less eager to get all your informations on that matter at the same source:YBM own edits and promotion web side, it will help a lot.\\nI have already in august presented the prooves that the article you use above as a proof is nothing but a homemade text created by ybm who has absolutely no knowledge of the doctorat point system or who did it on purpose. Both well cooresponding to ybms' untrustworthy selvmade image.\\nYourself could get some indormations about this fact, instead of echooing what you read like \"\"I knew it too and agreed\"\" when in fact all of those data are rants without contact to reality.\\nShall I sign zorro or shall I put your own name? afterall what the hell shall I have my own signature when anyway it is freely accused for being another one at anytime and for anything?\\nGet your vocabulary straight, your source of information straight, and give me a well deserved excuse for all the numerous timessssss where you have insulted me.\\nI make progress happen, you sylte on it like a parasite and want a medailj for it?\\nGet real, you are at best paparazy, at worse a middle levelheaded ingeneeer trying his joker on wiki.\\n\\n \"</td>\n",
       "      <td>0</td>\n",
       "    </tr>\n",
       "    <tr>\n",
       "      <th>62452</th>\n",
       "      <td>62519</td>\n",
       "      <td>Oppose - per WP:ENGVAR. Multi-storey car park was the first name of this article so British English gets the nod over American English.</td>\n",
       "      <td>0</td>\n",
       "    </tr>\n",
       "  </tbody>\n",
       "</table>\n",
       "</div>"
      ],
      "text/plain": [
       "        Unnamed: 0  \\\n",
       "61157        61224   \n",
       "39526        39576   \n",
       "155071      155228   \n",
       "90528        90619   \n",
       "32055        32095   \n",
       "72815        72886   \n",
       "1681          1681   \n",
       "23682        23702   \n",
       "134448      134586   \n",
       "62452        62519   \n",
       "\n",
       "                                                                                                                                                                                                                                                                                                                                                                                                                                                                                                                                                                                                                                                                                                                                                                                                                                                                                                                                                                                                                                                                                                                                                                                                                                                                                                                                                                                                                                                                                                                                                                                                                                                                                                                                                                                                                                                                                                                                                                                text  \\\n",
       "61157                                                                                                                                                                                                                                                                                                                                                                                                                                                                                                                                                                                    Thanks, Chaldean. I have found some evidence that some manuscripts from the bishop's library in Siirt did survive. There are a few manuscripts in the Bibliothèque nationale de France that seem to be survivors of the Siirt library. \\n\\nThe Assyrian tribes template could simply be made dormant (de-linked from articles with a note saying why that's been done) until you feel that you can include more complete articles on the tribes. The Nochiya Tribe article looks good. Being a syriacist, the only thing I noticed was that, in the ethnic groups template, the header says Nochiyayeh, but the script underneath says Nochiya — you need an extra yud zlami-pshuqi before the final alap. I agree with you that it would be good to have an article about the geographic homeland of Assyrians. However, it would be have to be carefully and named. You are right in suggesting the article Kurdistan as a good model, as it has avoided all sorts of attacks by those who suggest that it infringes the sovereignty of other nations. Also, even though modern Assyrians celebrate descent from the ancient Assyrians, we need to keep the articles seperate, as they are talking about two very different historical periods. Perhaps it would be good to have an article an article on Assyrian homeland that could be linked from the Assyria article in a dablink. —   \n",
       "39526                                                                                                                                                                                                                                                                                                                                                                                                                                                                                                                                                                                                                                                                                                                                                                                                                                                                                                                                                                                                                                                                                                                                                                                                                                                                                                                                                                                                                                                                                                                                                                                                                                                                                                                                                                                               Place of Birth \\n\\nIt's currently a red link, I was wondering if the name is spelt correctly or not. If we have no article for the place, might be nice of someone to create it.   \n",
       "155071                                                                                                                                                                                                                                                                                                                                                                                                                                                                                                                                                                                                                                                                                                                                                                                                                                                                                                                                                                                                                                                                                                                                                                                                                       \"\\n\\nAsian2duracell report\\nHello. There's a template under the \"\"current requests\"\" section which you can copy for the standard formatting. (You'll need to click \"\"edit\"\", and the template will be in hidden comments indicated by  .) You'll need to provide diffs indicating that you've contacted the other involved people, informing them that you've filed a request, and also provide a brief summary under the appropriate sections. Note that this isn't the Mediation Cabal, which is where you seem to have copied your format from. You may also wish to see some of the other requests currently on the page for examples of the format that's currently used. Please let me know if you have any other questions. Thanks!  (A note?) \"   \n",
       "90528                                                                                                                                                                                                                                                                                                                                                                                                                                                                                                                                                                                                                                                                                                                                                                                                                                                                                                                                                                                                                                                                                         \"What's wrong with listening to parents, isn't that the job of doctors? How is ignoring them better? If by \"\"fringe\"\" you mean not being bribed by Merck or a corrupt public health official trying to avoid jail-time then I suppose you are correct. Your \"\"tagging\"\" of the article is merely because it does not provide the usual \"\"there is no evidence\"\" party-line linked to the CDC website or to some \"\"non-profit\"\" front group for Pharma such as Every Child By Two or Quackwatch. I understand there are certain administrators here being paid to skew Wikipedia's information for the sake of certain \"\"interests\"\" but that doesn't make giving incorrect health information right. How could getting a shot thimerosal-free cause \"\"child deaths?\"\" Btw, aren't vaccines responsible for SIDS? http://www.kspr.com/news/local/30808289.html \\n\\n129.64.129.56  \\n\\n\"   \n",
       "32055                                                                                                                                                                                                                                                                                                                                                                                                                                                                                                                                                                                                                                                                                                                                                                                                                                                                                                                                                                                                                                                                                                                                                                                                                                                                                                                                                                                                                                                                                                                                                                                                                                                                                                                                                                                                                                                                                                                                              |listas=Last Ten Years (Superman)   \n",
       "72815                                                                                                                                                                                                                                                                                                                                                                                                                                                                                                                                                                                                                                                                                                                                                                                                                                                                                                                                                                                                                                                                                                                                                                                                                                                                                                                                                                                                                                                                                                                                                                                                                                                                                                                                               \"\\nShe was sunk well out of USA waters. The \"\"fair use\"\" claim that no good image of a coal-fired steam trawler in action is available and in authors life + 70 years, seems sensible to me, given that the image is so old.   \"   \n",
       "1681                                                                                                                                                                                                                                                                                                                                                                                                                                                                                                                                                                                                                                                                                                                                                                                                                                                                                                                                                                                                                                                                                                                                                                                                                                                                                                                                                                                                                                                                                                                                                                                                                                                                                                                                                                                                                                                              Some that we know would claim that as OR, but I won't. As I said, if you want GB maybe find a source that says it?   \n",
       "23682                                                                                                                                                                                                                                                                                                                                                                                                                                                                                                                                                                                                                                                                                                                                                                                                                                                                                                                                                                                                                                                                                                                                                                                                                                                                                                                                                                                                                                                                                                   sorry \\n\\nFor stuffing the battery page - mt internet went down during a save I have fixed it at an internet cafe  chad\\n\\nNo worries. Another semi-common event is that certain browsers will only edit 32KB of text (which is why the Wiki software warns you whenever a page gets longer). If you try to edit the article with these browsers, they have a nasty habit of cutting off the article at th3 32,769th character. (That's what I figured had happened to you.)   \n",
       "134448  \"\\n\\nI can't believe it!\\nThis story of how they got their doctor degree has been discussed before, and agreed upon, a long time ago. That was before EE guy time but anyway, the same on different forums, and not earlier than this august month. And to clear out all doubts, thought it is a far out dream, and as Igor has already pointd it out a few articles above, which mean only a few hours before you came with your extract, mention honorable is a very honorable mention who is seldom given to a thesis and mean that the work is considered as being very good.\\nDo you get it now?\\nOr shall we absolutely repeat this, let say, 1000 times before it get in to the correct part of your brain system?\\nThis being already a repetition. But if you were less eager to get all your informations on that matter at the same source:YBM own edits and promotion web side, it will help a lot.\\nI have already in august presented the prooves that the article you use above as a proof is nothing but a homemade text created by ybm who has absolutely no knowledge of the doctorat point system or who did it on purpose. Both well cooresponding to ybms' untrustworthy selvmade image.\\nYourself could get some indormations about this fact, instead of echooing what you read like \"\"I knew it too and agreed\"\" when in fact all of those data are rants without contact to reality.\\nShall I sign zorro or shall I put your own name? afterall what the hell shall I have my own signature when anyway it is freely accused for being another one at anytime and for anything?\\nGet your vocabulary straight, your source of information straight, and give me a well deserved excuse for all the numerous timessssss where you have insulted me.\\nI make progress happen, you sylte on it like a parasite and want a medailj for it?\\nGet real, you are at best paparazy, at worse a middle levelheaded ingeneeer trying his joker on wiki.\\n\\n \"   \n",
       "62452                                                                                                                                                                                                                                                                                                                                                                                                                                                                                                                                                                                                                                                                                                                                                                                                                                                                                                                                                                                                                                                                                                                                                                                                                                                                                                                                                                                                                                                                                                                                                                                                                                                                                                                                                                                                                                        Oppose - per WP:ENGVAR. Multi-storey car park was the first name of this article so British English gets the nod over American English.   \n",
       "\n",
       "        toxic  \n",
       "61157       0  \n",
       "39526       0  \n",
       "155071      0  \n",
       "90528       0  \n",
       "32055       0  \n",
       "72815       0  \n",
       "1681        0  \n",
       "23682       0  \n",
       "134448      0  \n",
       "62452       0  "
      ]
     },
     "execution_count": 4,
     "metadata": {},
     "output_type": "execute_result"
    }
   ],
   "source": [
    "data_base = pd.read_csv('/datasets/toxic_comments.csv')\n",
    "\n",
    "pd.set_option('display.max_columns', None)\n",
    "pd.set_option('display.max_colwidth', None)\n",
    "\n",
    "\n",
    "data_base.sample(10)"
   ]
  },
  {
   "cell_type": "markdown",
   "metadata": {},
   "source": [
    "**Переименовал колонки для собственного удобства**"
   ]
  },
  {
   "cell_type": "code",
   "execution_count": 5,
   "metadata": {},
   "outputs": [
    {
     "name": "stdout",
     "output_type": "stream",
     "text": [
      "<class 'pandas.core.frame.DataFrame'>\n",
      "RangeIndex: 159292 entries, 0 to 159291\n",
      "Data columns (total 3 columns):\n",
      " #   Column  Non-Null Count   Dtype \n",
      "---  ------  --------------   ----- \n",
      " 0   id      159292 non-null  int64 \n",
      " 1   text    159292 non-null  object\n",
      " 2   toxic   159292 non-null  int64 \n",
      "dtypes: int64(2), object(1)\n",
      "memory usage: 3.6+ MB\n"
     ]
    }
   ],
   "source": [
    "data_base.columns = ['id', 'text', 'toxic']\n",
    "data_base.info()"
   ]
  },
  {
   "cell_type": "markdown",
   "metadata": {},
   "source": [
    "**Предварительно проверим на дисбаланс классов**"
   ]
  },
  {
   "cell_type": "code",
   "execution_count": 6,
   "metadata": {},
   "outputs": [
    {
     "name": "stdout",
     "output_type": "stream",
     "text": [
      "0    143106\n",
      "1     16186\n",
      "Name: toxic, dtype: int64\n"
     ]
    },
    {
     "data": {
      "image/png": "[encoded data removed]",
      "text/plain": [
       "<Figure size 432x576 with 1 Axes>"
      ]
     },
     "metadata": {
      "needs_background": "light"
     },
     "output_type": "display_data"
    }
   ],
   "source": [
    "class_counts = data_base['toxic'].value_counts()\n",
    "print(class_counts)\n",
    "\n",
    "plt.figure(figsize=(6,8))\n",
    "class_counts.plot(kind='bar', color=['green','red'])\n",
    "plt.title(\"Распределение классов\")\n",
    "plt.xlabel(\"Класс\")\n",
    "plt.ylabel(\"Количество текстов\")\n",
    "plt.xticks(ticks=[0, 1], labels=['Нетоксичный (0)', 'Токсичный (1)'])\n",
    "plt.show()"
   ]
  },
  {
   "cell_type": "code",
   "execution_count": 7,
   "metadata": {},
   "outputs": [
    {
     "name": "stdout",
     "output_type": "stream",
     "text": [
      "Коэффициент дисбаланса: 8.84\n"
     ]
    }
   ],
   "source": [
    "minority_class = class_counts.min()\n",
    "majority_class = class_counts.max()\n",
    "imbalance_ratio = majority_class / minority_class\n",
    "\n",
    "print(f\"Коэффициент дисбаланса: {imbalance_ratio:.2f}\")"
   ]
  },
  {
   "cell_type": "markdown",
   "metadata": {},
   "source": [
    "**Получаем нехилый дисбаланс таргетного фактора, важно будет учесть это при моделировании. Теперь приступим к очистке текста**"
   ]
  },
  {
   "cell_type": "code",
   "execution_count": 8,
   "metadata": {},
   "outputs": [],
   "source": [
    "def clear_text(text):\n",
    "    if isinstance(text, str):  # Проверяем, что text - строка\n",
    "        marked = re.sub(r'[^a-zA-Z ]', ' ', text)  # Оставляем только буквы и пробелы\n",
    "        return \" \".join(marked.split())  # Убираем лишние пробелы\n",
    "    return \"\"  # Если NaN или не строка, возвращаем пустую строку"
   ]
  },
  {
   "cell_type": "code",
   "execution_count": 9,
   "metadata": {},
   "outputs": [
    {
     "name": "stdout",
     "output_type": "stream",
     "text": [
      "Текст до очистки: D'aww! He matches this background colour I'm seemingly stuck with. Thanks.  (talk) 21:51, January 11, 2016 (UTC) \n",
      "\n",
      "Текст после очистки: D aww He matches this background colour I m seemingly stuck with Thanks talk January UTC\n"
     ]
    }
   ],
   "source": [
    "df = data_base.copy()\n",
    "df['text'] = df['text'].apply(clear_text)\n",
    "print('Текст до очистки:', data_base['text'][1], '\\n')\n",
    "print('Текст после очистки:', df['text'][1])"
   ]
  },
  {
   "cell_type": "markdown",
   "metadata": {},
   "source": [
    "**Теперь очистим от стоп-слов**"
   ]
  },
  {
   "cell_type": "code",
   "execution_count": 10,
   "metadata": {},
   "outputs": [
    {
     "data": {
      "text/plain": [
       "'aww matches background colour seemingly stuck Thanks talk January UTC'"
      ]
     },
     "execution_count": 10,
     "metadata": {},
     "output_type": "execute_result"
    }
   ],
   "source": [
    "en_stopwords = set(stopwords.words(\"english\"))\n",
    "\n",
    "def remove_stopwords(text):\n",
    "    words = text.split()\n",
    "    filtered_words = [word for word in words if word.lower() not in en_stopwords]\n",
    "    return \" \".join(filtered_words)\n",
    "\n",
    "df['text'] = df['text'].astype(str).apply(remove_stopwords)\n",
    "df['text'][1]"
   ]
  },
  {
   "cell_type": "code",
   "execution_count": 11,
   "metadata": {
    "scrolled": true
   },
   "outputs": [],
   "source": [
    "#text_data = \" \".join(df['text'].astype(str))\n",
    "\n",
    "# Генерируем облако слов\n",
    "#wordcloud = WordCloud(background_color=\"white\", font_path=None, width=800, height=400).generate(text_data)\n",
    "\n",
    "#plt.figure(figsize=(10, 5))\n",
    "#plt.imshow(wordcloud, interpolation=\"bilinear\")\n",
    "#plt.axis(\"off\")  # Убираем оси\n",
    "#plt.show()"
   ]
  },
  {
   "cell_type": "code",
   "execution_count": 12,
   "metadata": {},
   "outputs": [],
   "source": [
    "df = df.sample(n=400, random_state=RANDOM_STATE).copy()\n",
    "\n",
    "# Взял сокращенную выборку, потому что не хватало памяти"
   ]
  },
  {
   "cell_type": "markdown",
   "metadata": {},
   "source": [
    "**Инициализирую BERT**"
   ]
  },
  {
   "cell_type": "code",
   "execution_count": 13,
   "metadata": {},
   "outputs": [
    {
     "data": {
      "application/vnd.jupyter.widget-view+json": {
       "model_id": "b35005638beb4b6b9cc8ebf007eeae4a",
       "version_major": 2,
       "version_minor": 0
      },
      "text/plain": [
       "Downloading:   0%|          | 0.00/811 [00:00<?, ?B/s]"
      ]
     },
     "metadata": {},
     "output_type": "display_data"
    },
    {
     "data": {
      "application/vnd.jupyter.widget-view+json": {
       "model_id": "21a7207666724704823194926b510909",
       "version_major": 2,
       "version_minor": 0
      },
      "text/plain": [
       "Downloading:   0%|          | 0.00/418M [00:00<?, ?B/s]"
      ]
     },
     "metadata": {},
     "output_type": "display_data"
    },
    {
     "data": {
      "application/vnd.jupyter.widget-view+json": {
       "model_id": "7cf7c124f0074dc9ad2d286c2f115651",
       "version_major": 2,
       "version_minor": 0
      },
      "text/plain": [
       "Downloading:   0%|          | 0.00/174 [00:00<?, ?B/s]"
      ]
     },
     "metadata": {},
     "output_type": "display_data"
    },
    {
     "data": {
      "application/vnd.jupyter.widget-view+json": {
       "model_id": "0e0c6e11dfb6489fb56ba3a491c947a3",
       "version_major": 2,
       "version_minor": 0
      },
      "text/plain": [
       "Downloading:   0%|          | 0.00/226k [00:00<?, ?B/s]"
      ]
     },
     "metadata": {},
     "output_type": "display_data"
    },
    {
     "data": {
      "application/vnd.jupyter.widget-view+json": {
       "model_id": "d8c8f1010587488abc4c6bb1da958657",
       "version_major": 2,
       "version_minor": 0
      },
      "text/plain": [
       "Downloading:   0%|          | 0.00/112 [00:00<?, ?B/s]"
      ]
     },
     "metadata": {},
     "output_type": "display_data"
    }
   ],
   "source": [
    "model_name = \"unitary/toxic-bert\"\n",
    "model = AutoModelForSequenceClassification.from_pretrained(model_name)\n",
    "tokenizer = AutoTokenizer.from_pretrained(model_name)"
   ]
  },
  {
   "cell_type": "markdown",
   "metadata": {},
   "source": [
    "**Разбиваем на батчи, чтобы сэкономить память**"
   ]
  },
  {
   "cell_type": "code",
   "execution_count": 14,
   "metadata": {},
   "outputs": [],
   "source": [
    "def get_embeddings(texts, model, tokenizer, max_length=280):\n",
    "    embeddings = []\n",
    "    for text in tqdm(texts, desc=\"Processing texts\", unit=\"text\"):\n",
    "        tokens = tokenizer.encode(text, add_special_tokens=True, max_length=max_length, truncation=True)\n",
    "        padded = tokens + [0] * (max_length - len(tokens))\n",
    "        attention_mask = np.where(np.array(padded) != 0, 1, 0)\n",
    "\n",
    "        input_ids = torch.tensor([padded])\n",
    "        attention_mask = torch.tensor([attention_mask])\n",
    "\n",
    "        with torch.no_grad():\n",
    "            output = model(input_ids, attention_mask=attention_mask, output_hidden_states=True)\n",
    "            hidden_states = output.hidden_states  # Скрытые состояния модели\n",
    "            embedding = hidden_states[-1][:, 0, :].numpy()  # Берем [CLS] токен из последнего слоя\n",
    "\n",
    "        embeddings.append(embedding)\n",
    "\n",
    "    return np.vstack(embeddings)"
   ]
  },
  {
   "cell_type": "code",
   "execution_count": 15,
   "metadata": {},
   "outputs": [
    {
     "name": "stderr",
     "output_type": "stream",
     "text": [
      "Processing texts:   0%|          | 0/400 [00:00<?, ?text/s]/tmp/ipykernel_82/3051712543.py:9: UserWarning: Creating a tensor from a list of numpy.ndarrays is extremely slow. Please consider converting the list to a single numpy.ndarray with numpy.array() before converting to a tensor. (Triggered internally at  ../torch/csrc/utils/tensor_new.cpp:201.)\n",
      "  attention_mask = torch.tensor([attention_mask])\n",
      "Processing texts: 100%|██████████| 400/400 [08:24<00:00,  1.26s/text]\n"
     ]
    }
   ],
   "source": [
    "texts = df['text'].tolist()\n",
    "embeddings = get_embeddings(texts, model, tokenizer)"
   ]
  },
  {
   "cell_type": "markdown",
   "metadata": {},
   "source": [
    "**Итог: получаем готовый массив с текстами в векторном представлении, что позволит их обработать с помощью моделей**"
   ]
  },
  {
   "cell_type": "markdown",
   "metadata": {},
   "source": [
    "## Обучение"
   ]
  },
  {
   "cell_type": "markdown",
   "metadata": {},
   "source": [
    "**Обучаем несколько моделей на тренировочной выборке и выбираем лучшую**"
   ]
  },
  {
   "cell_type": "code",
   "execution_count": 16,
   "metadata": {},
   "outputs": [],
   "source": [
    "kf = KFold(n_splits=5, shuffle=False)"
   ]
  },
  {
   "cell_type": "code",
   "execution_count": 24,
   "metadata": {
    "scrolled": true
   },
   "outputs": [
    {
     "name": "stdout",
     "output_type": "stream",
     "text": [
      "Обучение модели: Logistic Regression\n",
      "Fitting 5 folds for each of 8 candidates, totalling 40 fits\n"
     ]
    },
    {
     "name": "stderr",
     "output_type": "stream",
     "text": [
      "/opt/conda/lib/python3.9/site-packages/sklearn/linear_model/_sag.py:350: ConvergenceWarning: The max_iter was reached which means the coef_ did not converge\n",
      "  warnings.warn(\n",
      "/opt/conda/lib/python3.9/site-packages/sklearn/linear_model/_sag.py:350: ConvergenceWarning: The max_iter was reached which means the coef_ did not converge\n",
      "  warnings.warn(\n",
      "/opt/conda/lib/python3.9/site-packages/sklearn/linear_model/_sag.py:350: ConvergenceWarning: The max_iter was reached which means the coef_ did not converge\n",
      "  warnings.warn(\n",
      "/opt/conda/lib/python3.9/site-packages/sklearn/linear_model/_sag.py:350: ConvergenceWarning: The max_iter was reached which means the coef_ did not converge\n",
      "  warnings.warn(\n",
      "/opt/conda/lib/python3.9/site-packages/sklearn/linear_model/_sag.py:350: ConvergenceWarning: The max_iter was reached which means the coef_ did not converge\n",
      "  warnings.warn(\n",
      "/opt/conda/lib/python3.9/site-packages/sklearn/linear_model/_sag.py:350: ConvergenceWarning: The max_iter was reached which means the coef_ did not converge\n",
      "  warnings.warn(\n",
      "/opt/conda/lib/python3.9/site-packages/sklearn/linear_model/_sag.py:350: ConvergenceWarning: The max_iter was reached which means the coef_ did not converge\n",
      "  warnings.warn(\n"
     ]
    },
    {
     "name": "stdout",
     "output_type": "stream",
     "text": [
      "Лучшие параметры для Logistic Regression:  {'logisticregression__C': 1, 'logisticregression__penalty': 'l2', 'logisticregression__solver': 'liblinear'}\n",
      "Logistic Regression - Кросс-валидация F1-скор:  0.7512820512820513 \n",
      "\n",
      "Обучение модели: Decision Tree\n",
      "Fitting 5 folds for each of 512 candidates, totalling 2560 fits\n",
      "Лучшие параметры для Decision Tree:  {'decisiontreeclassifier__max_depth': 3, 'decisiontreeclassifier__min_samples_leaf': 2, 'decisiontreeclassifier__min_samples_split': 6}\n",
      "Decision Tree - Кросс-валидация F1-скор:  0.6418181818181818 \n",
      "\n",
      "Обучение модели: SVC\n",
      "Fitting 5 folds for each of 4 candidates, totalling 20 fits\n",
      "Лучшие параметры для SVC:  {'svc__C': 0.1, 'svc__kernel': 'linear'}\n",
      "SVC - Кросс-валидация F1-скор:  0.7046153846153846 \n",
      "\n",
      "Лучшая модель: Pipeline(steps=[('smote', SMOTE(random_state=45)),\n",
      "                ('logisticregression',\n",
      "                 LogisticRegression(C=1, class_weight='balanced', max_iter=1000,\n",
      "                                    solver='liblinear'))])\n"
     ]
    }
   ],
   "source": [
    "y = df['toxic'].copy()\n",
    "X_train, X_test, y_train, y_test = train_test_split(embeddings, y, random_state=RANDOM_STATE, test_size=TEST_SIZE)\n",
    "\n",
    "models = {\n",
    "    'Logistic Regression': LogisticRegression(class_weight='balanced', max_iter=1000),\n",
    "    'Decision Tree': DecisionTreeClassifier(class_weight='balanced', random_state=RANDOM_STATE),\n",
    "    'SVC': SVC(class_weight='balanced', random_state=RANDOM_STATE)\n",
    "}\n",
    "\n",
    "param_grids = {\n",
    "    'Logistic Regression': {\n",
    "        'logisticregression__C': [0.1, 1],\n",
    "        'logisticregression__penalty': ['l1', 'l2'],\n",
    "        'logisticregression__solver': ['liblinear', 'saga']\n",
    "    },\n",
    "    'Decision Tree': {\n",
    "        'decisiontreeclassifier__max_depth': range(2, 10),\n",
    "        'decisiontreeclassifier__min_samples_leaf': range(2, 10),\n",
    "        'decisiontreeclassifier__min_samples_split': range(2, 10)\n",
    "    },\n",
    "    'SVC': {\n",
    "        'svc__C': [0.1, 1],\n",
    "        'svc__kernel': ['linear', 'rbf']\n",
    "    }\n",
    "}\n",
    "\n",
    "best_model = None\n",
    "best_score = 0\n",
    "\n",
    "for model_name, model in models.items():\n",
    "    print(f\"Обучение модели: {model_name}\")\n",
    "    \n",
    "    # Создаем пайплайн с SMOTE и моделью\n",
    "    imba_pipeline = make_pipeline(SMOTE(random_state=RANDOM_STATE), model)\n",
    "    \n",
    "    grid_search = GridSearchCV(imba_pipeline, param_grid=param_grids[model_name], cv=kf, n_jobs=-1, verbose=1, scoring='f1')\n",
    "\n",
    "    grid_search.fit(X_train, y_train)\n",
    "    \n",
    "    print(f\"Лучшие параметры для {model_name}: \", grid_search.best_params_)\n",
    "    \n",
    "    model_score = grid_search.best_score_\n",
    "    print(f\"{model_name} - Кросс-валидация F1-скор: \", model_score, '\\n')\n",
    "    \n",
    "    if model_score > best_score:\n",
    "        best_model = grid_search.best_estimator_\n",
    "        best_score = model_score\n",
    "\n",
    "print(f\"Лучшая модель: {best_model}\")"
   ]
  },
  {
   "cell_type": "code",
   "execution_count": 25,
   "metadata": {},
   "outputs": [
    {
     "name": "stdout",
     "output_type": "stream",
     "text": [
      "F1-скор на тестовых данных:  0.8\n"
     ]
    }
   ],
   "source": [
    "y_pred = best_model.predict(X_test)\n",
    "print(\"F1-скор на тестовых данных: \", round((f1_score(y_test, y_pred)), 3))"
   ]
  },
  {
   "cell_type": "markdown",
   "metadata": {},
   "source": [
    "**Получаем, что лучшей моделью для нашей задачи опеределения токсичности текста является LogisticRegression(C=1, class_weight='balanced', max_iter=1000, solver='liblinear') с метрикой f1 = 0.8 на тестовых данных.**"
   ]
  },
  {
   "cell_type": "markdown",
   "metadata": {},
   "source": [
    "## Выводы"
   ]
  },
  {
   "cell_type": "markdown",
   "metadata": {},
   "source": [
    "Задачей данного проекта являлась разработка модели для классификации комментариев на позитивные и негативные для интернет-магазина «Викишоп». Важным критерием технического задания был результат метрики F1 не меньше 0.75\n",
    "\n",
    "С точки зрения поставленной заказчиком задачи лучше всего справилась модель **LogisticRegression(C=1, class_weight='balanced', max_iter=1000, solver='liblinear') с метрикой f1 = 0.8**.\n",
    "\n",
    "*Для поиска лучшей базовой модели был выбран метод GridSearchCV, поскольку позволяет рассмотреть большое количество комбинаций и дать точные результаты.*\n",
    "\n",
    "*Во время проекта были подготовлены текстовые данные, далее тексты были преобразованы в векторную форму при помощи модели unitary/toxic-bert*"
   ]
  }
 ],
 "metadata": {
  "ExecuteTimeLog": [
   {
    "duration": 2355,
    "start_time": "2025-02-26T07:25:59.462Z"
   },
   {
    "duration": 4,
    "start_time": "2025-02-26T07:28:51.611Z"
   },
   {
    "duration": 942,
    "start_time": "2025-02-26T07:44:56.075Z"
   },
   {
    "duration": 34,
    "start_time": "2025-02-26T07:45:19.795Z"
   },
   {
    "duration": 138,
    "start_time": "2025-02-26T07:45:44.789Z"
   },
   {
    "duration": 30,
    "start_time": "2025-02-26T07:45:49.780Z"
   },
   {
    "duration": 874,
    "start_time": "2025-02-26T07:46:03.827Z"
   },
   {
    "duration": 1862,
    "start_time": "2025-02-26T07:48:27.077Z"
   },
   {
    "duration": 240,
    "start_time": "2025-02-26T07:49:55.617Z"
   },
   {
    "duration": 75,
    "start_time": "2025-02-26T08:10:07.360Z"
   },
   {
    "duration": 6,
    "start_time": "2025-02-26T08:10:12.557Z"
   },
   {
    "duration": 2606,
    "start_time": "2025-02-26T08:10:34.354Z"
   },
   {
    "duration": 223,
    "start_time": "2025-02-26T08:27:32.084Z"
   },
   {
    "duration": 35,
    "start_time": "2025-02-26T08:27:40.358Z"
   },
   {
    "duration": 32,
    "start_time": "2025-02-26T08:27:47.608Z"
   },
   {
    "duration": 10,
    "start_time": "2025-02-26T08:28:20.992Z"
   },
   {
    "duration": 59,
    "start_time": "2025-02-26T08:28:26.357Z"
   },
   {
    "duration": 39,
    "start_time": "2025-02-26T08:29:03.426Z"
   },
   {
    "duration": 4,
    "start_time": "2025-02-26T08:29:18.141Z"
   },
   {
    "duration": 50,
    "start_time": "2025-02-26T08:29:20.036Z"
   },
   {
    "duration": 8,
    "start_time": "2025-02-26T08:29:47.550Z"
   },
   {
    "duration": 4,
    "start_time": "2025-02-26T08:29:48.472Z"
   },
   {
    "duration": 42,
    "start_time": "2025-02-26T08:29:51.418Z"
   },
   {
    "duration": 5,
    "start_time": "2025-02-26T08:30:30.641Z"
   },
   {
    "duration": 1568,
    "start_time": "2025-02-26T08:30:32.483Z"
   },
   {
    "duration": 5,
    "start_time": "2025-02-26T08:32:47.059Z"
   },
   {
    "duration": 2428,
    "start_time": "2025-02-26T08:32:49.475Z"
   },
   {
    "duration": 122689,
    "start_time": "2025-02-26T08:33:11.896Z"
   },
   {
    "duration": 2291,
    "start_time": "2025-02-26T08:35:44.718Z"
   },
   {
    "duration": 953,
    "start_time": "2025-02-26T08:35:47.011Z"
   },
   {
    "duration": 35,
    "start_time": "2025-02-26T08:35:47.968Z"
   },
   {
    "duration": 1871,
    "start_time": "2025-02-26T08:35:48.005Z"
   },
   {
    "duration": 6,
    "start_time": "2025-02-26T08:35:49.878Z"
   },
   {
    "duration": 2422,
    "start_time": "2025-02-26T08:35:49.885Z"
   },
   {
    "duration": 37974,
    "start_time": "2025-02-26T08:35:52.309Z"
   },
   {
    "duration": 8,
    "start_time": "2025-02-26T08:37:22.245Z"
   },
   {
    "duration": 596674,
    "start_time": "2025-02-26T08:37:27.102Z"
   },
   {
    "duration": 3,
    "start_time": "2025-02-26T08:48:28.244Z"
   },
   {
    "duration": 2,
    "start_time": "2025-02-26T08:51:01.044Z"
   },
   {
    "duration": 2,
    "start_time": "2025-02-26T08:51:03.556Z"
   },
   {
    "duration": 7466,
    "start_time": "2025-02-26T08:51:20.420Z"
   },
   {
    "duration": 4,
    "start_time": "2025-02-26T08:51:27.889Z"
   },
   {
    "duration": 6,
    "start_time": "2025-02-26T08:55:21.255Z"
   },
   {
    "duration": 3,
    "start_time": "2025-02-26T08:55:26.219Z"
   },
   {
    "duration": 10,
    "start_time": "2025-02-26T08:56:05.678Z"
   },
   {
    "duration": 3,
    "start_time": "2025-02-26T08:58:49.055Z"
   },
   {
    "duration": 35,
    "start_time": "2025-02-26T08:59:17.179Z"
   },
   {
    "duration": 2559,
    "start_time": "2025-02-26T09:00:59.018Z"
   },
   {
    "duration": 36,
    "start_time": "2025-02-26T09:06:45.682Z"
   },
   {
    "duration": 8,
    "start_time": "2025-02-26T09:07:35.165Z"
   },
   {
    "duration": 2419,
    "start_time": "2025-02-26T09:07:35.174Z"
   },
   {
    "duration": 2293,
    "start_time": "2025-02-26T09:07:37.595Z"
   },
   {
    "duration": 962,
    "start_time": "2025-02-26T09:07:39.889Z"
   },
   {
    "duration": 36,
    "start_time": "2025-02-26T09:07:40.853Z"
   },
   {
    "duration": 1986,
    "start_time": "2025-02-26T09:07:40.890Z"
   },
   {
    "duration": 6,
    "start_time": "2025-02-26T09:07:42.879Z"
   },
   {
    "duration": 2516,
    "start_time": "2025-02-26T09:07:42.887Z"
   },
   {
    "duration": 3,
    "start_time": "2025-02-26T09:07:45.404Z"
   },
   {
    "duration": 24,
    "start_time": "2025-02-26T09:07:45.408Z"
   },
   {
    "duration": 665639,
    "start_time": "2025-02-26T09:07:45.434Z"
   },
   {
    "duration": 354,
    "start_time": "2025-02-26T09:18:51.075Z"
   },
   {
    "duration": 9,
    "start_time": "2025-02-26T09:26:00.565Z"
   },
   {
    "duration": 2504,
    "start_time": "2025-02-26T09:26:00.576Z"
   },
   {
    "duration": 2321,
    "start_time": "2025-02-26T09:26:03.082Z"
   },
   {
    "duration": 1007,
    "start_time": "2025-02-26T09:26:05.405Z"
   },
   {
    "duration": 43,
    "start_time": "2025-02-26T09:26:06.415Z"
   },
   {
    "duration": 1916,
    "start_time": "2025-02-26T09:26:06.459Z"
   },
   {
    "duration": 5,
    "start_time": "2025-02-26T09:26:08.376Z"
   },
   {
    "duration": 2532,
    "start_time": "2025-02-26T09:26:08.382Z"
   },
   {
    "duration": 4,
    "start_time": "2025-02-26T09:26:10.916Z"
   },
   {
    "duration": 353,
    "start_time": "2025-02-26T09:26:10.921Z"
   },
   {
    "duration": 628292,
    "start_time": "2025-02-26T09:26:11.276Z"
   },
   {
    "duration": 352,
    "start_time": "2025-02-26T09:36:39.570Z"
   },
   {
    "duration": 7,
    "start_time": "2025-02-26T13:56:15.833Z"
   },
   {
    "duration": 2704,
    "start_time": "2025-02-26T13:56:16.250Z"
   },
   {
    "duration": 2271,
    "start_time": "2025-02-26T13:56:18.957Z"
   },
   {
    "duration": 918,
    "start_time": "2025-02-26T13:56:23.072Z"
   },
   {
    "duration": 33,
    "start_time": "2025-02-26T13:56:24.966Z"
   },
   {
    "duration": 1732,
    "start_time": "2025-02-26T13:56:28.216Z"
   },
   {
    "duration": 8,
    "start_time": "2025-02-26T13:56:35.076Z"
   },
   {
    "duration": 2453,
    "start_time": "2025-02-26T13:56:35.545Z"
   },
   {
    "duration": 6,
    "start_time": "2025-02-26T13:56:43.225Z"
   },
   {
    "duration": 127322,
    "start_time": "2025-02-26T13:57:02.348Z"
   },
   {
    "duration": 280,
    "start_time": "2025-02-26T13:59:46.057Z"
   },
   {
    "duration": 188,
    "start_time": "2025-02-26T14:00:36.023Z"
   },
   {
    "duration": 183,
    "start_time": "2025-02-26T14:01:33.172Z"
   },
   {
    "duration": 5,
    "start_time": "2025-02-26T14:07:01.120Z"
   },
   {
    "duration": 39,
    "start_time": "2025-02-26T14:07:08.559Z"
   },
   {
    "duration": 5,
    "start_time": "2025-02-26T14:07:21.664Z"
   },
   {
    "duration": 46,
    "start_time": "2025-02-26T14:07:24.368Z"
   },
   {
    "duration": 94,
    "start_time": "2025-02-26T14:08:51.866Z"
   },
   {
    "duration": 4,
    "start_time": "2025-02-26T14:08:59.371Z"
   },
   {
    "duration": 23,
    "start_time": "2025-02-26T14:09:01.691Z"
   },
   {
    "duration": 4,
    "start_time": "2025-02-26T14:09:11.293Z"
   },
   {
    "duration": 25,
    "start_time": "2025-02-26T14:09:14.288Z"
   },
   {
    "duration": 4,
    "start_time": "2025-02-26T14:10:55.959Z"
   },
   {
    "duration": 46,
    "start_time": "2025-02-26T14:11:00.814Z"
   },
   {
    "duration": 7,
    "start_time": "2025-02-26T14:15:35.783Z"
   },
   {
    "duration": 7,
    "start_time": "2025-02-26T14:15:43.297Z"
   },
   {
    "duration": 331,
    "start_time": "2025-02-26T14:16:16.000Z"
   },
   {
    "duration": 43,
    "start_time": "2025-02-26T14:17:48.440Z"
   },
   {
    "duration": 7,
    "start_time": "2025-02-26T14:18:12.172Z"
   },
   {
    "duration": 778,
    "start_time": "2025-02-26T14:18:14.643Z"
   },
   {
    "duration": 48,
    "start_time": "2025-02-26T14:18:16.847Z"
   },
   {
    "duration": 805,
    "start_time": "2025-02-26T14:21:25.655Z"
   },
   {
    "duration": 769,
    "start_time": "2025-02-26T14:21:30.480Z"
   },
   {
    "duration": 41,
    "start_time": "2025-02-26T14:22:34.844Z"
   },
   {
    "duration": 6,
    "start_time": "2025-02-26T14:24:53.295Z"
   },
   {
    "duration": 181,
    "start_time": "2025-02-26T14:25:14.348Z"
   },
   {
    "duration": 4,
    "start_time": "2025-02-26T14:25:19.125Z"
   },
   {
    "duration": 35,
    "start_time": "2025-02-26T14:26:25.351Z"
   },
   {
    "duration": 126,
    "start_time": "2025-02-26T14:27:04.557Z"
   },
   {
    "duration": 76,
    "start_time": "2025-02-26T14:27:35.386Z"
   },
   {
    "duration": 69,
    "start_time": "2025-02-26T14:27:51.060Z"
   },
   {
    "duration": 5,
    "start_time": "2025-02-26T14:29:21.684Z"
   },
   {
    "duration": 50367,
    "start_time": "2025-02-26T14:30:22.240Z"
   },
   {
    "duration": 798,
    "start_time": "2025-02-26T14:31:45.225Z"
   },
   {
    "duration": 31,
    "start_time": "2025-02-26T14:31:46.385Z"
   },
   {
    "duration": 7,
    "start_time": "2025-02-26T14:31:49.391Z"
   },
   {
    "duration": 8,
    "start_time": "2025-02-26T14:32:34.206Z"
   },
   {
    "duration": 2281,
    "start_time": "2025-02-26T14:32:34.215Z"
   },
   {
    "duration": 2108,
    "start_time": "2025-02-26T14:32:36.498Z"
   },
   {
    "duration": 932,
    "start_time": "2025-02-26T14:32:38.608Z"
   },
   {
    "duration": 37,
    "start_time": "2025-02-26T14:32:39.542Z"
   },
   {
    "duration": 24,
    "start_time": "2025-02-26T14:32:39.581Z"
   },
   {
    "duration": 2048,
    "start_time": "2025-02-26T14:32:39.607Z"
   },
   {
    "duration": 0,
    "start_time": "2025-02-26T14:32:41.657Z"
   },
   {
    "duration": 0,
    "start_time": "2025-02-26T14:32:41.658Z"
   },
   {
    "duration": 0,
    "start_time": "2025-02-26T14:32:41.659Z"
   },
   {
    "duration": 0,
    "start_time": "2025-02-26T14:32:41.660Z"
   },
   {
    "duration": 0,
    "start_time": "2025-02-26T14:32:41.661Z"
   },
   {
    "duration": 369,
    "start_time": "2025-02-26T14:37:05.192Z"
   },
   {
    "duration": 347,
    "start_time": "2025-02-26T14:37:08.672Z"
   },
   {
    "duration": 2305,
    "start_time": "2025-02-26T14:37:09.285Z"
   },
   {
    "duration": 2296,
    "start_time": "2025-02-26T14:37:11.592Z"
   },
   {
    "duration": 47,
    "start_time": "2025-02-26T14:37:20.945Z"
   },
   {
    "duration": 47,
    "start_time": "2025-02-26T14:37:57.274Z"
   },
   {
    "duration": 7,
    "start_time": "2025-02-26T14:38:56.436Z"
   },
   {
    "duration": 884,
    "start_time": "2025-02-26T14:39:07.971Z"
   },
   {
    "duration": 2295,
    "start_time": "2025-02-26T14:39:08.857Z"
   },
   {
    "duration": 59,
    "start_time": "2025-02-26T14:39:11.154Z"
   },
   {
    "duration": 8,
    "start_time": "2025-02-26T14:39:25.637Z"
   },
   {
    "duration": 2404,
    "start_time": "2025-02-26T14:39:25.647Z"
   },
   {
    "duration": 2258,
    "start_time": "2025-02-26T14:39:28.053Z"
   },
   {
    "duration": 967,
    "start_time": "2025-02-26T14:39:30.313Z"
   },
   {
    "duration": 34,
    "start_time": "2025-02-26T14:39:31.283Z"
   },
   {
    "duration": 47,
    "start_time": "2025-02-26T14:39:31.319Z"
   },
   {
    "duration": 2602,
    "start_time": "2025-02-26T14:39:31.368Z"
   },
   {
    "duration": 2424,
    "start_time": "2025-02-26T14:39:33.972Z"
   },
   {
    "duration": 351,
    "start_time": "2025-02-26T14:39:36.398Z"
   },
   {
    "duration": 0,
    "start_time": "2025-02-26T14:39:36.750Z"
   },
   {
    "duration": 0,
    "start_time": "2025-02-26T14:39:36.752Z"
   },
   {
    "duration": 7,
    "start_time": "2025-02-26T14:42:22.452Z"
   },
   {
    "duration": 2361,
    "start_time": "2025-02-26T14:42:22.461Z"
   },
   {
    "duration": 2273,
    "start_time": "2025-02-26T14:42:24.825Z"
   },
   {
    "duration": 951,
    "start_time": "2025-02-26T14:42:27.099Z"
   },
   {
    "duration": 38,
    "start_time": "2025-02-26T14:42:28.053Z"
   },
   {
    "duration": 21,
    "start_time": "2025-02-26T14:42:28.093Z"
   },
   {
    "duration": 4098,
    "start_time": "2025-02-26T14:42:28.116Z"
   },
   {
    "duration": 5,
    "start_time": "2025-02-26T14:42:32.216Z"
   },
   {
    "duration": 23972,
    "start_time": "2025-02-26T14:42:32.223Z"
   },
   {
    "duration": 0,
    "start_time": "2025-02-26T14:42:56.197Z"
   },
   {
    "duration": 0,
    "start_time": "2025-02-26T14:42:56.198Z"
   },
   {
    "duration": 9,
    "start_time": "2025-02-26T14:45:57.030Z"
   },
   {
    "duration": 2381,
    "start_time": "2025-02-26T14:45:57.041Z"
   },
   {
    "duration": 2191,
    "start_time": "2025-02-26T14:45:59.424Z"
   },
   {
    "duration": 933,
    "start_time": "2025-02-26T14:46:01.617Z"
   },
   {
    "duration": 37,
    "start_time": "2025-02-26T14:46:02.553Z"
   },
   {
    "duration": 114,
    "start_time": "2025-02-26T14:46:02.591Z"
   },
   {
    "duration": 4215,
    "start_time": "2025-02-26T14:46:02.707Z"
   },
   {
    "duration": 5,
    "start_time": "2025-02-26T14:46:06.923Z"
   },
   {
    "duration": 377,
    "start_time": "2025-02-26T14:46:06.930Z"
   },
   {
    "duration": 0,
    "start_time": "2025-02-26T14:46:07.308Z"
   },
   {
    "duration": 5,
    "start_time": "2025-02-26T14:46:33.258Z"
   },
   {
    "duration": 29,
    "start_time": "2025-02-26T14:46:35.351Z"
   },
   {
    "duration": 4,
    "start_time": "2025-02-26T14:46:55.049Z"
   },
   {
    "duration": 31,
    "start_time": "2025-02-26T14:46:56.462Z"
   },
   {
    "duration": 3,
    "start_time": "2025-02-26T14:47:00.618Z"
   },
   {
    "duration": 4,
    "start_time": "2025-02-26T14:47:09.534Z"
   },
   {
    "duration": 7,
    "start_time": "2025-02-26T14:47:15.215Z"
   },
   {
    "duration": 457920,
    "start_time": "2025-02-26T14:47:16.859Z"
   },
   {
    "duration": 5,
    "start_time": "2025-02-26T14:55:05.606Z"
   },
   {
    "duration": 66,
    "start_time": "2025-02-26T15:01:54.747Z"
   },
   {
    "duration": 3,
    "start_time": "2025-02-26T15:02:04.739Z"
   },
   {
    "duration": 4,
    "start_time": "2025-02-26T15:12:43.818Z"
   },
   {
    "duration": 82828,
    "start_time": "2025-02-26T15:16:29.215Z"
   },
   {
    "duration": 81759,
    "start_time": "2025-02-26T15:22:31.521Z"
   },
   {
    "duration": 82917,
    "start_time": "2025-02-26T15:25:10.034Z"
   },
   {
    "duration": 20,
    "start_time": "2025-02-26T15:28:48.467Z"
   },
   {
    "duration": 8,
    "start_time": "2025-02-26T15:28:57.656Z"
   },
   {
    "duration": 8,
    "start_time": "2025-02-26T15:29:12.665Z"
   },
   {
    "duration": 16,
    "start_time": "2025-02-26T15:31:01.997Z"
   },
   {
    "duration": 784,
    "start_time": "2025-02-26T15:31:08.091Z"
   },
   {
    "duration": 773,
    "start_time": "2025-02-26T15:31:14.401Z"
   },
   {
    "duration": 10,
    "start_time": "2025-02-26T16:40:00.682Z"
   },
   {
    "duration": 2394,
    "start_time": "2025-02-26T16:40:00.706Z"
   },
   {
    "duration": 2203,
    "start_time": "2025-02-26T16:40:03.102Z"
   },
   {
    "duration": 901,
    "start_time": "2025-02-26T16:40:05.307Z"
   },
   {
    "duration": 32,
    "start_time": "2025-02-26T16:40:06.210Z"
   },
   {
    "duration": 52,
    "start_time": "2025-02-26T16:40:06.243Z"
   },
   {
    "duration": 4128,
    "start_time": "2025-02-26T16:40:06.297Z"
   },
   {
    "duration": 5,
    "start_time": "2025-02-26T16:40:10.427Z"
   },
   {
    "duration": 1042761,
    "start_time": "2025-02-26T16:40:10.434Z"
   },
   {
    "duration": 269311,
    "start_time": "2025-02-26T16:57:33.197Z"
   },
   {
    "duration": 5,
    "start_time": "2025-02-26T17:02:02.510Z"
   },
   {
    "duration": 163,
    "start_time": "2025-02-26T17:04:43.908Z"
   },
   {
    "duration": 767,
    "start_time": "2025-02-26T17:06:03.550Z"
   },
   {
    "duration": 748,
    "start_time": "2025-02-26T17:06:40.987Z"
   },
   {
    "duration": 58,
    "start_time": "2025-02-26T17:08:13.331Z"
   },
   {
    "duration": 8,
    "start_time": "2025-02-26T17:09:00.547Z"
   },
   {
    "duration": 2347,
    "start_time": "2025-02-26T17:09:00.557Z"
   },
   {
    "duration": 2314,
    "start_time": "2025-02-26T17:09:02.906Z"
   },
   {
    "duration": 936,
    "start_time": "2025-02-26T17:09:05.222Z"
   },
   {
    "duration": 37,
    "start_time": "2025-02-26T17:09:06.160Z"
   },
   {
    "duration": 95,
    "start_time": "2025-02-26T17:09:06.199Z"
   },
   {
    "duration": 7,
    "start_time": "2025-02-26T17:09:06.296Z"
   },
   {
    "duration": 4218,
    "start_time": "2025-02-26T17:09:06.305Z"
   },
   {
    "duration": 4,
    "start_time": "2025-02-26T17:09:10.525Z"
   },
   {
    "duration": 334,
    "start_time": "2025-02-26T17:09:10.531Z"
   },
   {
    "duration": 0,
    "start_time": "2025-02-26T17:09:10.867Z"
   },
   {
    "duration": 0,
    "start_time": "2025-02-26T17:09:10.868Z"
   },
   {
    "duration": 8,
    "start_time": "2025-02-26T17:14:01.036Z"
   },
   {
    "duration": 203089,
    "start_time": "2025-02-26T17:14:02.817Z"
   },
   {
    "duration": 28,
    "start_time": "2025-02-26T17:20:03.216Z"
   },
   {
    "duration": 4,
    "start_time": "2025-02-26T17:20:12.226Z"
   },
   {
    "duration": 35,
    "start_time": "2025-02-26T17:20:18.364Z"
   },
   {
    "duration": 29,
    "start_time": "2025-02-26T17:20:20.060Z"
   },
   {
    "duration": 3,
    "start_time": "2025-02-26T17:24:07.776Z"
   },
   {
    "duration": 47,
    "start_time": "2025-02-26T17:25:24.423Z"
   },
   {
    "duration": 7,
    "start_time": "2025-02-26T17:26:12.322Z"
   },
   {
    "duration": 2296,
    "start_time": "2025-02-26T17:26:12.779Z"
   },
   {
    "duration": 2346,
    "start_time": "2025-02-26T17:26:15.078Z"
   },
   {
    "duration": 948,
    "start_time": "2025-02-26T17:26:17.426Z"
   },
   {
    "duration": 31,
    "start_time": "2025-02-26T17:26:18.376Z"
   },
   {
    "duration": 2,
    "start_time": "2025-02-26T17:26:18.409Z"
   },
   {
    "duration": 45,
    "start_time": "2025-02-26T17:27:50.179Z"
   },
   {
    "duration": 7,
    "start_time": "2025-02-26T17:27:59.347Z"
   },
   {
    "duration": 2345,
    "start_time": "2025-02-26T17:28:01.182Z"
   },
   {
    "duration": 2296,
    "start_time": "2025-02-26T17:28:04.323Z"
   },
   {
    "duration": 3,
    "start_time": "2025-02-26T17:28:07.068Z"
   },
   {
    "duration": 5,
    "start_time": "2025-02-26T17:28:08.491Z"
   },
   {
    "duration": 951,
    "start_time": "2025-02-26T17:28:10.868Z"
   },
   {
    "duration": 37,
    "start_time": "2025-02-26T17:28:14.193Z"
   },
   {
    "duration": 4,
    "start_time": "2025-02-26T17:28:15.466Z"
   },
   {
    "duration": 48,
    "start_time": "2025-02-26T17:28:26.266Z"
   },
   {
    "duration": 6,
    "start_time": "2025-02-26T17:28:33.986Z"
   },
   {
    "duration": 2325,
    "start_time": "2025-02-26T17:28:43.591Z"
   },
   {
    "duration": 2262,
    "start_time": "2025-02-26T17:28:46.057Z"
   },
   {
    "duration": 940,
    "start_time": "2025-02-26T17:28:48.952Z"
   },
   {
    "duration": 34,
    "start_time": "2025-02-26T17:28:50.054Z"
   },
   {
    "duration": 4,
    "start_time": "2025-02-26T17:28:52.477Z"
   },
   {
    "duration": 2030,
    "start_time": "2025-02-26T17:28:53.240Z"
   },
   {
    "duration": 101,
    "start_time": "2025-02-26T17:28:59.502Z"
   },
   {
    "duration": 3,
    "start_time": "2025-02-26T17:29:07.169Z"
   },
   {
    "duration": 8,
    "start_time": "2025-02-26T17:29:10.815Z"
   },
   {
    "duration": 6,
    "start_time": "2025-02-26T17:29:19.830Z"
   },
   {
    "duration": 6954,
    "start_time": "2025-02-26T17:29:42.230Z"
   },
   {
    "duration": 5,
    "start_time": "2025-02-26T17:30:12.142Z"
   },
   {
    "duration": 359951,
    "start_time": "2025-02-26T17:30:14.252Z"
   },
   {
    "duration": 63260,
    "start_time": "2025-02-26T17:36:30.238Z"
   },
   {
    "duration": 5,
    "start_time": "2025-02-26T17:37:33.500Z"
   },
   {
    "duration": 109,
    "start_time": "2025-02-26T17:38:41.162Z"
   },
   {
    "duration": 92,
    "start_time": "2025-02-26T17:38:44.775Z"
   },
   {
    "duration": 74,
    "start_time": "2025-02-26T17:39:05.622Z"
   },
   {
    "duration": 7,
    "start_time": "2025-02-26T17:39:08.741Z"
   },
   {
    "duration": 7,
    "start_time": "2025-02-26T17:39:13.899Z"
   },
   {
    "duration": 11,
    "start_time": "2025-02-27T07:12:33.374Z"
   },
   {
    "duration": 5791,
    "start_time": "2025-02-27T07:12:34.577Z"
   },
   {
    "duration": 2357,
    "start_time": "2025-02-27T07:13:43.479Z"
   },
   {
    "duration": 961,
    "start_time": "2025-02-27T07:13:45.838Z"
   },
   {
    "duration": 33,
    "start_time": "2025-02-27T07:13:58.882Z"
   },
   {
    "duration": 4,
    "start_time": "2025-02-27T07:14:02.341Z"
   },
   {
    "duration": 2225,
    "start_time": "2025-02-27T07:15:18.149Z"
   },
   {
    "duration": 2180,
    "start_time": "2025-02-27T07:15:44.732Z"
   },
   {
    "duration": 542,
    "start_time": "2025-02-27T07:19:06.739Z"
   },
   {
    "duration": 153,
    "start_time": "2025-02-27T07:20:47.605Z"
   },
   {
    "duration": 127046,
    "start_time": "2025-02-27T07:21:11.415Z"
   },
   {
    "duration": 6,
    "start_time": "2025-02-27T07:23:24.207Z"
   },
   {
    "duration": 896,
    "start_time": "2025-02-27T07:23:27.779Z"
   },
   {
    "duration": 6643,
    "start_time": "2025-02-27T07:23:41.496Z"
   },
   {
    "duration": 32,
    "start_time": "2025-02-27T07:23:58.214Z"
   },
   {
    "duration": 114569,
    "start_time": "2025-02-27T07:24:12.793Z"
   },
   {
    "duration": 874,
    "start_time": "2025-02-27T07:26:21.485Z"
   },
   {
    "duration": 30,
    "start_time": "2025-02-27T07:26:24.259Z"
   },
   {
    "duration": 144,
    "start_time": "2025-02-27T07:26:25.797Z"
   },
   {
    "duration": 4,
    "start_time": "2025-02-27T07:26:40.371Z"
   },
   {
    "duration": 4,
    "start_time": "2025-02-27T07:28:23.184Z"
   },
   {
    "duration": 2280,
    "start_time": "2025-02-27T07:28:24.288Z"
   },
   {
    "duration": 164,
    "start_time": "2025-02-27T07:31:04.062Z"
   },
   {
    "duration": 14,
    "start_time": "2025-02-27T07:32:28.566Z"
   },
   {
    "duration": 8,
    "start_time": "2025-02-27T07:34:37.652Z"
   },
   {
    "duration": 4,
    "start_time": "2025-02-27T07:34:45.238Z"
   },
   {
    "duration": 33,
    "start_time": "2025-02-27T07:35:16.091Z"
   },
   {
    "duration": 47,
    "start_time": "2025-02-27T07:35:25.150Z"
   },
   {
    "duration": 29,
    "start_time": "2025-02-27T07:36:59.404Z"
   },
   {
    "duration": 2303,
    "start_time": "2025-02-27T07:37:06.290Z"
   },
   {
    "duration": 1404,
    "start_time": "2025-02-27T07:37:18.169Z"
   },
   {
    "duration": 12,
    "start_time": "2025-02-27T07:38:46.861Z"
   },
   {
    "duration": 5365,
    "start_time": "2025-02-27T07:39:08.737Z"
   },
   {
    "duration": 3,
    "start_time": "2025-02-27T07:39:14.104Z"
   },
   {
    "duration": 5,
    "start_time": "2025-02-27T07:39:14.109Z"
   },
   {
    "duration": 953,
    "start_time": "2025-02-27T07:39:14.115Z"
   },
   {
    "duration": 47,
    "start_time": "2025-02-27T07:39:15.126Z"
   },
   {
    "duration": 155,
    "start_time": "2025-02-27T07:39:16.530Z"
   },
   {
    "duration": 4,
    "start_time": "2025-02-27T07:39:18.886Z"
   },
   {
    "duration": 3,
    "start_time": "2025-02-27T07:39:20.203Z"
   },
   {
    "duration": 2262,
    "start_time": "2025-02-27T07:39:21.382Z"
   },
   {
    "duration": 2368,
    "start_time": "2025-02-27T07:39:23.646Z"
   },
   {
    "duration": 16,
    "start_time": "2025-02-27T07:39:33.023Z"
   },
   {
    "duration": 3,
    "start_time": "2025-02-27T07:40:32.949Z"
   },
   {
    "duration": 5,
    "start_time": "2025-02-27T07:40:34.869Z"
   },
   {
    "duration": 869,
    "start_time": "2025-02-27T07:40:37.364Z"
   },
   {
    "duration": 39,
    "start_time": "2025-02-27T07:40:39.948Z"
   },
   {
    "duration": 154,
    "start_time": "2025-02-27T07:40:42.079Z"
   },
   {
    "duration": 4,
    "start_time": "2025-02-27T07:40:42.835Z"
   },
   {
    "duration": 4,
    "start_time": "2025-02-27T07:40:43.992Z"
   },
   {
    "duration": 2288,
    "start_time": "2025-02-27T07:40:44.438Z"
   },
   {
    "duration": 2372,
    "start_time": "2025-02-27T07:40:48.386Z"
   },
   {
    "duration": 26,
    "start_time": "2025-02-27T07:40:50.760Z"
   },
   {
    "duration": 48,
    "start_time": "2025-02-27T07:42:06.401Z"
   },
   {
    "duration": 7,
    "start_time": "2025-02-27T07:42:09.858Z"
   },
   {
    "duration": 5118,
    "start_time": "2025-02-27T07:42:10.809Z"
   },
   {
    "duration": 3494,
    "start_time": "2025-02-27T07:42:15.929Z"
   },
   {
    "duration": 931,
    "start_time": "2025-02-27T07:42:19.425Z"
   },
   {
    "duration": 36,
    "start_time": "2025-02-27T07:42:20.358Z"
   },
   {
    "duration": 183,
    "start_time": "2025-02-27T07:42:20.396Z"
   },
   {
    "duration": 9537,
    "start_time": "2025-02-27T07:42:29.973Z"
   },
   {
    "duration": 5,
    "start_time": "2025-02-27T07:42:42.008Z"
   },
   {
    "duration": 955,
    "start_time": "2025-02-27T07:42:43.572Z"
   },
   {
    "duration": 36,
    "start_time": "2025-02-27T07:42:45.537Z"
   },
   {
    "duration": 155,
    "start_time": "2025-02-27T07:42:46.247Z"
   },
   {
    "duration": 4,
    "start_time": "2025-02-27T07:42:46.589Z"
   },
   {
    "duration": 3,
    "start_time": "2025-02-27T07:42:47.223Z"
   },
   {
    "duration": 2262,
    "start_time": "2025-02-27T07:42:47.510Z"
   },
   {
    "duration": 2464,
    "start_time": "2025-02-27T07:42:49.774Z"
   },
   {
    "duration": 35219,
    "start_time": "2025-02-27T07:42:52.240Z"
   },
   {
    "duration": 0,
    "start_time": "2025-02-27T07:43:27.461Z"
   },
   {
    "duration": 34520,
    "start_time": "2025-02-27T07:44:25.143Z"
   },
   {
    "duration": 33139,
    "start_time": "2025-02-27T07:45:15.289Z"
   },
   {
    "duration": 9117,
    "start_time": "2025-02-27T07:47:07.747Z"
   },
   {
    "duration": 34293,
    "start_time": "2025-02-27T07:47:47.989Z"
   },
   {
    "duration": 33729,
    "start_time": "2025-02-27T07:48:54.061Z"
   },
   {
    "duration": 91,
    "start_time": "2025-02-27T07:52:07.668Z"
   },
   {
    "duration": 911,
    "start_time": "2025-02-27T07:52:10.409Z"
   },
   {
    "duration": 4,
    "start_time": "2025-02-27T07:55:16.286Z"
   },
   {
    "duration": 5,
    "start_time": "2025-02-27T07:55:59.079Z"
   },
   {
    "duration": 53,
    "start_time": "2025-02-27T07:56:08.537Z"
   },
   {
    "duration": 29,
    "start_time": "2025-02-27T07:56:51.099Z"
   },
   {
    "duration": 20,
    "start_time": "2025-02-27T07:57:08.205Z"
   },
   {
    "duration": 16,
    "start_time": "2025-02-27T08:00:06.755Z"
   },
   {
    "duration": 13672,
    "start_time": "2025-02-27T08:00:30.977Z"
   },
   {
    "duration": 38,
    "start_time": "2025-02-27T08:00:51.130Z"
   },
   {
    "duration": 9407,
    "start_time": "2025-02-27T08:01:04.248Z"
   },
   {
    "duration": 27,
    "start_time": "2025-02-27T08:01:23.048Z"
   },
   {
    "duration": 16655,
    "start_time": "2025-02-27T08:04:16.083Z"
   },
   {
    "duration": 12831,
    "start_time": "2025-02-27T08:04:38.520Z"
   },
   {
    "duration": 27,
    "start_time": "2025-02-27T08:04:51.353Z"
   },
   {
    "duration": 7711,
    "start_time": "2025-02-27T08:06:11.900Z"
   },
   {
    "duration": 7569,
    "start_time": "2025-02-27T08:06:29.213Z"
   },
   {
    "duration": 2,
    "start_time": "2025-02-27T08:08:45.763Z"
   },
   {
    "duration": 5857,
    "start_time": "2025-02-27T08:08:45.767Z"
   },
   {
    "duration": 2883,
    "start_time": "2025-02-27T08:08:51.625Z"
   },
   {
    "duration": 883,
    "start_time": "2025-02-27T08:08:54.510Z"
   },
   {
    "duration": 31,
    "start_time": "2025-02-27T08:08:55.395Z"
   },
   {
    "duration": 148,
    "start_time": "2025-02-27T08:08:55.428Z"
   },
   {
    "duration": 3,
    "start_time": "2025-02-27T08:08:55.579Z"
   },
   {
    "duration": 5,
    "start_time": "2025-02-27T08:08:55.583Z"
   },
   {
    "duration": 2124,
    "start_time": "2025-02-27T08:08:55.589Z"
   },
   {
    "duration": 2177,
    "start_time": "2025-02-27T08:08:57.715Z"
   },
   {
    "duration": 3,
    "start_time": "2025-02-27T08:08:59.893Z"
   },
   {
    "duration": 75,
    "start_time": "2025-02-27T08:08:59.897Z"
   },
   {
    "duration": 6665,
    "start_time": "2025-02-27T08:08:59.974Z"
   },
   {
    "duration": 6,
    "start_time": "2025-02-27T08:09:06.640Z"
   },
   {
    "duration": 357334,
    "start_time": "2025-02-27T08:09:06.648Z"
   },
   {
    "duration": 157231,
    "start_time": "2025-02-27T08:15:03.984Z"
   },
   {
    "duration": 8,
    "start_time": "2025-02-27T08:17:41.217Z"
   },
   {
    "duration": 8,
    "start_time": "2025-02-27T08:17:52.238Z"
   },
   {
    "duration": 8,
    "start_time": "2025-02-27T08:21:29.164Z"
   },
   {
    "duration": 11386,
    "start_time": "2025-02-27T08:22:26.194Z"
   },
   {
    "duration": 4,
    "start_time": "2025-02-27T08:22:49.674Z"
   },
   {
    "duration": 1487,
    "start_time": "2025-02-27T08:22:52.119Z"
   },
   {
    "duration": 5,
    "start_time": "2025-02-27T08:24:11.143Z"
   },
   {
    "duration": 1038,
    "start_time": "2025-02-27T08:24:13.060Z"
   },
   {
    "duration": 6960,
    "start_time": "2025-02-27T08:24:47.722Z"
   },
   {
    "duration": 5,
    "start_time": "2025-02-27T08:25:00.705Z"
   },
   {
    "duration": 363774,
    "start_time": "2025-02-27T08:25:03.694Z"
   },
   {
    "duration": 124882,
    "start_time": "2025-02-27T08:46:03.728Z"
   },
   {
    "duration": 6,
    "start_time": "2025-02-27T08:52:59.399Z"
   },
   {
    "duration": 55,
    "start_time": "2025-02-27T10:55:50.486Z"
   },
   {
    "duration": 3,
    "start_time": "2025-02-27T10:55:55.785Z"
   },
   {
    "duration": 13065,
    "start_time": "2025-02-27T10:55:57.016Z"
   },
   {
    "duration": 13,
    "start_time": "2025-02-27T10:56:10.084Z"
   },
   {
    "duration": 10062,
    "start_time": "2025-02-27T10:56:58.855Z"
   },
   {
    "duration": 2069,
    "start_time": "2025-02-27T10:57:14.472Z"
   },
   {
    "duration": 2886,
    "start_time": "2025-02-27T10:57:24.674Z"
   },
   {
    "duration": 6,
    "start_time": "2025-02-27T10:58:07.656Z"
   },
   {
    "duration": 210,
    "start_time": "2025-02-27T10:58:30.667Z"
   },
   {
    "duration": 3,
    "start_time": "2025-02-27T10:58:37.592Z"
   },
   {
    "duration": 7,
    "start_time": "2025-02-27T11:03:23.934Z"
   },
   {
    "duration": 8,
    "start_time": "2025-02-27T11:05:32.375Z"
   },
   {
    "duration": 9143,
    "start_time": "2025-02-27T11:05:32.385Z"
   },
   {
    "duration": 4598,
    "start_time": "2025-02-27T11:05:41.530Z"
   },
   {
    "duration": 1087,
    "start_time": "2025-02-27T11:05:46.130Z"
   },
   {
    "duration": 33,
    "start_time": "2025-02-27T11:05:47.219Z"
   },
   {
    "duration": 175,
    "start_time": "2025-02-27T11:05:47.255Z"
   },
   {
    "duration": 4,
    "start_time": "2025-02-27T11:05:47.432Z"
   },
   {
    "duration": 119,
    "start_time": "2025-02-27T11:05:47.438Z"
   },
   {
    "duration": 2636,
    "start_time": "2025-02-27T11:05:47.559Z"
   },
   {
    "duration": 2424,
    "start_time": "2025-02-27T11:05:50.197Z"
   },
   {
    "duration": 2,
    "start_time": "2025-02-27T11:05:52.623Z"
   },
   {
    "duration": 31,
    "start_time": "2025-02-27T11:05:52.627Z"
   },
   {
    "duration": 12471,
    "start_time": "2025-02-27T11:05:52.660Z"
   },
   {
    "duration": 5,
    "start_time": "2025-02-27T11:06:05.133Z"
   },
   {
    "duration": 505431,
    "start_time": "2025-02-27T11:06:05.140Z"
   },
   {
    "duration": 3,
    "start_time": "2025-02-27T11:14:30.573Z"
   },
   {
    "duration": 324610,
    "start_time": "2025-02-27T11:14:30.579Z"
   },
   {
    "duration": 6,
    "start_time": "2025-02-27T11:19:55.191Z"
   },
   {
    "duration": 6,
    "start_time": "2025-02-27T11:21:30.697Z"
   },
   {
    "duration": 547,
    "start_time": "2025-02-27T11:24:09.346Z"
   },
   {
    "duration": 211,
    "start_time": "2025-02-27T11:24:26.062Z"
   },
   {
    "duration": 157,
    "start_time": "2025-02-27T11:25:06.009Z"
   },
   {
    "duration": 139784,
    "start_time": "2025-02-27T11:25:59.912Z"
   },
   {
    "duration": 409234,
    "start_time": "2025-02-27T11:30:29.327Z"
   },
   {
    "duration": 8,
    "start_time": "2025-02-27T11:38:45.930Z"
   }
  ],
  "kernelspec": {
   "display_name": "Python 3 (ipykernel)",
   "language": "python",
   "name": "python3"
  },
  "language_info": {
   "codemirror_mode": {
    "name": "ipython",
    "version": 3
   },
   "file_extension": ".py",
   "mimetype": "text/x-python",
   "name": "python",
   "nbconvert_exporter": "python",
   "pygments_lexer": "ipython3",
   "version": "3.12.3"
  },
  "toc": {
   "base_numbering": 1,
   "nav_menu": {},
   "number_sections": true,
   "sideBar": true,
   "skip_h1_title": true,
   "title_cell": "Содержание",
   "title_sidebar": "Contents",
   "toc_cell": true,
   "toc_position": {
    "height": "calc(100% - 180px)",
    "left": "10px",
    "top": "150px",
    "width": "302px"
   },
   "toc_section_display": true,
   "toc_window_display": true
  }
 },
 "nbformat": 4,
 "nbformat_minor": 4
}
