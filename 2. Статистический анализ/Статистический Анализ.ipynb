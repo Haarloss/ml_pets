{
 "cells": [
  {
   "cell_type": "markdown",
   "id": "a7795969",
   "metadata": {},
   "source": [
    "# **Статистический анализ данных**"
   ]
  },
  {
   "cell_type": "markdown",
   "id": "92f468b8",
   "metadata": {},
   "source": [
    "Вы аналитик популярного сервиса аренды самокатов. Вам передали данные о некоторых пользователях из нескольких городов, а также об их поездках. Проанализируйте данные и проверьте некоторые гипотезы, которые могут помочь бизнесу вырасти.\n",
    "Чтобы совершать поездки по городу, пользователи сервиса GoFast пользуются мобильным приложением. "
   ]
  },
  {
   "cell_type": "markdown",
   "id": "91cdac0e",
   "metadata": {},
   "source": [
    "**Описание данных**\n",
    "В основных данных есть информация о пользователях, их поездках и подписках.\n",
    "1. **Пользователи — users_go.csv**\n",
    "- user_id\tуникальный идентификатор пользователя\n",
    "- name\tимя пользователя\n",
    "- age\tвозраст\n",
    "- city\tгород\n",
    "- subscription_type\tтип подписки (free, ultra)\n",
    "2. **Поездки — rides_go.csv**\n",
    "- user_id\tуникальный идентификатор пользователя\n",
    "- distance\tрасстояние, которое пользователь проехал в текущей сессии (в метрах)\n",
    "- duration\tпродолжительность сессии (в минутах) — время с того момента, как пользователь нажал кнопку «Начать поездку» до момента, как он нажал кнопку «Завершить поездку»\n",
    "- date\tдата совершения поездки\n",
    "3. **Подписки — subscriptions_go.csv**\n",
    "- subscription_type\tтип подписки\n",
    "- minute_price\tстоимость одной минуты поездки по данной подписке\n",
    "- start_ride_price\tстоимость начала поездки\n",
    "- subscription_fee\tстоимость ежемесячного платежа"
   ]
  },
  {
   "cell_type": "code",
   "execution_count": 1,
   "id": "fa63ef3c",
   "metadata": {},
   "outputs": [],
   "source": [
    "import pandas as pd\n",
    "from scipy import stats as st\n",
    "import numpy as np\n",
    "import matplotlib.pyplot as plt\n",
    "from scipy.stats import binom, norm"
   ]
  },
  {
   "cell_type": "markdown",
   "id": "0433b762",
   "metadata": {},
   "source": [
    "### Загрузка данных"
   ]
  },
  {
   "cell_type": "code",
   "execution_count": 2,
   "id": "ac65d432",
   "metadata": {},
   "outputs": [],
   "source": [
    "df_users = pd.read_csv('/datasets/users_go.csv')\n",
    "df_rides = pd.read_csv('/datasets/rides_go.csv')\n",
    "df_subs = pd.read_csv('/datasets/subscriptions_go.csv')"
   ]
  },
  {
   "cell_type": "code",
   "execution_count": 3,
   "id": "09702c34",
   "metadata": {},
   "outputs": [
    {
     "name": "stdout",
     "output_type": "stream",
     "text": [
      "<class 'pandas.core.frame.DataFrame'>\n",
      "RangeIndex: 1565 entries, 0 to 1564\n",
      "Data columns (total 5 columns):\n",
      " #   Column             Non-Null Count  Dtype \n",
      "---  ------             --------------  ----- \n",
      " 0   user_id            1565 non-null   int64 \n",
      " 1   name               1565 non-null   object\n",
      " 2   age                1565 non-null   int64 \n",
      " 3   city               1565 non-null   object\n",
      " 4   subscription_type  1565 non-null   object\n",
      "dtypes: int64(2), object(3)\n",
      "memory usage: 61.3+ KB\n"
     ]
    },
    {
     "data": {
      "text/html": [
       "<div>\n",
       "<style scoped>\n",
       "    .dataframe tbody tr th:only-of-type {\n",
       "        vertical-align: middle;\n",
       "    }\n",
       "\n",
       "    .dataframe tbody tr th {\n",
       "        vertical-align: top;\n",
       "    }\n",
       "\n",
       "    .dataframe thead th {\n",
       "        text-align: right;\n",
       "    }\n",
       "</style>\n",
       "<table border=\"1\" class=\"dataframe\">\n",
       "  <thead>\n",
       "    <tr style=\"text-align: right;\">\n",
       "      <th></th>\n",
       "      <th>user_id</th>\n",
       "      <th>name</th>\n",
       "      <th>age</th>\n",
       "      <th>city</th>\n",
       "      <th>subscription_type</th>\n",
       "    </tr>\n",
       "  </thead>\n",
       "  <tbody>\n",
       "    <tr>\n",
       "      <th>682</th>\n",
       "      <td>683</td>\n",
       "      <td>Лев</td>\n",
       "      <td>27</td>\n",
       "      <td>Сочи</td>\n",
       "      <td>ultra</td>\n",
       "    </tr>\n",
       "    <tr>\n",
       "      <th>222</th>\n",
       "      <td>223</td>\n",
       "      <td>Игорь</td>\n",
       "      <td>25</td>\n",
       "      <td>Тюмень</td>\n",
       "      <td>ultra</td>\n",
       "    </tr>\n",
       "    <tr>\n",
       "      <th>860</th>\n",
       "      <td>861</td>\n",
       "      <td>Мария</td>\n",
       "      <td>27</td>\n",
       "      <td>Краснодар</td>\n",
       "      <td>free</td>\n",
       "    </tr>\n",
       "    <tr>\n",
       "      <th>1187</th>\n",
       "      <td>1188</td>\n",
       "      <td>Захар</td>\n",
       "      <td>22</td>\n",
       "      <td>Омск</td>\n",
       "      <td>free</td>\n",
       "    </tr>\n",
       "    <tr>\n",
       "      <th>1353</th>\n",
       "      <td>1354</td>\n",
       "      <td>Петр</td>\n",
       "      <td>26</td>\n",
       "      <td>Екатеринбург</td>\n",
       "      <td>free</td>\n",
       "    </tr>\n",
       "    <tr>\n",
       "      <th>572</th>\n",
       "      <td>573</td>\n",
       "      <td>Петр</td>\n",
       "      <td>23</td>\n",
       "      <td>Краснодар</td>\n",
       "      <td>ultra</td>\n",
       "    </tr>\n",
       "    <tr>\n",
       "      <th>855</th>\n",
       "      <td>856</td>\n",
       "      <td>Валерия</td>\n",
       "      <td>36</td>\n",
       "      <td>Омск</td>\n",
       "      <td>free</td>\n",
       "    </tr>\n",
       "    <tr>\n",
       "      <th>174</th>\n",
       "      <td>175</td>\n",
       "      <td>Демид</td>\n",
       "      <td>18</td>\n",
       "      <td>Тюмень</td>\n",
       "      <td>ultra</td>\n",
       "    </tr>\n",
       "    <tr>\n",
       "      <th>1279</th>\n",
       "      <td>1280</td>\n",
       "      <td>София</td>\n",
       "      <td>24</td>\n",
       "      <td>Сочи</td>\n",
       "      <td>free</td>\n",
       "    </tr>\n",
       "    <tr>\n",
       "      <th>1513</th>\n",
       "      <td>1514</td>\n",
       "      <td>Ева</td>\n",
       "      <td>25</td>\n",
       "      <td>Тюмень</td>\n",
       "      <td>free</td>\n",
       "    </tr>\n",
       "  </tbody>\n",
       "</table>\n",
       "</div>"
      ],
      "text/plain": [
       "      user_id     name  age          city subscription_type\n",
       "682       683      Лев   27          Сочи             ultra\n",
       "222       223    Игорь   25        Тюмень             ultra\n",
       "860       861    Мария   27     Краснодар              free\n",
       "1187     1188    Захар   22          Омск              free\n",
       "1353     1354     Петр   26  Екатеринбург              free\n",
       "572       573     Петр   23     Краснодар             ultra\n",
       "855       856  Валерия   36          Омск              free\n",
       "174       175    Демид   18        Тюмень             ultra\n",
       "1279     1280    София   24          Сочи              free\n",
       "1513     1514      Ева   25        Тюмень              free"
      ]
     },
     "execution_count": 3,
     "metadata": {},
     "output_type": "execute_result"
    }
   ],
   "source": [
    "df_users.info()\n",
    "df_users.sample(10)"
   ]
  },
  {
   "cell_type": "code",
   "execution_count": 4,
   "id": "0dcc11da",
   "metadata": {},
   "outputs": [
    {
     "name": "stdout",
     "output_type": "stream",
     "text": [
      "<class 'pandas.core.frame.DataFrame'>\n",
      "RangeIndex: 18068 entries, 0 to 18067\n",
      "Data columns (total 4 columns):\n",
      " #   Column    Non-Null Count  Dtype  \n",
      "---  ------    --------------  -----  \n",
      " 0   user_id   18068 non-null  int64  \n",
      " 1   distance  18068 non-null  float64\n",
      " 2   duration  18068 non-null  float64\n",
      " 3   date      18068 non-null  object \n",
      "dtypes: float64(2), int64(1), object(1)\n",
      "memory usage: 564.8+ KB\n"
     ]
    },
    {
     "data": {
      "text/html": [
       "<div>\n",
       "<style scoped>\n",
       "    .dataframe tbody tr th:only-of-type {\n",
       "        vertical-align: middle;\n",
       "    }\n",
       "\n",
       "    .dataframe tbody tr th {\n",
       "        vertical-align: top;\n",
       "    }\n",
       "\n",
       "    .dataframe thead th {\n",
       "        text-align: right;\n",
       "    }\n",
       "</style>\n",
       "<table border=\"1\" class=\"dataframe\">\n",
       "  <thead>\n",
       "    <tr style=\"text-align: right;\">\n",
       "      <th></th>\n",
       "      <th>user_id</th>\n",
       "      <th>distance</th>\n",
       "      <th>duration</th>\n",
       "      <th>date</th>\n",
       "    </tr>\n",
       "  </thead>\n",
       "  <tbody>\n",
       "    <tr>\n",
       "      <th>6213</th>\n",
       "      <td>667</td>\n",
       "      <td>1208.565202</td>\n",
       "      <td>15.816522</td>\n",
       "      <td>2021-05-29</td>\n",
       "    </tr>\n",
       "    <tr>\n",
       "      <th>1110</th>\n",
       "      <td>119</td>\n",
       "      <td>2450.743965</td>\n",
       "      <td>12.446098</td>\n",
       "      <td>2021-04-25</td>\n",
       "    </tr>\n",
       "    <tr>\n",
       "      <th>17341</th>\n",
       "      <td>1485</td>\n",
       "      <td>2457.371160</td>\n",
       "      <td>20.143428</td>\n",
       "      <td>2021-02-08</td>\n",
       "    </tr>\n",
       "    <tr>\n",
       "      <th>906</th>\n",
       "      <td>96</td>\n",
       "      <td>4272.475360</td>\n",
       "      <td>21.079325</td>\n",
       "      <td>2021-12-19</td>\n",
       "    </tr>\n",
       "    <tr>\n",
       "      <th>16762</th>\n",
       "      <td>1440</td>\n",
       "      <td>2791.761971</td>\n",
       "      <td>12.982347</td>\n",
       "      <td>2021-06-01</td>\n",
       "    </tr>\n",
       "    <tr>\n",
       "      <th>1825</th>\n",
       "      <td>197</td>\n",
       "      <td>2776.809719</td>\n",
       "      <td>13.768873</td>\n",
       "      <td>2021-09-06</td>\n",
       "    </tr>\n",
       "    <tr>\n",
       "      <th>5660</th>\n",
       "      <td>604</td>\n",
       "      <td>4251.789334</td>\n",
       "      <td>26.221954</td>\n",
       "      <td>2021-01-12</td>\n",
       "    </tr>\n",
       "    <tr>\n",
       "      <th>73</th>\n",
       "      <td>7</td>\n",
       "      <td>1609.907996</td>\n",
       "      <td>13.330844</td>\n",
       "      <td>2021-04-09</td>\n",
       "    </tr>\n",
       "    <tr>\n",
       "      <th>11736</th>\n",
       "      <td>1083</td>\n",
       "      <td>2748.666553</td>\n",
       "      <td>17.497333</td>\n",
       "      <td>2021-01-10</td>\n",
       "    </tr>\n",
       "    <tr>\n",
       "      <th>3894</th>\n",
       "      <td>419</td>\n",
       "      <td>2924.150529</td>\n",
       "      <td>18.310376</td>\n",
       "      <td>2021-04-30</td>\n",
       "    </tr>\n",
       "  </tbody>\n",
       "</table>\n",
       "</div>"
      ],
      "text/plain": [
       "       user_id     distance   duration        date\n",
       "6213       667  1208.565202  15.816522  2021-05-29\n",
       "1110       119  2450.743965  12.446098  2021-04-25\n",
       "17341     1485  2457.371160  20.143428  2021-02-08\n",
       "906         96  4272.475360  21.079325  2021-12-19\n",
       "16762     1440  2791.761971  12.982347  2021-06-01\n",
       "1825       197  2776.809719  13.768873  2021-09-06\n",
       "5660       604  4251.789334  26.221954  2021-01-12\n",
       "73           7  1609.907996  13.330844  2021-04-09\n",
       "11736     1083  2748.666553  17.497333  2021-01-10\n",
       "3894       419  2924.150529  18.310376  2021-04-30"
      ]
     },
     "execution_count": 4,
     "metadata": {},
     "output_type": "execute_result"
    }
   ],
   "source": [
    "df_rides.info()\n",
    "df_rides.sample(10)"
   ]
  },
  {
   "cell_type": "code",
   "execution_count": 5,
   "id": "31534794",
   "metadata": {},
   "outputs": [
    {
     "name": "stdout",
     "output_type": "stream",
     "text": [
      "<class 'pandas.core.frame.DataFrame'>\n",
      "RangeIndex: 2 entries, 0 to 1\n",
      "Data columns (total 4 columns):\n",
      " #   Column             Non-Null Count  Dtype \n",
      "---  ------             --------------  ----- \n",
      " 0   subscription_type  2 non-null      object\n",
      " 1   minute_price       2 non-null      int64 \n",
      " 2   start_ride_price   2 non-null      int64 \n",
      " 3   subscription_fee   2 non-null      int64 \n",
      "dtypes: int64(3), object(1)\n",
      "memory usage: 192.0+ bytes\n"
     ]
    },
    {
     "data": {
      "text/html": [
       "<div>\n",
       "<style scoped>\n",
       "    .dataframe tbody tr th:only-of-type {\n",
       "        vertical-align: middle;\n",
       "    }\n",
       "\n",
       "    .dataframe tbody tr th {\n",
       "        vertical-align: top;\n",
       "    }\n",
       "\n",
       "    .dataframe thead th {\n",
       "        text-align: right;\n",
       "    }\n",
       "</style>\n",
       "<table border=\"1\" class=\"dataframe\">\n",
       "  <thead>\n",
       "    <tr style=\"text-align: right;\">\n",
       "      <th></th>\n",
       "      <th>subscription_type</th>\n",
       "      <th>minute_price</th>\n",
       "      <th>start_ride_price</th>\n",
       "      <th>subscription_fee</th>\n",
       "    </tr>\n",
       "  </thead>\n",
       "  <tbody>\n",
       "    <tr>\n",
       "      <th>0</th>\n",
       "      <td>free</td>\n",
       "      <td>8</td>\n",
       "      <td>50</td>\n",
       "      <td>0</td>\n",
       "    </tr>\n",
       "    <tr>\n",
       "      <th>1</th>\n",
       "      <td>ultra</td>\n",
       "      <td>6</td>\n",
       "      <td>0</td>\n",
       "      <td>199</td>\n",
       "    </tr>\n",
       "  </tbody>\n",
       "</table>\n",
       "</div>"
      ],
      "text/plain": [
       "  subscription_type  minute_price  start_ride_price  subscription_fee\n",
       "0              free             8                50                 0\n",
       "1             ultra             6                 0               199"
      ]
     },
     "execution_count": 5,
     "metadata": {},
     "output_type": "execute_result"
    }
   ],
   "source": [
    "df_subs.info()\n",
    "df_subs.head()"
   ]
  },
  {
   "cell_type": "markdown",
   "id": "434decda",
   "metadata": {},
   "source": [
    "Предварительно данные выглядят хорошо, пропусков не видно. Очевидная проблема - тип данных в столбце **date** таблицы df_rides должен быть datetime64[ns]. Касательно дублей будем смотреть в разделе предобработки."
   ]
  },
  {
   "cell_type": "markdown",
   "id": "e4695213",
   "metadata": {},
   "source": [
    "### Предобработка данных"
   ]
  },
  {
   "cell_type": "code",
   "execution_count": 33,
   "id": "7895678e",
   "metadata": {},
   "outputs": [
    {
     "name": "stdout",
     "output_type": "stream",
     "text": [
      "           user_id          age\n",
      "count  1534.000000  1534.000000\n",
      "mean    767.500000    24.903520\n",
      "std     442.971971     4.572367\n",
      "min       1.000000    12.000000\n",
      "25%     384.250000    22.000000\n",
      "50%     767.500000    25.000000\n",
      "75%    1150.750000    28.000000\n",
      "max    1534.000000    43.000000 \n",
      "\n",
      "            user_id      distance      duration         month\n",
      "count  18068.000000  18068.000000  18068.000000  18068.000000\n",
      "mean     842.869936   3070.659976     17.805011      6.486772\n",
      "std      434.734317   1116.831209      6.091051      3.437410\n",
      "min        1.000000      0.855683      0.500000      1.000000\n",
      "25%      487.000000   2543.226360     13.597563      4.000000\n",
      "50%      889.000000   3133.609994     17.678395      6.000000\n",
      "75%     1213.250000   3776.222735     21.724800      9.000000\n",
      "max     1534.000000   7211.007745     40.823963     12.000000 \n",
      "\n",
      "       minute_price  start_ride_price  subscription_fee\n",
      "count      2.000000          2.000000          2.000000\n",
      "mean       7.000000         25.000000         99.500000\n",
      "std        1.414214         35.355339        140.714249\n",
      "min        6.000000          0.000000          0.000000\n",
      "25%        6.500000         12.500000         49.750000\n",
      "50%        7.000000         25.000000         99.500000\n",
      "75%        7.500000         37.500000        149.250000\n",
      "max        8.000000         50.000000        199.000000\n"
     ]
    }
   ],
   "source": [
    "print(df_users.describe(),'\\n')\n",
    "print(df_rides.describe(),'\\n')\n",
    "print(df_subs.describe())"
   ]
  },
  {
   "cell_type": "markdown",
   "id": "4ee4fcb9",
   "metadata": {},
   "source": [
    "На первый взгляд данные выглядят хорошо, средние соответствуют медиане. Оставим их как есть, пропуски отсутствуют, но проверим на дубликаты."
   ]
  },
  {
   "cell_type": "code",
   "execution_count": 7,
   "id": "3a500ed7",
   "metadata": {},
   "outputs": [
    {
     "name": "stdout",
     "output_type": "stream",
     "text": [
      "31\n",
      "0\n",
      "0\n"
     ]
    }
   ],
   "source": [
    "print(df_users.duplicated().sum())\n",
    "print(df_rides.duplicated().sum())\n",
    "print(df_subs.duplicated().sum())"
   ]
  },
  {
   "cell_type": "code",
   "execution_count": 8,
   "id": "7175e2d1",
   "metadata": {},
   "outputs": [
    {
     "data": {
      "text/plain": [
       "0"
      ]
     },
     "execution_count": 8,
     "metadata": {},
     "output_type": "execute_result"
    }
   ],
   "source": [
    "df_users.drop_duplicates(inplace=True)\n",
    "df_users.duplicated().sum()"
   ]
  },
  {
   "cell_type": "markdown",
   "id": "ce116bec",
   "metadata": {},
   "source": [
    "Дубликаты обработали и удалили"
   ]
  },
  {
   "cell_type": "code",
   "execution_count": 9,
   "id": "c1288d3a",
   "metadata": {},
   "outputs": [
    {
     "data": {
      "text/plain": [
       "user_id  name       age  city            subscription_type\n",
       "1        Кира       22   Тюмень          ultra                1\n",
       "1020     Камилла    32   Москва          free                 1\n",
       "1029     Игорь      21   Краснодар       free                 1\n",
       "1028     Вадим      17   Сочи            free                 1\n",
       "1027     Мария      21   Сочи            free                 1\n",
       "                                                             ..\n",
       "510      Роман      24   Ростов-на-Дону  ultra                1\n",
       "509      Ян         29   Москва          ultra                1\n",
       "508      Станислав  15   Тюмень          ultra                1\n",
       "507      Эвелина    27   Пятигорск       ultra                1\n",
       "1534     Альберт    25   Краснодар       free                 1\n",
       "Length: 1534, dtype: int64"
      ]
     },
     "metadata": {},
     "output_type": "display_data"
    },
    {
     "data": {
      "text/plain": [
       "user_id  distance     duration   date      \n",
       "1        748.690645   15.041884  2021-11-22    1\n",
       "1105     3232.037291  19.120140  2021-02-24    1\n",
       "         4661.122393  21.159450  2021-03-25    1\n",
       "         4468.509613  12.937019  2021-11-28    1\n",
       "         4057.692285  21.695055  2021-06-05    1\n",
       "                                              ..\n",
       "645      4040.109793  17.100274  2021-11-26    1\n",
       "646      2635.251399  11.081349  2021-09-06    1\n",
       "         2853.140708  23.699278  2021-01-28    1\n",
       "         3442.376310  22.753041  2021-03-17    1\n",
       "1534     4928.173852  22.560373  2021-09-13    1\n",
       "Length: 18068, dtype: int64"
      ]
     },
     "metadata": {},
     "output_type": "display_data"
    },
    {
     "data": {
      "text/plain": [
       "subscription_type  minute_price  start_ride_price  subscription_fee\n",
       "free               8             50                0                   1\n",
       "ultra              6             0                 199                 1\n",
       "dtype: int64"
      ]
     },
     "metadata": {},
     "output_type": "display_data"
    }
   ],
   "source": [
    "display(df_users.value_counts())\n",
    "display(df_rides.value_counts())\n",
    "display(df_subs.value_counts())"
   ]
  },
  {
   "cell_type": "markdown",
   "id": "ba0f60a0",
   "metadata": {},
   "source": [
    "Данные выглядят корректно."
   ]
  },
  {
   "cell_type": "code",
   "execution_count": 10,
   "id": "0e126baf",
   "metadata": {},
   "outputs": [
    {
     "name": "stdout",
     "output_type": "stream",
     "text": [
      "<class 'pandas.core.frame.DataFrame'>\n",
      "RangeIndex: 18068 entries, 0 to 18067\n",
      "Data columns (total 4 columns):\n",
      " #   Column    Non-Null Count  Dtype         \n",
      "---  ------    --------------  -----         \n",
      " 0   user_id   18068 non-null  int64         \n",
      " 1   distance  18068 non-null  float64       \n",
      " 2   duration  18068 non-null  float64       \n",
      " 3   date      18068 non-null  datetime64[ns]\n",
      "dtypes: datetime64[ns](1), float64(2), int64(1)\n",
      "memory usage: 564.8 KB\n"
     ]
    },
    {
     "data": {
      "text/plain": [
       "2021-12-22    72\n",
       "2021-01-12    70\n",
       "2021-12-27    69\n",
       "2021-08-20    67\n",
       "2021-06-09    67\n",
       "              ..\n",
       "2021-11-07    35\n",
       "2021-07-30    35\n",
       "2021-12-15    34\n",
       "2021-02-02    34\n",
       "2021-07-03    31\n",
       "Name: date, Length: 364, dtype: int64"
      ]
     },
     "execution_count": 10,
     "metadata": {},
     "output_type": "execute_result"
    }
   ],
   "source": [
    "df_rides['date'] = pd.to_datetime(df_rides['date'], format = '%Y-%m-%d')\n",
    "df_rides.info()\n",
    "df_rides['date'].value_counts()"
   ]
  },
  {
   "cell_type": "markdown",
   "id": "cf39f52b",
   "metadata": {},
   "source": [
    "Привели столбец даты к нормальному формату pandas (также можно было применить к столбцу .astype('datetime64[ns]')."
   ]
  },
  {
   "cell_type": "code",
   "execution_count": 11,
   "id": "4fc7259f",
   "metadata": {},
   "outputs": [
    {
     "data": {
      "text/plain": [
       "1     1585\n",
       "5     1560\n",
       "6     1553\n",
       "3     1544\n",
       "7     1529\n",
       "12    1527\n",
       "8     1518\n",
       "9     1517\n",
       "4     1506\n",
       "10    1475\n",
       "11    1418\n",
       "2     1336\n",
       "Name: month, dtype: int64"
      ]
     },
     "execution_count": 11,
     "metadata": {},
     "output_type": "execute_result"
    }
   ],
   "source": [
    "df_rides['month'] = df_rides['date'].dt.month\n",
    "df_rides['month'].value_counts()"
   ]
  },
  {
   "cell_type": "markdown",
   "id": "c2a956ad",
   "metadata": {},
   "source": [
    "Добавили новый столбец в соответствии с заданием."
   ]
  },
  {
   "cell_type": "markdown",
   "id": "6ddd7458",
   "metadata": {},
   "source": [
    "**Вывод: таким образом, мы успешно проверили данные на дубликаты и пропуски, привели тип данных столбца date к правильному, добавили новую колонку и номерами месяцев.**"
   ]
  },
  {
   "cell_type": "markdown",
   "id": "80e57a76",
   "metadata": {},
   "source": [
    "### Исследовательский анализ данных"
   ]
  },
  {
   "cell_type": "markdown",
   "id": "3f71e4e4",
   "metadata": {},
   "source": [
    "#### Частота встречаемости городов"
   ]
  },
  {
   "cell_type": "code",
   "execution_count": 12,
   "id": "38a69c55",
   "metadata": {},
   "outputs": [],
   "source": [
    "def count_plot(row):\n",
    "    return df_users.value_counts(row,ascending=False).plot(kind='bar', color='green', ec='black', grid=True, figsize=(9,6))"
   ]
  },
  {
   "cell_type": "code",
   "execution_count": 13,
   "id": "c6b8391f",
   "metadata": {},
   "outputs": [
    {
     "data": {
      "text/plain": [
       "Пятигорск         219\n",
       "Екатеринбург      204\n",
       "Ростов-на-Дону    198\n",
       "Краснодар         193\n",
       "Сочи              189\n",
       "Омск              183\n",
       "Тюмень            180\n",
       "Москва            168\n",
       "Name: city, dtype: int64"
      ]
     },
     "metadata": {},
     "output_type": "display_data"
    },
    {
     "data": {
      "image/png": "[encoded data removed]",
      "text/plain": [
       "<Figure size 648x432 with 1 Axes>"
      ]
     },
     "metadata": {
      "needs_background": "light"
     },
     "output_type": "display_data"
    }
   ],
   "source": [
    "display(df_users['city'].value_counts())\n",
    "count_plot('city')\n",
    "plt.title('Частота встречаемости городов')\n",
    "plt.xlabel('Название города')\n",
    "plt.ylabel('Количество клиентов')\n",
    "plt.show()"
   ]
  },
  {
   "cell_type": "markdown",
   "id": "8e8d121e",
   "metadata": {},
   "source": [
    "Как видим: чаще всего встречается Пятигорск, реже всего москва, но разница между частотами не велика."
   ]
  },
  {
   "cell_type": "markdown",
   "id": "4314cdc6",
   "metadata": {},
   "source": [
    "#### Соотношение пользователей с подпиской и без подписки"
   ]
  },
  {
   "cell_type": "code",
   "execution_count": 14,
   "id": "fe797f2d",
   "metadata": {
    "scrolled": true
   },
   "outputs": [
    {
     "data": {
      "image/png": "[encoded data removed]",
      "text/plain": [
       "<Figure size 648x432 with 1 Axes>"
      ]
     },
     "metadata": {},
     "output_type": "display_data"
    }
   ],
   "source": [
    "df_users['subscription_type'].value_counts(ascending=False).plot.pie(labels=None, autopct='%1.1f%%', \n",
    "                                                                     startangle=90,legend=True, figsize=(9,6), fontsize=16)\n",
    "plt.axis('equal')\n",
    "plt.title('Соотношение пользователей с подпиской и без подписки')\n",
    "plt.ylabel('')\n",
    "plt.show()"
   ]
  },
  {
   "cell_type": "markdown",
   "id": "ca1d48d0",
   "metadata": {},
   "source": [
    "Итак, из общего количества юзеров пользователей без подписки больше пользователей с подпиской на 8,8%."
   ]
  },
  {
   "cell_type": "markdown",
   "id": "0858ec7c",
   "metadata": {},
   "source": [
    "#### Возраст пользователей"
   ]
  },
  {
   "cell_type": "code",
   "execution_count": 15,
   "id": "b47b533c",
   "metadata": {},
   "outputs": [
    {
     "data": {
      "image/png": "[encoded data removed]",
      "text/plain": [
       "<Figure size 648x432 with 1 Axes>"
      ]
     },
     "metadata": {
      "needs_background": "light"
     },
     "output_type": "display_data"
    },
    {
     "name": "stdout",
     "output_type": "stream",
     "text": [
      "Средний возраст составляет: 24.9\n"
     ]
    }
   ],
   "source": [
    "count_plot('age')\n",
    "plt.title('Возраст клиентов')\n",
    "plt.xlabel('Возраст')\n",
    "plt.ylabel('Количество клиентов')\n",
    "plt.show()\n",
    "print('Средний возраст составляет:', df_users['age'].mean().round(2))"
   ]
  },
  {
   "cell_type": "markdown",
   "id": "c2a8a315",
   "metadata": {},
   "source": [
    "Возраст распределяется нормально, средний возраст пользователей 24,9 лет"
   ]
  },
  {
   "cell_type": "markdown",
   "id": "909a4601",
   "metadata": {},
   "source": [
    "#### Расстояние, которое пользователь преодолел за одну поездку"
   ]
  },
  {
   "cell_type": "code",
   "execution_count": 16,
   "id": "d68d170b",
   "metadata": {},
   "outputs": [
    {
     "data": {
      "image/png": "[encoded data removed]",
      "text/plain": [
       "<Figure size 648x432 with 1 Axes>"
      ]
     },
     "metadata": {
      "needs_background": "light"
     },
     "output_type": "display_data"
    },
    {
     "name": "stdout",
     "output_type": "stream",
     "text": [
      "Среднее расстояние, которое пользователь проезжает за 1 поездку составляет 3.07 км\n"
     ]
    }
   ],
   "source": [
    "biba = df_rides['distance']/1000\n",
    "biba.plot(\n",
    "    title='Расстояние, которое пользователь преодолел за одну поездку в километрах', \n",
    "    kind='hist', bins=30, color='green', ec='black', grid=True, figsize=(9,6)\n",
    ")\n",
    "plt.xlabel('Расстояние')\n",
    "plt.ylabel('Количество поездок')\n",
    "plt.show()\n",
    "print(f'Среднее расстояние, которое пользователь проезжает за 1 поездку составляет {biba.mean().round(2)} км')"
   ]
  },
  {
   "cell_type": "markdown",
   "id": "7696774c",
   "metadata": {},
   "source": [
    "Интересный изгиб левого хвоста распределения. Согласно полученным наблюдениям, можно сказать, что есть некие выбросы на расстоянии от 0 до 1,5 км. Но ситуация такая вполне реальна. Чаще всего пользователи путешествуют на расстояние 3 км."
   ]
  },
  {
   "cell_type": "markdown",
   "id": "c2498652",
   "metadata": {},
   "source": [
    "#### Продолжительность поездок"
   ]
  },
  {
   "cell_type": "code",
   "execution_count": 17,
   "id": "a201d606",
   "metadata": {},
   "outputs": [
    {
     "data": {
      "image/png": "[encoded data removed]",
      "text/plain": [
       "<Figure size 648x432 with 1 Axes>"
      ]
     },
     "metadata": {
      "needs_background": "light"
     },
     "output_type": "display_data"
    },
    {
     "name": "stdout",
     "output_type": "stream",
     "text": [
      "Среднее время одной поездки пользователя 17.8 минут\n"
     ]
    }
   ],
   "source": [
    "boba = df_rides['duration']\n",
    "boba.plot(\n",
    "    title = 'Продолжительность поездок пользователей в минутах',\n",
    "    kind='hist', bins=30, color='green', ec='black', grid=True, figsize=(9,6)\n",
    ")\n",
    "plt.xlabel('Длительность поездки в минутах')\n",
    "plt.ylabel('Количество поездок')\n",
    "plt.show()\n",
    "print(f'Среднее время одной поездки пользователя {boba.mean().round(1)} минут')"
   ]
  },
  {
   "cell_type": "markdown",
   "id": "70bdb190",
   "metadata": {},
   "source": [
    "Получается, что чаще всего пользователи проводят в пути в среднем почти 18 минут. Снова видим небольшой выброс в районе 0, как и в ситуации с расстоянием поездки. Распределение данных нормальное."
   ]
  },
  {
   "cell_type": "markdown",
   "id": "27313d77",
   "metadata": {},
   "source": [
    "**Вывод по разделу:\n",
    "можем сложить портрет нашего \"стандартного\" пользователя - возраст 25 лет, продолжительность поездки около 17-18 минут, дальность 3 км. Касательно подписки и города проживания сложнее, поскольку разброс в данных слишком невелик.**"
   ]
  },
  {
   "cell_type": "markdown",
   "id": "c7a38c5f",
   "metadata": {},
   "source": [
    "### Объединение данных"
   ]
  },
  {
   "cell_type": "markdown",
   "id": "fdef3026",
   "metadata": {},
   "source": [
    "#### Объединим таблицы"
   ]
  },
  {
   "cell_type": "code",
   "execution_count": 18,
   "id": "5dba1462",
   "metadata": {},
   "outputs": [
    {
     "name": "stdout",
     "output_type": "stream",
     "text": [
      "<class 'pandas.core.frame.DataFrame'>\n",
      "Int64Index: 18068 entries, 0 to 18067\n",
      "Data columns (total 9 columns):\n",
      " #   Column             Non-Null Count  Dtype         \n",
      "---  ------             --------------  -----         \n",
      " 0   user_id            18068 non-null  int64         \n",
      " 1   name               18068 non-null  object        \n",
      " 2   age                18068 non-null  int64         \n",
      " 3   city               18068 non-null  object        \n",
      " 4   subscription_type  18068 non-null  object        \n",
      " 5   distance           18068 non-null  float64       \n",
      " 6   duration           18068 non-null  float64       \n",
      " 7   date               18068 non-null  datetime64[ns]\n",
      " 8   month              18068 non-null  int64         \n",
      "dtypes: datetime64[ns](1), float64(2), int64(3), object(3)\n",
      "memory usage: 1.4+ MB\n"
     ]
    }
   ],
   "source": [
    "big_df = pd.merge(df_users, df_rides, left_on='user_id', right_on='user_id')\n",
    "big_df.head(10)\n",
    "big_df.info()"
   ]
  },
  {
   "cell_type": "code",
   "execution_count": 19,
   "id": "84528966",
   "metadata": {},
   "outputs": [
    {
     "name": "stdout",
     "output_type": "stream",
     "text": [
      "<class 'pandas.core.frame.DataFrame'>\n",
      "Int64Index: 18068 entries, 0 to 18067\n",
      "Data columns (total 12 columns):\n",
      " #   Column             Non-Null Count  Dtype         \n",
      "---  ------             --------------  -----         \n",
      " 0   user_id            18068 non-null  int64         \n",
      " 1   name               18068 non-null  object        \n",
      " 2   age                18068 non-null  int64         \n",
      " 3   city               18068 non-null  object        \n",
      " 4   subscription_type  18068 non-null  object        \n",
      " 5   distance           18068 non-null  float64       \n",
      " 6   duration           18068 non-null  float64       \n",
      " 7   date               18068 non-null  datetime64[ns]\n",
      " 8   month              18068 non-null  int64         \n",
      " 9   minute_price       18068 non-null  int64         \n",
      " 10  start_ride_price   18068 non-null  int64         \n",
      " 11  subscription_fee   18068 non-null  int64         \n",
      "dtypes: datetime64[ns](1), float64(2), int64(6), object(3)\n",
      "memory usage: 1.8+ MB\n"
     ]
    }
   ],
   "source": [
    "great_df = pd.merge(big_df, df_subs, left_on='subscription_type', right_on='subscription_type')\n",
    "great_df.head(10)\n",
    "great_df.info()"
   ]
  },
  {
   "cell_type": "markdown",
   "id": "ebc61487",
   "metadata": {},
   "source": [
    "Сначала аккуратно объединили df_users с df_rides, затем полученную таблицу уже объединили с df_subs"
   ]
  },
  {
   "cell_type": "markdown",
   "id": "6816c2b7",
   "metadata": {},
   "source": [
    "#### Создадим ещё два датафрейма из полученной таблицы"
   ]
  },
  {
   "cell_type": "code",
   "execution_count": 20,
   "id": "52cdc612",
   "metadata": {},
   "outputs": [
    {
     "name": "stdout",
     "output_type": "stream",
     "text": [
      "<class 'pandas.core.frame.DataFrame'>\n",
      "Int64Index: 6500 entries, 0 to 6499\n",
      "Data columns (total 12 columns):\n",
      " #   Column             Non-Null Count  Dtype         \n",
      "---  ------             --------------  -----         \n",
      " 0   user_id            6500 non-null   int64         \n",
      " 1   name               6500 non-null   object        \n",
      " 2   age                6500 non-null   int64         \n",
      " 3   city               6500 non-null   object        \n",
      " 4   subscription_type  6500 non-null   object        \n",
      " 5   distance           6500 non-null   float64       \n",
      " 6   duration           6500 non-null   float64       \n",
      " 7   date               6500 non-null   datetime64[ns]\n",
      " 8   month              6500 non-null   int64         \n",
      " 9   minute_price       6500 non-null   int64         \n",
      " 10  start_ride_price   6500 non-null   int64         \n",
      " 11  subscription_fee   6500 non-null   int64         \n",
      "dtypes: datetime64[ns](1), float64(2), int64(6), object(3)\n",
      "memory usage: 660.2+ KB\n",
      "\n",
      "\n",
      "<class 'pandas.core.frame.DataFrame'>\n",
      "Int64Index: 11568 entries, 6500 to 18067\n",
      "Data columns (total 12 columns):\n",
      " #   Column             Non-Null Count  Dtype         \n",
      "---  ------             --------------  -----         \n",
      " 0   user_id            11568 non-null  int64         \n",
      " 1   name               11568 non-null  object        \n",
      " 2   age                11568 non-null  int64         \n",
      " 3   city               11568 non-null  object        \n",
      " 4   subscription_type  11568 non-null  object        \n",
      " 5   distance           11568 non-null  float64       \n",
      " 6   duration           11568 non-null  float64       \n",
      " 7   date               11568 non-null  datetime64[ns]\n",
      " 8   month              11568 non-null  int64         \n",
      " 9   minute_price       11568 non-null  int64         \n",
      " 10  start_ride_price   11568 non-null  int64         \n",
      " 11  subscription_fee   11568 non-null  int64         \n",
      "dtypes: datetime64[ns](1), float64(2), int64(6), object(3)\n",
      "memory usage: 1.1+ MB\n"
     ]
    }
   ],
   "source": [
    "subs = great_df[great_df['subscription_type'] == 'ultra']\n",
    "unsubs = great_df[great_df['subscription_type'] == 'free']\n",
    "subs.info()\n",
    "print('\\n')\n",
    "unsubs.info()"
   ]
  },
  {
   "cell_type": "markdown",
   "id": "3568dc8c",
   "metadata": {},
   "source": [
    "Разделили фрэйм на пользователей с подпиской и без."
   ]
  },
  {
   "cell_type": "markdown",
   "id": "d6a616ed",
   "metadata": {},
   "source": [
    "#### Визуализируем информацию о расстоянии и времени поездок для пользователей обеих категорий"
   ]
  },
  {
   "cell_type": "code",
   "execution_count": 21,
   "id": "736ed296",
   "metadata": {},
   "outputs": [
    {
     "data": {
      "text/html": [
       "<div>\n",
       "<style scoped>\n",
       "    .dataframe tbody tr th:only-of-type {\n",
       "        vertical-align: middle;\n",
       "    }\n",
       "\n",
       "    .dataframe tbody tr th {\n",
       "        vertical-align: top;\n",
       "    }\n",
       "\n",
       "    .dataframe thead th {\n",
       "        text-align: right;\n",
       "    }\n",
       "</style>\n",
       "<table border=\"1\" class=\"dataframe\">\n",
       "  <thead>\n",
       "    <tr style=\"text-align: right;\">\n",
       "      <th></th>\n",
       "      <th>subs_distance</th>\n",
       "      <th>subs_duration</th>\n",
       "    </tr>\n",
       "    <tr>\n",
       "      <th>user_id</th>\n",
       "      <th></th>\n",
       "      <th></th>\n",
       "    </tr>\n",
       "  </thead>\n",
       "  <tbody>\n",
       "    <tr>\n",
       "      <th>1</th>\n",
       "      <td>2.84</td>\n",
       "      <td>17.05</td>\n",
       "    </tr>\n",
       "    <tr>\n",
       "      <th>2</th>\n",
       "      <td>3.09</td>\n",
       "      <td>17.97</td>\n",
       "    </tr>\n",
       "    <tr>\n",
       "      <th>3</th>\n",
       "      <td>3.08</td>\n",
       "      <td>19.43</td>\n",
       "    </tr>\n",
       "    <tr>\n",
       "      <th>4</th>\n",
       "      <td>3.20</td>\n",
       "      <td>20.61</td>\n",
       "    </tr>\n",
       "    <tr>\n",
       "      <th>5</th>\n",
       "      <td>3.23</td>\n",
       "      <td>15.82</td>\n",
       "    </tr>\n",
       "    <tr>\n",
       "      <th>6</th>\n",
       "      <td>3.41</td>\n",
       "      <td>20.33</td>\n",
       "    </tr>\n",
       "    <tr>\n",
       "      <th>7</th>\n",
       "      <td>3.04</td>\n",
       "      <td>16.15</td>\n",
       "    </tr>\n",
       "    <tr>\n",
       "      <th>8</th>\n",
       "      <td>3.15</td>\n",
       "      <td>18.14</td>\n",
       "    </tr>\n",
       "    <tr>\n",
       "      <th>9</th>\n",
       "      <td>2.97</td>\n",
       "      <td>16.22</td>\n",
       "    </tr>\n",
       "    <tr>\n",
       "      <th>10</th>\n",
       "      <td>2.95</td>\n",
       "      <td>17.19</td>\n",
       "    </tr>\n",
       "  </tbody>\n",
       "</table>\n",
       "</div>"
      ],
      "text/plain": [
       "         subs_distance  subs_duration\n",
       "user_id                              \n",
       "1                 2.84          17.05\n",
       "2                 3.09          17.97\n",
       "3                 3.08          19.43\n",
       "4                 3.20          20.61\n",
       "5                 3.23          15.82\n",
       "6                 3.41          20.33\n",
       "7                 3.04          16.15\n",
       "8                 3.15          18.14\n",
       "9                 2.97          16.22\n",
       "10                2.95          17.19"
      ]
     },
     "metadata": {},
     "output_type": "display_data"
    },
    {
     "data": {
      "text/html": [
       "<div>\n",
       "<style scoped>\n",
       "    .dataframe tbody tr th:only-of-type {\n",
       "        vertical-align: middle;\n",
       "    }\n",
       "\n",
       "    .dataframe tbody tr th {\n",
       "        vertical-align: top;\n",
       "    }\n",
       "\n",
       "    .dataframe thead th {\n",
       "        text-align: right;\n",
       "    }\n",
       "</style>\n",
       "<table border=\"1\" class=\"dataframe\">\n",
       "  <thead>\n",
       "    <tr style=\"text-align: right;\">\n",
       "      <th></th>\n",
       "      <th>unsubs_distance</th>\n",
       "      <th>unsubs_duration</th>\n",
       "    </tr>\n",
       "    <tr>\n",
       "      <th>user_id</th>\n",
       "      <th></th>\n",
       "      <th></th>\n",
       "    </tr>\n",
       "  </thead>\n",
       "  <tbody>\n",
       "    <tr>\n",
       "      <th>700</th>\n",
       "      <td>2.90</td>\n",
       "      <td>15.18</td>\n",
       "    </tr>\n",
       "    <tr>\n",
       "      <th>701</th>\n",
       "      <td>3.11</td>\n",
       "      <td>14.49</td>\n",
       "    </tr>\n",
       "    <tr>\n",
       "      <th>702</th>\n",
       "      <td>3.21</td>\n",
       "      <td>17.85</td>\n",
       "    </tr>\n",
       "    <tr>\n",
       "      <th>703</th>\n",
       "      <td>2.48</td>\n",
       "      <td>15.46</td>\n",
       "    </tr>\n",
       "    <tr>\n",
       "      <th>704</th>\n",
       "      <td>3.15</td>\n",
       "      <td>16.66</td>\n",
       "    </tr>\n",
       "    <tr>\n",
       "      <th>705</th>\n",
       "      <td>3.33</td>\n",
       "      <td>17.49</td>\n",
       "    </tr>\n",
       "    <tr>\n",
       "      <th>706</th>\n",
       "      <td>3.13</td>\n",
       "      <td>17.83</td>\n",
       "    </tr>\n",
       "    <tr>\n",
       "      <th>707</th>\n",
       "      <td>2.76</td>\n",
       "      <td>18.25</td>\n",
       "    </tr>\n",
       "    <tr>\n",
       "      <th>708</th>\n",
       "      <td>3.15</td>\n",
       "      <td>18.25</td>\n",
       "    </tr>\n",
       "    <tr>\n",
       "      <th>709</th>\n",
       "      <td>2.83</td>\n",
       "      <td>17.07</td>\n",
       "    </tr>\n",
       "  </tbody>\n",
       "</table>\n",
       "</div>"
      ],
      "text/plain": [
       "         unsubs_distance  unsubs_duration\n",
       "user_id                                  \n",
       "700                 2.90            15.18\n",
       "701                 3.11            14.49\n",
       "702                 3.21            17.85\n",
       "703                 2.48            15.46\n",
       "704                 3.15            16.66\n",
       "705                 3.33            17.49\n",
       "706                 3.13            17.83\n",
       "707                 2.76            18.25\n",
       "708                 3.15            18.25\n",
       "709                 2.83            17.07"
      ]
     },
     "metadata": {},
     "output_type": "display_data"
    }
   ],
   "source": [
    "a = subs.pivot_table(index='user_id', values=('distance', 'duration'), aggfunc=('mean'))\n",
    "a.columns = ['subs_distance','subs_duration']\n",
    "a['subs_distance'] = (a['subs_distance']/1000).round(2)\n",
    "a['subs_duration'] = a['subs_duration'].round(2)\n",
    "b= unsubs.pivot_table(index='user_id', values=('distance', 'duration'), aggfunc=('mean'))\n",
    "b.columns = ['unsubs_distance','unsubs_duration']\n",
    "b['unsubs_distance'] = (b['unsubs_distance']/1000).round(2)\n",
    "b['unsubs_duration'] = b['unsubs_duration'].round(2)\n",
    "display(a.head(10))\n",
    "display(b.head(10))"
   ]
  },
  {
   "cell_type": "markdown",
   "id": "66ea1478",
   "metadata": {},
   "source": [
    "**Делаем 2 сводные таблицы для исследуемых показателей расстояния и времени поездки.**"
   ]
  },
  {
   "cell_type": "code",
   "execution_count": 22,
   "id": "61a4307b",
   "metadata": {},
   "outputs": [
    {
     "data": {
      "image/png": "[encoded data removed]",
      "text/plain": [
       "<Figure size 648x432 with 1 Axes>"
      ]
     },
     "metadata": {
      "needs_background": "light"
     },
     "output_type": "display_data"
    },
    {
     "data": {
      "image/png": "[encoded data removed]",
      "text/plain": [
       "<Figure size 648x432 with 1 Axes>"
      ]
     },
     "metadata": {
      "needs_background": "light"
     },
     "output_type": "display_data"
    },
    {
     "name": "stdout",
     "output_type": "stream",
     "text": [
      "Количество пользователей с подпиской 699.\n",
      "Среднее дальность одной поездки пользователя с подпиской 3.1 км.\n",
      "Средняя длительность одной поездки пользователя с подпиской 18.6 мин.\n"
     ]
    }
   ],
   "source": [
    "a.plot(title='Дальность поездки пользователей с подпиской', y='subs_distance', \n",
    "       kind='hist', bins=30, grid=True, color='orange', ec='black',figsize=(9,6))\n",
    "plt.xlabel('Расстояние')\n",
    "plt.ylabel('Количество поездок')\n",
    "a.plot(title='Длительность поездки пользователей с подпиской', y='subs_duration', \n",
    "       kind='hist', bins=30, grid=True, color='pink', ec='black',figsize=(9,6))\n",
    "plt.xlabel('Время в минутах')\n",
    "plt.ylabel('Количество поездок')\n",
    "plt.show()\n",
    "print(f'Количество пользователей с подпиской {len(a[\"subs_distance\"])}.')\n",
    "print(f'Среднее дальность одной поездки пользователя с подпиской {a[\"subs_distance\"].mean().round(1)} км.')\n",
    "print(f'Средняя длительность одной поездки пользователя с подпиской {a[\"subs_duration\"].mean().round(1)} мин.')"
   ]
  },
  {
   "cell_type": "markdown",
   "id": "06f5067d",
   "metadata": {},
   "source": []
  },
  {
   "cell_type": "code",
   "execution_count": 23,
   "id": "f20d20ff",
   "metadata": {},
   "outputs": [
    {
     "data": {
      "image/png": "[encoded data removed]",
      "text/plain": [
       "<Figure size 648x432 with 1 Axes>"
      ]
     },
     "metadata": {
      "needs_background": "light"
     },
     "output_type": "display_data"
    },
    {
     "data": {
      "image/png": "[encoded data removed]",
      "text/plain": [
       "<Figure size 648x432 with 1 Axes>"
      ]
     },
     "metadata": {
      "needs_background": "light"
     },
     "output_type": "display_data"
    },
    {
     "name": "stdout",
     "output_type": "stream",
     "text": [
      "Количество пользователей без подписки 835.\n",
      "Среднее дальность одной поездки пользователя без подписки 3.0 км.\n",
      "Средняя длительность одной поездки пользователя без подписки 17.4 мин.\n"
     ]
    }
   ],
   "source": [
    "b.plot(title='Дальность поездки пользователей без подписки', y='unsubs_distance', \n",
    "       kind='hist', bins=30, grid=True, color='orange', ec='black',figsize=(9,6))\n",
    "plt.xlabel('Расстояние')\n",
    "plt.ylabel('Количество поездок')\n",
    "b.plot(title='Длительность поездки пользователей без подписки', y='unsubs_duration', \n",
    "       kind='hist', bins=30, grid=True, color='pink', ec='black',figsize=(9,6))\n",
    "plt.xlabel('Время в минутах')\n",
    "plt.ylabel('Количество поездок')\n",
    "plt.show()\n",
    "print(f'Количество пользователей без подписки {len(b[\"unsubs_distance\"])}.')\n",
    "print(f'Среднее дальность одной поездки пользователя без подписки {b[\"unsubs_distance\"].mean().round(1)} км.')\n",
    "print(f'Средняя длительность одной поездки пользователя без подписки {b[\"unsubs_duration\"].mean().round(1)} мин.')"
   ]
  },
  {
   "cell_type": "code",
   "execution_count": 24,
   "id": "3ed34b04",
   "metadata": {},
   "outputs": [
    {
     "data": {
      "image/png": "[encoded data removed]",
      "text/plain": [
       "<Figure size 1080x576 with 1 Axes>"
      ]
     },
     "metadata": {
      "needs_background": "light"
     },
     "output_type": "display_data"
    }
   ],
   "source": [
    "plt.subplots(figsize=(15, 8))\n",
    "plt.hist(subs['duration'], 30, alpha=0.5, label='Free', color='green')\n",
    "plt.hist(unsubs['duration'], 30, alpha=0.2, label='Ultra', color='orange')\n",
    "plt.title('Длительность поездки пользователей')\n",
    "plt.xlabel('Длительность в минутах')\n",
    "plt.ylabel('Количество поездок')\n",
    "plt.legend()\n",
    "plt.show()\n"
   ]
  },
  {
   "cell_type": "markdown",
   "id": "9d5ca70d",
   "metadata": {},
   "source": [
    "Видим, что пользователи с подпиской проводят больше времени в поездке, подтверждаем, что больше всего отмен поездок или быстрых поездок тоже у подписчиков."
   ]
  },
  {
   "cell_type": "code",
   "execution_count": 25,
   "id": "a0b0d074",
   "metadata": {},
   "outputs": [
    {
     "data": {
      "image/png": "[encoded data removed]",
      "text/plain": [
       "<Figure size 1080x576 with 1 Axes>"
      ]
     },
     "metadata": {
      "needs_background": "light"
     },
     "output_type": "display_data"
    }
   ],
   "source": [
    "plt.subplots(figsize=(15, 8))\n",
    "plt.hist(subs['distance'], 30, alpha=0.5, label='Free', color='green')\n",
    "plt.hist(unsubs['distance'], 30, alpha=0.2, label='Ultra', color='orange')\n",
    "plt.title('Дальность поездки пользователей')\n",
    "plt.xlabel('Дальность в километрах')\n",
    "plt.ylabel('Количество поездок')\n",
    "plt.legend()\n",
    "plt.show()\n"
   ]
  },
  {
   "cell_type": "markdown",
   "id": "98fa840d",
   "metadata": {},
   "source": [
    "По дальности поездок ситуация почти одинаковая, а на короткие дистанции снова больше всего у подписчиков. \n",
    "*P.S. Я не стал все равно обрабатывать эти аномалии, поскольку их не много и такая ситуация вероятна. Позволяет проанализировать у какой категории аномалии доминируют.*"
   ]
  },
  {
   "cell_type": "markdown",
   "id": "cb886882",
   "metadata": {},
   "source": [
    "**Вывод: Объединили таблицы и создали новые, необходимые для дальнейшей оценки показателей. Из графиков таблиц пользователей с подпиской и без подписки мы видим, что пользователи с подпиской проезжают в среднем дальше (3.1 > 3км.) и дольше (18.6 > 17.4 мин.), чем пользователи без нее.**"
   ]
  },
  {
   "cell_type": "markdown",
   "id": "bc63f3ff",
   "metadata": {},
   "source": [
    "### Подсчёт выручки"
   ]
  },
  {
   "cell_type": "markdown",
   "id": "710b094e",
   "metadata": {},
   "source": [
    "#### и  5.2 Создадим датафрейм с агрегированными данными о поездках на основе датафрейма с объединёнными данными из шага 4: найдем суммарное расстояние, количество поездок и суммарное время для каждого пользователя за каждый месяц."
   ]
  },
  {
   "cell_type": "code",
   "execution_count": 26,
   "id": "9502d628",
   "metadata": {},
   "outputs": [
    {
     "data": {
      "text/html": [
       "<div>\n",
       "<style scoped>\n",
       "    .dataframe tbody tr th:only-of-type {\n",
       "        vertical-align: middle;\n",
       "    }\n",
       "\n",
       "    .dataframe tbody tr th {\n",
       "        vertical-align: top;\n",
       "    }\n",
       "\n",
       "    .dataframe thead th {\n",
       "        text-align: right;\n",
       "    }\n",
       "</style>\n",
       "<table border=\"1\" class=\"dataframe\">\n",
       "  <thead>\n",
       "    <tr style=\"text-align: right;\">\n",
       "      <th></th>\n",
       "      <th>user_id</th>\n",
       "      <th>month</th>\n",
       "      <th>name</th>\n",
       "      <th>subscription_type</th>\n",
       "      <th>subscription_fee</th>\n",
       "      <th>distance</th>\n",
       "      <th>duration</th>\n",
       "      <th>count_rides</th>\n",
       "      <th>net_value</th>\n",
       "      <th>net_worth</th>\n",
       "    </tr>\n",
       "  </thead>\n",
       "  <tbody>\n",
       "    <tr>\n",
       "      <th>0</th>\n",
       "      <td>1</td>\n",
       "      <td>1</td>\n",
       "      <td>Кира</td>\n",
       "      <td>ultra</td>\n",
       "      <td>199</td>\n",
       "      <td>7027.511294</td>\n",
       "      <td>42.0</td>\n",
       "      <td>2</td>\n",
       "      <td>252.0</td>\n",
       "      <td>451.0</td>\n",
       "    </tr>\n",
       "    <tr>\n",
       "      <th>4450</th>\n",
       "      <td>686</td>\n",
       "      <td>1</td>\n",
       "      <td>Айдар</td>\n",
       "      <td>ultra</td>\n",
       "      <td>199</td>\n",
       "      <td>9891.825690</td>\n",
       "      <td>53.0</td>\n",
       "      <td>3</td>\n",
       "      <td>318.0</td>\n",
       "      <td>517.0</td>\n",
       "    </tr>\n",
       "    <tr>\n",
       "      <th>4444</th>\n",
       "      <td>685</td>\n",
       "      <td>1</td>\n",
       "      <td>Даниил</td>\n",
       "      <td>ultra</td>\n",
       "      <td>199</td>\n",
       "      <td>4837.670420</td>\n",
       "      <td>47.0</td>\n",
       "      <td>2</td>\n",
       "      <td>282.0</td>\n",
       "      <td>481.0</td>\n",
       "    </tr>\n",
       "    <tr>\n",
       "      <th>4429</th>\n",
       "      <td>682</td>\n",
       "      <td>1</td>\n",
       "      <td>Евгения</td>\n",
       "      <td>ultra</td>\n",
       "      <td>199</td>\n",
       "      <td>2929.820795</td>\n",
       "      <td>25.0</td>\n",
       "      <td>1</td>\n",
       "      <td>150.0</td>\n",
       "      <td>349.0</td>\n",
       "    </tr>\n",
       "    <tr>\n",
       "      <th>4414</th>\n",
       "      <td>680</td>\n",
       "      <td>1</td>\n",
       "      <td>Тимофей</td>\n",
       "      <td>ultra</td>\n",
       "      <td>199</td>\n",
       "      <td>3316.977004</td>\n",
       "      <td>18.0</td>\n",
       "      <td>1</td>\n",
       "      <td>108.0</td>\n",
       "      <td>307.0</td>\n",
       "    </tr>\n",
       "    <tr>\n",
       "      <th>4409</th>\n",
       "      <td>679</td>\n",
       "      <td>1</td>\n",
       "      <td>Дамир</td>\n",
       "      <td>ultra</td>\n",
       "      <td>199</td>\n",
       "      <td>6407.866143</td>\n",
       "      <td>38.0</td>\n",
       "      <td>2</td>\n",
       "      <td>228.0</td>\n",
       "      <td>427.0</td>\n",
       "    </tr>\n",
       "    <tr>\n",
       "      <th>4388</th>\n",
       "      <td>675</td>\n",
       "      <td>1</td>\n",
       "      <td>Макар</td>\n",
       "      <td>ultra</td>\n",
       "      <td>199</td>\n",
       "      <td>3907.983157</td>\n",
       "      <td>21.0</td>\n",
       "      <td>1</td>\n",
       "      <td>126.0</td>\n",
       "      <td>325.0</td>\n",
       "    </tr>\n",
       "    <tr>\n",
       "      <th>4381</th>\n",
       "      <td>674</td>\n",
       "      <td>1</td>\n",
       "      <td>Эмиль</td>\n",
       "      <td>ultra</td>\n",
       "      <td>199</td>\n",
       "      <td>2952.626152</td>\n",
       "      <td>11.0</td>\n",
       "      <td>1</td>\n",
       "      <td>66.0</td>\n",
       "      <td>265.0</td>\n",
       "    </tr>\n",
       "    <tr>\n",
       "      <th>4375</th>\n",
       "      <td>673</td>\n",
       "      <td>1</td>\n",
       "      <td>Иван</td>\n",
       "      <td>ultra</td>\n",
       "      <td>199</td>\n",
       "      <td>3371.773487</td>\n",
       "      <td>24.0</td>\n",
       "      <td>1</td>\n",
       "      <td>144.0</td>\n",
       "      <td>343.0</td>\n",
       "    </tr>\n",
       "    <tr>\n",
       "      <th>4358</th>\n",
       "      <td>671</td>\n",
       "      <td>1</td>\n",
       "      <td>Софья</td>\n",
       "      <td>ultra</td>\n",
       "      <td>199</td>\n",
       "      <td>3649.397977</td>\n",
       "      <td>12.0</td>\n",
       "      <td>1</td>\n",
       "      <td>72.0</td>\n",
       "      <td>271.0</td>\n",
       "    </tr>\n",
       "  </tbody>\n",
       "</table>\n",
       "</div>"
      ],
      "text/plain": [
       "      user_id  month     name subscription_type  subscription_fee  \\\n",
       "0           1      1     Кира             ultra               199   \n",
       "4450      686      1    Айдар             ultra               199   \n",
       "4444      685      1   Даниил             ultra               199   \n",
       "4429      682      1  Евгения             ultra               199   \n",
       "4414      680      1  Тимофей             ultra               199   \n",
       "4409      679      1    Дамир             ultra               199   \n",
       "4388      675      1    Макар             ultra               199   \n",
       "4381      674      1    Эмиль             ultra               199   \n",
       "4375      673      1     Иван             ultra               199   \n",
       "4358      671      1    Софья             ultra               199   \n",
       "\n",
       "         distance  duration  count_rides  net_value  net_worth  \n",
       "0     7027.511294      42.0            2      252.0      451.0  \n",
       "4450  9891.825690      53.0            3      318.0      517.0  \n",
       "4444  4837.670420      47.0            2      282.0      481.0  \n",
       "4429  2929.820795      25.0            1      150.0      349.0  \n",
       "4414  3316.977004      18.0            1      108.0      307.0  \n",
       "4409  6407.866143      38.0            2      228.0      427.0  \n",
       "4388  3907.983157      21.0            1      126.0      325.0  \n",
       "4381  2952.626152      11.0            1       66.0      265.0  \n",
       "4375  3371.773487      24.0            1      144.0      343.0  \n",
       "4358  3649.397977      12.0            1       72.0      271.0  "
      ]
     },
     "metadata": {},
     "output_type": "display_data"
    }
   ],
   "source": [
    "networth_great_df = great_df.copy()\n",
    "networth_great_df['duration'] = np.ceil(networth_great_df['duration'])\n",
    "networth_great_df['count_rides'] = networth_great_df['user_id']\n",
    "\n",
    "#посчитали стоимость поездки для каждого пользователя\n",
    "networth_great_df['net_value'] = networth_great_df[\n",
    "    'start_ride_price'] + networth_great_df['minute_price'] * networth_great_df[\n",
    "    'duration']\n",
    "\n",
    "networth_great_df = networth_great_df.groupby(\n",
    "    ['user_id','month','name','subscription_type', 'subscription_fee'],as_index=False\n",
    "    ).agg({'distance':'sum', 'duration':'sum', 'count_rides':'count', 'net_value':'sum'}\n",
    "     ).sort_values(by='month', ascending=True)\n",
    "\n",
    "#теперь посчитали помесячную с учетом подписки\n",
    "networth_great_df['net_worth'] = networth_great_df['net_value'] + networth_great_df['subscription_fee'] \n",
    "\n",
    "display(networth_great_df.head(10))"
   ]
  },
  {
   "cell_type": "markdown",
   "id": "be7f6473",
   "metadata": {},
   "source": [
    "**Заключение по разделу: Я решил объединить сразу 2 задания: \n",
    "В этот же датафрейм добавил столбец с помесячной выручкой (net_worth), которую принёс каждый пользователь. Для этого обратился к информации об условиях оплаты для подписчиков и тех, у кого нет подписки. Продолжительность каждой поездки в каждой строке исходного датафрейма для подсчёта стоимости округляется до следующего целого числа.**\n",
    "\n",
    "*P.S. Возможно, решение получилось громоздкое, но результат довольно аккуратный, что мне и нравится.*"
   ]
  },
  {
   "cell_type": "markdown",
   "id": "73084177",
   "metadata": {},
   "source": [
    "### Проверка гипотез"
   ]
  },
  {
   "cell_type": "markdown",
   "id": "8e44b0a7",
   "metadata": {},
   "source": [
    "#### Важно понять, тратят ли пользователи с подпиской больше времени на поездки? Если да, то пользователи с подпиской могут быть «выгоднее» для компании. Проверим гипотезу. Используем исходные данные о продолжительности каждой сессии — отдельно для подписчиков и тех, у кого нет подписки."
   ]
  },
  {
   "cell_type": "markdown",
   "id": "fcbf84a5",
   "metadata": {},
   "source": [
    "Формулируем гипотезы:\n",
    "\n",
    "- Нулевая гипотеза (H0): Среднее время поездок пользователей с подпиской не больше, чем у пользователей без подписки.\n",
    "- Альтернативная гипотеза (H1): Среднее время поездок пользователей с подпиской больше, чем у пользователей без подписки.\n",
    "\n",
    "В данном случае мы сравниваем среднюю продолжительность поездок двух независимых групп: пользователей с подпиской и без подписки."
   ]
  },
  {
   "cell_type": "code",
   "execution_count": 27,
   "id": "c788854b",
   "metadata": {},
   "outputs": [
    {
     "name": "stdout",
     "output_type": "stream",
     "text": [
      "t-statistic: 12.241203729044017, one-sided p_value: 1.2804098316645618e-34\n",
      "Отвергаем нулевую гипотезу. Получается пользователи с подпиской тратят больше времени на поездки.\n"
     ]
    }
   ],
   "source": [
    "alpha = 0.05\n",
    "\n",
    "t_stat, p_value = st.ttest_ind(subs['duration'], unsubs['duration'], alternative='greater', equal_var=True)\n",
    "\n",
    "print(f't-statistic: {t_stat}, one-sided p_value: {p_value}')\n",
    "\n",
    "if p_value < alpha:\n",
    "    print('Отвергаем нулевую гипотезу. Получается пользователи с подпиской тратят больше времени на поездки.')\n",
    "else:\n",
    "    print('Не можем отвергнуть нулевую гипотезу: нет доказательств, что пользователи с подпиской тратят больше времени.')"
   ]
  },
  {
   "cell_type": "markdown",
   "id": "c8c017a3",
   "metadata": {},
   "source": [
    "Согласно проведенному тесту: пользователи с подпиской тратят больше времени на поездку, чем пользователи без нее. Пользователи с подпиской могут быть \"выгоднее\" для компании."
   ]
  },
  {
   "cell_type": "markdown",
   "id": "48453180",
   "metadata": {},
   "source": [
    "#### Расстояние одной поездки в 3130 метров — оптимальное с точки зрения износа самоката. Можно ли сказать, что среднее расстояние, которое проезжают пользователи с подпиской за одну поездку, не превышает 3130 метров? Проверим гипотезу и сделаем выводы."
   ]
  },
  {
   "cell_type": "markdown",
   "id": "788049da",
   "metadata": {},
   "source": [
    "Гипотезы:\n",
    "- Нулевая гипотеза (H0): Среднее расстояние, которое проезжают пользователи с подпиской, равно или меньше 3130 метров.\n",
    "- Альтернативная гипотеза (H1): Среднее расстояние, которое проезжают пользователи с подпиской, больше 3130 метров.\n",
    "\n",
    "Выборка одна, проводим тест one-sample t-test"
   ]
  },
  {
   "cell_type": "code",
   "execution_count": 28,
   "id": "80dc1491",
   "metadata": {},
   "outputs": [
    {
     "name": "stdout",
     "output_type": "stream",
     "text": [
      "t-statistic: -1.402123166869486, one-sided p-value: 0.9195368847849785\n",
      "Нулевую гипотезу нельзя отвергнуть: Среднее расстояние, которое проезжают пользователи, равно или меньше 3130 метров.\n"
     ]
    }
   ],
   "source": [
    "alpha = 0.05\n",
    "value = 3130\n",
    "\n",
    "t_stat, p_value = st.ttest_1samp(subs['distance'], value, alternative='greater')\n",
    "    \n",
    "print(f't-statistic: {t_stat}, one-sided p-value: {p_value}')\n",
    "\n",
    "if p_value < alpha:\n",
    "     print('Отвергаем нулевую гипотезу. Получается среднее расстояние, которое проезжают пользователи, больше 3130 метров')\n",
    "else:\n",
    "    print('Нулевую гипотезу нельзя отвергнуть: Среднее расстояние, которое проезжают пользователи, равно или меньше 3130 метров.')"
   ]
  },
  {
   "cell_type": "markdown",
   "id": "06de8411",
   "metadata": {},
   "source": [
    "Таким образом, получаем, что среднее расстояние, которое проезжают пользователи, равно или меньше 3130 метров, что подтверждает нулевую гипотезу. Получается, что износ самоката соответствует норме."
   ]
  },
  {
   "cell_type": "markdown",
   "id": "bf88d2c0",
   "metadata": {},
   "source": [
    "#### Проверим гипотезу о том, будет ли помесячная выручка от пользователей с подпиской по месяцам выше, чем выручка от пользователей без подписки."
   ]
  },
  {
   "cell_type": "markdown",
   "id": "3bb2580d",
   "metadata": {},
   "source": [
    "Гипотезы:\n",
    "- Нулевая гипотеза (H0): Средняя помесячная выручка от пользователей с подпиской не больше, чем от пользователей без подписки.\n",
    "- Альтернативная гипотеза (H1): Средняя помесячная выручка от пользователей с подпиской больше, чем от пользователей без подписки.\n",
    "\n",
    "Выполним t-тест для независимых выборок."
   ]
  },
  {
   "cell_type": "code",
   "execution_count": 29,
   "id": "3798361d",
   "metadata": {},
   "outputs": [
    {
     "name": "stdout",
     "output_type": "stream",
     "text": [
      "t-statistic: 11.64246602360774, one-sided p-value: 1.8850394384715216e-31\n",
      "Отвергаем нулевую гипотезу: Средняя помесячная выручка от пользователей с подпиской больше, чем от пользователей без подписки.\n"
     ]
    }
   ],
   "source": [
    "networth_great_subs = networth_great_df[networth_great_df['subscription_type'] == 'ultra']\n",
    "networth_great_unsubs = networth_great_df[networth_great_df['subscription_type'] == 'free']\n",
    "\n",
    "alpha = 0.05\n",
    "\n",
    "t_stat, p_value = st.ttest_ind(networth_great_subs['net_worth'], networth_great_unsubs['net_worth'], alternative= 'greater', equal_var=True)\n",
    "\n",
    "\n",
    "print(f't-statistic: {t_stat}, one-sided p-value: {p_value}')\n",
    "\n",
    "if p_value < alpha:\n",
    "     print('Отвергаем нулевую гипотезу: Средняя помесячная выручка от пользователей с подпиской больше, чем от пользователей без подписки.')\n",
    "else:\n",
    "    print('Нулевую гипотезу нельзя отвергнуть: Средняя помесячная выручка от пользователей с подпиской не больше, чем от пользователей без подписки.')"
   ]
  },
  {
   "cell_type": "markdown",
   "id": "79a77c19",
   "metadata": {},
   "source": [
    "Отвергаем нулевую гипотезу. Получается, что средняя помесячная выручка от пользователей с подпиской больше, чем от пользователей без подписки."
   ]
  },
  {
   "cell_type": "markdown",
   "id": "afbde051",
   "metadata": {},
   "source": [
    "#### Представьте такую ситуацию: техническая команда сервиса обновила серверы, с которыми взаимодействует мобильное приложение. Она надеется, что из-за этого количество обращений в техподдержку значимо снизилось. Некоторый файл содержит для каждого пользователя данные о количестве обращений до обновления и после него. Какой тест вам понадобился бы для проверки этой гипотезы?"
   ]
  },
  {
   "cell_type": "markdown",
   "id": "0f5b954f",
   "metadata": {},
   "source": [
    "Формулировка гипотез:\n",
    "- Нулевая гипотеза (H0): Среднее количество обращений не изменилось или стало больше после обновления серверов.\n",
    "- Альтернативная гипотеза (H1): Среднее количество обращений снизилось после обновления серверов.\n",
    "\n",
    "Почему парный t-тест (ttest_rel):\n",
    "- Зависимые выборки: данные представляют собой парные наблюдения для одного и того же пользователя до и после обновления.\n",
    "- Мы проверяем гипотезу об уменьшении обращений, что указывает на необходимость проведения одностороннего теста."
   ]
  },
  {
   "cell_type": "markdown",
   "id": "7a4d22ab",
   "metadata": {},
   "source": [
    "### Распределения"
   ]
  },
  {
   "cell_type": "markdown",
   "id": "b93313d7",
   "metadata": {},
   "source": [
    "#### Отделу маркетинга поставили задачу: нужно провести акцию с раздачей промокодов на один бесплатный месяц подписки, в рамках которой как минимум 100 существующих клиентов должны продлить эту подписку. То есть по завершении периода действия подписки пользователь может либо отказаться от неё, либо продлить, совершив соответствующий платёж. Эта акция уже проводилась ранее и по итогу выяснилось, что после бесплатного пробного периода подписку продлевают 10 % пользователей. Выясните, какое минимальное количество промокодов нужно разослать, чтобы вероятность не выполнить план была примерно 5 %. Подберите параметры распределения, описывающего эту ситуацию, постройте график распределения и сформулируйте ответ на вопрос о количестве промокодов."
   ]
  },
  {
   "cell_type": "code",
   "execution_count": 30,
   "id": "cee78ec8",
   "metadata": {},
   "outputs": [
    {
     "name": "stdout",
     "output_type": "stream",
     "text": [
      "Минимальное количество промокодов: 1161\n"
     ]
    },
    {
     "name": "stderr",
     "output_type": "stream",
     "text": [
      "/opt/conda/lib/python3.9/site-packages/scipy/stats/_discrete_distns.py:78: RuntimeWarning: divide by zero encountered in _binom_pdf\n",
      "  return _boost._binom_pdf(x, n, p)\n"
     ]
    },
    {
     "data": {
      "image/png": "[encoded data removed]",
      "text/plain": [
       "<Figure size 720x432 with 1 Axes>"
      ]
     },
     "metadata": {
      "needs_background": "light"
     },
     "output_type": "display_data"
    }
   ],
   "source": [
    "p = 0.1 \n",
    "k = 100  \n",
    "alpha = 0.05\n",
    "\n",
    "def find_min_promocodes(p, k, alpha):\n",
    "    n = k \n",
    "    while True:\n",
    "        \n",
    "        #if n <= 0 or p <= 0 or p > 1:\n",
    "           #raise ValueError(\"Некорректные значения параметров: n или p\") (костыль, когда вылезает ошибка при делении на ноль)\n",
    "            \n",
    "        # Вероятность того, что продлений будет меньше, чем k\n",
    "        prob = binom.cdf(k - 1, n, p)\n",
    "        if prob <= alpha:\n",
    "            return n\n",
    "        n += 1\n",
    "\n",
    "#Находим минимальное количество промокодов\n",
    "min_promocodes = find_min_promocodes(p, k, alpha)\n",
    "print(f'Минимальное количество промокодов: {min_promocodes}')\n",
    "\n",
    "# Построение графика распределения вероятностей\n",
    "x = np.arange(0, min_promocodes + 1)\n",
    "pmf = binom.pmf(x, min_promocodes, p)\n",
    "\n",
    "plt.figure(figsize=(10, 6))\n",
    "plt.bar(x, pmf, color='blue', ec='green')\n",
    "plt.axvline(k, color='red', linestyle='--', label=f'Необходимое количество продлений: {k}')\n",
    "plt.title(f'Распределение вероятности для {min_promocodes} промокодов\\nВероятность продления = {p}')\n",
    "plt.xlabel('Количество продленных подписок')\n",
    "plt.ylabel('Плотность вероятности')\n",
    "plt.legend()\n",
    "plt.grid(True)\n",
    "plt.show()"
   ]
  },
  {
   "cell_type": "markdown",
   "id": "8193a928",
   "metadata": {},
   "source": [
    "Согласно оценке полученного распределения мы видим, что для достижения цели с вероятностью не менее 95%, нужно разослать как минимум 1161 промокод."
   ]
  },
  {
   "cell_type": "markdown",
   "id": "fe992a3a",
   "metadata": {},
   "source": [
    "#### Отдел маркетинга рассылает клиентам push-уведомления в мобильном приложении. Клиенты могут открыть его или не открывать. Известно, что уведомления открывают около 40 % получивших клиентов. Отдел планирует разослать 1 млн уведомлений. С помощью аппроксимации постройте примерный график распределения и оцените вероятность того, что уведомление откроют не более 399,5 тыс. пользователей."
   ]
  },
  {
   "cell_type": "code",
   "execution_count": 31,
   "id": "45b08f83",
   "metadata": {},
   "outputs": [],
   "source": [
    "from math import sqrt"
   ]
  },
  {
   "cell_type": "code",
   "execution_count": 32,
   "id": "a8fb6326",
   "metadata": {},
   "outputs": [
    {
     "name": "stdout",
     "output_type": "stream",
     "text": [
      "Вероятность того, что откроют не более 399,5 тыс. уведомлений: 0.1537\n"
     ]
    },
    {
     "data": {
      "image/png": "[encoded data removed]",
      "text/plain": [
       "<Figure size 720x432 with 1 Axes>"
      ]
     },
     "metadata": {
      "needs_background": "light"
     },
     "output_type": "display_data"
    }
   ],
   "source": [
    "n = 1000000  \n",
    "p = 0.4 \n",
    "k = 399500 \n",
    "\n",
    "mu = n * p  # среднее\n",
    "sigma = np.sqrt(n * p * (1 - p)) \n",
    "\n",
    "prob = norm.cdf(k, mu, sigma)\n",
    "print(f'Вероятность того, что откроют не более 399,5 тыс. уведомлений: {prob:.4f}')\n",
    "\n",
    "# Построение графика нормального распределения\n",
    "x = np.linspace(mu - 4 * sigma, mu + 4 * sigma, 1000)\n",
    "y = norm.pdf(x, mu, sigma)\n",
    "\n",
    "plt.figure(figsize=(10, 6))\n",
    "plt.plot(x, y, label='Нормальное распределение', color='skyblue')\n",
    "plt.axvline(k, color='red', linestyle='--', label=f'399,5 тыс. открытий')\n",
    "plt.title('Аппроксимация биномиального распределения нормальным\\nРассылка push-уведомлений')\n",
    "plt.xlabel('Количество пользователей, открывших уведомление')\n",
    "plt.ylabel('Плотность вероятности')\n",
    "plt.legend()\n",
    "plt.grid(True)\n",
    "plt.show()"
   ]
  },
  {
   "cell_type": "markdown",
   "id": "c19d1998",
   "metadata": {},
   "source": [
    "Согласно исследованию, вероятность того, что уведомление откроют не более 399,5 тысяч пользователей, составляет примерно 15,37%."
   ]
  },
  {
   "cell_type": "markdown",
   "id": "009df976",
   "metadata": {},
   "source": [
    "**Вывод по разделу: Я-таки разобрался в построении распределений и аппроксимации биноминального нормальным. Узнал необходимые результаты и построилграфики.**"
   ]
  },
  {
   "cell_type": "markdown",
   "id": "8f35155f",
   "metadata": {},
   "source": [
    "### Итоги проектной работы"
   ]
  },
  {
   "cell_type": "markdown",
   "id": "f8c5b5d9",
   "metadata": {},
   "source": [
    "**Общий вывод:**\n",
    "\n",
    "1. Успешно импортировал таблицу, определил проблемные места, оценил общую ситуацию с данными, импортировал рабочие библиотеки.\n",
    "2. Провел предобработку данных, проверил на дубликаты и пропуски, поработал над типом данных.\n",
    "3. Провел исследовательских анализ параметров и их распределения. Складывается портрет нашего \"стандартного\" пользователя - возраст 25 лет, продолжительность поездки около 17-18 минут, дальность 3 км.\n",
    "4. Объединил таблицы и создал новые, необходимые для дальнейшей оценки показателей. Из первоначального сравнения получил, что с подпиской пользователи проезжали дальше и дольше.\n",
    "5. Создал еще дата фрэйм, где получил столбец выручки каждого пользователя по месяцам.\n",
    "6. Выдвинул гипотезы и проверил их. В результате: 1) Пользователи с подпиской тратят больше времени на поездку, чем пользователи без нее.\n",
    "2) Среднее расстояние, которое проезжают пользователи, равно или меньше 3130 метров, что не превышает норму износа самоката.\n",
    "3) Средняя помесячная выручка от пользователей с подпиской больше, чем от пользователей без подписки.\n",
    "Согласно тестам распределения, при нынешних тарифных планах, можно сказать, что пользователи с подпиской принесут больше выручки. Я бы предложил пересмотреть тарифный план для бесплатных тарифов, чтобы больше людей склонялись к оформлению подписки.\n",
    "7. Касательно заданий по распределениям я определил, что: - Для достижения цели с вероятностью не менее 95%, нужно разослать как минимум 1161 промокод. - Вероятность того, что уведомление откроют не более 399,5 тысяч пользователей, составляет примерно 15,37%."
   ]
  }
 ],
 "metadata": {
  "ExecuteTimeLog": [
   {
    "duration": 871,
    "start_time": "2024-10-09T07:29:12.863Z"
   },
   {
    "duration": 3,
    "start_time": "2024-10-09T07:29:15.142Z"
   },
   {
    "duration": 294,
    "start_time": "2024-10-09T07:30:25.204Z"
   },
   {
    "duration": 13,
    "start_time": "2024-10-09T07:30:46.453Z"
   },
   {
    "duration": 24,
    "start_time": "2024-10-09T07:31:06.747Z"
   },
   {
    "duration": 69,
    "start_time": "2024-10-09T07:31:54.728Z"
   },
   {
    "duration": 24,
    "start_time": "2024-10-09T07:31:55.315Z"
   },
   {
    "duration": 20,
    "start_time": "2024-10-09T07:31:56.452Z"
   },
   {
    "duration": 17,
    "start_time": "2024-10-09T07:31:58.245Z"
   },
   {
    "duration": 20,
    "start_time": "2024-10-09T07:31:59.278Z"
   },
   {
    "duration": 333,
    "start_time": "2024-10-09T07:32:14.535Z"
   },
   {
    "duration": 15,
    "start_time": "2024-10-09T07:32:28.281Z"
   },
   {
    "duration": 14,
    "start_time": "2024-10-09T07:32:42.034Z"
   },
   {
    "duration": 13,
    "start_time": "2024-10-09T07:32:49.537Z"
   },
   {
    "duration": 15,
    "start_time": "2024-10-09T07:33:09.292Z"
   },
   {
    "duration": 3,
    "start_time": "2024-10-09T07:33:35.185Z"
   },
   {
    "duration": 77,
    "start_time": "2024-10-09T07:33:35.768Z"
   },
   {
    "duration": 22,
    "start_time": "2024-10-09T07:33:35.938Z"
   },
   {
    "duration": 25,
    "start_time": "2024-10-09T07:33:36.355Z"
   },
   {
    "duration": 15,
    "start_time": "2024-10-09T07:33:38.415Z"
   },
   {
    "duration": 112,
    "start_time": "2024-10-09T07:42:43.095Z"
   },
   {
    "duration": 9,
    "start_time": "2024-10-09T07:42:49.854Z"
   },
   {
    "duration": 12,
    "start_time": "2024-10-09T07:42:59.999Z"
   },
   {
    "duration": 14,
    "start_time": "2024-10-09T07:43:12.605Z"
   },
   {
    "duration": 15,
    "start_time": "2024-10-09T07:43:56.369Z"
   },
   {
    "duration": 25,
    "start_time": "2024-10-09T07:44:09.529Z"
   },
   {
    "duration": 35,
    "start_time": "2024-10-09T07:44:29.876Z"
   },
   {
    "duration": 30,
    "start_time": "2024-10-09T07:44:57.292Z"
   },
   {
    "duration": 27,
    "start_time": "2024-10-09T07:45:04.874Z"
   },
   {
    "duration": 23,
    "start_time": "2024-10-09T07:45:07.624Z"
   },
   {
    "duration": 35,
    "start_time": "2024-10-09T07:45:24.424Z"
   },
   {
    "duration": 67,
    "start_time": "2024-10-09T07:45:40.995Z"
   },
   {
    "duration": 135,
    "start_time": "2024-10-09T07:45:46.654Z"
   },
   {
    "duration": 44,
    "start_time": "2024-10-09T07:45:56.343Z"
   },
   {
    "duration": 2,
    "start_time": "2024-10-09T07:46:33.872Z"
   },
   {
    "duration": 66,
    "start_time": "2024-10-09T07:46:34.573Z"
   },
   {
    "duration": 18,
    "start_time": "2024-10-09T07:46:34.917Z"
   },
   {
    "duration": 24,
    "start_time": "2024-10-09T07:46:35.960Z"
   },
   {
    "duration": 18,
    "start_time": "2024-10-09T07:46:39.931Z"
   },
   {
    "duration": 37,
    "start_time": "2024-10-09T07:46:45.396Z"
   },
   {
    "duration": 18,
    "start_time": "2024-10-09T07:46:49.082Z"
   },
   {
    "duration": 21,
    "start_time": "2024-10-09T07:49:30.444Z"
   },
   {
    "duration": 68,
    "start_time": "2024-10-09T07:49:35.819Z"
   },
   {
    "duration": 18,
    "start_time": "2024-10-09T07:49:37.076Z"
   },
   {
    "duration": 20,
    "start_time": "2024-10-09T07:49:37.438Z"
   },
   {
    "duration": 16,
    "start_time": "2024-10-09T07:49:37.761Z"
   },
   {
    "duration": 43,
    "start_time": "2024-10-09T07:49:38.575Z"
   },
   {
    "duration": 14,
    "start_time": "2024-10-09T07:49:39.075Z"
   },
   {
    "duration": 10,
    "start_time": "2024-10-09T07:52:26.109Z"
   },
   {
    "duration": 126,
    "start_time": "2024-10-09T07:52:47.671Z"
   },
   {
    "duration": 5,
    "start_time": "2024-10-09T07:55:57.434Z"
   },
   {
    "duration": 7,
    "start_time": "2024-10-09T07:56:09.384Z"
   },
   {
    "duration": 34,
    "start_time": "2024-10-09T07:57:00.887Z"
   },
   {
    "duration": 8,
    "start_time": "2024-10-09T07:57:49.115Z"
   },
   {
    "duration": 7,
    "start_time": "2024-10-09T07:58:00.013Z"
   },
   {
    "duration": 60,
    "start_time": "2024-10-09T10:40:18.078Z"
   },
   {
    "duration": 971,
    "start_time": "2024-10-09T10:40:30.397Z"
   },
   {
    "duration": 294,
    "start_time": "2024-10-09T10:40:31.371Z"
   },
   {
    "duration": 25,
    "start_time": "2024-10-09T10:40:32.320Z"
   },
   {
    "duration": 1038,
    "start_time": "2024-10-09T10:40:35.147Z"
   },
   {
    "duration": 76,
    "start_time": "2024-10-09T10:40:36.187Z"
   },
   {
    "duration": 33,
    "start_time": "2024-10-09T10:40:36.266Z"
   },
   {
    "duration": 39,
    "start_time": "2024-10-09T10:40:36.301Z"
   },
   {
    "duration": 19,
    "start_time": "2024-10-09T10:40:36.343Z"
   },
   {
    "duration": 73,
    "start_time": "2024-10-09T10:40:36.364Z"
   },
   {
    "duration": 49,
    "start_time": "2024-10-09T10:40:36.439Z"
   },
   {
    "duration": 18,
    "start_time": "2024-10-09T10:40:36.491Z"
   },
   {
    "duration": 21,
    "start_time": "2024-10-09T10:40:36.511Z"
   },
   {
    "duration": 135,
    "start_time": "2024-10-09T10:40:36.534Z"
   },
   {
    "duration": 1913,
    "start_time": "2024-10-09T10:40:51.135Z"
   },
   {
    "duration": 4,
    "start_time": "2024-10-09T10:42:01.332Z"
   },
   {
    "duration": 4,
    "start_time": "2024-10-09T10:42:10.547Z"
   },
   {
    "duration": 8,
    "start_time": "2024-10-09T10:42:16.707Z"
   },
   {
    "duration": 3,
    "start_time": "2024-10-09T10:43:11.649Z"
   },
   {
    "duration": 294,
    "start_time": "2024-10-09T10:43:20.975Z"
   },
   {
    "duration": 3,
    "start_time": "2024-10-09T10:43:37.774Z"
   },
   {
    "duration": 297,
    "start_time": "2024-10-09T10:43:38.826Z"
   },
   {
    "duration": 8,
    "start_time": "2024-10-09T10:46:07.937Z"
   },
   {
    "duration": 563,
    "start_time": "2024-10-09T10:46:13.814Z"
   },
   {
    "duration": 4,
    "start_time": "2024-10-09T10:46:45.104Z"
   },
   {
    "duration": 302,
    "start_time": "2024-10-09T10:46:55.508Z"
   },
   {
    "duration": 12,
    "start_time": "2024-10-09T10:47:10.830Z"
   },
   {
    "duration": 5179,
    "start_time": "2024-10-09T10:47:23.678Z"
   },
   {
    "duration": 3,
    "start_time": "2024-10-09T10:47:28.860Z"
   },
   {
    "duration": 286,
    "start_time": "2024-10-09T10:47:39.653Z"
   },
   {
    "duration": 75,
    "start_time": "2024-10-09T10:47:48.998Z"
   },
   {
    "duration": 4,
    "start_time": "2024-10-09T10:47:58.838Z"
   },
   {
    "duration": 521,
    "start_time": "2024-10-09T10:48:00.399Z"
   },
   {
    "duration": 17,
    "start_time": "2024-10-09T10:48:13.184Z"
   },
   {
    "duration": 13,
    "start_time": "2024-10-09T10:48:16.121Z"
   },
   {
    "duration": 3,
    "start_time": "2024-10-09T10:51:14.648Z"
   },
   {
    "duration": 12,
    "start_time": "2024-10-09T10:51:15.724Z"
   },
   {
    "duration": 3,
    "start_time": "2024-10-09T10:51:20.722Z"
   },
   {
    "duration": 13,
    "start_time": "2024-10-09T10:51:21.946Z"
   },
   {
    "duration": 3,
    "start_time": "2024-10-09T10:52:32.234Z"
   },
   {
    "duration": 159,
    "start_time": "2024-10-09T10:52:33.759Z"
   },
   {
    "duration": 9,
    "start_time": "2024-10-09T10:53:08.218Z"
   },
   {
    "duration": 4,
    "start_time": "2024-10-09T10:53:14.969Z"
   },
   {
    "duration": 139,
    "start_time": "2024-10-09T10:53:18.576Z"
   },
   {
    "duration": 3,
    "start_time": "2024-10-09T10:54:00.589Z"
   },
   {
    "duration": 1109,
    "start_time": "2024-10-09T10:54:04.682Z"
   },
   {
    "duration": 125,
    "start_time": "2024-10-09T10:54:05.792Z"
   },
   {
    "duration": 21,
    "start_time": "2024-10-09T10:54:05.919Z"
   },
   {
    "duration": 32,
    "start_time": "2024-10-09T10:54:05.942Z"
   },
   {
    "duration": 21,
    "start_time": "2024-10-09T10:54:05.976Z"
   },
   {
    "duration": 65,
    "start_time": "2024-10-09T10:54:05.999Z"
   },
   {
    "duration": 35,
    "start_time": "2024-10-09T10:54:06.066Z"
   },
   {
    "duration": 20,
    "start_time": "2024-10-09T10:54:06.103Z"
   },
   {
    "duration": 37,
    "start_time": "2024-10-09T10:54:06.125Z"
   },
   {
    "duration": 28,
    "start_time": "2024-10-09T10:54:06.164Z"
   },
   {
    "duration": 200,
    "start_time": "2024-10-09T10:54:06.194Z"
   },
   {
    "duration": 379,
    "start_time": "2024-10-09T10:54:55.192Z"
   },
   {
    "duration": 3,
    "start_time": "2024-10-09T10:55:21.787Z"
   },
   {
    "duration": 307,
    "start_time": "2024-10-09T10:55:22.883Z"
   },
   {
    "duration": 3,
    "start_time": "2024-10-09T10:55:31.102Z"
   },
   {
    "duration": 314,
    "start_time": "2024-10-09T10:55:32.248Z"
   },
   {
    "duration": 11,
    "start_time": "2024-10-09T10:55:43.027Z"
   },
   {
    "duration": 4,
    "start_time": "2024-10-09T10:55:44.343Z"
   },
   {
    "duration": 140,
    "start_time": "2024-10-09T10:55:45.378Z"
   },
   {
    "duration": 132,
    "start_time": "2024-10-09T10:56:28.998Z"
   },
   {
    "duration": 3,
    "start_time": "2024-10-09T10:56:39.985Z"
   },
   {
    "duration": 138,
    "start_time": "2024-10-09T10:56:41.498Z"
   },
   {
    "duration": 3,
    "start_time": "2024-10-09T10:56:45.827Z"
   },
   {
    "duration": 140,
    "start_time": "2024-10-09T10:56:46.944Z"
   },
   {
    "duration": 3,
    "start_time": "2024-10-09T10:57:03.083Z"
   },
   {
    "duration": 136,
    "start_time": "2024-10-09T10:57:04.089Z"
   },
   {
    "duration": 3,
    "start_time": "2024-10-09T10:57:14.847Z"
   },
   {
    "duration": 144,
    "start_time": "2024-10-09T10:57:16.256Z"
   },
   {
    "duration": 3,
    "start_time": "2024-10-09T10:57:27.732Z"
   },
   {
    "duration": 137,
    "start_time": "2024-10-09T10:57:28.945Z"
   },
   {
    "duration": 142,
    "start_time": "2024-10-09T10:57:34.724Z"
   },
   {
    "duration": 3,
    "start_time": "2024-10-09T10:57:36.951Z"
   },
   {
    "duration": 132,
    "start_time": "2024-10-09T10:57:38.139Z"
   },
   {
    "duration": 3,
    "start_time": "2024-10-09T10:57:54.638Z"
   },
   {
    "duration": 208,
    "start_time": "2024-10-09T10:57:55.997Z"
   },
   {
    "duration": 140,
    "start_time": "2024-10-09T10:58:06.748Z"
   },
   {
    "duration": 151,
    "start_time": "2024-10-09T10:59:18.410Z"
   },
   {
    "duration": 9,
    "start_time": "2024-10-09T11:00:56.813Z"
   },
   {
    "duration": 3,
    "start_time": "2024-10-09T11:01:09.109Z"
   },
   {
    "duration": 137,
    "start_time": "2024-10-09T11:01:13.473Z"
   },
   {
    "duration": 8,
    "start_time": "2024-10-09T11:01:16.366Z"
   },
   {
    "duration": 8,
    "start_time": "2024-10-09T11:01:42.544Z"
   },
   {
    "duration": 3,
    "start_time": "2024-10-09T11:02:00.167Z"
   },
   {
    "duration": 147,
    "start_time": "2024-10-09T11:02:05.456Z"
   },
   {
    "duration": 122,
    "start_time": "2024-10-09T11:02:09.836Z"
   },
   {
    "duration": 115,
    "start_time": "2024-10-09T11:02:22.567Z"
   },
   {
    "duration": 132,
    "start_time": "2024-10-09T11:04:36.482Z"
   },
   {
    "duration": 136,
    "start_time": "2024-10-09T11:04:52.432Z"
   },
   {
    "duration": 134,
    "start_time": "2024-10-09T11:05:17.131Z"
   },
   {
    "duration": 124,
    "start_time": "2024-10-09T11:05:34.637Z"
   },
   {
    "duration": 4,
    "start_time": "2024-10-09T11:06:09.253Z"
   },
   {
    "duration": 136,
    "start_time": "2024-10-09T11:06:13.654Z"
   },
   {
    "duration": 204,
    "start_time": "2024-10-09T11:06:48.440Z"
   },
   {
    "duration": 124,
    "start_time": "2024-10-09T11:06:54.654Z"
   },
   {
    "duration": 171,
    "start_time": "2024-10-09T11:07:39.155Z"
   },
   {
    "duration": 120,
    "start_time": "2024-10-09T11:07:47.397Z"
   },
   {
    "duration": 121,
    "start_time": "2024-10-09T11:08:26.161Z"
   },
   {
    "duration": 257,
    "start_time": "2024-10-09T11:10:25.216Z"
   },
   {
    "duration": 3,
    "start_time": "2024-10-09T11:10:50.720Z"
   },
   {
    "duration": 158,
    "start_time": "2024-10-09T11:10:52.149Z"
   },
   {
    "duration": 134,
    "start_time": "2024-10-09T11:10:55.654Z"
   },
   {
    "duration": 262,
    "start_time": "2024-10-09T11:10:58.859Z"
   },
   {
    "duration": 353,
    "start_time": "2024-10-09T11:13:12.434Z"
   },
   {
    "duration": 280,
    "start_time": "2024-10-09T11:13:19.220Z"
   },
   {
    "duration": 264,
    "start_time": "2024-10-09T11:13:46.744Z"
   },
   {
    "duration": 265,
    "start_time": "2024-10-09T11:13:53.570Z"
   },
   {
    "duration": 265,
    "start_time": "2024-10-09T11:14:16.363Z"
   },
   {
    "duration": 330,
    "start_time": "2024-10-09T11:15:12.592Z"
   },
   {
    "duration": 363,
    "start_time": "2024-10-09T11:15:20.807Z"
   },
   {
    "duration": 290,
    "start_time": "2024-10-09T11:15:27.991Z"
   },
   {
    "duration": 299,
    "start_time": "2024-10-09T11:15:31.728Z"
   },
   {
    "duration": 300,
    "start_time": "2024-10-09T11:16:46.810Z"
   },
   {
    "duration": 298,
    "start_time": "2024-10-09T11:16:51.660Z"
   },
   {
    "duration": 263,
    "start_time": "2024-10-09T11:17:11.912Z"
   },
   {
    "duration": 394,
    "start_time": "2024-10-09T11:17:17.242Z"
   },
   {
    "duration": 279,
    "start_time": "2024-10-09T11:18:19.256Z"
   },
   {
    "duration": 292,
    "start_time": "2024-10-09T11:18:28.450Z"
   },
   {
    "duration": 303,
    "start_time": "2024-10-09T11:18:34.260Z"
   },
   {
    "duration": 72,
    "start_time": "2024-10-09T11:21:06.300Z"
   },
   {
    "duration": 3,
    "start_time": "2024-10-09T11:21:34.426Z"
   },
   {
    "duration": 4,
    "start_time": "2024-10-09T11:21:58.129Z"
   },
   {
    "duration": 5,
    "start_time": "2024-10-09T11:22:22.795Z"
   },
   {
    "duration": 4,
    "start_time": "2024-10-09T11:22:59.978Z"
   },
   {
    "duration": 3,
    "start_time": "2024-10-09T11:23:14.337Z"
   },
   {
    "duration": 1085,
    "start_time": "2024-10-09T11:23:54.644Z"
   },
   {
    "duration": 125,
    "start_time": "2024-10-09T11:23:55.731Z"
   },
   {
    "duration": 29,
    "start_time": "2024-10-09T11:23:55.861Z"
   },
   {
    "duration": 44,
    "start_time": "2024-10-09T11:23:55.892Z"
   },
   {
    "duration": 25,
    "start_time": "2024-10-09T11:23:55.937Z"
   },
   {
    "duration": 35,
    "start_time": "2024-10-09T11:23:55.963Z"
   },
   {
    "duration": 30,
    "start_time": "2024-10-09T11:23:55.999Z"
   },
   {
    "duration": 35,
    "start_time": "2024-10-09T11:23:56.031Z"
   },
   {
    "duration": 7,
    "start_time": "2024-10-09T11:23:56.070Z"
   },
   {
    "duration": 4,
    "start_time": "2024-10-09T11:23:56.079Z"
   },
   {
    "duration": 207,
    "start_time": "2024-10-09T11:23:56.085Z"
   },
   {
    "duration": 162,
    "start_time": "2024-10-09T11:23:56.294Z"
   },
   {
    "duration": 293,
    "start_time": "2024-10-09T11:23:56.460Z"
   },
   {
    "duration": 4,
    "start_time": "2024-10-09T11:23:56.757Z"
   },
   {
    "duration": 1035,
    "start_time": "2024-10-09T11:27:26.303Z"
   },
   {
    "duration": 122,
    "start_time": "2024-10-09T11:27:27.340Z"
   },
   {
    "duration": 23,
    "start_time": "2024-10-09T11:27:27.463Z"
   },
   {
    "duration": 74,
    "start_time": "2024-10-09T11:27:27.488Z"
   },
   {
    "duration": 18,
    "start_time": "2024-10-09T11:27:27.565Z"
   },
   {
    "duration": 49,
    "start_time": "2024-10-09T11:27:27.585Z"
   },
   {
    "duration": 49,
    "start_time": "2024-10-09T11:27:27.636Z"
   },
   {
    "duration": 22,
    "start_time": "2024-10-09T11:27:27.687Z"
   },
   {
    "duration": 6,
    "start_time": "2024-10-09T11:27:27.711Z"
   },
   {
    "duration": 13,
    "start_time": "2024-10-09T11:27:27.719Z"
   },
   {
    "duration": 168,
    "start_time": "2024-10-09T11:27:27.756Z"
   },
   {
    "duration": 141,
    "start_time": "2024-10-09T11:27:27.926Z"
   },
   {
    "duration": 270,
    "start_time": "2024-10-09T11:27:28.068Z"
   },
   {
    "duration": 4,
    "start_time": "2024-10-09T11:27:28.341Z"
   },
   {
    "duration": 1337,
    "start_time": "2024-10-09T11:27:28.356Z"
   },
   {
    "duration": 7,
    "start_time": "2024-10-09T11:27:35.574Z"
   },
   {
    "duration": 1045,
    "start_time": "2024-10-09T11:28:00.577Z"
   },
   {
    "duration": 140,
    "start_time": "2024-10-09T11:28:01.624Z"
   },
   {
    "duration": 24,
    "start_time": "2024-10-09T11:28:01.765Z"
   },
   {
    "duration": 26,
    "start_time": "2024-10-09T11:28:01.790Z"
   },
   {
    "duration": 27,
    "start_time": "2024-10-09T11:28:01.818Z"
   },
   {
    "duration": 50,
    "start_time": "2024-10-09T11:28:01.847Z"
   },
   {
    "duration": 108,
    "start_time": "2024-10-09T11:28:01.899Z"
   },
   {
    "duration": 17,
    "start_time": "2024-10-09T11:28:02.009Z"
   },
   {
    "duration": 12,
    "start_time": "2024-10-09T11:28:02.027Z"
   },
   {
    "duration": 39,
    "start_time": "2024-10-09T11:28:02.041Z"
   },
   {
    "duration": 201,
    "start_time": "2024-10-09T11:28:02.082Z"
   },
   {
    "duration": 156,
    "start_time": "2024-10-09T11:28:02.284Z"
   },
   {
    "duration": 286,
    "start_time": "2024-10-09T11:28:02.442Z"
   },
   {
    "duration": 3,
    "start_time": "2024-10-09T11:28:02.731Z"
   },
   {
    "duration": 1048,
    "start_time": "2024-10-09T11:28:53.010Z"
   },
   {
    "duration": 124,
    "start_time": "2024-10-09T11:28:54.060Z"
   },
   {
    "duration": 22,
    "start_time": "2024-10-09T11:28:54.186Z"
   },
   {
    "duration": 30,
    "start_time": "2024-10-09T11:28:54.210Z"
   },
   {
    "duration": 25,
    "start_time": "2024-10-09T11:28:54.242Z"
   },
   {
    "duration": 40,
    "start_time": "2024-10-09T11:28:54.269Z"
   },
   {
    "duration": 48,
    "start_time": "2024-10-09T11:28:54.311Z"
   },
   {
    "duration": 16,
    "start_time": "2024-10-09T11:28:54.361Z"
   },
   {
    "duration": 13,
    "start_time": "2024-10-09T11:28:54.379Z"
   },
   {
    "duration": 4,
    "start_time": "2024-10-09T11:28:54.394Z"
   },
   {
    "duration": 186,
    "start_time": "2024-10-09T11:28:54.400Z"
   },
   {
    "duration": 149,
    "start_time": "2024-10-09T11:28:54.587Z"
   },
   {
    "duration": 269,
    "start_time": "2024-10-09T11:28:54.737Z"
   },
   {
    "duration": 3,
    "start_time": "2024-10-09T11:28:55.008Z"
   },
   {
    "duration": 239,
    "start_time": "2024-10-09T11:28:55.012Z"
   },
   {
    "duration": 95,
    "start_time": "2024-10-09T11:29:14.043Z"
   },
   {
    "duration": 1070,
    "start_time": "2024-10-09T11:29:25.240Z"
   },
   {
    "duration": 100,
    "start_time": "2024-10-09T11:29:26.312Z"
   },
   {
    "duration": 21,
    "start_time": "2024-10-09T11:29:26.414Z"
   },
   {
    "duration": 18,
    "start_time": "2024-10-09T11:29:26.436Z"
   },
   {
    "duration": 14,
    "start_time": "2024-10-09T11:29:26.456Z"
   },
   {
    "duration": 50,
    "start_time": "2024-10-09T11:29:26.472Z"
   },
   {
    "duration": 33,
    "start_time": "2024-10-09T11:29:26.524Z"
   },
   {
    "duration": 13,
    "start_time": "2024-10-09T11:29:26.559Z"
   },
   {
    "duration": 7,
    "start_time": "2024-10-09T11:29:26.574Z"
   },
   {
    "duration": 2,
    "start_time": "2024-10-09T11:29:26.582Z"
   },
   {
    "duration": 185,
    "start_time": "2024-10-09T11:29:26.586Z"
   },
   {
    "duration": 146,
    "start_time": "2024-10-09T11:29:26.772Z"
   },
   {
    "duration": 273,
    "start_time": "2024-10-09T11:29:26.920Z"
   },
   {
    "duration": 3,
    "start_time": "2024-10-09T11:29:27.195Z"
   },
   {
    "duration": 1102,
    "start_time": "2024-10-09T11:30:34.147Z"
   },
   {
    "duration": 128,
    "start_time": "2024-10-09T11:30:35.255Z"
   },
   {
    "duration": 22,
    "start_time": "2024-10-09T11:30:35.384Z"
   },
   {
    "duration": 68,
    "start_time": "2024-10-09T11:30:35.408Z"
   },
   {
    "duration": 83,
    "start_time": "2024-10-09T11:30:35.477Z"
   },
   {
    "duration": 66,
    "start_time": "2024-10-09T11:30:35.562Z"
   },
   {
    "duration": 45,
    "start_time": "2024-10-09T11:30:35.630Z"
   },
   {
    "duration": 15,
    "start_time": "2024-10-09T11:30:35.677Z"
   },
   {
    "duration": 24,
    "start_time": "2024-10-09T11:30:35.694Z"
   },
   {
    "duration": 10,
    "start_time": "2024-10-09T11:30:35.721Z"
   },
   {
    "duration": 209,
    "start_time": "2024-10-09T11:30:35.732Z"
   },
   {
    "duration": 153,
    "start_time": "2024-10-09T11:30:35.942Z"
   },
   {
    "duration": 272,
    "start_time": "2024-10-09T11:30:36.097Z"
   },
   {
    "duration": 4,
    "start_time": "2024-10-09T11:30:36.370Z"
   },
   {
    "duration": 112,
    "start_time": "2024-10-09T11:30:36.376Z"
   },
   {
    "duration": 187,
    "start_time": "2024-10-09T11:32:13.602Z"
   },
   {
    "duration": 3,
    "start_time": "2024-10-09T11:32:44.516Z"
   },
   {
    "duration": 275,
    "start_time": "2024-10-09T11:32:50.718Z"
   },
   {
    "duration": 604,
    "start_time": "2024-10-09T11:32:54.157Z"
   },
   {
    "duration": 187,
    "start_time": "2024-10-09T11:32:56.414Z"
   },
   {
    "duration": 75,
    "start_time": "2024-10-09T11:33:06.179Z"
   },
   {
    "duration": 198,
    "start_time": "2024-10-09T11:33:14.385Z"
   },
   {
    "duration": 231,
    "start_time": "2024-10-09T11:33:21.253Z"
   },
   {
    "duration": 214,
    "start_time": "2024-10-09T11:33:55.681Z"
   },
   {
    "duration": 194,
    "start_time": "2024-10-09T11:35:50.739Z"
   },
   {
    "duration": 216,
    "start_time": "2024-10-09T11:39:06.163Z"
   },
   {
    "duration": 211,
    "start_time": "2024-10-09T11:39:13.710Z"
   },
   {
    "duration": 2,
    "start_time": "2024-10-09T11:40:29.404Z"
   },
   {
    "duration": 61,
    "start_time": "2024-10-09T11:41:11.824Z"
   },
   {
    "duration": 205,
    "start_time": "2024-10-09T11:41:29.879Z"
   },
   {
    "duration": 224,
    "start_time": "2024-10-09T11:41:57.301Z"
   },
   {
    "duration": 68,
    "start_time": "2024-10-09T11:43:56.593Z"
   },
   {
    "duration": 209,
    "start_time": "2024-10-09T11:44:03.398Z"
   },
   {
    "duration": 321,
    "start_time": "2024-10-09T11:44:53.934Z"
   },
   {
    "duration": 222,
    "start_time": "2024-10-09T11:45:24.548Z"
   },
   {
    "duration": 213,
    "start_time": "2024-10-09T11:45:29.218Z"
   },
   {
    "duration": 195,
    "start_time": "2024-10-09T11:45:35.927Z"
   },
   {
    "duration": 195,
    "start_time": "2024-10-09T11:47:01.926Z"
   },
   {
    "duration": 192,
    "start_time": "2024-10-09T11:47:13.644Z"
   },
   {
    "duration": 188,
    "start_time": "2024-10-09T11:47:21.639Z"
   },
   {
    "duration": 206,
    "start_time": "2024-10-09T11:47:30.718Z"
   },
   {
    "duration": 234,
    "start_time": "2024-10-09T11:50:37.048Z"
   },
   {
    "duration": 196,
    "start_time": "2024-10-09T11:50:47.165Z"
   },
   {
    "duration": 225,
    "start_time": "2024-10-09T11:50:49.321Z"
   },
   {
    "duration": 1063,
    "start_time": "2024-10-09T11:50:57.282Z"
   },
   {
    "duration": 126,
    "start_time": "2024-10-09T11:50:58.347Z"
   },
   {
    "duration": 22,
    "start_time": "2024-10-09T11:50:58.476Z"
   },
   {
    "duration": 18,
    "start_time": "2024-10-09T11:50:58.499Z"
   },
   {
    "duration": 29,
    "start_time": "2024-10-09T11:50:58.519Z"
   },
   {
    "duration": 36,
    "start_time": "2024-10-09T11:50:58.550Z"
   },
   {
    "duration": 30,
    "start_time": "2024-10-09T11:50:58.588Z"
   },
   {
    "duration": 35,
    "start_time": "2024-10-09T11:50:58.620Z"
   },
   {
    "duration": 6,
    "start_time": "2024-10-09T11:50:58.658Z"
   },
   {
    "duration": 10,
    "start_time": "2024-10-09T11:50:58.666Z"
   },
   {
    "duration": 180,
    "start_time": "2024-10-09T11:50:58.677Z"
   },
   {
    "duration": 165,
    "start_time": "2024-10-09T11:50:58.858Z"
   },
   {
    "duration": 302,
    "start_time": "2024-10-09T11:50:59.026Z"
   },
   {
    "duration": 220,
    "start_time": "2024-10-09T11:50:59.329Z"
   },
   {
    "duration": 346,
    "start_time": "2024-10-09T11:51:23.279Z"
   },
   {
    "duration": 214,
    "start_time": "2024-10-09T11:51:29.009Z"
   },
   {
    "duration": 324,
    "start_time": "2024-10-09T11:51:32.736Z"
   },
   {
    "duration": 201,
    "start_time": "2024-10-09T11:51:39.067Z"
   },
   {
    "duration": 302,
    "start_time": "2024-10-09T11:52:57.564Z"
   },
   {
    "duration": 274,
    "start_time": "2024-10-09T11:53:06.930Z"
   },
   {
    "duration": 192,
    "start_time": "2024-10-09T11:53:09.233Z"
   },
   {
    "duration": 194,
    "start_time": "2024-10-09T11:53:10.733Z"
   },
   {
    "duration": 205,
    "start_time": "2024-10-09T11:53:17.687Z"
   },
   {
    "duration": 187,
    "start_time": "2024-10-09T11:53:59.894Z"
   },
   {
    "duration": 201,
    "start_time": "2024-10-09T11:55:17.609Z"
   },
   {
    "duration": 201,
    "start_time": "2024-10-09T11:55:44.916Z"
   },
   {
    "duration": 183,
    "start_time": "2024-10-09T11:55:55.897Z"
   },
   {
    "duration": 195,
    "start_time": "2024-10-09T11:56:08.147Z"
   },
   {
    "duration": 195,
    "start_time": "2024-10-09T11:57:15.627Z"
   },
   {
    "duration": 195,
    "start_time": "2024-10-09T11:57:48.452Z"
   },
   {
    "duration": 297,
    "start_time": "2024-10-09T11:57:55.765Z"
   },
   {
    "duration": 194,
    "start_time": "2024-10-09T11:58:04.399Z"
   },
   {
    "duration": 197,
    "start_time": "2024-10-09T11:58:41.839Z"
   },
   {
    "duration": 190,
    "start_time": "2024-10-09T11:59:39.277Z"
   },
   {
    "duration": 208,
    "start_time": "2024-10-09T11:59:59.358Z"
   },
   {
    "duration": 195,
    "start_time": "2024-10-09T12:00:06.243Z"
   },
   {
    "duration": 66,
    "start_time": "2024-10-09T12:01:21.800Z"
   },
   {
    "duration": 129,
    "start_time": "2024-10-09T12:02:45.380Z"
   },
   {
    "duration": 124,
    "start_time": "2024-10-09T12:02:55.488Z"
   },
   {
    "duration": 79,
    "start_time": "2024-10-09T12:03:10.480Z"
   },
   {
    "duration": 65,
    "start_time": "2024-10-09T12:03:15.877Z"
   },
   {
    "duration": 68,
    "start_time": "2024-10-09T12:03:18.714Z"
   },
   {
    "duration": 124,
    "start_time": "2024-10-09T12:03:27.261Z"
   },
   {
    "duration": 991,
    "start_time": "2024-10-09T12:03:49.116Z"
   },
   {
    "duration": 125,
    "start_time": "2024-10-09T12:03:50.109Z"
   },
   {
    "duration": 21,
    "start_time": "2024-10-09T12:03:50.236Z"
   },
   {
    "duration": 19,
    "start_time": "2024-10-09T12:03:50.259Z"
   },
   {
    "duration": 15,
    "start_time": "2024-10-09T12:03:50.280Z"
   },
   {
    "duration": 70,
    "start_time": "2024-10-09T12:03:50.296Z"
   },
   {
    "duration": 39,
    "start_time": "2024-10-09T12:03:50.368Z"
   },
   {
    "duration": 15,
    "start_time": "2024-10-09T12:03:50.409Z"
   },
   {
    "duration": 29,
    "start_time": "2024-10-09T12:03:50.426Z"
   },
   {
    "duration": 3,
    "start_time": "2024-10-09T12:03:50.457Z"
   },
   {
    "duration": 171,
    "start_time": "2024-10-09T12:03:50.461Z"
   },
   {
    "duration": 141,
    "start_time": "2024-10-09T12:03:50.633Z"
   },
   {
    "duration": 272,
    "start_time": "2024-10-09T12:03:50.776Z"
   },
   {
    "duration": 202,
    "start_time": "2024-10-09T12:03:51.054Z"
   },
   {
    "duration": 215,
    "start_time": "2024-10-09T12:03:51.258Z"
   },
   {
    "duration": 103,
    "start_time": "2024-10-09T12:30:33.612Z"
   },
   {
    "duration": 20,
    "start_time": "2024-10-09T12:30:39.963Z"
   },
   {
    "duration": 33,
    "start_time": "2024-10-09T12:30:55.629Z"
   },
   {
    "duration": 12,
    "start_time": "2024-10-09T12:31:38.629Z"
   },
   {
    "duration": 12,
    "start_time": "2024-10-09T12:31:51.872Z"
   },
   {
    "duration": 12,
    "start_time": "2024-10-09T12:32:03.803Z"
   },
   {
    "duration": 32,
    "start_time": "2024-10-09T12:32:08.585Z"
   },
   {
    "duration": 20,
    "start_time": "2024-10-09T12:32:28.563Z"
   },
   {
    "duration": 34,
    "start_time": "2024-10-09T12:32:38.125Z"
   },
   {
    "duration": 25,
    "start_time": "2024-10-09T12:32:42.548Z"
   },
   {
    "duration": 15,
    "start_time": "2024-10-09T12:32:47.382Z"
   },
   {
    "duration": 19,
    "start_time": "2024-10-09T12:32:59.714Z"
   },
   {
    "duration": 31,
    "start_time": "2024-10-09T12:33:19.307Z"
   },
   {
    "duration": 19,
    "start_time": "2024-10-09T12:34:56.044Z"
   },
   {
    "duration": 10,
    "start_time": "2024-10-09T12:35:15.787Z"
   },
   {
    "duration": 21,
    "start_time": "2024-10-09T12:35:18.831Z"
   },
   {
    "duration": 9,
    "start_time": "2024-10-09T12:35:20.500Z"
   },
   {
    "duration": 23,
    "start_time": "2024-10-09T12:35:28.716Z"
   },
   {
    "duration": 21,
    "start_time": "2024-10-09T12:35:40.151Z"
   },
   {
    "duration": 25,
    "start_time": "2024-10-09T12:35:59.246Z"
   },
   {
    "duration": 1015,
    "start_time": "2024-10-09T12:36:29.802Z"
   },
   {
    "duration": 129,
    "start_time": "2024-10-09T12:36:30.819Z"
   },
   {
    "duration": 22,
    "start_time": "2024-10-09T12:36:30.951Z"
   },
   {
    "duration": 30,
    "start_time": "2024-10-09T12:36:30.976Z"
   },
   {
    "duration": 19,
    "start_time": "2024-10-09T12:36:31.008Z"
   },
   {
    "duration": 52,
    "start_time": "2024-10-09T12:36:31.029Z"
   },
   {
    "duration": 31,
    "start_time": "2024-10-09T12:36:31.083Z"
   },
   {
    "duration": 14,
    "start_time": "2024-10-09T12:36:31.116Z"
   },
   {
    "duration": 27,
    "start_time": "2024-10-09T12:36:31.132Z"
   },
   {
    "duration": 3,
    "start_time": "2024-10-09T12:36:31.161Z"
   },
   {
    "duration": 182,
    "start_time": "2024-10-09T12:36:31.166Z"
   },
   {
    "duration": 140,
    "start_time": "2024-10-09T12:36:31.350Z"
   },
   {
    "duration": 260,
    "start_time": "2024-10-09T12:36:31.493Z"
   },
   {
    "duration": 204,
    "start_time": "2024-10-09T12:36:31.756Z"
   },
   {
    "duration": 217,
    "start_time": "2024-10-09T12:36:31.962Z"
   },
   {
    "duration": 20,
    "start_time": "2024-10-09T12:36:32.181Z"
   },
   {
    "duration": 51,
    "start_time": "2024-10-09T12:36:32.203Z"
   },
   {
    "duration": 21,
    "start_time": "2024-10-09T12:36:50.757Z"
   },
   {
    "duration": 3,
    "start_time": "2024-10-09T12:38:10.783Z"
   },
   {
    "duration": 20,
    "start_time": "2024-10-09T12:40:12.831Z"
   },
   {
    "duration": 21,
    "start_time": "2024-10-09T12:40:26.972Z"
   },
   {
    "duration": 92,
    "start_time": "2024-10-09T12:41:03.441Z"
   },
   {
    "duration": 10,
    "start_time": "2024-10-09T12:41:11.793Z"
   },
   {
    "duration": 17,
    "start_time": "2024-10-09T12:41:20.627Z"
   },
   {
    "duration": 18,
    "start_time": "2024-10-09T12:41:25.734Z"
   },
   {
    "duration": 26,
    "start_time": "2024-10-09T12:41:36.424Z"
   },
   {
    "duration": 26,
    "start_time": "2024-10-09T12:47:00.506Z"
   },
   {
    "duration": 17,
    "start_time": "2024-10-09T12:50:11.492Z"
   },
   {
    "duration": 9,
    "start_time": "2024-10-09T12:50:22.476Z"
   },
   {
    "duration": 9,
    "start_time": "2024-10-09T12:51:04.898Z"
   },
   {
    "duration": 15,
    "start_time": "2024-10-09T12:51:08.825Z"
   },
   {
    "duration": 304,
    "start_time": "2024-10-09T12:52:07.894Z"
   },
   {
    "duration": 314,
    "start_time": "2024-10-09T12:52:20.669Z"
   },
   {
    "duration": 300,
    "start_time": "2024-10-09T12:52:56.756Z"
   },
   {
    "duration": 11,
    "start_time": "2024-10-09T12:53:02.578Z"
   },
   {
    "duration": 9,
    "start_time": "2024-10-09T12:53:19.431Z"
   },
   {
    "duration": 17,
    "start_time": "2024-10-09T12:53:21.960Z"
   },
   {
    "duration": 296,
    "start_time": "2024-10-09T12:53:37.215Z"
   },
   {
    "duration": 16,
    "start_time": "2024-10-09T12:53:54.088Z"
   },
   {
    "duration": 15,
    "start_time": "2024-10-09T12:54:16.107Z"
   },
   {
    "duration": 22,
    "start_time": "2024-10-09T12:55:10.901Z"
   },
   {
    "duration": 100,
    "start_time": "2024-10-09T12:55:26.789Z"
   },
   {
    "duration": 20,
    "start_time": "2024-10-09T12:55:35.002Z"
   },
   {
    "duration": 21,
    "start_time": "2024-10-09T12:55:42.669Z"
   },
   {
    "duration": 25,
    "start_time": "2024-10-09T12:56:06.431Z"
   },
   {
    "duration": 20,
    "start_time": "2024-10-09T12:56:11.626Z"
   },
   {
    "duration": 20,
    "start_time": "2024-10-09T12:56:27.281Z"
   },
   {
    "duration": 219,
    "start_time": "2024-10-09T13:00:01.172Z"
   },
   {
    "duration": 186,
    "start_time": "2024-10-09T13:02:07.510Z"
   },
   {
    "duration": 135,
    "start_time": "2024-10-09T13:02:26.601Z"
   },
   {
    "duration": 128,
    "start_time": "2024-10-09T13:02:51.566Z"
   },
   {
    "duration": 257,
    "start_time": "2024-10-09T13:02:56.542Z"
   },
   {
    "duration": 227,
    "start_time": "2024-10-09T13:03:07.741Z"
   },
   {
    "duration": 269,
    "start_time": "2024-10-09T13:03:37.975Z"
   },
   {
    "duration": 219,
    "start_time": "2024-10-09T13:03:41.063Z"
   },
   {
    "duration": 333,
    "start_time": "2024-10-09T13:03:49.731Z"
   },
   {
    "duration": 21,
    "start_time": "2024-10-09T13:05:16.678Z"
   },
   {
    "duration": 21,
    "start_time": "2024-10-09T13:05:29.854Z"
   },
   {
    "duration": 320,
    "start_time": "2024-10-09T13:05:37.012Z"
   },
   {
    "duration": 65,
    "start_time": "2024-10-09T13:06:16.373Z"
   },
   {
    "duration": 1207,
    "start_time": "2024-10-09T13:06:22.396Z"
   },
   {
    "duration": 192,
    "start_time": "2024-10-09T13:06:32.677Z"
   },
   {
    "duration": 219,
    "start_time": "2024-10-09T13:07:08.659Z"
   },
   {
    "duration": 1204,
    "start_time": "2024-10-09T13:07:29.324Z"
   },
   {
    "duration": 11154,
    "start_time": "2024-10-09T13:08:56.943Z"
   },
   {
    "duration": 10514,
    "start_time": "2024-10-09T13:09:59.070Z"
   },
   {
    "duration": 9900,
    "start_time": "2024-10-09T13:11:11.095Z"
   },
   {
    "duration": 345,
    "start_time": "2024-10-09T13:11:47.184Z"
   },
   {
    "duration": 223,
    "start_time": "2024-10-09T13:11:53.039Z"
   },
   {
    "duration": 454,
    "start_time": "2024-10-09T13:12:05.965Z"
   },
   {
    "duration": 459,
    "start_time": "2024-10-09T13:13:01.614Z"
   },
   {
    "duration": 462,
    "start_time": "2024-10-09T13:13:13.136Z"
   },
   {
    "duration": 472,
    "start_time": "2024-10-09T13:13:20.354Z"
   },
   {
    "duration": 400,
    "start_time": "2024-10-09T13:13:52.831Z"
   },
   {
    "duration": 67,
    "start_time": "2024-10-09T13:16:46.496Z"
   },
   {
    "duration": 70,
    "start_time": "2024-10-09T13:17:11.669Z"
   },
   {
    "duration": 68,
    "start_time": "2024-10-09T13:17:17.441Z"
   },
   {
    "duration": 467,
    "start_time": "2024-10-09T13:17:37.109Z"
   },
   {
    "duration": 454,
    "start_time": "2024-10-09T13:18:12.617Z"
   },
   {
    "duration": 466,
    "start_time": "2024-10-09T13:18:21.786Z"
   },
   {
    "duration": 681,
    "start_time": "2024-10-09T13:18:57.737Z"
   },
   {
    "duration": 63,
    "start_time": "2024-10-09T13:20:50.923Z"
   },
   {
    "duration": 523,
    "start_time": "2024-10-09T13:21:02.994Z"
   },
   {
    "duration": 1728,
    "start_time": "2024-10-09T13:21:18.254Z"
   },
   {
    "duration": 406,
    "start_time": "2024-10-09T13:21:22.723Z"
   },
   {
    "duration": 400,
    "start_time": "2024-10-09T13:21:39.274Z"
   },
   {
    "duration": 453,
    "start_time": "2024-10-09T13:33:17.851Z"
   },
   {
    "duration": 416,
    "start_time": "2024-10-09T13:33:20.882Z"
   },
   {
    "duration": 479,
    "start_time": "2024-10-09T13:33:32.017Z"
   },
   {
    "duration": 445,
    "start_time": "2024-10-09T13:33:39.314Z"
   },
   {
    "duration": 398,
    "start_time": "2024-10-09T13:33:55.877Z"
   },
   {
    "duration": 76,
    "start_time": "2024-10-09T13:40:44.909Z"
   },
   {
    "duration": 21,
    "start_time": "2024-10-09T13:46:06.170Z"
   },
   {
    "duration": 90,
    "start_time": "2024-10-09T13:46:47.743Z"
   },
   {
    "duration": 21,
    "start_time": "2024-10-09T13:46:56.645Z"
   },
   {
    "duration": 22,
    "start_time": "2024-10-09T13:47:30.600Z"
   },
   {
    "duration": 25,
    "start_time": "2024-10-09T13:47:53.671Z"
   },
   {
    "duration": 476,
    "start_time": "2024-10-09T13:48:11.359Z"
   },
   {
    "duration": 402,
    "start_time": "2024-10-09T13:48:13.843Z"
   },
   {
    "duration": 13,
    "start_time": "2024-10-09T14:57:53.266Z"
   },
   {
    "duration": 17,
    "start_time": "2024-10-09T14:58:12.895Z"
   },
   {
    "duration": 12,
    "start_time": "2024-10-09T14:58:44.494Z"
   },
   {
    "duration": 12,
    "start_time": "2024-10-09T14:58:55.057Z"
   },
   {
    "duration": 431,
    "start_time": "2024-10-09T14:58:59.443Z"
   },
   {
    "duration": 16,
    "start_time": "2024-10-09T14:59:08.193Z"
   },
   {
    "duration": 18,
    "start_time": "2024-10-09T15:00:02.925Z"
   },
   {
    "duration": 12,
    "start_time": "2024-10-09T15:03:55.057Z"
   },
   {
    "duration": 22,
    "start_time": "2024-10-09T15:06:17.171Z"
   },
   {
    "duration": 20,
    "start_time": "2024-10-09T15:13:23.866Z"
   },
   {
    "duration": 19,
    "start_time": "2024-10-09T15:13:50.345Z"
   },
   {
    "duration": 20,
    "start_time": "2024-10-09T15:16:05.433Z"
   },
   {
    "duration": 23,
    "start_time": "2024-10-09T15:20:49.448Z"
   },
   {
    "duration": 17,
    "start_time": "2024-10-09T15:22:54.670Z"
   },
   {
    "duration": 19,
    "start_time": "2024-10-09T15:23:29.821Z"
   },
   {
    "duration": 20,
    "start_time": "2024-10-09T15:23:55.633Z"
   },
   {
    "duration": 29,
    "start_time": "2024-10-09T15:24:04.302Z"
   },
   {
    "duration": 27,
    "start_time": "2024-10-09T15:24:07.207Z"
   },
   {
    "duration": 26,
    "start_time": "2024-10-09T15:25:12.314Z"
   },
   {
    "duration": 26,
    "start_time": "2024-10-09T15:25:45.992Z"
   },
   {
    "duration": 31,
    "start_time": "2024-10-09T15:30:01.711Z"
   },
   {
    "duration": 46,
    "start_time": "2024-10-09T15:30:08.687Z"
   },
   {
    "duration": 32,
    "start_time": "2024-10-09T15:30:30.271Z"
   },
   {
    "duration": 1154,
    "start_time": "2024-10-09T15:30:43.592Z"
   },
   {
    "duration": 1304,
    "start_time": "2024-10-09T15:31:12.563Z"
   },
   {
    "duration": 1367,
    "start_time": "2024-10-09T15:31:48.544Z"
   },
   {
    "duration": 1242,
    "start_time": "2024-10-09T15:32:28.460Z"
   },
   {
    "duration": 31,
    "start_time": "2024-10-09T15:32:49.879Z"
   },
   {
    "duration": 37,
    "start_time": "2024-10-09T15:33:50.664Z"
   },
   {
    "duration": 36,
    "start_time": "2024-10-09T15:33:58.393Z"
   },
   {
    "duration": 37,
    "start_time": "2024-10-09T15:34:09.929Z"
   },
   {
    "duration": 1276,
    "start_time": "2024-10-09T15:34:44.489Z"
   },
   {
    "duration": 31,
    "start_time": "2024-10-09T15:34:57.510Z"
   },
   {
    "duration": 38,
    "start_time": "2024-10-09T15:35:48.613Z"
   },
   {
    "duration": 32,
    "start_time": "2024-10-09T15:35:56.380Z"
   },
   {
    "duration": 29,
    "start_time": "2024-10-09T15:36:10.691Z"
   },
   {
    "duration": 87,
    "start_time": "2024-10-09T15:36:31.437Z"
   },
   {
    "duration": 27,
    "start_time": "2024-10-09T15:39:10.676Z"
   },
   {
    "duration": 33,
    "start_time": "2024-10-09T15:41:58.019Z"
   },
   {
    "duration": 38,
    "start_time": "2024-10-09T15:42:05.148Z"
   },
   {
    "duration": 41,
    "start_time": "2024-10-09T15:42:10.482Z"
   },
   {
    "duration": 151,
    "start_time": "2024-10-09T15:42:58.118Z"
   },
   {
    "duration": 15,
    "start_time": "2024-10-09T15:43:09.364Z"
   },
   {
    "duration": 34,
    "start_time": "2024-10-09T15:43:16.269Z"
   },
   {
    "duration": 36,
    "start_time": "2024-10-09T15:43:25.734Z"
   },
   {
    "duration": 34,
    "start_time": "2024-10-09T15:43:41.275Z"
   },
   {
    "duration": 40,
    "start_time": "2024-10-09T15:43:53.563Z"
   },
   {
    "duration": 60,
    "start_time": "2024-10-09T15:44:49.743Z"
   },
   {
    "duration": 66,
    "start_time": "2024-10-09T15:44:58.828Z"
   },
   {
    "duration": 41,
    "start_time": "2024-10-09T15:45:12.389Z"
   },
   {
    "duration": 41,
    "start_time": "2024-10-09T15:45:18.211Z"
   },
   {
    "duration": 42,
    "start_time": "2024-10-09T15:45:21.526Z"
   },
   {
    "duration": 42,
    "start_time": "2024-10-09T15:45:23.484Z"
   },
   {
    "duration": 341,
    "start_time": "2024-10-09T16:04:16.901Z"
   },
   {
    "duration": 39,
    "start_time": "2024-10-09T16:04:38.670Z"
   },
   {
    "duration": 39,
    "start_time": "2024-10-09T16:04:58.119Z"
   },
   {
    "duration": 39,
    "start_time": "2024-10-09T16:05:12.587Z"
   },
   {
    "duration": 55,
    "start_time": "2024-10-09T16:05:41.018Z"
   },
   {
    "duration": 67,
    "start_time": "2024-10-09T16:07:06.102Z"
   },
   {
    "duration": 37,
    "start_time": "2024-10-09T16:07:08.945Z"
   },
   {
    "duration": 380,
    "start_time": "2024-10-09T16:07:21.297Z"
   },
   {
    "duration": 311,
    "start_time": "2024-10-09T16:07:40.670Z"
   },
   {
    "duration": 687,
    "start_time": "2024-10-09T16:08:57.773Z"
   },
   {
    "duration": 5,
    "start_time": "2024-10-09T16:09:14.015Z"
   },
   {
    "duration": 5,
    "start_time": "2024-10-09T16:09:24.239Z"
   },
   {
    "duration": 6,
    "start_time": "2024-10-09T16:09:27.264Z"
   },
   {
    "duration": 597,
    "start_time": "2024-10-09T16:09:38.809Z"
   },
   {
    "duration": 48,
    "start_time": "2024-10-09T16:09:56.671Z"
   },
   {
    "duration": 20,
    "start_time": "2024-10-09T16:10:53.275Z"
   },
   {
    "duration": 40,
    "start_time": "2024-10-09T16:12:07.923Z"
   },
   {
    "duration": 1211,
    "start_time": "2024-10-10T07:01:10.652Z"
   },
   {
    "duration": 336,
    "start_time": "2024-10-10T07:01:11.865Z"
   },
   {
    "duration": 21,
    "start_time": "2024-10-10T07:01:12.202Z"
   },
   {
    "duration": 18,
    "start_time": "2024-10-10T07:01:12.225Z"
   },
   {
    "duration": 16,
    "start_time": "2024-10-10T07:01:12.245Z"
   },
   {
    "duration": 34,
    "start_time": "2024-10-10T07:01:12.262Z"
   },
   {
    "duration": 58,
    "start_time": "2024-10-10T07:01:12.298Z"
   },
   {
    "duration": 14,
    "start_time": "2024-10-10T07:01:12.358Z"
   },
   {
    "duration": 8,
    "start_time": "2024-10-10T07:01:12.373Z"
   },
   {
    "duration": 13,
    "start_time": "2024-10-10T07:01:12.383Z"
   },
   {
    "duration": 184,
    "start_time": "2024-10-10T07:01:12.398Z"
   },
   {
    "duration": 138,
    "start_time": "2024-10-10T07:01:12.584Z"
   },
   {
    "duration": 294,
    "start_time": "2024-10-10T07:01:12.724Z"
   },
   {
    "duration": 203,
    "start_time": "2024-10-10T07:01:13.021Z"
   },
   {
    "duration": 210,
    "start_time": "2024-10-10T07:01:13.225Z"
   },
   {
    "duration": 25,
    "start_time": "2024-10-10T07:01:13.437Z"
   },
   {
    "duration": 19,
    "start_time": "2024-10-10T07:01:13.464Z"
   },
   {
    "duration": 26,
    "start_time": "2024-10-10T07:01:13.485Z"
   },
   {
    "duration": 46,
    "start_time": "2024-10-10T07:01:13.513Z"
   },
   {
    "duration": 413,
    "start_time": "2024-10-10T07:01:13.560Z"
   },
   {
    "duration": 382,
    "start_time": "2024-10-10T07:01:13.974Z"
   },
   {
    "duration": 134,
    "start_time": "2024-10-10T07:01:14.358Z"
   },
   {
    "duration": 172,
    "start_time": "2024-10-10T07:11:58.998Z"
   },
   {
    "duration": 87,
    "start_time": "2024-10-10T07:13:27.053Z"
   },
   {
    "duration": 11,
    "start_time": "2024-10-10T07:14:07.925Z"
   },
   {
    "duration": 6,
    "start_time": "2024-10-10T07:14:16.445Z"
   },
   {
    "duration": 7,
    "start_time": "2024-10-10T07:14:32.152Z"
   },
   {
    "duration": 10,
    "start_time": "2024-10-10T07:14:57.592Z"
   },
   {
    "duration": 6,
    "start_time": "2024-10-10T07:15:46.199Z"
   },
   {
    "duration": 5,
    "start_time": "2024-10-10T07:22:55.041Z"
   },
   {
    "duration": 5,
    "start_time": "2024-10-10T07:23:22.773Z"
   },
   {
    "duration": 6,
    "start_time": "2024-10-10T07:23:29.217Z"
   },
   {
    "duration": 4,
    "start_time": "2024-10-10T07:23:37.782Z"
   },
   {
    "duration": 14,
    "start_time": "2024-10-10T07:33:36.207Z"
   },
   {
    "duration": 9,
    "start_time": "2024-10-10T07:33:52.847Z"
   },
   {
    "duration": 9,
    "start_time": "2024-10-10T07:34:53.218Z"
   },
   {
    "duration": 8,
    "start_time": "2024-10-10T07:34:57.477Z"
   },
   {
    "duration": 17,
    "start_time": "2024-10-10T07:39:21.938Z"
   },
   {
    "duration": 15,
    "start_time": "2024-10-10T07:39:48.013Z"
   },
   {
    "duration": 15,
    "start_time": "2024-10-10T07:39:53.994Z"
   },
   {
    "duration": 10,
    "start_time": "2024-10-10T07:40:18.825Z"
   },
   {
    "duration": 996,
    "start_time": "2024-10-10T07:40:31.093Z"
   },
   {
    "duration": 117,
    "start_time": "2024-10-10T07:40:32.091Z"
   },
   {
    "duration": 21,
    "start_time": "2024-10-10T07:40:32.210Z"
   },
   {
    "duration": 17,
    "start_time": "2024-10-10T07:40:32.232Z"
   },
   {
    "duration": 15,
    "start_time": "2024-10-10T07:40:32.251Z"
   },
   {
    "duration": 39,
    "start_time": "2024-10-10T07:40:32.268Z"
   },
   {
    "duration": 47,
    "start_time": "2024-10-10T07:40:32.309Z"
   },
   {
    "duration": 15,
    "start_time": "2024-10-10T07:40:32.357Z"
   },
   {
    "duration": 22,
    "start_time": "2024-10-10T07:40:32.374Z"
   },
   {
    "duration": 22,
    "start_time": "2024-10-10T07:40:32.398Z"
   },
   {
    "duration": 158,
    "start_time": "2024-10-10T07:40:32.422Z"
   },
   {
    "duration": 133,
    "start_time": "2024-10-10T07:40:32.582Z"
   },
   {
    "duration": 264,
    "start_time": "2024-10-10T07:40:32.717Z"
   },
   {
    "duration": 206,
    "start_time": "2024-10-10T07:40:32.984Z"
   },
   {
    "duration": 225,
    "start_time": "2024-10-10T07:40:33.192Z"
   },
   {
    "duration": 28,
    "start_time": "2024-10-10T07:40:33.419Z"
   },
   {
    "duration": 20,
    "start_time": "2024-10-10T07:40:33.449Z"
   },
   {
    "duration": 38,
    "start_time": "2024-10-10T07:40:33.470Z"
   },
   {
    "duration": 21,
    "start_time": "2024-10-10T07:40:33.510Z"
   },
   {
    "duration": 413,
    "start_time": "2024-10-10T07:40:33.543Z"
   },
   {
    "duration": 372,
    "start_time": "2024-10-10T07:40:33.957Z"
   },
   {
    "duration": 125,
    "start_time": "2024-10-10T07:40:34.331Z"
   },
   {
    "duration": 5,
    "start_time": "2024-10-10T07:40:34.458Z"
   },
   {
    "duration": 17,
    "start_time": "2024-10-10T07:40:34.464Z"
   },
   {
    "duration": 25,
    "start_time": "2024-10-10T07:40:34.483Z"
   },
   {
    "duration": 9,
    "start_time": "2024-10-10T07:41:20.956Z"
   },
   {
    "duration": 11,
    "start_time": "2024-10-10T07:42:52.278Z"
   },
   {
    "duration": 10,
    "start_time": "2024-10-10T07:42:58.701Z"
   },
   {
    "duration": 1187,
    "start_time": "2024-10-10T15:26:28.579Z"
   },
   {
    "duration": 336,
    "start_time": "2024-10-10T15:26:29.768Z"
   },
   {
    "duration": 19,
    "start_time": "2024-10-10T15:26:30.106Z"
   },
   {
    "duration": 51,
    "start_time": "2024-10-10T15:26:30.127Z"
   },
   {
    "duration": 49,
    "start_time": "2024-10-10T15:26:30.180Z"
   },
   {
    "duration": 72,
    "start_time": "2024-10-10T15:26:30.231Z"
   },
   {
    "duration": 99,
    "start_time": "2024-10-10T15:26:30.305Z"
   },
   {
    "duration": 45,
    "start_time": "2024-10-10T15:26:30.405Z"
   },
   {
    "duration": 43,
    "start_time": "2024-10-10T15:26:30.452Z"
   },
   {
    "duration": 18,
    "start_time": "2024-10-10T15:26:30.498Z"
   },
   {
    "duration": 175,
    "start_time": "2024-10-10T15:26:30.518Z"
   },
   {
    "duration": 133,
    "start_time": "2024-10-10T15:26:30.694Z"
   },
   {
    "duration": 223,
    "start_time": "2024-10-10T15:26:30.829Z"
   },
   {
    "duration": 179,
    "start_time": "2024-10-10T15:26:31.053Z"
   },
   {
    "duration": 191,
    "start_time": "2024-10-10T15:26:31.234Z"
   },
   {
    "duration": 18,
    "start_time": "2024-10-10T15:26:31.427Z"
   },
   {
    "duration": 16,
    "start_time": "2024-10-10T15:26:31.446Z"
   },
   {
    "duration": 44,
    "start_time": "2024-10-10T15:26:31.464Z"
   },
   {
    "duration": 28,
    "start_time": "2024-10-10T15:26:31.509Z"
   },
   {
    "duration": 356,
    "start_time": "2024-10-10T15:26:31.539Z"
   },
   {
    "duration": 330,
    "start_time": "2024-10-10T15:26:31.897Z"
   },
   {
    "duration": 102,
    "start_time": "2024-10-10T15:26:32.229Z"
   },
   {
    "duration": 4,
    "start_time": "2024-10-10T15:26:32.333Z"
   },
   {
    "duration": 65,
    "start_time": "2024-10-10T15:26:32.338Z"
   },
   {
    "duration": 40,
    "start_time": "2024-10-10T15:26:32.405Z"
   },
   {
    "duration": 2,
    "start_time": "2024-10-10T15:37:29.732Z"
   },
   {
    "duration": 15,
    "start_time": "2024-10-10T15:48:40.197Z"
   },
   {
    "duration": 96,
    "start_time": "2024-10-10T15:48:48.944Z"
   },
   {
    "duration": 20,
    "start_time": "2024-10-10T15:48:52.612Z"
   },
   {
    "duration": 19,
    "start_time": "2024-10-10T15:49:03.068Z"
   },
   {
    "duration": 20,
    "start_time": "2024-10-10T15:49:06.239Z"
   },
   {
    "duration": 17,
    "start_time": "2024-10-10T15:49:20.691Z"
   },
   {
    "duration": 20,
    "start_time": "2024-10-10T15:54:05.724Z"
   },
   {
    "duration": 10,
    "start_time": "2024-10-10T15:54:57.152Z"
   },
   {
    "duration": 2,
    "start_time": "2024-10-10T15:58:52.020Z"
   },
   {
    "duration": 1918,
    "start_time": "2024-10-10T15:59:00.219Z"
   },
   {
    "duration": 1844,
    "start_time": "2024-10-10T16:00:11.350Z"
   },
   {
    "duration": 218,
    "start_time": "2024-10-10T16:00:42.710Z"
   },
   {
    "duration": 5742,
    "start_time": "2024-10-10T16:01:20.106Z"
   },
   {
    "duration": 1129,
    "start_time": "2024-10-10T16:01:30.144Z"
   },
   {
    "duration": 665,
    "start_time": "2024-10-10T16:01:39.176Z"
   },
   {
    "duration": 708,
    "start_time": "2024-10-10T16:01:47.030Z"
   },
   {
    "duration": 645,
    "start_time": "2024-10-10T16:01:55.866Z"
   },
   {
    "duration": 737,
    "start_time": "2024-10-10T16:04:20.698Z"
   },
   {
    "duration": 662,
    "start_time": "2024-10-10T16:04:28.427Z"
   },
   {
    "duration": 726,
    "start_time": "2024-10-10T16:04:35.249Z"
   },
   {
    "duration": 663,
    "start_time": "2024-10-10T16:04:43.195Z"
   },
   {
    "duration": 667,
    "start_time": "2024-10-10T16:05:06.680Z"
   },
   {
    "duration": 691,
    "start_time": "2024-10-10T16:05:12.848Z"
   },
   {
    "duration": 706,
    "start_time": "2024-10-10T16:07:47.211Z"
   },
   {
    "duration": 613,
    "start_time": "2024-10-10T16:08:10.171Z"
   },
   {
    "duration": 1820,
    "start_time": "2024-10-10T16:09:54.927Z"
   },
   {
    "duration": 262,
    "start_time": "2024-10-10T16:11:02.368Z"
   },
   {
    "duration": 178,
    "start_time": "2024-10-10T16:11:05.446Z"
   },
   {
    "duration": 172,
    "start_time": "2024-10-10T16:11:19.407Z"
   },
   {
    "duration": 171,
    "start_time": "2024-10-10T16:11:29.055Z"
   },
   {
    "duration": 169,
    "start_time": "2024-10-10T16:11:49.446Z"
   },
   {
    "duration": 179,
    "start_time": "2024-10-10T16:12:19.756Z"
   },
   {
    "duration": 353,
    "start_time": "2024-10-10T16:13:17.754Z"
   },
   {
    "duration": 363,
    "start_time": "2024-10-10T16:13:26.491Z"
   },
   {
    "duration": 446,
    "start_time": "2024-10-10T16:14:02.484Z"
   },
   {
    "duration": 311,
    "start_time": "2024-10-10T16:14:18.135Z"
   },
   {
    "duration": 205,
    "start_time": "2024-10-10T16:14:48.517Z"
   },
   {
    "duration": 125,
    "start_time": "2024-10-10T16:15:04.337Z"
   },
   {
    "duration": 129,
    "start_time": "2024-10-10T16:15:19.292Z"
   },
   {
    "duration": 1503,
    "start_time": "2024-10-10T16:19:50.684Z"
   },
   {
    "duration": 1946,
    "start_time": "2024-10-10T16:20:12.413Z"
   },
   {
    "duration": 1886,
    "start_time": "2024-10-10T16:21:06.879Z"
   },
   {
    "duration": 2,
    "start_time": "2024-10-10T16:21:15.353Z"
   },
   {
    "duration": 1939,
    "start_time": "2024-10-10T16:21:15.820Z"
   },
   {
    "duration": 1027,
    "start_time": "2024-10-10T16:21:48.770Z"
   },
   {
    "duration": 85,
    "start_time": "2024-10-10T16:21:49.799Z"
   },
   {
    "duration": 19,
    "start_time": "2024-10-10T16:21:49.885Z"
   },
   {
    "duration": 40,
    "start_time": "2024-10-10T16:21:49.905Z"
   },
   {
    "duration": 24,
    "start_time": "2024-10-10T16:21:49.946Z"
   },
   {
    "duration": 27,
    "start_time": "2024-10-10T16:21:49.972Z"
   },
   {
    "duration": 29,
    "start_time": "2024-10-10T16:21:50.000Z"
   },
   {
    "duration": 141,
    "start_time": "2024-10-10T16:21:50.030Z"
   },
   {
    "duration": 15,
    "start_time": "2024-10-10T16:21:50.173Z"
   },
   {
    "duration": 16,
    "start_time": "2024-10-10T16:21:50.191Z"
   },
   {
    "duration": 152,
    "start_time": "2024-10-10T16:21:50.208Z"
   },
   {
    "duration": 127,
    "start_time": "2024-10-10T16:21:50.361Z"
   },
   {
    "duration": 229,
    "start_time": "2024-10-10T16:21:50.489Z"
   },
   {
    "duration": 188,
    "start_time": "2024-10-10T16:21:50.720Z"
   },
   {
    "duration": 186,
    "start_time": "2024-10-10T16:21:50.909Z"
   },
   {
    "duration": 23,
    "start_time": "2024-10-10T16:21:51.097Z"
   },
   {
    "duration": 27,
    "start_time": "2024-10-10T16:21:51.122Z"
   },
   {
    "duration": 25,
    "start_time": "2024-10-10T16:21:51.151Z"
   },
   {
    "duration": 39,
    "start_time": "2024-10-10T16:21:51.178Z"
   },
   {
    "duration": 392,
    "start_time": "2024-10-10T16:21:51.219Z"
   },
   {
    "duration": 372,
    "start_time": "2024-10-10T16:21:51.612Z"
   },
   {
    "duration": 101,
    "start_time": "2024-10-10T16:21:51.986Z"
   },
   {
    "duration": 4,
    "start_time": "2024-10-10T16:21:52.089Z"
   },
   {
    "duration": 78,
    "start_time": "2024-10-10T16:21:52.094Z"
   },
   {
    "duration": 20,
    "start_time": "2024-10-10T16:21:52.173Z"
   },
   {
    "duration": 8,
    "start_time": "2024-10-10T16:21:52.194Z"
   },
   {
    "duration": 1891,
    "start_time": "2024-10-10T16:21:52.203Z"
   },
   {
    "duration": 3,
    "start_time": "2024-10-10T16:24:03.356Z"
   },
   {
    "duration": 1972,
    "start_time": "2024-10-10T16:25:24.094Z"
   },
   {
    "duration": 86,
    "start_time": "2024-10-10T16:33:52.939Z"
   },
   {
    "duration": 2,
    "start_time": "2024-10-10T16:34:11.979Z"
   },
   {
    "duration": 4,
    "start_time": "2024-10-10T16:34:13.084Z"
   },
   {
    "duration": 4,
    "start_time": "2024-10-10T16:35:02.039Z"
   },
   {
    "duration": 5,
    "start_time": "2024-10-10T16:35:04.922Z"
   },
   {
    "duration": 5,
    "start_time": "2024-10-10T16:35:12.764Z"
   },
   {
    "duration": 4,
    "start_time": "2024-10-10T16:35:20.902Z"
   },
   {
    "duration": 5,
    "start_time": "2024-10-10T16:37:08.798Z"
   },
   {
    "duration": 302,
    "start_time": "2024-10-10T16:37:28.948Z"
   },
   {
    "duration": 383,
    "start_time": "2024-10-10T16:38:50.153Z"
   },
   {
    "duration": 1927,
    "start_time": "2024-10-10T16:40:10.921Z"
   },
   {
    "duration": 2,
    "start_time": "2024-10-10T16:46:23.681Z"
   },
   {
    "duration": 1119,
    "start_time": "2024-10-11T03:23:58.193Z"
   },
   {
    "duration": 316,
    "start_time": "2024-10-11T03:23:59.314Z"
   },
   {
    "duration": 19,
    "start_time": "2024-10-11T03:23:59.632Z"
   },
   {
    "duration": 16,
    "start_time": "2024-10-11T03:23:59.653Z"
   },
   {
    "duration": 13,
    "start_time": "2024-10-11T03:23:59.671Z"
   },
   {
    "duration": 41,
    "start_time": "2024-10-11T03:23:59.685Z"
   },
   {
    "duration": 27,
    "start_time": "2024-10-11T03:23:59.727Z"
   },
   {
    "duration": 13,
    "start_time": "2024-10-11T03:23:59.755Z"
   },
   {
    "duration": 6,
    "start_time": "2024-10-11T03:23:59.770Z"
   },
   {
    "duration": 16,
    "start_time": "2024-10-11T03:23:59.779Z"
   },
   {
    "duration": 158,
    "start_time": "2024-10-11T03:23:59.797Z"
   },
   {
    "duration": 124,
    "start_time": "2024-10-11T03:23:59.957Z"
   },
   {
    "duration": 220,
    "start_time": "2024-10-11T03:24:00.082Z"
   },
   {
    "duration": 183,
    "start_time": "2024-10-11T03:24:00.303Z"
   },
   {
    "duration": 176,
    "start_time": "2024-10-11T03:24:00.488Z"
   },
   {
    "duration": 18,
    "start_time": "2024-10-11T03:24:00.666Z"
   },
   {
    "duration": 30,
    "start_time": "2024-10-11T03:24:00.686Z"
   },
   {
    "duration": 22,
    "start_time": "2024-10-11T03:24:00.718Z"
   },
   {
    "duration": 21,
    "start_time": "2024-10-11T03:24:00.741Z"
   },
   {
    "duration": 364,
    "start_time": "2024-10-11T03:24:00.763Z"
   },
   {
    "duration": 322,
    "start_time": "2024-10-11T03:24:01.129Z"
   },
   {
    "duration": 93,
    "start_time": "2024-10-11T03:24:01.453Z"
   },
   {
    "duration": 5,
    "start_time": "2024-10-11T03:24:01.547Z"
   },
   {
    "duration": 19,
    "start_time": "2024-10-11T03:24:01.553Z"
   },
   {
    "duration": 27,
    "start_time": "2024-10-11T03:24:01.574Z"
   },
   {
    "duration": 7,
    "start_time": "2024-10-11T03:24:01.602Z"
   },
   {
    "duration": 1802,
    "start_time": "2024-10-11T03:24:01.610Z"
   },
   {
    "duration": 2,
    "start_time": "2024-10-11T03:24:03.415Z"
   },
   {
    "duration": 298,
    "start_time": "2024-10-11T03:24:03.418Z"
   },
   {
    "duration": 28,
    "start_time": "2024-10-11T03:25:56.836Z"
   },
   {
    "duration": 941,
    "start_time": "2024-10-11T03:41:01.246Z"
   },
   {
    "duration": 74,
    "start_time": "2024-10-11T03:41:02.188Z"
   },
   {
    "duration": 85,
    "start_time": "2024-10-11T03:41:02.263Z"
   },
   {
    "duration": 24,
    "start_time": "2024-10-11T03:41:02.350Z"
   },
   {
    "duration": 25,
    "start_time": "2024-10-11T03:41:02.376Z"
   },
   {
    "duration": 25,
    "start_time": "2024-10-11T03:41:02.402Z"
   },
   {
    "duration": 25,
    "start_time": "2024-10-11T03:41:02.429Z"
   },
   {
    "duration": 12,
    "start_time": "2024-10-11T03:41:02.455Z"
   },
   {
    "duration": 11,
    "start_time": "2024-10-11T03:41:02.468Z"
   },
   {
    "duration": 10,
    "start_time": "2024-10-11T03:41:02.481Z"
   },
   {
    "duration": 150,
    "start_time": "2024-10-11T03:41:02.493Z"
   },
   {
    "duration": 130,
    "start_time": "2024-10-11T03:41:02.644Z"
   },
   {
    "duration": 221,
    "start_time": "2024-10-11T03:41:02.776Z"
   },
   {
    "duration": 187,
    "start_time": "2024-10-11T03:41:02.998Z"
   },
   {
    "duration": 193,
    "start_time": "2024-10-11T03:41:03.187Z"
   },
   {
    "duration": 16,
    "start_time": "2024-10-11T03:41:03.381Z"
   },
   {
    "duration": 28,
    "start_time": "2024-10-11T03:41:03.398Z"
   },
   {
    "duration": 25,
    "start_time": "2024-10-11T03:41:03.428Z"
   },
   {
    "duration": 18,
    "start_time": "2024-10-11T03:41:03.454Z"
   },
   {
    "duration": 371,
    "start_time": "2024-10-11T03:41:03.473Z"
   },
   {
    "duration": 332,
    "start_time": "2024-10-11T03:41:03.845Z"
   },
   {
    "duration": 94,
    "start_time": "2024-10-11T03:41:04.178Z"
   },
   {
    "duration": 4,
    "start_time": "2024-10-11T03:41:04.274Z"
   },
   {
    "duration": 49,
    "start_time": "2024-10-11T03:41:04.279Z"
   },
   {
    "duration": 33,
    "start_time": "2024-10-11T03:41:04.329Z"
   },
   {
    "duration": 23,
    "start_time": "2024-10-11T03:41:04.363Z"
   },
   {
    "duration": 1775,
    "start_time": "2024-10-11T03:41:04.387Z"
   },
   {
    "duration": 2,
    "start_time": "2024-10-11T03:41:06.164Z"
   },
   {
    "duration": 326,
    "start_time": "2024-10-11T03:41:06.168Z"
   },
   {
    "duration": 51,
    "start_time": "2024-10-11T07:28:34.551Z"
   },
   {
    "duration": 1291,
    "start_time": "2024-10-11T07:28:44.507Z"
   },
   {
    "duration": 437,
    "start_time": "2024-10-11T07:28:45.800Z"
   },
   {
    "duration": 23,
    "start_time": "2024-10-11T07:28:46.238Z"
   },
   {
    "duration": 75,
    "start_time": "2024-10-11T07:28:46.264Z"
   },
   {
    "duration": 16,
    "start_time": "2024-10-11T07:28:46.340Z"
   },
   {
    "duration": 50,
    "start_time": "2024-10-11T07:28:46.357Z"
   },
   {
    "duration": 37,
    "start_time": "2024-10-11T07:28:46.409Z"
   },
   {
    "duration": 14,
    "start_time": "2024-10-11T07:28:46.448Z"
   },
   {
    "duration": 6,
    "start_time": "2024-10-11T07:28:46.464Z"
   },
   {
    "duration": 3,
    "start_time": "2024-10-11T07:28:46.473Z"
   },
   {
    "duration": 208,
    "start_time": "2024-10-11T07:28:46.477Z"
   },
   {
    "duration": 160,
    "start_time": "2024-10-11T07:28:46.687Z"
   },
   {
    "duration": 295,
    "start_time": "2024-10-11T07:28:46.848Z"
   },
   {
    "duration": 264,
    "start_time": "2024-10-11T07:28:47.145Z"
   },
   {
    "duration": 245,
    "start_time": "2024-10-11T07:28:47.411Z"
   },
   {
    "duration": 21,
    "start_time": "2024-10-11T07:28:47.657Z"
   },
   {
    "duration": 52,
    "start_time": "2024-10-11T07:28:47.680Z"
   },
   {
    "duration": 38,
    "start_time": "2024-10-11T07:28:47.735Z"
   },
   {
    "duration": 31,
    "start_time": "2024-10-11T07:28:47.776Z"
   },
   {
    "duration": 492,
    "start_time": "2024-10-11T07:28:47.820Z"
   },
   {
    "duration": 437,
    "start_time": "2024-10-11T07:28:48.314Z"
   },
   {
    "duration": 135,
    "start_time": "2024-10-11T07:28:48.753Z"
   },
   {
    "duration": 5,
    "start_time": "2024-10-11T07:28:48.890Z"
   },
   {
    "duration": 7,
    "start_time": "2024-10-11T07:28:48.896Z"
   },
   {
    "duration": 29,
    "start_time": "2024-10-11T07:28:48.904Z"
   },
   {
    "duration": 3,
    "start_time": "2024-10-11T07:28:48.936Z"
   },
   {
    "duration": 2553,
    "start_time": "2024-10-11T07:28:48.941Z"
   },
   {
    "duration": 2,
    "start_time": "2024-10-11T07:28:51.499Z"
   },
   {
    "duration": 392,
    "start_time": "2024-10-11T07:28:51.503Z"
   },
   {
    "duration": 38,
    "start_time": "2024-10-11T07:29:13.166Z"
   },
   {
    "duration": 37,
    "start_time": "2024-10-11T07:29:22.174Z"
   },
   {
    "duration": 55,
    "start_time": "2024-10-11T07:30:08.275Z"
   },
   {
    "duration": 11,
    "start_time": "2024-10-11T07:30:56.976Z"
   },
   {
    "duration": 9,
    "start_time": "2024-10-11T07:31:04.256Z"
   },
   {
    "duration": 24,
    "start_time": "2024-10-11T07:31:35.883Z"
   },
   {
    "duration": 7,
    "start_time": "2024-10-11T07:32:43.717Z"
   },
   {
    "duration": 11,
    "start_time": "2024-10-11T07:33:25.342Z"
   },
   {
    "duration": 10,
    "start_time": "2024-10-11T07:33:34.234Z"
   },
   {
    "duration": 12,
    "start_time": "2024-10-11T07:33:50.120Z"
   },
   {
    "duration": 11,
    "start_time": "2024-10-11T07:34:13.853Z"
   },
   {
    "duration": 7,
    "start_time": "2024-10-11T07:34:42.165Z"
   },
   {
    "duration": 15,
    "start_time": "2024-10-11T07:45:58.204Z"
   },
   {
    "duration": 10,
    "start_time": "2024-10-11T07:46:09.576Z"
   },
   {
    "duration": 12,
    "start_time": "2024-10-11T07:46:14.738Z"
   },
   {
    "duration": 10,
    "start_time": "2024-10-11T07:46:23.697Z"
   },
   {
    "duration": 8,
    "start_time": "2024-10-11T07:47:34.197Z"
   },
   {
    "duration": 53,
    "start_time": "2024-10-11T07:48:50.450Z"
   },
   {
    "duration": 9,
    "start_time": "2024-10-11T07:49:26.373Z"
   },
   {
    "duration": 8,
    "start_time": "2024-10-11T07:49:41.991Z"
   },
   {
    "duration": 7,
    "start_time": "2024-10-11T07:49:44.355Z"
   },
   {
    "duration": 1040,
    "start_time": "2024-10-11T07:49:49.637Z"
   },
   {
    "duration": 127,
    "start_time": "2024-10-11T07:49:50.679Z"
   },
   {
    "duration": 30,
    "start_time": "2024-10-11T07:49:50.809Z"
   },
   {
    "duration": 22,
    "start_time": "2024-10-11T07:49:50.842Z"
   },
   {
    "duration": 15,
    "start_time": "2024-10-11T07:49:50.865Z"
   },
   {
    "duration": 61,
    "start_time": "2024-10-11T07:49:50.882Z"
   },
   {
    "duration": 11,
    "start_time": "2024-10-11T07:49:50.944Z"
   },
   {
    "duration": 26,
    "start_time": "2024-10-11T07:49:50.957Z"
   },
   {
    "duration": 44,
    "start_time": "2024-10-11T07:49:50.985Z"
   },
   {
    "duration": 19,
    "start_time": "2024-10-11T07:49:51.031Z"
   },
   {
    "duration": 24,
    "start_time": "2024-10-11T07:49:51.051Z"
   },
   {
    "duration": 22,
    "start_time": "2024-10-11T07:49:51.077Z"
   },
   {
    "duration": 179,
    "start_time": "2024-10-11T07:49:51.101Z"
   },
   {
    "duration": 152,
    "start_time": "2024-10-11T07:49:51.282Z"
   },
   {
    "duration": 287,
    "start_time": "2024-10-11T07:49:51.436Z"
   },
   {
    "duration": 221,
    "start_time": "2024-10-11T07:49:51.725Z"
   },
   {
    "duration": 236,
    "start_time": "2024-10-11T07:49:51.948Z"
   },
   {
    "duration": 35,
    "start_time": "2024-10-11T07:49:52.186Z"
   },
   {
    "duration": 120,
    "start_time": "2024-10-11T07:49:52.223Z"
   },
   {
    "duration": 78,
    "start_time": "2024-10-11T07:49:52.345Z"
   },
   {
    "duration": 22,
    "start_time": "2024-10-11T07:49:52.424Z"
   },
   {
    "duration": 483,
    "start_time": "2024-10-11T07:49:52.447Z"
   },
   {
    "duration": 427,
    "start_time": "2024-10-11T07:49:52.931Z"
   },
   {
    "duration": 135,
    "start_time": "2024-10-11T07:49:53.360Z"
   },
   {
    "duration": 5,
    "start_time": "2024-10-11T07:49:53.497Z"
   },
   {
    "duration": 50,
    "start_time": "2024-10-11T07:49:53.504Z"
   },
   {
    "duration": 35,
    "start_time": "2024-10-11T07:49:53.555Z"
   },
   {
    "duration": 22,
    "start_time": "2024-10-11T07:49:53.593Z"
   },
   {
    "duration": 2399,
    "start_time": "2024-10-11T07:49:53.616Z"
   },
   {
    "duration": 2,
    "start_time": "2024-10-11T07:49:56.021Z"
   },
   {
    "duration": 349,
    "start_time": "2024-10-11T07:49:56.025Z"
   },
   {
    "duration": 163,
    "start_time": "2024-10-11T07:51:11.909Z"
   },
   {
    "duration": 178,
    "start_time": "2024-10-11T07:52:03.286Z"
   },
   {
    "duration": 166,
    "start_time": "2024-10-11T07:52:11.990Z"
   },
   {
    "duration": 172,
    "start_time": "2024-10-11T07:52:22.151Z"
   },
   {
    "duration": 3,
    "start_time": "2024-10-11T07:53:00.693Z"
   },
   {
    "duration": 160,
    "start_time": "2024-10-11T07:53:02.493Z"
   },
   {
    "duration": 3,
    "start_time": "2024-10-11T07:53:06.134Z"
   },
   {
    "duration": 347,
    "start_time": "2024-10-11T07:53:07.316Z"
   },
   {
    "duration": 4,
    "start_time": "2024-10-11T07:53:50.898Z"
   },
   {
    "duration": 183,
    "start_time": "2024-10-11T07:53:52.055Z"
   },
   {
    "duration": 5,
    "start_time": "2024-10-11T07:54:00.967Z"
   },
   {
    "duration": 179,
    "start_time": "2024-10-11T07:54:01.976Z"
   },
   {
    "duration": 54,
    "start_time": "2024-10-11T07:54:15.409Z"
   },
   {
    "duration": 182,
    "start_time": "2024-10-11T07:58:17.283Z"
   },
   {
    "duration": 237,
    "start_time": "2024-10-11T07:58:57.962Z"
   },
   {
    "duration": 148,
    "start_time": "2024-10-11T07:59:08.910Z"
   },
   {
    "duration": 91,
    "start_time": "2024-10-11T07:59:19.926Z"
   },
   {
    "duration": 295,
    "start_time": "2024-10-11T08:01:28.778Z"
   },
   {
    "duration": 219,
    "start_time": "2024-10-11T08:01:39.038Z"
   },
   {
    "duration": 269,
    "start_time": "2024-10-11T08:06:10.593Z"
   },
   {
    "duration": 111,
    "start_time": "2024-10-11T08:14:21.587Z"
   },
   {
    "duration": 12,
    "start_time": "2024-10-11T08:14:42.142Z"
   },
   {
    "duration": 15,
    "start_time": "2024-10-11T08:15:04.872Z"
   },
   {
    "duration": 14,
    "start_time": "2024-10-11T08:15:17.436Z"
   },
   {
    "duration": 177,
    "start_time": "2024-10-11T08:15:22.521Z"
   },
   {
    "duration": 165,
    "start_time": "2024-10-11T08:17:41.149Z"
   },
   {
    "duration": 159,
    "start_time": "2024-10-11T08:17:46.350Z"
   },
   {
    "duration": 185,
    "start_time": "2024-10-11T08:17:59.411Z"
   },
   {
    "duration": 159,
    "start_time": "2024-10-11T08:18:04.575Z"
   },
   {
    "duration": 160,
    "start_time": "2024-10-11T08:18:18.305Z"
   },
   {
    "duration": 80,
    "start_time": "2024-10-11T08:20:32.230Z"
   },
   {
    "duration": 76,
    "start_time": "2024-10-11T08:21:22.755Z"
   },
   {
    "duration": 92,
    "start_time": "2024-10-11T08:21:45.011Z"
   },
   {
    "duration": 94,
    "start_time": "2024-10-11T08:21:57.377Z"
   },
   {
    "duration": 194,
    "start_time": "2024-10-11T08:22:12.028Z"
   },
   {
    "duration": 16,
    "start_time": "2024-10-11T08:23:47.513Z"
   },
   {
    "duration": 19,
    "start_time": "2024-10-11T08:24:10.125Z"
   },
   {
    "duration": 170,
    "start_time": "2024-10-11T08:24:45.088Z"
   },
   {
    "duration": 139,
    "start_time": "2024-10-11T08:25:56.390Z"
   },
   {
    "duration": 141,
    "start_time": "2024-10-11T08:26:46.783Z"
   },
   {
    "duration": 135,
    "start_time": "2024-10-11T08:26:59.180Z"
   },
   {
    "duration": 143,
    "start_time": "2024-10-11T08:27:14.258Z"
   },
   {
    "duration": 137,
    "start_time": "2024-10-11T08:27:18.260Z"
   },
   {
    "duration": 135,
    "start_time": "2024-10-11T08:28:01.380Z"
   },
   {
    "duration": 148,
    "start_time": "2024-10-11T08:28:05.586Z"
   },
   {
    "duration": 279,
    "start_time": "2024-10-11T08:28:43.284Z"
   },
   {
    "duration": 60,
    "start_time": "2024-10-11T08:28:45.927Z"
   },
   {
    "duration": 144,
    "start_time": "2024-10-11T08:28:49.816Z"
   },
   {
    "duration": 140,
    "start_time": "2024-10-11T08:29:09.206Z"
   },
   {
    "duration": 153,
    "start_time": "2024-10-11T08:29:32.333Z"
   },
   {
    "duration": 154,
    "start_time": "2024-10-11T08:29:48.709Z"
   },
   {
    "duration": 149,
    "start_time": "2024-10-11T08:29:54.478Z"
   },
   {
    "duration": 62,
    "start_time": "2024-10-11T08:30:28.377Z"
   },
   {
    "duration": 139,
    "start_time": "2024-10-11T08:31:13.873Z"
   },
   {
    "duration": 152,
    "start_time": "2024-10-11T08:31:18.250Z"
   },
   {
    "duration": 294,
    "start_time": "2024-10-11T08:33:47.307Z"
   },
   {
    "duration": 56,
    "start_time": "2024-10-11T08:39:34.422Z"
   },
   {
    "duration": 31,
    "start_time": "2024-10-11T08:41:44.397Z"
   },
   {
    "duration": 29,
    "start_time": "2024-10-11T08:41:49.166Z"
   },
   {
    "duration": 285,
    "start_time": "2024-10-11T08:46:51.636Z"
   },
   {
    "duration": 308,
    "start_time": "2024-10-11T08:47:13.599Z"
   },
   {
    "duration": 290,
    "start_time": "2024-10-11T08:47:17.938Z"
   },
   {
    "duration": 294,
    "start_time": "2024-10-11T08:47:27.736Z"
   },
   {
    "duration": 291,
    "start_time": "2024-10-11T08:47:31.264Z"
   },
   {
    "duration": 397,
    "start_time": "2024-10-11T08:47:59.820Z"
   },
   {
    "duration": 288,
    "start_time": "2024-10-11T08:48:09.885Z"
   },
   {
    "duration": 68,
    "start_time": "2024-10-11T09:04:44.754Z"
   },
   {
    "duration": 301,
    "start_time": "2024-10-11T09:04:49.910Z"
   },
   {
    "duration": 292,
    "start_time": "2024-10-11T09:04:58.815Z"
   },
   {
    "duration": 290,
    "start_time": "2024-10-11T09:05:35.566Z"
   },
   {
    "duration": 284,
    "start_time": "2024-10-11T09:05:48.835Z"
   },
   {
    "duration": 395,
    "start_time": "2024-10-11T09:06:01.563Z"
   },
   {
    "duration": 309,
    "start_time": "2024-10-11T09:06:26.073Z"
   },
   {
    "duration": 290,
    "start_time": "2024-10-11T09:06:44.761Z"
   },
   {
    "duration": 424,
    "start_time": "2024-10-11T09:07:45.878Z"
   },
   {
    "duration": 394,
    "start_time": "2024-10-11T09:08:08.427Z"
   },
   {
    "duration": 393,
    "start_time": "2024-10-11T09:08:24.034Z"
   },
   {
    "duration": 292,
    "start_time": "2024-10-11T09:08:29.336Z"
   },
   {
    "duration": 314,
    "start_time": "2024-10-11T09:10:40.206Z"
   },
   {
    "duration": 293,
    "start_time": "2024-10-11T09:13:46.187Z"
   },
   {
    "duration": 287,
    "start_time": "2024-10-11T09:14:37.768Z"
   },
   {
    "duration": 262,
    "start_time": "2024-10-11T09:14:46.115Z"
   },
   {
    "duration": 285,
    "start_time": "2024-10-11T09:15:02.887Z"
   },
   {
    "duration": 296,
    "start_time": "2024-10-11T09:15:13.958Z"
   },
   {
    "duration": 302,
    "start_time": "2024-10-11T09:16:21.219Z"
   },
   {
    "duration": 295,
    "start_time": "2024-10-11T09:16:27.749Z"
   },
   {
    "duration": 196,
    "start_time": "2024-10-11T09:16:45.854Z"
   },
   {
    "duration": 295,
    "start_time": "2024-10-11T09:16:49.177Z"
   },
   {
    "duration": 389,
    "start_time": "2024-10-11T09:17:05.210Z"
   },
   {
    "duration": 285,
    "start_time": "2024-10-11T09:17:16.374Z"
   },
   {
    "duration": 297,
    "start_time": "2024-10-11T09:19:08.712Z"
   },
   {
    "duration": 288,
    "start_time": "2024-10-11T09:19:16.750Z"
   },
   {
    "duration": 292,
    "start_time": "2024-10-11T09:19:28.674Z"
   },
   {
    "duration": 292,
    "start_time": "2024-10-11T09:19:35.577Z"
   },
   {
    "duration": 404,
    "start_time": "2024-10-11T09:19:41.191Z"
   },
   {
    "duration": 287,
    "start_time": "2024-10-11T09:19:58.050Z"
   },
   {
    "duration": 279,
    "start_time": "2024-10-11T09:22:15.199Z"
   },
   {
    "duration": 271,
    "start_time": "2024-10-11T09:22:19.752Z"
   },
   {
    "duration": 275,
    "start_time": "2024-10-11T09:22:23.837Z"
   },
   {
    "duration": 55,
    "start_time": "2024-10-11T09:23:47.552Z"
   },
   {
    "duration": 2407,
    "start_time": "2024-10-11T09:28:50.124Z"
   },
   {
    "duration": 41,
    "start_time": "2024-10-11T09:48:39.563Z"
   },
   {
    "duration": 43,
    "start_time": "2024-10-11T09:51:13.418Z"
   },
   {
    "duration": 40,
    "start_time": "2024-10-11T09:54:42.770Z"
   },
   {
    "duration": 31,
    "start_time": "2024-10-11T09:54:59.355Z"
   },
   {
    "duration": 61,
    "start_time": "2024-10-11T09:58:43.127Z"
   },
   {
    "duration": 52,
    "start_time": "2024-10-11T09:59:01.460Z"
   },
   {
    "duration": 50,
    "start_time": "2024-10-11T09:59:07.955Z"
   },
   {
    "duration": 52,
    "start_time": "2024-10-11T09:59:21.537Z"
   },
   {
    "duration": 41,
    "start_time": "2024-10-11T09:59:36.002Z"
   },
   {
    "duration": 52,
    "start_time": "2024-10-11T09:59:57.271Z"
   },
   {
    "duration": 52,
    "start_time": "2024-10-11T10:01:14.181Z"
   },
   {
    "duration": 41,
    "start_time": "2024-10-11T10:01:59.581Z"
   },
   {
    "duration": 52,
    "start_time": "2024-10-11T10:02:36.204Z"
   },
   {
    "duration": 43,
    "start_time": "2024-10-11T10:05:53.705Z"
   },
   {
    "duration": 8,
    "start_time": "2024-10-11T10:13:43.192Z"
   },
   {
    "duration": 6,
    "start_time": "2024-10-11T10:19:21.045Z"
   },
   {
    "duration": 7,
    "start_time": "2024-10-11T10:21:20.799Z"
   },
   {
    "duration": 56,
    "start_time": "2024-10-11T10:22:32.130Z"
   },
   {
    "duration": 56,
    "start_time": "2024-10-11T10:23:01.052Z"
   },
   {
    "duration": 6,
    "start_time": "2024-10-11T10:33:51.497Z"
   },
   {
    "duration": 6,
    "start_time": "2024-10-11T10:34:02.594Z"
   },
   {
    "duration": 6,
    "start_time": "2024-10-11T10:34:16.823Z"
   },
   {
    "duration": 6,
    "start_time": "2024-10-11T10:35:06.299Z"
   },
   {
    "duration": 5,
    "start_time": "2024-10-11T10:35:24.975Z"
   },
   {
    "duration": 65,
    "start_time": "2024-10-11T10:37:05.200Z"
   },
   {
    "duration": 52,
    "start_time": "2024-10-11T10:38:37.462Z"
   },
   {
    "duration": 56,
    "start_time": "2024-10-11T10:39:32.880Z"
   },
   {
    "duration": 9,
    "start_time": "2024-10-11T10:40:27.068Z"
   },
   {
    "duration": 10,
    "start_time": "2024-10-11T10:41:24.742Z"
   },
   {
    "duration": 10,
    "start_time": "2024-10-11T10:43:56.559Z"
   },
   {
    "duration": 11,
    "start_time": "2024-10-11T10:44:20.014Z"
   },
   {
    "duration": 58,
    "start_time": "2024-10-11T10:45:34.490Z"
   },
   {
    "duration": 66,
    "start_time": "2024-10-11T11:00:40.079Z"
   },
   {
    "duration": 3,
    "start_time": "2024-10-11T11:01:10.890Z"
   },
   {
    "duration": 1146,
    "start_time": "2024-10-11T11:01:16.342Z"
   },
   {
    "duration": 128,
    "start_time": "2024-10-11T11:01:17.489Z"
   },
   {
    "duration": 24,
    "start_time": "2024-10-11T11:01:17.618Z"
   },
   {
    "duration": 37,
    "start_time": "2024-10-11T11:01:17.644Z"
   },
   {
    "duration": 16,
    "start_time": "2024-10-11T11:01:17.683Z"
   },
   {
    "duration": 60,
    "start_time": "2024-10-11T11:01:17.701Z"
   },
   {
    "duration": 17,
    "start_time": "2024-10-11T11:01:17.763Z"
   },
   {
    "duration": 21,
    "start_time": "2024-10-11T11:01:17.782Z"
   },
   {
    "duration": 48,
    "start_time": "2024-10-11T11:01:17.805Z"
   },
   {
    "duration": 23,
    "start_time": "2024-10-11T11:01:17.856Z"
   },
   {
    "duration": 8,
    "start_time": "2024-10-11T11:01:17.880Z"
   },
   {
    "duration": 21,
    "start_time": "2024-10-11T11:01:17.889Z"
   },
   {
    "duration": 215,
    "start_time": "2024-10-11T11:01:17.912Z"
   },
   {
    "duration": 148,
    "start_time": "2024-10-11T11:01:18.128Z"
   },
   {
    "duration": 271,
    "start_time": "2024-10-11T11:01:18.277Z"
   },
   {
    "duration": 217,
    "start_time": "2024-10-11T11:01:18.549Z"
   },
   {
    "duration": 223,
    "start_time": "2024-10-11T11:01:18.767Z"
   },
   {
    "duration": 30,
    "start_time": "2024-10-11T11:01:18.991Z"
   },
   {
    "duration": 80,
    "start_time": "2024-10-11T11:01:19.022Z"
   },
   {
    "duration": 36,
    "start_time": "2024-10-11T11:01:19.103Z"
   },
   {
    "duration": 43,
    "start_time": "2024-10-11T11:01:19.140Z"
   },
   {
    "duration": 460,
    "start_time": "2024-10-11T11:01:19.184Z"
   },
   {
    "duration": 425,
    "start_time": "2024-10-11T11:01:19.646Z"
   },
   {
    "duration": 402,
    "start_time": "2024-10-11T11:01:20.072Z"
   },
   {
    "duration": 306,
    "start_time": "2024-10-11T11:01:20.476Z"
   },
   {
    "duration": 52,
    "start_time": "2024-10-11T11:01:20.784Z"
   },
   {
    "duration": 6,
    "start_time": "2024-10-11T11:01:20.837Z"
   },
   {
    "duration": 26,
    "start_time": "2024-10-11T11:01:20.846Z"
   },
   {
    "duration": 40,
    "start_time": "2024-10-11T11:01:20.873Z"
   },
   {
    "duration": 2306,
    "start_time": "2024-10-11T11:01:20.915Z"
   },
   {
    "duration": 3,
    "start_time": "2024-10-11T11:01:23.223Z"
   },
   {
    "duration": 342,
    "start_time": "2024-10-11T11:01:23.228Z"
   },
   {
    "duration": 3,
    "start_time": "2024-10-11T17:12:43.397Z"
   },
   {
    "duration": 123,
    "start_time": "2024-10-11T17:12:43.402Z"
   },
   {
    "duration": 17,
    "start_time": "2024-10-11T17:12:43.526Z"
   },
   {
    "duration": 20,
    "start_time": "2024-10-11T17:12:43.545Z"
   },
   {
    "duration": 16,
    "start_time": "2024-10-11T17:12:43.567Z"
   },
   {
    "duration": 33,
    "start_time": "2024-10-11T17:12:43.584Z"
   },
   {
    "duration": 39,
    "start_time": "2024-10-11T17:12:43.619Z"
   },
   {
    "duration": 9,
    "start_time": "2024-10-11T17:12:43.660Z"
   },
   {
    "duration": 34,
    "start_time": "2024-10-11T17:12:43.671Z"
   },
   {
    "duration": 60,
    "start_time": "2024-10-11T17:12:43.707Z"
   },
   {
    "duration": 10,
    "start_time": "2024-10-11T17:12:43.769Z"
   },
   {
    "duration": 4,
    "start_time": "2024-10-11T17:12:43.781Z"
   },
   {
    "duration": 186,
    "start_time": "2024-10-11T17:12:43.787Z"
   },
   {
    "duration": 278,
    "start_time": "2024-10-11T17:12:43.975Z"
   },
   {
    "duration": 302,
    "start_time": "2024-10-11T17:12:44.254Z"
   },
   {
    "duration": 189,
    "start_time": "2024-10-11T17:12:44.557Z"
   },
   {
    "duration": 215,
    "start_time": "2024-10-11T17:12:44.748Z"
   },
   {
    "duration": 28,
    "start_time": "2024-10-11T17:12:44.964Z"
   },
   {
    "duration": 20,
    "start_time": "2024-10-11T17:12:44.994Z"
   },
   {
    "duration": 58,
    "start_time": "2024-10-11T17:12:45.015Z"
   },
   {
    "duration": 61,
    "start_time": "2024-10-11T17:12:45.075Z"
   },
   {
    "duration": 535,
    "start_time": "2024-10-11T17:12:45.137Z"
   },
   {
    "duration": 376,
    "start_time": "2024-10-11T17:12:45.673Z"
   },
   {
    "duration": 304,
    "start_time": "2024-10-11T17:12:46.053Z"
   },
   {
    "duration": 361,
    "start_time": "2024-10-11T17:12:46.359Z"
   },
   {
    "duration": 57,
    "start_time": "2024-10-11T17:12:46.721Z"
   },
   {
    "duration": 6,
    "start_time": "2024-10-11T17:12:46.779Z"
   },
   {
    "duration": 9,
    "start_time": "2024-10-11T17:12:46.787Z"
   },
   {
    "duration": 16,
    "start_time": "2024-10-11T17:12:46.798Z"
   },
   {
    "duration": 2238,
    "start_time": "2024-10-11T17:12:46.815Z"
   },
   {
    "duration": 3,
    "start_time": "2024-10-11T17:12:49.054Z"
   },
   {
    "duration": 337,
    "start_time": "2024-10-11T17:12:49.058Z"
   },
   {
    "duration": 1040,
    "start_time": "2024-10-11T17:14:46.129Z"
   },
   {
    "duration": 134,
    "start_time": "2024-10-11T17:14:47.170Z"
   },
   {
    "duration": 19,
    "start_time": "2024-10-11T17:14:47.305Z"
   },
   {
    "duration": 16,
    "start_time": "2024-10-11T17:14:47.326Z"
   },
   {
    "duration": 13,
    "start_time": "2024-10-11T17:14:47.343Z"
   },
   {
    "duration": 31,
    "start_time": "2024-10-11T17:14:47.357Z"
   },
   {
    "duration": 10,
    "start_time": "2024-10-11T17:14:47.390Z"
   },
   {
    "duration": 92,
    "start_time": "2024-10-11T17:14:47.401Z"
   },
   {
    "duration": 31,
    "start_time": "2024-10-11T17:14:47.495Z"
   },
   {
    "duration": 16,
    "start_time": "2024-10-11T17:14:47.528Z"
   },
   {
    "duration": 7,
    "start_time": "2024-10-11T17:14:47.545Z"
   },
   {
    "duration": 2,
    "start_time": "2024-10-11T17:14:47.553Z"
   },
   {
    "duration": 199,
    "start_time": "2024-10-11T17:14:47.557Z"
   },
   {
    "duration": 142,
    "start_time": "2024-10-11T17:14:47.757Z"
   },
   {
    "duration": 279,
    "start_time": "2024-10-11T17:14:47.900Z"
   },
   {
    "duration": 218,
    "start_time": "2024-10-11T17:14:48.181Z"
   },
   {
    "duration": 206,
    "start_time": "2024-10-11T17:14:48.400Z"
   },
   {
    "duration": 18,
    "start_time": "2024-10-11T17:14:48.608Z"
   },
   {
    "duration": 33,
    "start_time": "2024-10-11T17:14:48.628Z"
   },
   {
    "duration": 25,
    "start_time": "2024-10-11T17:14:48.662Z"
   },
   {
    "duration": 26,
    "start_time": "2024-10-11T17:14:48.689Z"
   },
   {
    "duration": 478,
    "start_time": "2024-10-11T17:14:48.717Z"
   },
   {
    "duration": 373,
    "start_time": "2024-10-11T17:14:49.196Z"
   },
   {
    "duration": 362,
    "start_time": "2024-10-11T17:14:49.570Z"
   },
   {
    "duration": 271,
    "start_time": "2024-10-11T17:14:49.934Z"
   },
   {
    "duration": 53,
    "start_time": "2024-10-11T17:14:50.207Z"
   },
   {
    "duration": 6,
    "start_time": "2024-10-11T17:14:50.261Z"
   },
   {
    "duration": 11,
    "start_time": "2024-10-11T17:14:50.270Z"
   },
   {
    "duration": 31,
    "start_time": "2024-10-11T17:14:50.282Z"
   },
   {
    "duration": 2222,
    "start_time": "2024-10-11T17:14:50.315Z"
   },
   {
    "duration": 3,
    "start_time": "2024-10-11T17:14:52.538Z"
   },
   {
    "duration": 435,
    "start_time": "2024-10-11T17:14:52.553Z"
   },
   {
    "duration": 34,
    "start_time": "2024-10-11T17:15:25.934Z"
   },
   {
    "duration": 6,
    "start_time": "2024-10-11T17:17:55.833Z"
   },
   {
    "duration": 1063,
    "start_time": "2024-10-11T17:25:51.224Z"
   },
   {
    "duration": 124,
    "start_time": "2024-10-11T17:25:52.289Z"
   },
   {
    "duration": 21,
    "start_time": "2024-10-11T17:25:52.414Z"
   },
   {
    "duration": 16,
    "start_time": "2024-10-11T17:25:52.437Z"
   },
   {
    "duration": 14,
    "start_time": "2024-10-11T17:25:52.455Z"
   },
   {
    "duration": 32,
    "start_time": "2024-10-11T17:25:52.470Z"
   },
   {
    "duration": 10,
    "start_time": "2024-10-11T17:25:52.504Z"
   },
   {
    "duration": 38,
    "start_time": "2024-10-11T17:25:52.516Z"
   },
   {
    "duration": 36,
    "start_time": "2024-10-11T17:25:52.556Z"
   },
   {
    "duration": 17,
    "start_time": "2024-10-11T17:25:52.595Z"
   },
   {
    "duration": 7,
    "start_time": "2024-10-11T17:25:52.613Z"
   },
   {
    "duration": 32,
    "start_time": "2024-10-11T17:25:52.621Z"
   },
   {
    "duration": 190,
    "start_time": "2024-10-11T17:25:52.655Z"
   },
   {
    "duration": 151,
    "start_time": "2024-10-11T17:25:52.852Z"
   },
   {
    "duration": 287,
    "start_time": "2024-10-11T17:25:53.004Z"
   },
   {
    "duration": 211,
    "start_time": "2024-10-11T17:25:53.293Z"
   },
   {
    "duration": 206,
    "start_time": "2024-10-11T17:25:53.506Z"
   },
   {
    "duration": 19,
    "start_time": "2024-10-11T17:25:53.713Z"
   },
   {
    "duration": 29,
    "start_time": "2024-10-11T17:25:53.734Z"
   },
   {
    "duration": 27,
    "start_time": "2024-10-11T17:25:53.764Z"
   },
   {
    "duration": 27,
    "start_time": "2024-10-11T17:25:53.792Z"
   },
   {
    "duration": 466,
    "start_time": "2024-10-11T17:25:53.820Z"
   },
   {
    "duration": 396,
    "start_time": "2024-10-11T17:25:54.287Z"
   },
   {
    "duration": 361,
    "start_time": "2024-10-11T17:25:54.685Z"
   },
   {
    "duration": 276,
    "start_time": "2024-10-11T17:25:55.052Z"
   },
   {
    "duration": 54,
    "start_time": "2024-10-11T17:25:55.329Z"
   },
   {
    "duration": 6,
    "start_time": "2024-10-11T17:25:55.385Z"
   },
   {
    "duration": 5,
    "start_time": "2024-10-11T17:25:55.393Z"
   },
   {
    "duration": 82,
    "start_time": "2024-10-11T17:25:55.399Z"
   },
   {
    "duration": 2304,
    "start_time": "2024-10-11T17:25:55.483Z"
   },
   {
    "duration": 3,
    "start_time": "2024-10-11T17:25:57.789Z"
   },
   {
    "duration": 306,
    "start_time": "2024-10-11T17:25:57.799Z"
   },
   {
    "duration": 52,
    "start_time": "2024-10-13T13:07:14.826Z"
   },
   {
    "duration": 1304,
    "start_time": "2024-10-13T13:07:22.187Z"
   },
   {
    "duration": 341,
    "start_time": "2024-10-13T13:07:23.494Z"
   },
   {
    "duration": 23,
    "start_time": "2024-10-13T13:07:23.837Z"
   },
   {
    "duration": 26,
    "start_time": "2024-10-13T13:07:23.861Z"
   },
   {
    "duration": 21,
    "start_time": "2024-10-13T13:07:23.889Z"
   },
   {
    "duration": 42,
    "start_time": "2024-10-13T13:07:23.912Z"
   },
   {
    "duration": 11,
    "start_time": "2024-10-13T13:07:23.956Z"
   },
   {
    "duration": 8,
    "start_time": "2024-10-13T13:07:23.969Z"
   },
   {
    "duration": 58,
    "start_time": "2024-10-13T13:07:23.979Z"
   },
   {
    "duration": 19,
    "start_time": "2024-10-13T13:07:24.039Z"
   },
   {
    "duration": 23,
    "start_time": "2024-10-13T13:07:24.059Z"
   },
   {
    "duration": 4,
    "start_time": "2024-10-13T13:07:24.083Z"
   },
   {
    "duration": 208,
    "start_time": "2024-10-13T13:07:24.088Z"
   },
   {
    "duration": 162,
    "start_time": "2024-10-13T13:07:24.298Z"
   },
   {
    "duration": 279,
    "start_time": "2024-10-13T13:07:24.461Z"
   },
   {
    "duration": 218,
    "start_time": "2024-10-13T13:07:24.741Z"
   },
   {
    "duration": 242,
    "start_time": "2024-10-13T13:07:24.961Z"
   },
   {
    "duration": 31,
    "start_time": "2024-10-13T13:07:25.205Z"
   },
   {
    "duration": 21,
    "start_time": "2024-10-13T13:07:25.237Z"
   },
   {
    "duration": 30,
    "start_time": "2024-10-13T13:07:25.260Z"
   },
   {
    "duration": 46,
    "start_time": "2024-10-13T13:07:25.292Z"
   },
   {
    "duration": 528,
    "start_time": "2024-10-13T13:07:25.340Z"
   },
   {
    "duration": 527,
    "start_time": "2024-10-13T13:07:25.870Z"
   },
   {
    "duration": 397,
    "start_time": "2024-10-13T13:07:26.399Z"
   },
   {
    "duration": 299,
    "start_time": "2024-10-13T13:07:26.798Z"
   },
   {
    "duration": 55,
    "start_time": "2024-10-13T13:07:27.099Z"
   },
   {
    "duration": 107,
    "start_time": "2024-10-13T13:07:27.156Z"
   },
   {
    "duration": 0,
    "start_time": "2024-10-13T13:07:27.264Z"
   },
   {
    "duration": 0,
    "start_time": "2024-10-13T13:07:27.266Z"
   },
   {
    "duration": 0,
    "start_time": "2024-10-13T13:07:27.267Z"
   },
   {
    "duration": 0,
    "start_time": "2024-10-13T13:07:27.268Z"
   },
   {
    "duration": 0,
    "start_time": "2024-10-13T13:07:27.269Z"
   },
   {
    "duration": 12,
    "start_time": "2024-10-13T13:08:03.188Z"
   },
   {
    "duration": 7,
    "start_time": "2024-10-13T13:08:12.582Z"
   },
   {
    "duration": 6,
    "start_time": "2024-10-13T13:09:13.534Z"
   },
   {
    "duration": 11,
    "start_time": "2024-10-13T13:17:20.480Z"
   },
   {
    "duration": 6,
    "start_time": "2024-10-13T13:18:13.183Z"
   },
   {
    "duration": 10,
    "start_time": "2024-10-13T13:18:45.266Z"
   },
   {
    "duration": 5,
    "start_time": "2024-10-13T13:18:50.088Z"
   },
   {
    "duration": 59,
    "start_time": "2024-10-13T13:25:37.189Z"
   },
   {
    "duration": 11,
    "start_time": "2024-10-13T13:25:43.962Z"
   },
   {
    "duration": 2478,
    "start_time": "2024-10-13T13:33:59.740Z"
   },
   {
    "duration": 336,
    "start_time": "2024-10-13T13:34:11.750Z"
   },
   {
    "duration": 949,
    "start_time": "2024-10-13T15:40:22.036Z"
   },
   {
    "duration": 279,
    "start_time": "2024-10-13T15:40:22.986Z"
   },
   {
    "duration": 17,
    "start_time": "2024-10-13T15:40:23.267Z"
   },
   {
    "duration": 30,
    "start_time": "2024-10-13T15:40:23.285Z"
   },
   {
    "duration": 40,
    "start_time": "2024-10-13T15:40:23.316Z"
   },
   {
    "duration": 27,
    "start_time": "2024-10-13T15:40:23.357Z"
   },
   {
    "duration": 8,
    "start_time": "2024-10-13T15:40:23.385Z"
   },
   {
    "duration": 6,
    "start_time": "2024-10-13T15:40:23.394Z"
   },
   {
    "duration": 30,
    "start_time": "2024-10-13T15:40:23.401Z"
   },
   {
    "duration": 15,
    "start_time": "2024-10-13T15:40:23.433Z"
   },
   {
    "duration": 6,
    "start_time": "2024-10-13T15:40:23.449Z"
   },
   {
    "duration": 3,
    "start_time": "2024-10-13T15:40:23.456Z"
   },
   {
    "duration": 177,
    "start_time": "2024-10-13T15:40:23.460Z"
   },
   {
    "duration": 127,
    "start_time": "2024-10-13T15:40:23.638Z"
   },
   {
    "duration": 220,
    "start_time": "2024-10-13T15:40:23.766Z"
   },
   {
    "duration": 180,
    "start_time": "2024-10-13T15:40:23.988Z"
   },
   {
    "duration": 188,
    "start_time": "2024-10-13T15:40:24.169Z"
   },
   {
    "duration": 18,
    "start_time": "2024-10-13T15:40:24.358Z"
   },
   {
    "duration": 46,
    "start_time": "2024-10-13T15:40:24.377Z"
   },
   {
    "duration": 21,
    "start_time": "2024-10-13T15:40:24.424Z"
   },
   {
    "duration": 23,
    "start_time": "2024-10-13T15:40:24.446Z"
   },
   {
    "duration": 366,
    "start_time": "2024-10-13T15:40:24.470Z"
   },
   {
    "duration": 346,
    "start_time": "2024-10-13T15:40:24.837Z"
   },
   {
    "duration": 300,
    "start_time": "2024-10-13T15:40:25.185Z"
   },
   {
    "duration": 237,
    "start_time": "2024-10-13T15:40:25.487Z"
   },
   {
    "duration": 43,
    "start_time": "2024-10-13T15:40:25.726Z"
   },
   {
    "duration": 4,
    "start_time": "2024-10-13T15:40:25.770Z"
   },
   {
    "duration": 4,
    "start_time": "2024-10-13T15:40:25.777Z"
   },
   {
    "duration": 11,
    "start_time": "2024-10-13T15:40:25.782Z"
   },
   {
    "duration": 1810,
    "start_time": "2024-10-13T15:40:25.812Z"
   },
   {
    "duration": 3,
    "start_time": "2024-10-13T15:40:27.623Z"
   },
   {
    "duration": 314,
    "start_time": "2024-10-13T15:40:27.627Z"
   },
   {
    "duration": 1290,
    "start_time": "2025-03-03T11:53:41.723Z"
   },
   {
    "duration": 144,
    "start_time": "2025-03-03T11:53:43.016Z"
   },
   {
    "duration": 31,
    "start_time": "2025-03-03T11:53:43.163Z"
   },
   {
    "duration": 29,
    "start_time": "2025-03-03T11:53:43.197Z"
   },
   {
    "duration": 23,
    "start_time": "2025-03-03T11:53:43.229Z"
   },
   {
    "duration": 35,
    "start_time": "2025-03-03T11:53:43.254Z"
   },
   {
    "duration": 33,
    "start_time": "2025-03-03T11:53:43.291Z"
   },
   {
    "duration": 26,
    "start_time": "2025-03-03T11:53:43.325Z"
   },
   {
    "duration": 38,
    "start_time": "2025-03-03T11:53:43.353Z"
   },
   {
    "duration": 35,
    "start_time": "2025-03-03T11:53:43.394Z"
   },
   {
    "duration": 20,
    "start_time": "2025-03-03T11:53:43.431Z"
   },
   {
    "duration": 4,
    "start_time": "2025-03-03T11:53:43.453Z"
   },
   {
    "duration": 204,
    "start_time": "2025-03-03T11:53:43.458Z"
   },
   {
    "duration": 154,
    "start_time": "2025-03-03T11:53:43.664Z"
   },
   {
    "duration": 294,
    "start_time": "2025-03-03T11:53:43.820Z"
   },
   {
    "duration": 215,
    "start_time": "2025-03-03T11:53:44.116Z"
   },
   {
    "duration": 229,
    "start_time": "2025-03-03T11:53:44.332Z"
   },
   {
    "duration": 21,
    "start_time": "2025-03-03T11:53:44.562Z"
   },
   {
    "duration": 40,
    "start_time": "2025-03-03T11:53:44.585Z"
   },
   {
    "duration": 26,
    "start_time": "2025-03-03T11:53:44.627Z"
   },
   {
    "duration": 28,
    "start_time": "2025-03-03T11:53:44.655Z"
   },
   {
    "duration": 495,
    "start_time": "2025-03-03T11:53:44.685Z"
   },
   {
    "duration": 438,
    "start_time": "2025-03-03T11:53:45.182Z"
   },
   {
    "duration": 406,
    "start_time": "2025-03-03T11:53:45.623Z"
   },
   {
    "duration": 309,
    "start_time": "2025-03-03T11:53:46.031Z"
   },
   {
    "duration": 50,
    "start_time": "2025-03-03T11:53:46.342Z"
   },
   {
    "duration": 22,
    "start_time": "2025-03-03T11:53:46.394Z"
   },
   {
    "duration": 8,
    "start_time": "2025-03-03T11:53:46.419Z"
   },
   {
    "duration": 36,
    "start_time": "2025-03-03T11:53:46.429Z"
   },
   {
    "duration": 2450,
    "start_time": "2025-03-03T11:53:46.467Z"
   },
   {
    "duration": 4,
    "start_time": "2025-03-03T11:53:48.918Z"
   },
   {
    "duration": 399,
    "start_time": "2025-03-03T11:53:48.924Z"
   },
   {
    "duration": 36,
    "start_time": "2025-03-03T11:53:58.161Z"
   }
  ],
  "kernelspec": {
   "display_name": "Python 3 (ipykernel)",
   "language": "python",
   "name": "python3"
  },
  "language_info": {
   "codemirror_mode": {
    "name": "ipython",
    "version": 3
   },
   "file_extension": ".py",
   "mimetype": "text/x-python",
   "name": "python",
   "nbconvert_exporter": "python",
   "pygments_lexer": "ipython3",
   "version": "3.12.3"
  },
  "toc": {
   "base_numbering": 1,
   "nav_menu": {},
   "number_sections": true,
   "sideBar": true,
   "skip_h1_title": true,
   "title_cell": "Table of Contents",
   "title_sidebar": "Contents",
   "toc_cell": false,
   "toc_position": {},
   "toc_section_display": true,
   "toc_window_display": false
  }
 },
 "nbformat": 4,
 "nbformat_minor": 5
}
